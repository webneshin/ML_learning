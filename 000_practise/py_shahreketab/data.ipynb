{
 "cells": [
  {
   "cell_type": "code",
   "execution_count": 1,
   "id": "initial_id",
   "metadata": {
    "collapsed": true,
    "ExecuteTime": {
     "end_time": "2023-12-17T16:37:47.549903700Z",
     "start_time": "2023-12-17T16:37:46.618330100Z"
    }
   },
   "outputs": [],
   "source": [
    "import json\n",
    "import logging\n",
    "from bs4 import BeautifulSoup\n",
    "import pandas as pd\n",
    "from tqdm.notebook import trange, tqdm\n",
    "from time import sleep\n",
    "import pymongo\n",
    "import requests\n"
   ]
  },
  {
   "cell_type": "code",
   "execution_count": 2,
   "outputs": [],
   "source": [
    "client_db = pymongo.MongoClient(port=27017)\n",
    "db = client_db.py_book\n",
    "table = db['shahreketab']\n",
    "df = pd.DataFrame(table.find({}, {\n",
    "    '_id': 0\n",
    "}))"
   ],
   "metadata": {
    "collapsed": false,
    "ExecuteTime": {
     "end_time": "2023-12-17T16:37:51.658144400Z",
     "start_time": "2023-12-17T16:37:47.552917400Z"
    }
   },
   "id": "ad475c65fcb02d9e"
  },
  {
   "cell_type": "code",
   "execution_count": 3,
   "outputs": [],
   "source": [
    "text = df.text[0]\n",
    "soup = BeautifulSoup(text)\n",
    "cat = soup.select('ol.breadcrumb')[0].findAll(\"li\", {\"class\": \"breadcrumb-item\"})[1][\"title\"]\n",
    "title = soup.select('h1.ProductTitle')[0].text.strip()\n",
    "\n",
    "\n"
   ],
   "metadata": {
    "collapsed": false,
    "ExecuteTime": {
     "end_time": "2023-12-17T16:37:51.703490800Z",
     "start_time": "2023-12-17T16:37:51.660668300Z"
    }
   },
   "id": "cf93cadfc8a8a7e7"
  },
  {
   "cell_type": "code",
   "execution_count": 4,
   "outputs": [
    {
     "ename": "IndexError",
     "evalue": "list index out of range",
     "output_type": "error",
     "traceback": [
      "\u001B[1;31m---------------------------------------------------------------------------\u001B[0m",
      "\u001B[1;31mIndexError\u001B[0m                                Traceback (most recent call last)",
      "Cell \u001B[1;32mIn[4], line 4\u001B[0m\n\u001B[0;32m      2\u001B[0m \u001B[38;5;28;01mif\u001B[39;00m row\u001B[38;5;241m.\u001B[39mstatus_code \u001B[38;5;241m==\u001B[39m \u001B[38;5;241m200\u001B[39m:\n\u001B[0;32m      3\u001B[0m     soup \u001B[38;5;241m=\u001B[39m BeautifulSoup(row\u001B[38;5;241m.\u001B[39mtext)\n\u001B[1;32m----> 4\u001B[0m     cat \u001B[38;5;241m=\u001B[39m soup\u001B[38;5;241m.\u001B[39mselect(\u001B[38;5;124m'\u001B[39m\u001B[38;5;124mol.breadcrumb\u001B[39m\u001B[38;5;124m'\u001B[39m)[\u001B[38;5;241m0\u001B[39m]\u001B[38;5;241m.\u001B[39mfindAll(\u001B[38;5;124m\"\u001B[39m\u001B[38;5;124mli\u001B[39m\u001B[38;5;124m\"\u001B[39m, {\u001B[38;5;124m\"\u001B[39m\u001B[38;5;124mclass\u001B[39m\u001B[38;5;124m\"\u001B[39m: \u001B[38;5;124m\"\u001B[39m\u001B[38;5;124mbreadcrumb-item\u001B[39m\u001B[38;5;124m\"\u001B[39m})[\u001B[38;5;241m1\u001B[39m][\u001B[38;5;124m\"\u001B[39m\u001B[38;5;124mtitle\u001B[39m\u001B[38;5;124m\"\u001B[39m]\u001B[38;5;241m.\u001B[39mstrip()\n\u001B[0;32m      5\u001B[0m     df\u001B[38;5;241m.\u001B[39mat[i, \u001B[38;5;124m\"\u001B[39m\u001B[38;5;124mcat\u001B[39m\u001B[38;5;124m\"\u001B[39m] \u001B[38;5;241m=\u001B[39m cat\n\u001B[0;32m      6\u001B[0m     \u001B[38;5;28;01mif\u001B[39;00m cat \u001B[38;5;241m!=\u001B[39m \u001B[38;5;124m'\u001B[39m\u001B[38;5;124mکتاب\u001B[39m\u001B[38;5;124m'\u001B[39m:\n",
      "\u001B[1;31mIndexError\u001B[0m: list index out of range"
     ]
    }
   ],
   "source": [
    "for i, row in df.iterrows():\n",
    "    if row.status_code == 200:\n",
    "        soup = BeautifulSoup(row.text)\n",
    "        cat = soup.select('ol.breadcrumb')[0].findAll(\"li\", {\"class\": \"breadcrumb-item\"})[1][\"title\"].strip()\n",
    "        df.at[i, \"cat\"] = cat\n",
    "        if cat != 'کتاب':\n",
    "            continue\n",
    "        df.at[i, \"title\"] = soup.select('h1.ProductTitle')[0].text.strip()"
   ],
   "metadata": {
    "collapsed": false,
    "ExecuteTime": {
     "end_time": "2023-12-17T16:40:18.409927800Z",
     "start_time": "2023-12-17T16:37:51.702479600Z"
    }
   },
   "id": "501c8b4a84c7cb7d"
  },
  {
   "cell_type": "code",
   "execution_count": 5,
   "outputs": [
    {
     "data": {
      "text/plain": "          id                                                url  \\\n478   394149  https://shahreketabonline.com/Products/Details...   \n3453  391141  https://shahreketabonline.com/Products/Details...   \n3535  391056  https://shahreketabonline.com/Products/Details...   \n3536  391055  https://shahreketabonline.com/Products/Details...   \n3537  391054  https://shahreketabonline.com/Products/Details...   \n...      ...                                                ...   \n8258  392254  https://shahreketabonline.com/Products/Details...   \n8259  392246  https://shahreketabonline.com/Products/Details...   \n8260  391948  https://shahreketabonline.com/Products/Details...   \n8261  391581  https://shahreketabonline.com/Products/Details...   \n8262  391522  https://shahreketabonline.com/Products/Details...   \n\n                                             url_result  \\\n478   https://shahreketabonline.com/Products/Details...   \n3453  https://shahreketabonline.com/Products/Details...   \n3535                     https://shahreketabonline.com/   \n3536  https://shahreketabonline.com/Products/Details...   \n3537  https://shahreketabonline.com/Products/Details...   \n...                                                 ...   \n8258  https://shahreketabonline.com/Products/Details...   \n8259  https://shahreketabonline.com/Products/Details...   \n8260  https://shahreketabonline.com/Products/Details...   \n8261  https://shahreketabonline.com/Products/Details...   \n8262  https://shahreketabonline.com/Products/Details...   \n\n                                                   text  status_code  \\\n478   <!DOCTYPE html>\\r\\n<html dir=\"rtl\" lang=\"fa\">\\...          200   \n3453  <!DOCTYPE html>\\r\\n<html dir=\"rtl\" lang=\"fa\">\\...          200   \n3535  <!DOCTYPE html>\\r\\n<html dir=\"rtl\" lang=\"fa\">\\...          200   \n3536  <!DOCTYPE html>\\r\\n<html dir=\"rtl\" lang=\"fa\">\\...          200   \n3537  <!DOCTYPE html>\\r\\n<html dir=\"rtl\" lang=\"fa\">\\...          200   \n...                                                 ...          ...   \n8258  <!DOCTYPE html>\\r\\n<html dir=\"rtl\" lang=\"fa\">\\...          200   \n8259  <!DOCTYPE html>\\r\\n<html dir=\"rtl\" lang=\"fa\">\\...          200   \n8260  <!DOCTYPE html>\\r\\n<html dir=\"rtl\" lang=\"fa\">\\...          200   \n8261  <!DOCTYPE html>\\r\\n<html dir=\"rtl\" lang=\"fa\">\\...          200   \n8262  <!DOCTYPE html>\\r\\n<html dir=\"rtl\" lang=\"fa\">\\...          200   \n\n             cat title  \n478   نوشت افزار   NaN  \n3453      نشریات   NaN  \n3535         NaN   NaN  \n3536         NaN   NaN  \n3537         NaN   NaN  \n...          ...   ...  \n8258         NaN   NaN  \n8259         NaN   NaN  \n8260         NaN   NaN  \n8261         NaN   NaN  \n8262         NaN   NaN  \n\n[4730 rows x 7 columns]",
      "text/html": "<div>\n<style scoped>\n    .dataframe tbody tr th:only-of-type {\n        vertical-align: middle;\n    }\n\n    .dataframe tbody tr th {\n        vertical-align: top;\n    }\n\n    .dataframe thead th {\n        text-align: right;\n    }\n</style>\n<table border=\"1\" class=\"dataframe\">\n  <thead>\n    <tr style=\"text-align: right;\">\n      <th></th>\n      <th>id</th>\n      <th>url</th>\n      <th>url_result</th>\n      <th>text</th>\n      <th>status_code</th>\n      <th>cat</th>\n      <th>title</th>\n    </tr>\n  </thead>\n  <tbody>\n    <tr>\n      <th>478</th>\n      <td>394149</td>\n      <td>https://shahreketabonline.com/Products/Details...</td>\n      <td>https://shahreketabonline.com/Products/Details...</td>\n      <td>&lt;!DOCTYPE html&gt;\\r\\n&lt;html dir=\"rtl\" lang=\"fa\"&gt;\\...</td>\n      <td>200</td>\n      <td>نوشت افزار</td>\n      <td>NaN</td>\n    </tr>\n    <tr>\n      <th>3453</th>\n      <td>391141</td>\n      <td>https://shahreketabonline.com/Products/Details...</td>\n      <td>https://shahreketabonline.com/Products/Details...</td>\n      <td>&lt;!DOCTYPE html&gt;\\r\\n&lt;html dir=\"rtl\" lang=\"fa\"&gt;\\...</td>\n      <td>200</td>\n      <td>نشریات</td>\n      <td>NaN</td>\n    </tr>\n    <tr>\n      <th>3535</th>\n      <td>391056</td>\n      <td>https://shahreketabonline.com/Products/Details...</td>\n      <td>https://shahreketabonline.com/</td>\n      <td>&lt;!DOCTYPE html&gt;\\r\\n&lt;html dir=\"rtl\" lang=\"fa\"&gt;\\...</td>\n      <td>200</td>\n      <td>NaN</td>\n      <td>NaN</td>\n    </tr>\n    <tr>\n      <th>3536</th>\n      <td>391055</td>\n      <td>https://shahreketabonline.com/Products/Details...</td>\n      <td>https://shahreketabonline.com/Products/Details...</td>\n      <td>&lt;!DOCTYPE html&gt;\\r\\n&lt;html dir=\"rtl\" lang=\"fa\"&gt;\\...</td>\n      <td>200</td>\n      <td>NaN</td>\n      <td>NaN</td>\n    </tr>\n    <tr>\n      <th>3537</th>\n      <td>391054</td>\n      <td>https://shahreketabonline.com/Products/Details...</td>\n      <td>https://shahreketabonline.com/Products/Details...</td>\n      <td>&lt;!DOCTYPE html&gt;\\r\\n&lt;html dir=\"rtl\" lang=\"fa\"&gt;\\...</td>\n      <td>200</td>\n      <td>NaN</td>\n      <td>NaN</td>\n    </tr>\n    <tr>\n      <th>...</th>\n      <td>...</td>\n      <td>...</td>\n      <td>...</td>\n      <td>...</td>\n      <td>...</td>\n      <td>...</td>\n      <td>...</td>\n    </tr>\n    <tr>\n      <th>8258</th>\n      <td>392254</td>\n      <td>https://shahreketabonline.com/Products/Details...</td>\n      <td>https://shahreketabonline.com/Products/Details...</td>\n      <td>&lt;!DOCTYPE html&gt;\\r\\n&lt;html dir=\"rtl\" lang=\"fa\"&gt;\\...</td>\n      <td>200</td>\n      <td>NaN</td>\n      <td>NaN</td>\n    </tr>\n    <tr>\n      <th>8259</th>\n      <td>392246</td>\n      <td>https://shahreketabonline.com/Products/Details...</td>\n      <td>https://shahreketabonline.com/Products/Details...</td>\n      <td>&lt;!DOCTYPE html&gt;\\r\\n&lt;html dir=\"rtl\" lang=\"fa\"&gt;\\...</td>\n      <td>200</td>\n      <td>NaN</td>\n      <td>NaN</td>\n    </tr>\n    <tr>\n      <th>8260</th>\n      <td>391948</td>\n      <td>https://shahreketabonline.com/Products/Details...</td>\n      <td>https://shahreketabonline.com/Products/Details...</td>\n      <td>&lt;!DOCTYPE html&gt;\\r\\n&lt;html dir=\"rtl\" lang=\"fa\"&gt;\\...</td>\n      <td>200</td>\n      <td>NaN</td>\n      <td>NaN</td>\n    </tr>\n    <tr>\n      <th>8261</th>\n      <td>391581</td>\n      <td>https://shahreketabonline.com/Products/Details...</td>\n      <td>https://shahreketabonline.com/Products/Details...</td>\n      <td>&lt;!DOCTYPE html&gt;\\r\\n&lt;html dir=\"rtl\" lang=\"fa\"&gt;\\...</td>\n      <td>200</td>\n      <td>NaN</td>\n      <td>NaN</td>\n    </tr>\n    <tr>\n      <th>8262</th>\n      <td>391522</td>\n      <td>https://shahreketabonline.com/Products/Details...</td>\n      <td>https://shahreketabonline.com/Products/Details...</td>\n      <td>&lt;!DOCTYPE html&gt;\\r\\n&lt;html dir=\"rtl\" lang=\"fa\"&gt;\\...</td>\n      <td>200</td>\n      <td>NaN</td>\n      <td>NaN</td>\n    </tr>\n  </tbody>\n</table>\n<p>4730 rows × 7 columns</p>\n</div>"
     },
     "execution_count": 5,
     "metadata": {},
     "output_type": "execute_result"
    }
   ],
   "source": [
    "df[df['title'].isnull()]"
   ],
   "metadata": {
    "collapsed": false,
    "ExecuteTime": {
     "end_time": "2023-12-17T16:43:43.759906700Z",
     "start_time": "2023-12-17T16:43:43.731521Z"
    }
   },
   "id": "873ebf8f614ed61f"
  },
  {
   "cell_type": "code",
   "execution_count": null,
   "outputs": [],
   "source": [
    "df[['url','url_result','status_code','cat','title']]"
   ],
   "metadata": {
    "collapsed": false,
    "ExecuteTime": {
     "start_time": "2023-12-17T16:40:18.414243700Z"
    }
   },
   "id": "6c74917ae5c5bf12"
  },
  {
   "cell_type": "code",
   "execution_count": null,
   "outputs": [],
   "source": [],
   "metadata": {
    "collapsed": false,
    "ExecuteTime": {
     "start_time": "2023-12-17T16:40:18.416243300Z"
    }
   },
   "id": "daadb9ab9fabd125"
  }
 ],
 "metadata": {
  "kernelspec": {
   "display_name": "Python 3",
   "language": "python",
   "name": "python3"
  },
  "language_info": {
   "codemirror_mode": {
    "name": "ipython",
    "version": 2
   },
   "file_extension": ".py",
   "mimetype": "text/x-python",
   "name": "python",
   "nbconvert_exporter": "python",
   "pygments_lexer": "ipython2",
   "version": "2.7.6"
  }
 },
 "nbformat": 4,
 "nbformat_minor": 5
}
