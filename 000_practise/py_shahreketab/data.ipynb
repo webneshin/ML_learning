{
 "cells": [
  {
   "cell_type": "code",
   "execution_count": 6,
   "id": "initial_id",
   "metadata": {
    "collapsed": true,
    "ExecuteTime": {
     "end_time": "2023-12-23T10:17:29.972137900Z",
     "start_time": "2023-12-23T10:17:29.963606400Z"
    }
   },
   "outputs": [],
   "source": [
    "import json\n",
    "import logging\n",
    "from bs4 import BeautifulSoup\n",
    "import pandas as pd\n",
    "from tqdm.notebook import trange, tqdm\n",
    "from time import sleep\n",
    "import pymongo\n",
    "import requests\n"
   ]
  },
  {
   "cell_type": "code",
   "execution_count": 10,
   "outputs": [
    {
     "data": {
      "text/plain": "                            _id        id  \\\n0      657e061660b967f0d3e8a2b7  394634.0   \n1      657e061a60b967f0d3e8a2b8  394633.0   \n2      657e061d60b967f0d3e8a2b9  394632.0   \n3      657e062060b967f0d3e8a2ba  394631.0   \n4      657e062360b967f0d3e8a2bb  394630.0   \n...                         ...       ...   \n23879  6586b45ea350b0a28187483a  370754.0   \n23880  6586b461a350b0a28187483b  370753.0   \n23881  6586b464a350b0a28187483c  370752.0   \n23882  6586b467a350b0a28187483d  370751.0   \n23883  6586b46aa350b0a28187483e  370750.0   \n\n                                                     url  \\\n0      https://shahreketabonline.com/Products/Details...   \n1      https://shahreketabonline.com/Products/Details...   \n2      https://shahreketabonline.com/Products/Details...   \n3      https://shahreketabonline.com/Products/Details...   \n4      https://shahreketabonline.com/Products/Details...   \n...                                                  ...   \n23879  https://shahreketabonline.com/Products/Details...   \n23880  https://shahreketabonline.com/Products/Details...   \n23881  https://shahreketabonline.com/Products/Details...   \n23882  https://shahreketabonline.com/Products/Details...   \n23883  https://shahreketabonline.com/Products/Details...   \n\n                                              url_result  \\\n0      https://shahreketabonline.com/Products/Details...   \n1      https://shahreketabonline.com/Products/Details...   \n2      https://shahreketabonline.com/Products/Details...   \n3      https://shahreketabonline.com/Products/Details...   \n4      https://shahreketabonline.com/Products/Details...   \n...                                                  ...   \n23879  https://shahreketabonline.com/Products/Details...   \n23880  https://shahreketabonline.com/Products/Details...   \n23881  https://shahreketabonline.com/Products/Details...   \n23882  https://shahreketabonline.com/Products/Details...   \n23883  https://shahreketabonline.com/Products/Details...   \n\n                                                    text  status_code   cat  \\\n0      <!DOCTYPE html>\\r\\n<html dir=\"rtl\" lang=\"fa\">\\...        200.0  کتاب   \n1      <!DOCTYPE html>\\r\\n<html dir=\"rtl\" lang=\"fa\">\\...        200.0  کتاب   \n2      <!DOCTYPE html>\\r\\n<html dir=\"rtl\" lang=\"fa\">\\...        200.0  کتاب   \n3      <!DOCTYPE html>\\r\\n<html dir=\"rtl\" lang=\"fa\">\\...        200.0  کتاب   \n4      <!DOCTYPE html>\\r\\n<html dir=\"rtl\" lang=\"fa\">\\...        200.0  کتاب   \n...                                                  ...          ...   ...   \n23879  <!DOCTYPE html>\\r\\n<html dir=\"rtl\" lang=\"fa\">\\...        200.0   NaN   \n23880  <!DOCTYPE html>\\r\\n<html dir=\"rtl\" lang=\"fa\">\\...        200.0   NaN   \n23881  <!DOCTYPE html>\\r\\n<html dir=\"rtl\" lang=\"fa\">\\...        200.0   NaN   \n23882  <!DOCTYPE html>\\r\\n<html dir=\"rtl\" lang=\"fa\">\\...        200.0   NaN   \n23883  <!DOCTYPE html>\\r\\n<html dir=\"rtl\" lang=\"fa\">\\...        200.0   NaN   \n\n                                             title  \\\n0                                     آرتور و جورج   \n1                                  دریاچه ی ارومیه   \n2                   عملیات در تهران (نقشه ی  ترور)   \n3      موزاییک استعاره ها گفت و گو با بهرام بیضایی   \n4                      مدیریت منابع انسانی دیجیتال   \n...                                            ...   \n23879                                          NaN   \n23880                                          NaN   \n23881                                          NaN   \n23882                                          NaN   \n23883                                          NaN   \n\n                                                main_tag  \n0      <main class=\"pb-3\">\\n<div class=\"container\">\\n...  \n1      <main class=\"pb-3\">\\n<div class=\"container\">\\n...  \n2      <main class=\"pb-3\">\\n<div class=\"container\">\\n...  \n3      <main class=\"pb-3\">\\n<div class=\"container\">\\n...  \n4      <main class=\"pb-3\">\\n<div class=\"container\">\\n...  \n...                                                  ...  \n23879                                                NaN  \n23880                                                NaN  \n23881                                                NaN  \n23882                                                NaN  \n23883                                                NaN  \n\n[23861 rows x 9 columns]",
      "text/html": "<div>\n<style scoped>\n    .dataframe tbody tr th:only-of-type {\n        vertical-align: middle;\n    }\n\n    .dataframe tbody tr th {\n        vertical-align: top;\n    }\n\n    .dataframe thead th {\n        text-align: right;\n    }\n</style>\n<table border=\"1\" class=\"dataframe\">\n  <thead>\n    <tr style=\"text-align: right;\">\n      <th></th>\n      <th>_id</th>\n      <th>id</th>\n      <th>url</th>\n      <th>url_result</th>\n      <th>text</th>\n      <th>status_code</th>\n      <th>cat</th>\n      <th>title</th>\n      <th>main_tag</th>\n    </tr>\n  </thead>\n  <tbody>\n    <tr>\n      <th>0</th>\n      <td>657e061660b967f0d3e8a2b7</td>\n      <td>394634.0</td>\n      <td>https://shahreketabonline.com/Products/Details...</td>\n      <td>https://shahreketabonline.com/Products/Details...</td>\n      <td>&lt;!DOCTYPE html&gt;\\r\\n&lt;html dir=\"rtl\" lang=\"fa\"&gt;\\...</td>\n      <td>200.0</td>\n      <td>کتاب</td>\n      <td>آرتور و جورج</td>\n      <td>&lt;main class=\"pb-3\"&gt;\\n&lt;div class=\"container\"&gt;\\n...</td>\n    </tr>\n    <tr>\n      <th>1</th>\n      <td>657e061a60b967f0d3e8a2b8</td>\n      <td>394633.0</td>\n      <td>https://shahreketabonline.com/Products/Details...</td>\n      <td>https://shahreketabonline.com/Products/Details...</td>\n      <td>&lt;!DOCTYPE html&gt;\\r\\n&lt;html dir=\"rtl\" lang=\"fa\"&gt;\\...</td>\n      <td>200.0</td>\n      <td>کتاب</td>\n      <td>دریاچه ی ارومیه</td>\n      <td>&lt;main class=\"pb-3\"&gt;\\n&lt;div class=\"container\"&gt;\\n...</td>\n    </tr>\n    <tr>\n      <th>2</th>\n      <td>657e061d60b967f0d3e8a2b9</td>\n      <td>394632.0</td>\n      <td>https://shahreketabonline.com/Products/Details...</td>\n      <td>https://shahreketabonline.com/Products/Details...</td>\n      <td>&lt;!DOCTYPE html&gt;\\r\\n&lt;html dir=\"rtl\" lang=\"fa\"&gt;\\...</td>\n      <td>200.0</td>\n      <td>کتاب</td>\n      <td>عملیات در تهران (نقشه ی  ترور)</td>\n      <td>&lt;main class=\"pb-3\"&gt;\\n&lt;div class=\"container\"&gt;\\n...</td>\n    </tr>\n    <tr>\n      <th>3</th>\n      <td>657e062060b967f0d3e8a2ba</td>\n      <td>394631.0</td>\n      <td>https://shahreketabonline.com/Products/Details...</td>\n      <td>https://shahreketabonline.com/Products/Details...</td>\n      <td>&lt;!DOCTYPE html&gt;\\r\\n&lt;html dir=\"rtl\" lang=\"fa\"&gt;\\...</td>\n      <td>200.0</td>\n      <td>کتاب</td>\n      <td>موزاییک استعاره ها گفت و گو با بهرام بیضایی</td>\n      <td>&lt;main class=\"pb-3\"&gt;\\n&lt;div class=\"container\"&gt;\\n...</td>\n    </tr>\n    <tr>\n      <th>4</th>\n      <td>657e062360b967f0d3e8a2bb</td>\n      <td>394630.0</td>\n      <td>https://shahreketabonline.com/Products/Details...</td>\n      <td>https://shahreketabonline.com/Products/Details...</td>\n      <td>&lt;!DOCTYPE html&gt;\\r\\n&lt;html dir=\"rtl\" lang=\"fa\"&gt;\\...</td>\n      <td>200.0</td>\n      <td>کتاب</td>\n      <td>مدیریت منابع انسانی دیجیتال</td>\n      <td>&lt;main class=\"pb-3\"&gt;\\n&lt;div class=\"container\"&gt;\\n...</td>\n    </tr>\n    <tr>\n      <th>...</th>\n      <td>...</td>\n      <td>...</td>\n      <td>...</td>\n      <td>...</td>\n      <td>...</td>\n      <td>...</td>\n      <td>...</td>\n      <td>...</td>\n      <td>...</td>\n    </tr>\n    <tr>\n      <th>23879</th>\n      <td>6586b45ea350b0a28187483a</td>\n      <td>370754.0</td>\n      <td>https://shahreketabonline.com/Products/Details...</td>\n      <td>https://shahreketabonline.com/Products/Details...</td>\n      <td>&lt;!DOCTYPE html&gt;\\r\\n&lt;html dir=\"rtl\" lang=\"fa\"&gt;\\...</td>\n      <td>200.0</td>\n      <td>NaN</td>\n      <td>NaN</td>\n      <td>NaN</td>\n    </tr>\n    <tr>\n      <th>23880</th>\n      <td>6586b461a350b0a28187483b</td>\n      <td>370753.0</td>\n      <td>https://shahreketabonline.com/Products/Details...</td>\n      <td>https://shahreketabonline.com/Products/Details...</td>\n      <td>&lt;!DOCTYPE html&gt;\\r\\n&lt;html dir=\"rtl\" lang=\"fa\"&gt;\\...</td>\n      <td>200.0</td>\n      <td>NaN</td>\n      <td>NaN</td>\n      <td>NaN</td>\n    </tr>\n    <tr>\n      <th>23881</th>\n      <td>6586b464a350b0a28187483c</td>\n      <td>370752.0</td>\n      <td>https://shahreketabonline.com/Products/Details...</td>\n      <td>https://shahreketabonline.com/Products/Details...</td>\n      <td>&lt;!DOCTYPE html&gt;\\r\\n&lt;html dir=\"rtl\" lang=\"fa\"&gt;\\...</td>\n      <td>200.0</td>\n      <td>NaN</td>\n      <td>NaN</td>\n      <td>NaN</td>\n    </tr>\n    <tr>\n      <th>23882</th>\n      <td>6586b467a350b0a28187483d</td>\n      <td>370751.0</td>\n      <td>https://shahreketabonline.com/Products/Details...</td>\n      <td>https://shahreketabonline.com/Products/Details...</td>\n      <td>&lt;!DOCTYPE html&gt;\\r\\n&lt;html dir=\"rtl\" lang=\"fa\"&gt;\\...</td>\n      <td>200.0</td>\n      <td>NaN</td>\n      <td>NaN</td>\n      <td>NaN</td>\n    </tr>\n    <tr>\n      <th>23883</th>\n      <td>6586b46aa350b0a28187483e</td>\n      <td>370750.0</td>\n      <td>https://shahreketabonline.com/Products/Details...</td>\n      <td>https://shahreketabonline.com/Products/Details...</td>\n      <td>&lt;!DOCTYPE html&gt;\\r\\n&lt;html dir=\"rtl\" lang=\"fa\"&gt;\\...</td>\n      <td>200.0</td>\n      <td>NaN</td>\n      <td>NaN</td>\n      <td>NaN</td>\n    </tr>\n  </tbody>\n</table>\n<p>23861 rows × 9 columns</p>\n</div>"
     },
     "execution_count": 10,
     "metadata": {},
     "output_type": "execute_result"
    }
   ],
   "source": [
    "client_db = pymongo.MongoClient(port=27017)\n",
    "db = client_db.py_book\n",
    "table = db['shahreketab']\n",
    "df = pd.DataFrame(table.find({}, {\n",
    "    # '_id': 0\n",
    "}))\n",
    "# clean df\n",
    "df = df[df.url_result != \"https://shahreketabonline.com/\"]\n",
    "df = df[df.status_code == 200]\n",
    "df\n"
   ],
   "metadata": {
    "collapsed": false,
    "ExecuteTime": {
     "end_time": "2023-12-23T10:20:29.502409700Z",
     "start_time": "2023-12-23T10:20:02.480930100Z"
    }
   },
   "id": "ad475c65fcb02d9e"
  },
  {
   "cell_type": "code",
   "execution_count": 3,
   "outputs": [],
   "source": [
    "# test\n",
    "# text = df.text[0]\n",
    "# main_tag = df.main_tag[0]\n",
    "# soup_all = BeautifulSoup(text)\n",
    "# soup_main = BeautifulSoup(text)\n",
    "# cat = soup_main.select('ol.breadcrumb')[0].findAll(\"li\", {\"class\": \"breadcrumb-item\"})[1][\"title\"]\n",
    "# title = soup_main.select('h1.ProductTitle')[0].text.strip()\n",
    "# main_tag = soup_main.select('main')[0].__str__()\n",
    "# shabek = soup_main.select(\".Attributes\")[0].select( string=\"ویژگی‌های محصول:\")\n",
    "# shabek"
   ],
   "metadata": {
    "collapsed": false,
    "ExecuteTime": {
     "end_time": "2023-12-23T06:59:07.802685100Z",
     "start_time": "2023-12-23T06:59:07.796571800Z"
    }
   },
   "id": "cf93cadfc8a8a7e7"
  },
  {
   "cell_type": "code",
   "execution_count": 8,
   "outputs": [
    {
     "data": {
      "text/plain": "  0%|          | 0/2656 [00:00<?, ?it/s]",
      "application/vnd.jupyter.widget-view+json": {
       "version_major": 2,
       "version_minor": 0,
       "model_id": "1ee724deac8d4832893a7c175e39ba18"
      }
     },
     "metadata": {},
     "output_type": "display_data"
    }
   ],
   "source": [
    "# main_tag\n",
    "if 'main_tag' not in df.columns:\n",
    "    df['main_tag'] = None\n",
    "df_add_field = df[df.main_tag.isnull()]\n",
    "# df_add_field = df\n",
    "for i, row in tqdm(df_add_field.iterrows(), total=df_add_field.shape[0]):\n",
    "    soup = BeautifulSoup(row.text)\n",
    "    main_tag = soup.select('main')[0].__str__()\n",
    "    table.update_one({\"_id\": row[\"_id\"]}, {\"$set\": {\"main_tag\": main_tag}})\n"
   ],
   "metadata": {
    "collapsed": false,
    "ExecuteTime": {
     "end_time": "2023-12-23T10:19:48.990144700Z",
     "start_time": "2023-12-23T10:17:50.898319Z"
    }
   },
   "id": "b4fcb4a6d7faa05e"
  },
  {
   "cell_type": "code",
   "execution_count": 11,
   "outputs": [
    {
     "data": {
      "text/plain": "  0%|          | 0/2690 [00:00<?, ?it/s]",
      "application/vnd.jupyter.widget-view+json": {
       "version_major": 2,
       "version_minor": 0,
       "model_id": "7ea8998c392047569960a3b74ec1f862"
      }
     },
     "metadata": {},
     "output_type": "display_data"
    },
    {
     "ename": "TypeError",
     "evalue": "object of type 'float' has no len()",
     "output_type": "error",
     "traceback": [
      "\u001B[1;31m---------------------------------------------------------------------------\u001B[0m",
      "\u001B[1;31mTypeError\u001B[0m                                 Traceback (most recent call last)",
      "Cell \u001B[1;32mIn[11], line 7\u001B[0m\n\u001B[0;32m      5\u001B[0m df_add_field \u001B[38;5;241m=\u001B[39m df[df\u001B[38;5;241m.\u001B[39mcat\u001B[38;5;241m.\u001B[39misnull()]\n\u001B[0;32m      6\u001B[0m \u001B[38;5;28;01mfor\u001B[39;00m i, row \u001B[38;5;129;01min\u001B[39;00m tqdm(df_add_field\u001B[38;5;241m.\u001B[39miterrows(), total\u001B[38;5;241m=\u001B[39mdf_add_field\u001B[38;5;241m.\u001B[39mshape[\u001B[38;5;241m0\u001B[39m]):\n\u001B[1;32m----> 7\u001B[0m     soup \u001B[38;5;241m=\u001B[39m BeautifulSoup(row\u001B[38;5;241m.\u001B[39mmain_tag)\n\u001B[0;32m      8\u001B[0m     cat \u001B[38;5;241m=\u001B[39m soup\u001B[38;5;241m.\u001B[39mselect(\u001B[38;5;124m'\u001B[39m\u001B[38;5;124mol.breadcrumb\u001B[39m\u001B[38;5;124m'\u001B[39m)[\u001B[38;5;241m0\u001B[39m]\u001B[38;5;241m.\u001B[39mfindAll(\u001B[38;5;124m\"\u001B[39m\u001B[38;5;124mli\u001B[39m\u001B[38;5;124m\"\u001B[39m, {\u001B[38;5;124m\"\u001B[39m\u001B[38;5;124mclass\u001B[39m\u001B[38;5;124m\"\u001B[39m: \u001B[38;5;124m\"\u001B[39m\u001B[38;5;124mbreadcrumb-item\u001B[39m\u001B[38;5;124m\"\u001B[39m})[\u001B[38;5;241m1\u001B[39m][\u001B[38;5;124m\"\u001B[39m\u001B[38;5;124mtitle\u001B[39m\u001B[38;5;124m\"\u001B[39m]\u001B[38;5;241m.\u001B[39mstrip()\n\u001B[0;32m      9\u001B[0m     table\u001B[38;5;241m.\u001B[39mupdate_one({\u001B[38;5;124m\"\u001B[39m\u001B[38;5;124m_id\u001B[39m\u001B[38;5;124m\"\u001B[39m: row[\u001B[38;5;124m\"\u001B[39m\u001B[38;5;124m_id\u001B[39m\u001B[38;5;124m\"\u001B[39m]}, {\u001B[38;5;124m\"\u001B[39m\u001B[38;5;124m$set\u001B[39m\u001B[38;5;124m\"\u001B[39m: {\u001B[38;5;124m\"\u001B[39m\u001B[38;5;124mcat\u001B[39m\u001B[38;5;124m\"\u001B[39m: cat}})\n",
      "File \u001B[1;32m~\\anaconda3\\Lib\\site-packages\\bs4\\__init__.py:315\u001B[0m, in \u001B[0;36mBeautifulSoup.__init__\u001B[1;34m(self, markup, features, builder, parse_only, from_encoding, exclude_encodings, element_classes, **kwargs)\u001B[0m\n\u001B[0;32m    313\u001B[0m \u001B[38;5;28;01mif\u001B[39;00m \u001B[38;5;28mhasattr\u001B[39m(markup, \u001B[38;5;124m'\u001B[39m\u001B[38;5;124mread\u001B[39m\u001B[38;5;124m'\u001B[39m):        \u001B[38;5;66;03m# It's a file-type object.\u001B[39;00m\n\u001B[0;32m    314\u001B[0m     markup \u001B[38;5;241m=\u001B[39m markup\u001B[38;5;241m.\u001B[39mread()\n\u001B[1;32m--> 315\u001B[0m \u001B[38;5;28;01melif\u001B[39;00m \u001B[38;5;28mlen\u001B[39m(markup) \u001B[38;5;241m<\u001B[39m\u001B[38;5;241m=\u001B[39m \u001B[38;5;241m256\u001B[39m \u001B[38;5;129;01mand\u001B[39;00m (\n\u001B[0;32m    316\u001B[0m         (\u001B[38;5;28misinstance\u001B[39m(markup, \u001B[38;5;28mbytes\u001B[39m) \u001B[38;5;129;01mand\u001B[39;00m \u001B[38;5;129;01mnot\u001B[39;00m \u001B[38;5;124mb\u001B[39m\u001B[38;5;124m'\u001B[39m\u001B[38;5;124m<\u001B[39m\u001B[38;5;124m'\u001B[39m \u001B[38;5;129;01min\u001B[39;00m markup)\n\u001B[0;32m    317\u001B[0m         \u001B[38;5;129;01mor\u001B[39;00m (\u001B[38;5;28misinstance\u001B[39m(markup, \u001B[38;5;28mstr\u001B[39m) \u001B[38;5;129;01mand\u001B[39;00m \u001B[38;5;129;01mnot\u001B[39;00m \u001B[38;5;124m'\u001B[39m\u001B[38;5;124m<\u001B[39m\u001B[38;5;124m'\u001B[39m \u001B[38;5;129;01min\u001B[39;00m markup)\n\u001B[0;32m    318\u001B[0m ):\n\u001B[0;32m    319\u001B[0m     \u001B[38;5;66;03m# Issue warnings for a couple beginner problems\u001B[39;00m\n\u001B[0;32m    320\u001B[0m     \u001B[38;5;66;03m# involving passing non-markup to Beautiful Soup.\u001B[39;00m\n\u001B[0;32m    321\u001B[0m     \u001B[38;5;66;03m# Beautiful Soup will still parse the input as markup,\u001B[39;00m\n\u001B[0;32m    322\u001B[0m     \u001B[38;5;66;03m# since that is sometimes the intended behavior.\u001B[39;00m\n\u001B[0;32m    323\u001B[0m     \u001B[38;5;28;01mif\u001B[39;00m \u001B[38;5;129;01mnot\u001B[39;00m \u001B[38;5;28mself\u001B[39m\u001B[38;5;241m.\u001B[39m_markup_is_url(markup):\n\u001B[0;32m    324\u001B[0m         \u001B[38;5;28mself\u001B[39m\u001B[38;5;241m.\u001B[39m_markup_resembles_filename(markup)                \n",
      "\u001B[1;31mTypeError\u001B[0m: object of type 'float' has no len()"
     ]
    }
   ],
   "source": [
    "# Cat Calculate\n",
    "if 'cat' not in df.columns:\n",
    "    df['cat'] = None\n",
    "df_add_field = df[df.main_tag.notnull()]\n",
    "df_add_field = df[df.cat.isnull()]\n",
    "for i, row in tqdm(df_add_field.iterrows(), total=df_add_field.shape[0]):\n",
    "    soup = BeautifulSoup(row.main_tag)\n",
    "    cat = soup.select('ol.breadcrumb')[0].findAll(\"li\", {\"class\": \"breadcrumb-item\"})[1][\"title\"].strip()\n",
    "    table.update_one({\"_id\": row[\"_id\"]}, {\"$set\": {\"cat\": cat}})"
   ],
   "metadata": {
    "collapsed": false,
    "ExecuteTime": {
     "end_time": "2023-12-23T10:20:52.057257500Z",
     "start_time": "2023-12-23T10:20:35.249651100Z"
    }
   },
   "id": "4910a82afaa927e2"
  },
  {
   "cell_type": "code",
   "execution_count": null,
   "outputs": [],
   "source": [
    "# Title Calculate\n",
    "if 'title' not in df.columns:\n",
    "    df['title'] = None\n",
    "df_add_field = df[df.main_tag.notnull()]\n",
    "df_add_field = df[df.cat.notnull()]\n",
    "df_add_field = df_add_field[df.title.isnull()]\n",
    "for i, row in tqdm(df_add_field.iterrows(), total=df_add_field.shape[0]):\n",
    "    soup = BeautifulSoup(row.main_tag)\n",
    "    title = soup.select('h1.ProductTitle')[0].text.strip()\n",
    "    table.update_one({\"_id\": row[\"_id\"]}, {\"$set\": {\"title\": title}})"
   ],
   "metadata": {
    "collapsed": false,
    "ExecuteTime": {
     "end_time": "2023-12-23T06:59:09.122867900Z",
     "start_time": "2023-12-23T06:59:09.114811200Z"
    }
   },
   "id": "f24567b9fd267270"
  },
  {
   "cell_type": "code",
   "execution_count": null,
   "outputs": [],
   "source": [
    "# # Shabek Calculate\n",
    "# if 'shabek' not in df.columns:\n",
    "#     df['shabek'] = None\n",
    "# df_add_field = df[df.main_tag.notnull()]\n",
    "# df_add_field = df[df.cat.notnull()]\n",
    "# df_add_field = df_add_field[df.shabek.isnull()]\n",
    "# for i, row in tqdm(df_add_field.iterrows(), total=df_add_field.shape[0]):\n",
    "#     soup = BeautifulSoup(row.main_tag)\n",
    "#     title = soup.select('h1.ProductTitle')[0].text.strip()\n",
    "#     table.update_one({\"_id\": row[\"_id\"]}, {\"$set\": {\"title\": title}})"
   ],
   "metadata": {
    "collapsed": false,
    "ExecuteTime": {
     "start_time": "2023-12-23T06:59:09.117873Z"
    }
   },
   "id": "855bc92448e5c686"
  },
  {
   "cell_type": "code",
   "execution_count": null,
   "outputs": [],
   "source": [
    "df[df['title'].isnull()]"
   ],
   "metadata": {
    "collapsed": false,
    "ExecuteTime": {
     "start_time": "2023-12-23T06:59:09.118817400Z"
    }
   },
   "id": "873ebf8f614ed61f"
  },
  {
   "cell_type": "code",
   "execution_count": null,
   "outputs": [],
   "source": [
    "df[['url', 'url_result', 'status_code', 'cat', 'title']]"
   ],
   "metadata": {
    "collapsed": false,
    "ExecuteTime": {
     "start_time": "2023-12-23T06:59:09.121863400Z"
    }
   },
   "id": "6c74917ae5c5bf12"
  },
  {
   "cell_type": "code",
   "execution_count": 9,
   "outputs": [
    {
     "data": {
      "text/plain": "cat\nکتاب              19669\nمحصولات فرهنگی      735\nصنایع دستی          483\nنوشت افزار          208\nنشریات               71\nکارت هدیه             3\nسایر محصولات          2\nName: count, dtype: int64"
     },
     "execution_count": 9,
     "metadata": {},
     "output_type": "execute_result"
    }
   ],
   "source": [
    "df[\"cat\"].value_counts()"
   ],
   "metadata": {
    "collapsed": false,
    "ExecuteTime": {
     "end_time": "2023-12-23T10:19:49.005162800Z",
     "start_time": "2023-12-23T10:19:48.992171100Z"
    }
   },
   "id": "daadb9ab9fabd125"
  },
  {
   "cell_type": "code",
   "execution_count": null,
   "outputs": [],
   "source": [],
   "metadata": {
    "collapsed": false,
    "ExecuteTime": {
     "end_time": "2023-12-23T06:59:09.125646100Z",
     "start_time": "2023-12-23T06:59:09.124556500Z"
    }
   },
   "id": "eac705319ac57bda"
  }
 ],
 "metadata": {
  "kernelspec": {
   "display_name": "Python 3",
   "language": "python",
   "name": "python3"
  },
  "language_info": {
   "codemirror_mode": {
    "name": "ipython",
    "version": 2
   },
   "file_extension": ".py",
   "mimetype": "text/x-python",
   "name": "python",
   "nbconvert_exporter": "python",
   "pygments_lexer": "ipython2",
   "version": "2.7.6"
  }
 },
 "nbformat": 4,
 "nbformat_minor": 5
}
