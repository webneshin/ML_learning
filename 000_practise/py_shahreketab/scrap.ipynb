{
 "cells": [
  {
   "cell_type": "code",
   "execution_count": 1,
   "outputs": [],
   "source": [
    "import json\n",
    "import logging\n",
    "\n",
    "from tqdm.notebook import trange, tqdm\n",
    "from time import sleep\n",
    "import pymongo\n",
    "import requests"
   ],
   "metadata": {
    "collapsed": false,
    "ExecuteTime": {
     "end_time": "2023-12-17T16:39:55.652619600Z",
     "start_time": "2023-12-17T16:39:55.152562700Z"
    }
   },
   "id": "15c9bba5cff65cda"
  },
  {
   "cell_type": "code",
   "execution_count": 2,
   "id": "initial_id",
   "metadata": {
    "collapsed": true,
    "ExecuteTime": {
     "end_time": "2023-12-17T16:39:55.666048900Z",
     "start_time": "2023-12-17T16:39:55.653602200Z"
    }
   },
   "outputs": [],
   "source": [
    "client_db = pymongo.MongoClient(port=27017)\n",
    "db = client_db.py_book\n",
    "table = db['shahreketab']"
   ]
  },
  {
   "cell_type": "code",
   "execution_count": null,
   "outputs": [
    {
     "data": {
      "text/plain": "get:   0%|          | 0/10000 [00:00<?, ?it/s]",
      "application/vnd.jupyter.widget-view+json": {
       "version_major": 2,
       "version_minor": 0,
       "model_id": "c81fd964052944c9bce2f02d416688e5"
      }
     },
     "metadata": {},
     "output_type": "display_data"
    },
    {
     "name": "stderr",
     "output_type": "stream",
     "text": [
      "ERROR:root:error on 393976\n",
      "ERROR:root:error on 387007\n",
      "ERROR:root:error on 386265\n",
      "ERROR:root:error on 386120\n",
      "ERROR:root:error on 386094\n",
      "ERROR:root:error on 386050\n",
      "ERROR:root:error on 386047\n",
      "ERROR:root:error on 385954\n",
      "ERROR:root:error on 385944\n",
      "ERROR:root:error on 385890\n",
      "ERROR:root:error on 385870\n",
      "ERROR:root:error on 385847\n",
      "ERROR:root:error on 385828\n",
      "ERROR:root:error on 385747\n"
     ]
    }
   ],
   "source": [
    "for i in trange(394634,394634-10000,-1,desc='get'):\n",
    "    if i in [393976, ]:\n",
    "        continue\n",
    "    count = table.count_documents({\"id\": i,\"status_code\":200})\n",
    "    if count>0:\n",
    "        continue\n",
    "\n",
    "    url = f\"https://shahreketabonline.com/Products/Details/{i}/\"\n",
    "    try:\n",
    "        res = requests.get(url)\n",
    "    except:\n",
    "        sleep(10)\n",
    "        logging.error(f\"error on {i}\")\n",
    "        continue\n",
    "    table.insert_one({\n",
    "        'id':i,\n",
    "        'url':url,\n",
    "        'url_result':res.url,\n",
    "        'text':res.text,\n",
    "        'status_code':res.status_code\n",
    "    })\n",
    "    sleep(0.5)\n",
    "    "
   ],
   "metadata": {
    "collapsed": false,
    "is_executing": true,
    "ExecuteTime": {
     "start_time": "2023-12-17T16:39:55.668771600Z"
    }
   },
   "id": "739605a7756d076a"
  }
 ],
 "metadata": {
  "kernelspec": {
   "display_name": "Python 3",
   "language": "python",
   "name": "python3"
  },
  "language_info": {
   "codemirror_mode": {
    "name": "ipython",
    "version": 2
   },
   "file_extension": ".py",
   "mimetype": "text/x-python",
   "name": "python",
   "nbconvert_exporter": "python",
   "pygments_lexer": "ipython2",
   "version": "2.7.6"
  }
 },
 "nbformat": 4,
 "nbformat_minor": 5
}
