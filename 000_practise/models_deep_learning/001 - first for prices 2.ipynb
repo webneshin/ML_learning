{
 "cells": [
  {
   "cell_type": "code",
   "execution_count": 72,
   "id": "initial_id",
   "metadata": {
    "collapsed": true,
    "ExecuteTime": {
     "end_time": "2023-12-20T09:02:47.368943Z",
     "start_time": "2023-12-20T09:02:47.329267900Z"
    }
   },
   "outputs": [],
   "source": [
    "import logging\n",
    "\n",
    "import numpy as np\n",
    "import pandas as pd\n",
    "import tensorflow as tf\n",
    "import seaborn as sns\n",
    "import talib\n",
    "from binance.enums import HistoricalKlinesType\n",
    "from matplotlib import pyplot as plt\n",
    "from sklearn import metrics, preprocessing\n",
    "from sklearn.metrics import classification_report, confusion_matrix\n",
    "from sklearn.model_selection import train_test_split\n",
    "from sklearn.preprocessing import LabelEncoder\n",
    "\n",
    "from main_funcs import get_and_update_data"
   ]
  },
  {
   "cell_type": "code",
   "execution_count": 73,
   "outputs": [],
   "source": [
    "# configs\n",
    "country=None\n",
    "joft = \"ETHUSDT\"\n",
    "interval = \"4h\"\n",
    "\n",
    "# remove small candle \n",
    "zero_remover_pct = 0.002\n",
    "\n",
    "# add history of open_close_pct \n",
    "open_close_pct_history_count = 20\n",
    "\n",
    "# add history of max_low_high_pct \n",
    "max_low_high_pct_history_count = -1\n",
    "\n",
    "# calculate rsi with different lengths \n",
    "rsi_ranges = range(14, 15)\n",
    "\n",
    "# add history of rsi\n",
    "rsi_history_count = -1\n",
    "\n",
    "# add moving average of rsi\n",
    "rsi_ma_lengths = [3,7,9,10,14,20,50,100]\n",
    "rsi_ma_ranges = []\n"
   ],
   "metadata": {
    "collapsed": false,
    "ExecuteTime": {
     "end_time": "2023-12-20T09:02:47.369458900Z",
     "start_time": "2023-12-20T09:02:47.333800900Z"
    }
   },
   "id": "b9710dbcbbed0b62"
  },
  {
   "cell_type": "code",
   "execution_count": 74,
   "outputs": [],
   "source": [
    "# validation config\n",
    "\n",
    "# valid rsi_ma_ranges\n",
    "for r in rsi_ma_ranges:\n",
    "    if not r in rsi_ranges:\n",
    "        raise ValueError(\"rsi_ma_ranges items is not in rsi_ranges\")\n",
    "    "
   ],
   "metadata": {
    "collapsed": false,
    "ExecuteTime": {
     "end_time": "2023-12-20T09:02:47.369458900Z",
     "start_time": "2023-12-20T09:02:47.336979Z"
    }
   },
   "id": "ba3ad281c24dc7e7"
  },
  {
   "cell_type": "code",
   "execution_count": 75,
   "outputs": [
    {
     "name": "stderr",
     "output_type": "stream",
     "text": [
      "WARNING:root:not updatetd! for update set \"country\"!\n"
     ]
    },
    {
     "name": "stdout",
     "output_type": "stream",
     "text": [
      "(13664, 5)\n"
     ]
    },
    {
     "data": {
      "text/plain": "                        open     high      low    close      volume\nopen_time                                                          \n2023-11-14 03:30:00  2053.65  2058.47  2031.55  2055.54  61237.6987",
      "text/html": "<div>\n<style scoped>\n    .dataframe tbody tr th:only-of-type {\n        vertical-align: middle;\n    }\n\n    .dataframe tbody tr th {\n        vertical-align: top;\n    }\n\n    .dataframe thead th {\n        text-align: right;\n    }\n</style>\n<table border=\"1\" class=\"dataframe\">\n  <thead>\n    <tr style=\"text-align: right;\">\n      <th></th>\n      <th>open</th>\n      <th>high</th>\n      <th>low</th>\n      <th>close</th>\n      <th>volume</th>\n    </tr>\n    <tr>\n      <th>open_time</th>\n      <th></th>\n      <th></th>\n      <th></th>\n      <th></th>\n      <th></th>\n    </tr>\n  </thead>\n  <tbody>\n    <tr>\n      <th>2023-11-14 03:30:00</th>\n      <td>2053.65</td>\n      <td>2058.47</td>\n      <td>2031.55</td>\n      <td>2055.54</td>\n      <td>61237.6987</td>\n    </tr>\n  </tbody>\n</table>\n</div>"
     },
     "execution_count": 75,
     "metadata": {},
     "output_type": "execute_result"
    }
   ],
   "source": [
    "# get data from database\n",
    "df_source = get_and_update_data(joft, interval, HistoricalKlinesType.SPOT, country=country)\n",
    "df_source = df_source[[\"open\", \"high\", \"low\", \"close\", \"volume\"]]\n",
    "print(df_source.shape)\n",
    "df_source.tail(1)"
   ],
   "metadata": {
    "collapsed": false,
    "ExecuteTime": {
     "end_time": "2023-12-20T09:02:47.451105500Z",
     "start_time": "2023-12-20T09:02:47.341589500Z"
    }
   },
   "id": "f5565428978c59a7"
  },
  {
   "cell_type": "code",
   "execution_count": 76,
   "outputs": [
    {
     "data": {
      "text/plain": "                        open     high      low    close        volume  \\\nopen_time                                                               \n2017-08-17 07:30:00   301.13   307.96   298.00   307.96    1561.95305   \n2017-08-17 11:30:00   307.95   312.00   307.00   308.95    1177.71088   \n2017-08-17 15:30:00   308.95   310.51   303.56   307.06    1882.05267   \n2017-08-17 19:30:00   307.74   312.18   298.21   301.60    1208.05192   \n2017-08-17 23:30:00   301.60   310.85   299.01   302.00    1200.94182   \n...                      ...      ...      ...      ...           ...   \n2023-11-13 11:30:00  2048.15  2061.42  2038.80  2046.73   44731.03360   \n2023-11-13 15:30:00  2046.73  2107.42  2039.16  2105.24  143108.44630   \n2023-11-13 19:30:00  2105.23  2118.00  2065.35  2100.00   93610.46060   \n2023-11-13 23:30:00  2100.01  2102.72  2043.47  2053.65   82395.16270   \n2023-11-14 03:30:00  2053.65  2058.47  2031.55  2055.54   61237.69870   \n\n                     open_close  open_low  open_high  open_close_pct  \\\nopen_time                                                              \n2017-08-17 07:30:00        6.83     -3.13       6.83        0.022681   \n2017-08-17 11:30:00        1.00     -0.95       4.05        0.003247   \n2017-08-17 15:30:00       -1.89     -5.39       1.56       -0.006117   \n2017-08-17 19:30:00       -6.14     -9.53       4.44       -0.019952   \n2017-08-17 23:30:00        0.40     -2.59       9.25        0.001326   \n...                         ...       ...        ...             ...   \n2023-11-13 11:30:00       -1.42     -9.35      13.27       -0.000693   \n2023-11-13 15:30:00       58.51     -7.57      60.69        0.028587   \n2023-11-13 19:30:00       -5.23    -39.88      12.77       -0.002484   \n2023-11-13 23:30:00      -46.36    -56.54       2.71       -0.022076   \n2023-11-14 03:30:00        1.89    -22.10       4.82        0.000920   \n\n                     open_low_pct  ...  open_close_pct__11  \\\nopen_time                          ...                       \n2017-08-17 07:30:00     -0.010394  ...                 NaN   \n2017-08-17 11:30:00     -0.003085  ...                 NaN   \n2017-08-17 15:30:00     -0.017446  ...                 NaN   \n2017-08-17 19:30:00     -0.030968  ...                 NaN   \n2017-08-17 23:30:00     -0.008588  ...                 NaN   \n...                           ...  ...                 ...   \n2023-11-13 11:30:00     -0.004565  ...            0.005098   \n2023-11-13 15:30:00     -0.003699  ...            0.003748   \n2023-11-13 19:30:00     -0.018943  ...           -0.010878   \n2023-11-13 23:30:00     -0.026924  ...           -0.000847   \n2023-11-14 03:30:00     -0.010761  ...            0.003086   \n\n                     open_close_pct__12  open_close_pct__13  \\\nopen_time                                                     \n2017-08-17 07:30:00                 NaN                 NaN   \n2017-08-17 11:30:00                 NaN                 NaN   \n2017-08-17 15:30:00                 NaN                 NaN   \n2017-08-17 19:30:00                 NaN                 NaN   \n2017-08-17 23:30:00                 NaN                 NaN   \n...                                 ...                 ...   \n2023-11-13 11:30:00            0.001251            0.004124   \n2023-11-13 15:30:00            0.005098            0.001251   \n2023-11-13 19:30:00            0.003748            0.005098   \n2023-11-13 23:30:00           -0.010878            0.003748   \n2023-11-14 03:30:00           -0.000847           -0.010878   \n\n                     open_close_pct__14  open_close_pct__15  \\\nopen_time                                                     \n2017-08-17 07:30:00                 NaN                 NaN   \n2017-08-17 11:30:00                 NaN                 NaN   \n2017-08-17 15:30:00                 NaN                 NaN   \n2017-08-17 19:30:00                 NaN                 NaN   \n2017-08-17 23:30:00                 NaN                 NaN   \n...                                 ...                 ...   \n2023-11-13 11:30:00           -0.015031           -0.004919   \n2023-11-13 15:30:00            0.004124           -0.015031   \n2023-11-13 19:30:00            0.001251            0.004124   \n2023-11-13 23:30:00            0.005098            0.001251   \n2023-11-14 03:30:00            0.003748            0.005098   \n\n                     open_close_pct__16  open_close_pct__17  \\\nopen_time                                                     \n2017-08-17 07:30:00                 NaN                 NaN   \n2017-08-17 11:30:00                 NaN                 NaN   \n2017-08-17 15:30:00                 NaN                 NaN   \n2017-08-17 19:30:00                 NaN                 NaN   \n2017-08-17 23:30:00                 NaN                 NaN   \n...                                 ...                 ...   \n2023-11-13 11:30:00           -0.000938           -0.003405   \n2023-11-13 15:30:00           -0.004919           -0.000938   \n2023-11-13 19:30:00           -0.015031           -0.004919   \n2023-11-13 23:30:00            0.004124           -0.015031   \n2023-11-14 03:30:00            0.001251            0.004124   \n\n                     open_close_pct__18  open_close_pct__19  \\\nopen_time                                                     \n2017-08-17 07:30:00                 NaN                 NaN   \n2017-08-17 11:30:00                 NaN                 NaN   \n2017-08-17 15:30:00                 NaN                 NaN   \n2017-08-17 19:30:00                 NaN                 NaN   \n2017-08-17 23:30:00                 NaN                 NaN   \n...                                 ...                 ...   \n2023-11-13 11:30:00           -0.002075           -0.009217   \n2023-11-13 15:30:00           -0.003405           -0.002075   \n2023-11-13 19:30:00           -0.000938           -0.003405   \n2023-11-13 23:30:00           -0.004919           -0.000938   \n2023-11-14 03:30:00           -0.015031           -0.004919   \n\n                     open_close_pct__20  \nopen_time                                \n2017-08-17 07:30:00                 NaN  \n2017-08-17 11:30:00                 NaN  \n2017-08-17 15:30:00                 NaN  \n2017-08-17 19:30:00                 NaN  \n2017-08-17 23:30:00                 NaN  \n...                                 ...  \n2023-11-13 11:30:00           -0.000160  \n2023-11-13 15:30:00           -0.009217  \n2023-11-13 19:30:00           -0.002075  \n2023-11-13 23:30:00           -0.003405  \n2023-11-14 03:30:00           -0.000938  \n\n[13664 rows x 33 columns]",
      "text/html": "<div>\n<style scoped>\n    .dataframe tbody tr th:only-of-type {\n        vertical-align: middle;\n    }\n\n    .dataframe tbody tr th {\n        vertical-align: top;\n    }\n\n    .dataframe thead th {\n        text-align: right;\n    }\n</style>\n<table border=\"1\" class=\"dataframe\">\n  <thead>\n    <tr style=\"text-align: right;\">\n      <th></th>\n      <th>open</th>\n      <th>high</th>\n      <th>low</th>\n      <th>close</th>\n      <th>volume</th>\n      <th>open_close</th>\n      <th>open_low</th>\n      <th>open_high</th>\n      <th>open_close_pct</th>\n      <th>open_low_pct</th>\n      <th>...</th>\n      <th>open_close_pct__11</th>\n      <th>open_close_pct__12</th>\n      <th>open_close_pct__13</th>\n      <th>open_close_pct__14</th>\n      <th>open_close_pct__15</th>\n      <th>open_close_pct__16</th>\n      <th>open_close_pct__17</th>\n      <th>open_close_pct__18</th>\n      <th>open_close_pct__19</th>\n      <th>open_close_pct__20</th>\n    </tr>\n    <tr>\n      <th>open_time</th>\n      <th></th>\n      <th></th>\n      <th></th>\n      <th></th>\n      <th></th>\n      <th></th>\n      <th></th>\n      <th></th>\n      <th></th>\n      <th></th>\n      <th></th>\n      <th></th>\n      <th></th>\n      <th></th>\n      <th></th>\n      <th></th>\n      <th></th>\n      <th></th>\n      <th></th>\n      <th></th>\n      <th></th>\n    </tr>\n  </thead>\n  <tbody>\n    <tr>\n      <th>2017-08-17 07:30:00</th>\n      <td>301.13</td>\n      <td>307.96</td>\n      <td>298.00</td>\n      <td>307.96</td>\n      <td>1561.95305</td>\n      <td>6.83</td>\n      <td>-3.13</td>\n      <td>6.83</td>\n      <td>0.022681</td>\n      <td>-0.010394</td>\n      <td>...</td>\n      <td>NaN</td>\n      <td>NaN</td>\n      <td>NaN</td>\n      <td>NaN</td>\n      <td>NaN</td>\n      <td>NaN</td>\n      <td>NaN</td>\n      <td>NaN</td>\n      <td>NaN</td>\n      <td>NaN</td>\n    </tr>\n    <tr>\n      <th>2017-08-17 11:30:00</th>\n      <td>307.95</td>\n      <td>312.00</td>\n      <td>307.00</td>\n      <td>308.95</td>\n      <td>1177.71088</td>\n      <td>1.00</td>\n      <td>-0.95</td>\n      <td>4.05</td>\n      <td>0.003247</td>\n      <td>-0.003085</td>\n      <td>...</td>\n      <td>NaN</td>\n      <td>NaN</td>\n      <td>NaN</td>\n      <td>NaN</td>\n      <td>NaN</td>\n      <td>NaN</td>\n      <td>NaN</td>\n      <td>NaN</td>\n      <td>NaN</td>\n      <td>NaN</td>\n    </tr>\n    <tr>\n      <th>2017-08-17 15:30:00</th>\n      <td>308.95</td>\n      <td>310.51</td>\n      <td>303.56</td>\n      <td>307.06</td>\n      <td>1882.05267</td>\n      <td>-1.89</td>\n      <td>-5.39</td>\n      <td>1.56</td>\n      <td>-0.006117</td>\n      <td>-0.017446</td>\n      <td>...</td>\n      <td>NaN</td>\n      <td>NaN</td>\n      <td>NaN</td>\n      <td>NaN</td>\n      <td>NaN</td>\n      <td>NaN</td>\n      <td>NaN</td>\n      <td>NaN</td>\n      <td>NaN</td>\n      <td>NaN</td>\n    </tr>\n    <tr>\n      <th>2017-08-17 19:30:00</th>\n      <td>307.74</td>\n      <td>312.18</td>\n      <td>298.21</td>\n      <td>301.60</td>\n      <td>1208.05192</td>\n      <td>-6.14</td>\n      <td>-9.53</td>\n      <td>4.44</td>\n      <td>-0.019952</td>\n      <td>-0.030968</td>\n      <td>...</td>\n      <td>NaN</td>\n      <td>NaN</td>\n      <td>NaN</td>\n      <td>NaN</td>\n      <td>NaN</td>\n      <td>NaN</td>\n      <td>NaN</td>\n      <td>NaN</td>\n      <td>NaN</td>\n      <td>NaN</td>\n    </tr>\n    <tr>\n      <th>2017-08-17 23:30:00</th>\n      <td>301.60</td>\n      <td>310.85</td>\n      <td>299.01</td>\n      <td>302.00</td>\n      <td>1200.94182</td>\n      <td>0.40</td>\n      <td>-2.59</td>\n      <td>9.25</td>\n      <td>0.001326</td>\n      <td>-0.008588</td>\n      <td>...</td>\n      <td>NaN</td>\n      <td>NaN</td>\n      <td>NaN</td>\n      <td>NaN</td>\n      <td>NaN</td>\n      <td>NaN</td>\n      <td>NaN</td>\n      <td>NaN</td>\n      <td>NaN</td>\n      <td>NaN</td>\n    </tr>\n    <tr>\n      <th>...</th>\n      <td>...</td>\n      <td>...</td>\n      <td>...</td>\n      <td>...</td>\n      <td>...</td>\n      <td>...</td>\n      <td>...</td>\n      <td>...</td>\n      <td>...</td>\n      <td>...</td>\n      <td>...</td>\n      <td>...</td>\n      <td>...</td>\n      <td>...</td>\n      <td>...</td>\n      <td>...</td>\n      <td>...</td>\n      <td>...</td>\n      <td>...</td>\n      <td>...</td>\n      <td>...</td>\n    </tr>\n    <tr>\n      <th>2023-11-13 11:30:00</th>\n      <td>2048.15</td>\n      <td>2061.42</td>\n      <td>2038.80</td>\n      <td>2046.73</td>\n      <td>44731.03360</td>\n      <td>-1.42</td>\n      <td>-9.35</td>\n      <td>13.27</td>\n      <td>-0.000693</td>\n      <td>-0.004565</td>\n      <td>...</td>\n      <td>0.005098</td>\n      <td>0.001251</td>\n      <td>0.004124</td>\n      <td>-0.015031</td>\n      <td>-0.004919</td>\n      <td>-0.000938</td>\n      <td>-0.003405</td>\n      <td>-0.002075</td>\n      <td>-0.009217</td>\n      <td>-0.000160</td>\n    </tr>\n    <tr>\n      <th>2023-11-13 15:30:00</th>\n      <td>2046.73</td>\n      <td>2107.42</td>\n      <td>2039.16</td>\n      <td>2105.24</td>\n      <td>143108.44630</td>\n      <td>58.51</td>\n      <td>-7.57</td>\n      <td>60.69</td>\n      <td>0.028587</td>\n      <td>-0.003699</td>\n      <td>...</td>\n      <td>0.003748</td>\n      <td>0.005098</td>\n      <td>0.001251</td>\n      <td>0.004124</td>\n      <td>-0.015031</td>\n      <td>-0.004919</td>\n      <td>-0.000938</td>\n      <td>-0.003405</td>\n      <td>-0.002075</td>\n      <td>-0.009217</td>\n    </tr>\n    <tr>\n      <th>2023-11-13 19:30:00</th>\n      <td>2105.23</td>\n      <td>2118.00</td>\n      <td>2065.35</td>\n      <td>2100.00</td>\n      <td>93610.46060</td>\n      <td>-5.23</td>\n      <td>-39.88</td>\n      <td>12.77</td>\n      <td>-0.002484</td>\n      <td>-0.018943</td>\n      <td>...</td>\n      <td>-0.010878</td>\n      <td>0.003748</td>\n      <td>0.005098</td>\n      <td>0.001251</td>\n      <td>0.004124</td>\n      <td>-0.015031</td>\n      <td>-0.004919</td>\n      <td>-0.000938</td>\n      <td>-0.003405</td>\n      <td>-0.002075</td>\n    </tr>\n    <tr>\n      <th>2023-11-13 23:30:00</th>\n      <td>2100.01</td>\n      <td>2102.72</td>\n      <td>2043.47</td>\n      <td>2053.65</td>\n      <td>82395.16270</td>\n      <td>-46.36</td>\n      <td>-56.54</td>\n      <td>2.71</td>\n      <td>-0.022076</td>\n      <td>-0.026924</td>\n      <td>...</td>\n      <td>-0.000847</td>\n      <td>-0.010878</td>\n      <td>0.003748</td>\n      <td>0.005098</td>\n      <td>0.001251</td>\n      <td>0.004124</td>\n      <td>-0.015031</td>\n      <td>-0.004919</td>\n      <td>-0.000938</td>\n      <td>-0.003405</td>\n    </tr>\n    <tr>\n      <th>2023-11-14 03:30:00</th>\n      <td>2053.65</td>\n      <td>2058.47</td>\n      <td>2031.55</td>\n      <td>2055.54</td>\n      <td>61237.69870</td>\n      <td>1.89</td>\n      <td>-22.10</td>\n      <td>4.82</td>\n      <td>0.000920</td>\n      <td>-0.010761</td>\n      <td>...</td>\n      <td>0.003086</td>\n      <td>-0.000847</td>\n      <td>-0.010878</td>\n      <td>0.003748</td>\n      <td>0.005098</td>\n      <td>0.001251</td>\n      <td>0.004124</td>\n      <td>-0.015031</td>\n      <td>-0.004919</td>\n      <td>-0.000938</td>\n    </tr>\n  </tbody>\n</table>\n<p>13664 rows × 33 columns</p>\n</div>"
     },
     "execution_count": 76,
     "metadata": {},
     "output_type": "execute_result"
    }
   ],
   "source": [
    "# calculate parameters\n",
    "df_cal = df_source.copy()\n",
    "\n",
    "# change from open to other columns\n",
    "df_cal['open_close'] = df_cal.close - df_cal.open\n",
    "df_cal['open_low'] = df_cal.low - df_cal.open\n",
    "df_cal['open_high'] = df_cal.high - df_cal.open\n",
    "\n",
    "# change percent from open to other columns\n",
    "df_cal['open_close_pct'] = df_cal.open_close / df_cal.open\n",
    "df_cal['open_low_pct'] = df_cal.open_low / df_cal.open\n",
    "df_cal['open_high_pct'] = df_cal.open_high / df_cal.open\n",
    "\n",
    "# price direction\n",
    "# df_target['open_close_direction'] = np.sign(df_target[\"open_close\"])\n",
    "# df_target['open_open_high_direction'] = np.sign(df_target[\"open_low\"]).astype(int)\n",
    "# df_target['open_high_direction'] = np.sign(df_target[\"open_high\"]).astype(int)\n",
    "\n",
    "# max abs low and high\n",
    "df_cal['max_low_high_pct'] = np.where(\n",
    "    df_cal['open_low_pct'].abs() > df_cal['open_high_pct'].abs(),\n",
    "    df_cal['open_low_pct'],\n",
    "    df_cal['open_high_pct']\n",
    ")\n",
    "\n",
    "# open_close_pct history\n",
    "for h in range(0, open_close_pct_history_count + 1):\n",
    "    df_cal[f\"open_close_pct__{h}\"] = df_cal.open_close_pct.shift(h)\n",
    "\n",
    "# max_low_high_pct history\n",
    "for h in range(0, max_low_high_pct_history_count + 1):\n",
    "    df_cal[f\"max_low_high_pct__{h}\"] = df_cal.max_low_high_pct.shift(h)\n",
    "\n",
    "# calculate multi rsi\n",
    "for rsi in rsi_ranges:\n",
    "    for h in range(0, rsi_history_count + 1):\n",
    "        df_cal[f\"rsi_{rsi}__{h}\"] = talib.RSI(df_cal.close.shift(h), timeperiod=rsi)\n",
    "\n",
    "# calculate rsi sma \n",
    "for ma_length in rsi_ma_lengths:\n",
    "    for rsi in rsi_ma_ranges:\n",
    "        df_cal[f\"rsi_{rsi}_ma_{ma_length}\"] = talib.SMA(df_cal[f\"rsi_{rsi}__{0}\"], timeperiod=ma_length)\n",
    "df_cal\n"
   ],
   "metadata": {
    "collapsed": false,
    "ExecuteTime": {
     "end_time": "2023-12-20T09:02:47.505234900Z",
     "start_time": "2023-12-20T09:02:47.451105500Z"
    }
   },
   "id": "aadfce508d0e7aa7"
  },
  {
   "cell_type": "code",
   "execution_count": 77,
   "outputs": [
    {
     "data": {
      "text/plain": "                        open     high      low    close        volume  \\\nopen_time                                                               \n2017-08-17 07:30:00   301.13   307.96   298.00   307.96    1561.95305   \n2017-08-17 11:30:00   307.95   312.00   307.00   308.95    1177.71088   \n2017-08-17 15:30:00   308.95   310.51   303.56   307.06    1882.05267   \n2017-08-17 19:30:00   307.74   312.18   298.21   301.60    1208.05192   \n2017-08-17 23:30:00   301.60   310.85   299.01   302.00    1200.94182   \n...                      ...      ...      ...      ...           ...   \n2023-11-13 11:30:00  2048.15  2061.42  2038.80  2046.73   44731.03360   \n2023-11-13 15:30:00  2046.73  2107.42  2039.16  2105.24  143108.44630   \n2023-11-13 19:30:00  2105.23  2118.00  2065.35  2100.00   93610.46060   \n2023-11-13 23:30:00  2100.01  2102.72  2043.47  2053.65   82395.16270   \n2023-11-14 03:30:00  2053.65  2058.47  2031.55  2055.54   61237.69870   \n\n                     open_close  open_low  open_high  open_close_pct  \\\nopen_time                                                              \n2017-08-17 07:30:00        6.83     -3.13       6.83        0.022681   \n2017-08-17 11:30:00        1.00     -0.95       4.05        0.003247   \n2017-08-17 15:30:00       -1.89     -5.39       1.56       -0.006117   \n2017-08-17 19:30:00       -6.14     -9.53       4.44       -0.019952   \n2017-08-17 23:30:00        0.40     -2.59       9.25        0.001326   \n...                         ...       ...        ...             ...   \n2023-11-13 11:30:00       -1.42     -9.35      13.27       -0.000693   \n2023-11-13 15:30:00       58.51     -7.57      60.69        0.028587   \n2023-11-13 19:30:00       -5.23    -39.88      12.77       -0.002484   \n2023-11-13 23:30:00      -46.36    -56.54       2.71       -0.022076   \n2023-11-14 03:30:00        1.89    -22.10       4.82        0.000920   \n\n                     open_low_pct  ...  open_close_pct__12  \\\nopen_time                          ...                       \n2017-08-17 07:30:00     -0.010394  ...                 NaN   \n2017-08-17 11:30:00     -0.003085  ...                 NaN   \n2017-08-17 15:30:00     -0.017446  ...                 NaN   \n2017-08-17 19:30:00     -0.030968  ...                 NaN   \n2017-08-17 23:30:00     -0.008588  ...                 NaN   \n...                           ...  ...                 ...   \n2023-11-13 11:30:00     -0.004565  ...            0.001251   \n2023-11-13 15:30:00     -0.003699  ...            0.005098   \n2023-11-13 19:30:00     -0.018943  ...            0.003748   \n2023-11-13 23:30:00     -0.026924  ...           -0.010878   \n2023-11-14 03:30:00     -0.010761  ...           -0.000847   \n\n                     open_close_pct__13  open_close_pct__14  \\\nopen_time                                                     \n2017-08-17 07:30:00                 NaN                 NaN   \n2017-08-17 11:30:00                 NaN                 NaN   \n2017-08-17 15:30:00                 NaN                 NaN   \n2017-08-17 19:30:00                 NaN                 NaN   \n2017-08-17 23:30:00                 NaN                 NaN   \n...                                 ...                 ...   \n2023-11-13 11:30:00            0.004124           -0.015031   \n2023-11-13 15:30:00            0.001251            0.004124   \n2023-11-13 19:30:00            0.005098            0.001251   \n2023-11-13 23:30:00            0.003748            0.005098   \n2023-11-14 03:30:00           -0.010878            0.003748   \n\n                     open_close_pct__15  open_close_pct__16  \\\nopen_time                                                     \n2017-08-17 07:30:00                 NaN                 NaN   \n2017-08-17 11:30:00                 NaN                 NaN   \n2017-08-17 15:30:00                 NaN                 NaN   \n2017-08-17 19:30:00                 NaN                 NaN   \n2017-08-17 23:30:00                 NaN                 NaN   \n...                                 ...                 ...   \n2023-11-13 11:30:00           -0.004919           -0.000938   \n2023-11-13 15:30:00           -0.015031           -0.004919   \n2023-11-13 19:30:00            0.004124           -0.015031   \n2023-11-13 23:30:00            0.001251            0.004124   \n2023-11-14 03:30:00            0.005098            0.001251   \n\n                     open_close_pct__17  open_close_pct__18  \\\nopen_time                                                     \n2017-08-17 07:30:00                 NaN                 NaN   \n2017-08-17 11:30:00                 NaN                 NaN   \n2017-08-17 15:30:00                 NaN                 NaN   \n2017-08-17 19:30:00                 NaN                 NaN   \n2017-08-17 23:30:00                 NaN                 NaN   \n...                                 ...                 ...   \n2023-11-13 11:30:00           -0.003405           -0.002075   \n2023-11-13 15:30:00           -0.000938           -0.003405   \n2023-11-13 19:30:00           -0.004919           -0.000938   \n2023-11-13 23:30:00           -0.015031           -0.004919   \n2023-11-14 03:30:00            0.004124           -0.015031   \n\n                     open_close_pct__19  open_close_pct__20    target  \nopen_time                                                              \n2017-08-17 07:30:00                 NaN                 NaN  0.003247  \n2017-08-17 11:30:00                 NaN                 NaN -0.006117  \n2017-08-17 15:30:00                 NaN                 NaN -0.019952  \n2017-08-17 19:30:00                 NaN                 NaN  0.001326  \n2017-08-17 23:30:00                 NaN                 NaN -0.001987  \n...                                 ...                 ...       ...  \n2023-11-13 11:30:00           -0.009217           -0.000160  0.028587  \n2023-11-13 15:30:00           -0.002075           -0.009217 -0.002484  \n2023-11-13 19:30:00           -0.003405           -0.002075 -0.022076  \n2023-11-13 23:30:00           -0.000938           -0.003405  0.000920  \n2023-11-14 03:30:00           -0.004919           -0.000938       NaN  \n\n[13664 rows x 34 columns]",
      "text/html": "<div>\n<style scoped>\n    .dataframe tbody tr th:only-of-type {\n        vertical-align: middle;\n    }\n\n    .dataframe tbody tr th {\n        vertical-align: top;\n    }\n\n    .dataframe thead th {\n        text-align: right;\n    }\n</style>\n<table border=\"1\" class=\"dataframe\">\n  <thead>\n    <tr style=\"text-align: right;\">\n      <th></th>\n      <th>open</th>\n      <th>high</th>\n      <th>low</th>\n      <th>close</th>\n      <th>volume</th>\n      <th>open_close</th>\n      <th>open_low</th>\n      <th>open_high</th>\n      <th>open_close_pct</th>\n      <th>open_low_pct</th>\n      <th>...</th>\n      <th>open_close_pct__12</th>\n      <th>open_close_pct__13</th>\n      <th>open_close_pct__14</th>\n      <th>open_close_pct__15</th>\n      <th>open_close_pct__16</th>\n      <th>open_close_pct__17</th>\n      <th>open_close_pct__18</th>\n      <th>open_close_pct__19</th>\n      <th>open_close_pct__20</th>\n      <th>target</th>\n    </tr>\n    <tr>\n      <th>open_time</th>\n      <th></th>\n      <th></th>\n      <th></th>\n      <th></th>\n      <th></th>\n      <th></th>\n      <th></th>\n      <th></th>\n      <th></th>\n      <th></th>\n      <th></th>\n      <th></th>\n      <th></th>\n      <th></th>\n      <th></th>\n      <th></th>\n      <th></th>\n      <th></th>\n      <th></th>\n      <th></th>\n      <th></th>\n    </tr>\n  </thead>\n  <tbody>\n    <tr>\n      <th>2017-08-17 07:30:00</th>\n      <td>301.13</td>\n      <td>307.96</td>\n      <td>298.00</td>\n      <td>307.96</td>\n      <td>1561.95305</td>\n      <td>6.83</td>\n      <td>-3.13</td>\n      <td>6.83</td>\n      <td>0.022681</td>\n      <td>-0.010394</td>\n      <td>...</td>\n      <td>NaN</td>\n      <td>NaN</td>\n      <td>NaN</td>\n      <td>NaN</td>\n      <td>NaN</td>\n      <td>NaN</td>\n      <td>NaN</td>\n      <td>NaN</td>\n      <td>NaN</td>\n      <td>0.003247</td>\n    </tr>\n    <tr>\n      <th>2017-08-17 11:30:00</th>\n      <td>307.95</td>\n      <td>312.00</td>\n      <td>307.00</td>\n      <td>308.95</td>\n      <td>1177.71088</td>\n      <td>1.00</td>\n      <td>-0.95</td>\n      <td>4.05</td>\n      <td>0.003247</td>\n      <td>-0.003085</td>\n      <td>...</td>\n      <td>NaN</td>\n      <td>NaN</td>\n      <td>NaN</td>\n      <td>NaN</td>\n      <td>NaN</td>\n      <td>NaN</td>\n      <td>NaN</td>\n      <td>NaN</td>\n      <td>NaN</td>\n      <td>-0.006117</td>\n    </tr>\n    <tr>\n      <th>2017-08-17 15:30:00</th>\n      <td>308.95</td>\n      <td>310.51</td>\n      <td>303.56</td>\n      <td>307.06</td>\n      <td>1882.05267</td>\n      <td>-1.89</td>\n      <td>-5.39</td>\n      <td>1.56</td>\n      <td>-0.006117</td>\n      <td>-0.017446</td>\n      <td>...</td>\n      <td>NaN</td>\n      <td>NaN</td>\n      <td>NaN</td>\n      <td>NaN</td>\n      <td>NaN</td>\n      <td>NaN</td>\n      <td>NaN</td>\n      <td>NaN</td>\n      <td>NaN</td>\n      <td>-0.019952</td>\n    </tr>\n    <tr>\n      <th>2017-08-17 19:30:00</th>\n      <td>307.74</td>\n      <td>312.18</td>\n      <td>298.21</td>\n      <td>301.60</td>\n      <td>1208.05192</td>\n      <td>-6.14</td>\n      <td>-9.53</td>\n      <td>4.44</td>\n      <td>-0.019952</td>\n      <td>-0.030968</td>\n      <td>...</td>\n      <td>NaN</td>\n      <td>NaN</td>\n      <td>NaN</td>\n      <td>NaN</td>\n      <td>NaN</td>\n      <td>NaN</td>\n      <td>NaN</td>\n      <td>NaN</td>\n      <td>NaN</td>\n      <td>0.001326</td>\n    </tr>\n    <tr>\n      <th>2017-08-17 23:30:00</th>\n      <td>301.60</td>\n      <td>310.85</td>\n      <td>299.01</td>\n      <td>302.00</td>\n      <td>1200.94182</td>\n      <td>0.40</td>\n      <td>-2.59</td>\n      <td>9.25</td>\n      <td>0.001326</td>\n      <td>-0.008588</td>\n      <td>...</td>\n      <td>NaN</td>\n      <td>NaN</td>\n      <td>NaN</td>\n      <td>NaN</td>\n      <td>NaN</td>\n      <td>NaN</td>\n      <td>NaN</td>\n      <td>NaN</td>\n      <td>NaN</td>\n      <td>-0.001987</td>\n    </tr>\n    <tr>\n      <th>...</th>\n      <td>...</td>\n      <td>...</td>\n      <td>...</td>\n      <td>...</td>\n      <td>...</td>\n      <td>...</td>\n      <td>...</td>\n      <td>...</td>\n      <td>...</td>\n      <td>...</td>\n      <td>...</td>\n      <td>...</td>\n      <td>...</td>\n      <td>...</td>\n      <td>...</td>\n      <td>...</td>\n      <td>...</td>\n      <td>...</td>\n      <td>...</td>\n      <td>...</td>\n      <td>...</td>\n    </tr>\n    <tr>\n      <th>2023-11-13 11:30:00</th>\n      <td>2048.15</td>\n      <td>2061.42</td>\n      <td>2038.80</td>\n      <td>2046.73</td>\n      <td>44731.03360</td>\n      <td>-1.42</td>\n      <td>-9.35</td>\n      <td>13.27</td>\n      <td>-0.000693</td>\n      <td>-0.004565</td>\n      <td>...</td>\n      <td>0.001251</td>\n      <td>0.004124</td>\n      <td>-0.015031</td>\n      <td>-0.004919</td>\n      <td>-0.000938</td>\n      <td>-0.003405</td>\n      <td>-0.002075</td>\n      <td>-0.009217</td>\n      <td>-0.000160</td>\n      <td>0.028587</td>\n    </tr>\n    <tr>\n      <th>2023-11-13 15:30:00</th>\n      <td>2046.73</td>\n      <td>2107.42</td>\n      <td>2039.16</td>\n      <td>2105.24</td>\n      <td>143108.44630</td>\n      <td>58.51</td>\n      <td>-7.57</td>\n      <td>60.69</td>\n      <td>0.028587</td>\n      <td>-0.003699</td>\n      <td>...</td>\n      <td>0.005098</td>\n      <td>0.001251</td>\n      <td>0.004124</td>\n      <td>-0.015031</td>\n      <td>-0.004919</td>\n      <td>-0.000938</td>\n      <td>-0.003405</td>\n      <td>-0.002075</td>\n      <td>-0.009217</td>\n      <td>-0.002484</td>\n    </tr>\n    <tr>\n      <th>2023-11-13 19:30:00</th>\n      <td>2105.23</td>\n      <td>2118.00</td>\n      <td>2065.35</td>\n      <td>2100.00</td>\n      <td>93610.46060</td>\n      <td>-5.23</td>\n      <td>-39.88</td>\n      <td>12.77</td>\n      <td>-0.002484</td>\n      <td>-0.018943</td>\n      <td>...</td>\n      <td>0.003748</td>\n      <td>0.005098</td>\n      <td>0.001251</td>\n      <td>0.004124</td>\n      <td>-0.015031</td>\n      <td>-0.004919</td>\n      <td>-0.000938</td>\n      <td>-0.003405</td>\n      <td>-0.002075</td>\n      <td>-0.022076</td>\n    </tr>\n    <tr>\n      <th>2023-11-13 23:30:00</th>\n      <td>2100.01</td>\n      <td>2102.72</td>\n      <td>2043.47</td>\n      <td>2053.65</td>\n      <td>82395.16270</td>\n      <td>-46.36</td>\n      <td>-56.54</td>\n      <td>2.71</td>\n      <td>-0.022076</td>\n      <td>-0.026924</td>\n      <td>...</td>\n      <td>-0.010878</td>\n      <td>0.003748</td>\n      <td>0.005098</td>\n      <td>0.001251</td>\n      <td>0.004124</td>\n      <td>-0.015031</td>\n      <td>-0.004919</td>\n      <td>-0.000938</td>\n      <td>-0.003405</td>\n      <td>0.000920</td>\n    </tr>\n    <tr>\n      <th>2023-11-14 03:30:00</th>\n      <td>2053.65</td>\n      <td>2058.47</td>\n      <td>2031.55</td>\n      <td>2055.54</td>\n      <td>61237.69870</td>\n      <td>1.89</td>\n      <td>-22.10</td>\n      <td>4.82</td>\n      <td>0.000920</td>\n      <td>-0.010761</td>\n      <td>...</td>\n      <td>-0.000847</td>\n      <td>-0.010878</td>\n      <td>0.003748</td>\n      <td>0.005098</td>\n      <td>0.001251</td>\n      <td>0.004124</td>\n      <td>-0.015031</td>\n      <td>-0.004919</td>\n      <td>-0.000938</td>\n      <td>NaN</td>\n    </tr>\n  </tbody>\n</table>\n<p>13664 rows × 34 columns</p>\n</div>"
     },
     "execution_count": 77,
     "metadata": {},
     "output_type": "execute_result"
    }
   ],
   "source": [
    "# create calculate target\n",
    "df_target = df_cal.copy()\n",
    "mabna = 'open_close_pct'\n",
    "\n",
    "# calculate target\n",
    "# df_target[\"target\"] = df_target[mabna]\n",
    "df_target[\"target\"] = df_target[mabna]\n",
    "\n",
    "\n",
    "# add log\n",
    "# df_target[\"target\"] = np.log(df_target[\"target\"])\n",
    "\n",
    "# shift target the real place\n",
    "df_target[\"target\"] = df_target[\"target\"].shift(-1)\n",
    "df_target"
   ],
   "metadata": {
    "collapsed": false,
    "ExecuteTime": {
     "end_time": "2023-12-20T09:02:47.556202700Z",
     "start_time": "2023-12-20T09:02:47.479515900Z"
    }
   },
   "id": "3733ed18ac26a989"
  },
  {
   "cell_type": "code",
   "execution_count": 78,
   "outputs": [
    {
     "data": {
      "text/plain": "                     open_close_pct__0  open_close_pct__1  open_close_pct__2  \\\nopen_time                                                                      \n2017-08-20 15:30:00           0.000339           0.006757           0.014272   \n2017-08-20 19:30:00           0.009421           0.000339           0.006757   \n2017-08-20 23:30:00           0.004129           0.009421           0.000339   \n2017-08-21 03:30:00           0.002508           0.004129           0.009421   \n2017-08-21 07:30:00           0.061561           0.002508           0.004129   \n...                                ...                ...                ...   \n2023-11-13 07:30:00           0.004118          -0.002421          -0.002162   \n2023-11-13 11:30:00          -0.000693           0.004118          -0.002421   \n2023-11-13 15:30:00           0.028587          -0.000693           0.004118   \n2023-11-13 19:30:00          -0.002484           0.028587          -0.000693   \n2023-11-13 23:30:00          -0.022076          -0.002484           0.028587   \n\n                     open_close_pct__3  open_close_pct__4  open_close_pct__5  \\\nopen_time                                                                      \n2017-08-20 15:30:00           0.010366           0.001067           0.016179   \n2017-08-20 19:30:00           0.014272           0.010366           0.001067   \n2017-08-20 23:30:00           0.006757           0.014272           0.010366   \n2017-08-21 03:30:00           0.000339           0.006757           0.014272   \n2017-08-21 07:30:00           0.009421           0.000339           0.006757   \n...                                ...                ...                ...   \n2023-11-13 07:30:00          -0.003889           0.004689          -0.004962   \n2023-11-13 11:30:00          -0.002162          -0.003889           0.004689   \n2023-11-13 15:30:00          -0.002421          -0.002162          -0.003889   \n2023-11-13 19:30:00           0.004118          -0.002421          -0.002162   \n2023-11-13 23:30:00          -0.000693           0.004118          -0.002421   \n\n                     open_close_pct__6  open_close_pct__7  open_close_pct__8  \\\nopen_time                                                                      \n2017-08-20 15:30:00           0.025765          -0.026124          -0.015372   \n2017-08-20 19:30:00           0.016179           0.025765          -0.026124   \n2017-08-20 23:30:00           0.001067           0.016179           0.025765   \n2017-08-21 03:30:00           0.010366           0.001067           0.016179   \n2017-08-21 07:30:00           0.014272           0.010366           0.001067   \n...                                ...                ...                ...   \n2023-11-13 07:30:00           0.003086          -0.000847          -0.010878   \n2023-11-13 11:30:00          -0.004962           0.003086          -0.000847   \n2023-11-13 15:30:00           0.004689          -0.004962           0.003086   \n2023-11-13 19:30:00          -0.003889           0.004689          -0.004962   \n2023-11-13 23:30:00          -0.002162          -0.003889           0.004689   \n\n                     open_close_pct__9  ...  open_close_pct__12  \\\nopen_time                               ...                       \n2017-08-20 15:30:00          -0.000307  ...           -0.029177   \n2017-08-20 19:30:00          -0.015372  ...           -0.016633   \n2017-08-20 23:30:00          -0.026124  ...           -0.005077   \n2017-08-21 03:30:00           0.025765  ...           -0.000307   \n2017-08-21 07:30:00           0.016179  ...           -0.015372   \n...                                ...  ...                 ...   \n2023-11-13 07:30:00           0.003748  ...            0.004124   \n2023-11-13 11:30:00          -0.010878  ...            0.001251   \n2023-11-13 15:30:00          -0.000847  ...            0.005098   \n2023-11-13 19:30:00           0.003086  ...            0.003748   \n2023-11-13 23:30:00          -0.004962  ...           -0.010878   \n\n                     open_close_pct__13  open_close_pct__14  \\\nopen_time                                                     \n2017-08-20 15:30:00            0.005029            0.016058   \n2017-08-20 19:30:00           -0.029177            0.005029   \n2017-08-20 23:30:00           -0.016633           -0.029177   \n2017-08-21 03:30:00           -0.005077           -0.016633   \n2017-08-21 07:30:00           -0.000307           -0.005077   \n...                                 ...                 ...   \n2023-11-13 07:30:00           -0.015031           -0.004919   \n2023-11-13 11:30:00            0.004124           -0.015031   \n2023-11-13 15:30:00            0.001251            0.004124   \n2023-11-13 19:30:00            0.005098            0.001251   \n2023-11-13 23:30:00            0.003748            0.005098   \n\n                     open_close_pct__15  open_close_pct__16  \\\nopen_time                                                     \n2017-08-20 15:30:00           -0.001987            0.001326   \n2017-08-20 19:30:00            0.016058           -0.001987   \n2017-08-20 23:30:00            0.005029            0.016058   \n2017-08-21 03:30:00           -0.029177            0.005029   \n2017-08-21 07:30:00           -0.016633           -0.029177   \n...                                 ...                 ...   \n2023-11-13 07:30:00           -0.000938           -0.003405   \n2023-11-13 11:30:00           -0.004919           -0.000938   \n2023-11-13 15:30:00           -0.015031           -0.004919   \n2023-11-13 19:30:00            0.004124           -0.015031   \n2023-11-13 23:30:00            0.001251            0.004124   \n\n                     open_close_pct__17  open_close_pct__18  \\\nopen_time                                                     \n2017-08-20 15:30:00           -0.019952           -0.006117   \n2017-08-20 19:30:00            0.001326           -0.019952   \n2017-08-20 23:30:00           -0.001987            0.001326   \n2017-08-21 03:30:00            0.016058           -0.001987   \n2017-08-21 07:30:00            0.005029            0.016058   \n...                                 ...                 ...   \n2023-11-13 07:30:00           -0.002075           -0.009217   \n2023-11-13 11:30:00           -0.003405           -0.002075   \n2023-11-13 15:30:00           -0.000938           -0.003405   \n2023-11-13 19:30:00           -0.004919           -0.000938   \n2023-11-13 23:30:00           -0.015031           -0.004919   \n\n                     open_close_pct__19  open_close_pct__20    target  \nopen_time                                                              \n2017-08-20 15:30:00            0.003247            0.022681  0.009421  \n2017-08-20 19:30:00           -0.006117            0.003247  0.004129  \n2017-08-20 23:30:00           -0.019952           -0.006117  0.002508  \n2017-08-21 03:30:00            0.001326           -0.019952  0.061561  \n2017-08-21 07:30:00           -0.001987            0.001326  0.044255  \n...                                 ...                 ...       ...  \n2023-11-13 07:30:00           -0.000160            0.050913 -0.000693  \n2023-11-13 11:30:00           -0.009217           -0.000160  0.028587  \n2023-11-13 15:30:00           -0.002075           -0.009217 -0.002484  \n2023-11-13 19:30:00           -0.003405           -0.002075 -0.022076  \n2023-11-13 23:30:00           -0.000938           -0.003405  0.000920  \n\n[13643 rows x 22 columns]",
      "text/html": "<div>\n<style scoped>\n    .dataframe tbody tr th:only-of-type {\n        vertical-align: middle;\n    }\n\n    .dataframe tbody tr th {\n        vertical-align: top;\n    }\n\n    .dataframe thead th {\n        text-align: right;\n    }\n</style>\n<table border=\"1\" class=\"dataframe\">\n  <thead>\n    <tr style=\"text-align: right;\">\n      <th></th>\n      <th>open_close_pct__0</th>\n      <th>open_close_pct__1</th>\n      <th>open_close_pct__2</th>\n      <th>open_close_pct__3</th>\n      <th>open_close_pct__4</th>\n      <th>open_close_pct__5</th>\n      <th>open_close_pct__6</th>\n      <th>open_close_pct__7</th>\n      <th>open_close_pct__8</th>\n      <th>open_close_pct__9</th>\n      <th>...</th>\n      <th>open_close_pct__12</th>\n      <th>open_close_pct__13</th>\n      <th>open_close_pct__14</th>\n      <th>open_close_pct__15</th>\n      <th>open_close_pct__16</th>\n      <th>open_close_pct__17</th>\n      <th>open_close_pct__18</th>\n      <th>open_close_pct__19</th>\n      <th>open_close_pct__20</th>\n      <th>target</th>\n    </tr>\n    <tr>\n      <th>open_time</th>\n      <th></th>\n      <th></th>\n      <th></th>\n      <th></th>\n      <th></th>\n      <th></th>\n      <th></th>\n      <th></th>\n      <th></th>\n      <th></th>\n      <th></th>\n      <th></th>\n      <th></th>\n      <th></th>\n      <th></th>\n      <th></th>\n      <th></th>\n      <th></th>\n      <th></th>\n      <th></th>\n      <th></th>\n    </tr>\n  </thead>\n  <tbody>\n    <tr>\n      <th>2017-08-20 15:30:00</th>\n      <td>0.000339</td>\n      <td>0.006757</td>\n      <td>0.014272</td>\n      <td>0.010366</td>\n      <td>0.001067</td>\n      <td>0.016179</td>\n      <td>0.025765</td>\n      <td>-0.026124</td>\n      <td>-0.015372</td>\n      <td>-0.000307</td>\n      <td>...</td>\n      <td>-0.029177</td>\n      <td>0.005029</td>\n      <td>0.016058</td>\n      <td>-0.001987</td>\n      <td>0.001326</td>\n      <td>-0.019952</td>\n      <td>-0.006117</td>\n      <td>0.003247</td>\n      <td>0.022681</td>\n      <td>0.009421</td>\n    </tr>\n    <tr>\n      <th>2017-08-20 19:30:00</th>\n      <td>0.009421</td>\n      <td>0.000339</td>\n      <td>0.006757</td>\n      <td>0.014272</td>\n      <td>0.010366</td>\n      <td>0.001067</td>\n      <td>0.016179</td>\n      <td>0.025765</td>\n      <td>-0.026124</td>\n      <td>-0.015372</td>\n      <td>...</td>\n      <td>-0.016633</td>\n      <td>-0.029177</td>\n      <td>0.005029</td>\n      <td>0.016058</td>\n      <td>-0.001987</td>\n      <td>0.001326</td>\n      <td>-0.019952</td>\n      <td>-0.006117</td>\n      <td>0.003247</td>\n      <td>0.004129</td>\n    </tr>\n    <tr>\n      <th>2017-08-20 23:30:00</th>\n      <td>0.004129</td>\n      <td>0.009421</td>\n      <td>0.000339</td>\n      <td>0.006757</td>\n      <td>0.014272</td>\n      <td>0.010366</td>\n      <td>0.001067</td>\n      <td>0.016179</td>\n      <td>0.025765</td>\n      <td>-0.026124</td>\n      <td>...</td>\n      <td>-0.005077</td>\n      <td>-0.016633</td>\n      <td>-0.029177</td>\n      <td>0.005029</td>\n      <td>0.016058</td>\n      <td>-0.001987</td>\n      <td>0.001326</td>\n      <td>-0.019952</td>\n      <td>-0.006117</td>\n      <td>0.002508</td>\n    </tr>\n    <tr>\n      <th>2017-08-21 03:30:00</th>\n      <td>0.002508</td>\n      <td>0.004129</td>\n      <td>0.009421</td>\n      <td>0.000339</td>\n      <td>0.006757</td>\n      <td>0.014272</td>\n      <td>0.010366</td>\n      <td>0.001067</td>\n      <td>0.016179</td>\n      <td>0.025765</td>\n      <td>...</td>\n      <td>-0.000307</td>\n      <td>-0.005077</td>\n      <td>-0.016633</td>\n      <td>-0.029177</td>\n      <td>0.005029</td>\n      <td>0.016058</td>\n      <td>-0.001987</td>\n      <td>0.001326</td>\n      <td>-0.019952</td>\n      <td>0.061561</td>\n    </tr>\n    <tr>\n      <th>2017-08-21 07:30:00</th>\n      <td>0.061561</td>\n      <td>0.002508</td>\n      <td>0.004129</td>\n      <td>0.009421</td>\n      <td>0.000339</td>\n      <td>0.006757</td>\n      <td>0.014272</td>\n      <td>0.010366</td>\n      <td>0.001067</td>\n      <td>0.016179</td>\n      <td>...</td>\n      <td>-0.015372</td>\n      <td>-0.000307</td>\n      <td>-0.005077</td>\n      <td>-0.016633</td>\n      <td>-0.029177</td>\n      <td>0.005029</td>\n      <td>0.016058</td>\n      <td>-0.001987</td>\n      <td>0.001326</td>\n      <td>0.044255</td>\n    </tr>\n    <tr>\n      <th>...</th>\n      <td>...</td>\n      <td>...</td>\n      <td>...</td>\n      <td>...</td>\n      <td>...</td>\n      <td>...</td>\n      <td>...</td>\n      <td>...</td>\n      <td>...</td>\n      <td>...</td>\n      <td>...</td>\n      <td>...</td>\n      <td>...</td>\n      <td>...</td>\n      <td>...</td>\n      <td>...</td>\n      <td>...</td>\n      <td>...</td>\n      <td>...</td>\n      <td>...</td>\n      <td>...</td>\n    </tr>\n    <tr>\n      <th>2023-11-13 07:30:00</th>\n      <td>0.004118</td>\n      <td>-0.002421</td>\n      <td>-0.002162</td>\n      <td>-0.003889</td>\n      <td>0.004689</td>\n      <td>-0.004962</td>\n      <td>0.003086</td>\n      <td>-0.000847</td>\n      <td>-0.010878</td>\n      <td>0.003748</td>\n      <td>...</td>\n      <td>0.004124</td>\n      <td>-0.015031</td>\n      <td>-0.004919</td>\n      <td>-0.000938</td>\n      <td>-0.003405</td>\n      <td>-0.002075</td>\n      <td>-0.009217</td>\n      <td>-0.000160</td>\n      <td>0.050913</td>\n      <td>-0.000693</td>\n    </tr>\n    <tr>\n      <th>2023-11-13 11:30:00</th>\n      <td>-0.000693</td>\n      <td>0.004118</td>\n      <td>-0.002421</td>\n      <td>-0.002162</td>\n      <td>-0.003889</td>\n      <td>0.004689</td>\n      <td>-0.004962</td>\n      <td>0.003086</td>\n      <td>-0.000847</td>\n      <td>-0.010878</td>\n      <td>...</td>\n      <td>0.001251</td>\n      <td>0.004124</td>\n      <td>-0.015031</td>\n      <td>-0.004919</td>\n      <td>-0.000938</td>\n      <td>-0.003405</td>\n      <td>-0.002075</td>\n      <td>-0.009217</td>\n      <td>-0.000160</td>\n      <td>0.028587</td>\n    </tr>\n    <tr>\n      <th>2023-11-13 15:30:00</th>\n      <td>0.028587</td>\n      <td>-0.000693</td>\n      <td>0.004118</td>\n      <td>-0.002421</td>\n      <td>-0.002162</td>\n      <td>-0.003889</td>\n      <td>0.004689</td>\n      <td>-0.004962</td>\n      <td>0.003086</td>\n      <td>-0.000847</td>\n      <td>...</td>\n      <td>0.005098</td>\n      <td>0.001251</td>\n      <td>0.004124</td>\n      <td>-0.015031</td>\n      <td>-0.004919</td>\n      <td>-0.000938</td>\n      <td>-0.003405</td>\n      <td>-0.002075</td>\n      <td>-0.009217</td>\n      <td>-0.002484</td>\n    </tr>\n    <tr>\n      <th>2023-11-13 19:30:00</th>\n      <td>-0.002484</td>\n      <td>0.028587</td>\n      <td>-0.000693</td>\n      <td>0.004118</td>\n      <td>-0.002421</td>\n      <td>-0.002162</td>\n      <td>-0.003889</td>\n      <td>0.004689</td>\n      <td>-0.004962</td>\n      <td>0.003086</td>\n      <td>...</td>\n      <td>0.003748</td>\n      <td>0.005098</td>\n      <td>0.001251</td>\n      <td>0.004124</td>\n      <td>-0.015031</td>\n      <td>-0.004919</td>\n      <td>-0.000938</td>\n      <td>-0.003405</td>\n      <td>-0.002075</td>\n      <td>-0.022076</td>\n    </tr>\n    <tr>\n      <th>2023-11-13 23:30:00</th>\n      <td>-0.022076</td>\n      <td>-0.002484</td>\n      <td>0.028587</td>\n      <td>-0.000693</td>\n      <td>0.004118</td>\n      <td>-0.002421</td>\n      <td>-0.002162</td>\n      <td>-0.003889</td>\n      <td>0.004689</td>\n      <td>-0.004962</td>\n      <td>...</td>\n      <td>-0.010878</td>\n      <td>0.003748</td>\n      <td>0.005098</td>\n      <td>0.001251</td>\n      <td>0.004124</td>\n      <td>-0.015031</td>\n      <td>-0.004919</td>\n      <td>-0.000938</td>\n      <td>-0.003405</td>\n      <td>0.000920</td>\n    </tr>\n  </tbody>\n</table>\n<p>13643 rows × 22 columns</p>\n</div>"
     },
     "execution_count": 78,
     "metadata": {},
     "output_type": "execute_result"
    }
   ],
   "source": [
    "# clean data\n",
    "df = df_target.copy()\n",
    "df.dropna(inplace=True)\n",
    "df.drop(columns=['open', 'high', 'low', 'close', 'volume', 'open_close', 'open_low', 'open_high',\n",
    "                 'open_close_pct', 'open_low_pct', 'open_high_pct', 'max_low_high_pct'], inplace=True)\n",
    "df"
   ],
   "metadata": {
    "collapsed": false,
    "ExecuteTime": {
     "end_time": "2023-12-20T09:02:47.604077600Z",
     "start_time": "2023-12-20T09:02:47.505234900Z"
    }
   },
   "id": "b3322342e9b29bbd"
  },
  {
   "cell_type": "code",
   "execution_count": 79,
   "outputs": [],
   "source": [
    "# create x and y\n",
    "x = df.iloc[:, 0:-1]\n",
    "y = df.iloc[:, -1]"
   ],
   "metadata": {
    "collapsed": false,
    "ExecuteTime": {
     "end_time": "2023-12-20T09:02:47.604077600Z",
     "start_time": "2023-12-20T09:02:47.526811700Z"
    }
   },
   "id": "90b9bb788b2d2b06"
  },
  {
   "cell_type": "code",
   "execution_count": 80,
   "outputs": [],
   "source": [
    "# clean x\n",
    "from sklearn.preprocessing import MinMaxScaler\n",
    "# mms = MinMaxScaler(feature_range=(0,1))\n",
    "# x = mms.fit_transform(x)"
   ],
   "metadata": {
    "collapsed": false,
    "ExecuteTime": {
     "end_time": "2023-12-20T09:02:47.604077600Z",
     "start_time": "2023-12-20T09:02:47.531631200Z"
    }
   },
   "id": "dcfa31101dbf38a4"
  },
  {
   "cell_type": "code",
   "execution_count": 81,
   "outputs": [],
   "source": [
    "# clean y\n",
    "# y = pd.get_dummies(y)"
   ],
   "metadata": {
    "collapsed": false,
    "ExecuteTime": {
     "end_time": "2023-12-20T09:02:47.631080100Z",
     "start_time": "2023-12-20T09:02:47.535246900Z"
    }
   },
   "id": "92f0d7a31af84666"
  },
  {
   "cell_type": "code",
   "execution_count": 82,
   "outputs": [
    {
     "name": "stdout",
     "output_type": "stream",
     "text": [
      "(3411, 21)\n",
      "(3411,)\n"
     ]
    }
   ],
   "source": [
    "# create test and train\n",
    "from sklearn.model_selection import train_test_split\n",
    "x_train, x_test, y_train, y_test = train_test_split(x, y, random_state=1398)\n",
    "print(x_test.shape)\n",
    "print(y_test.shape)"
   ],
   "metadata": {
    "collapsed": false,
    "ExecuteTime": {
     "end_time": "2023-12-20T09:02:47.631080100Z",
     "start_time": "2023-12-20T09:02:47.539262500Z"
    }
   },
   "id": "d81c4097222b76ef"
  },
  {
   "cell_type": "code",
   "execution_count": 83,
   "outputs": [
    {
     "name": "stdout",
     "output_type": "stream",
     "text": [
      "Epoch 1/10\n"
     ]
    },
    {
     "name": "stderr",
     "output_type": "stream",
     "text": [
      "C:\\Users\\s.ebrahimi\\AppData\\Local\\anaconda3\\Lib\\site-packages\\tensorflow\\python\\util\\dispatch.py:1260: SyntaxWarning: In loss categorical_crossentropy, expected y_pred.shape to be (batch_size, num_classes) with num_classes > 1. Received: y_pred.shape=(None, 1). Consider using 'binary_crossentropy' if you only have 2 classes.\n",
      "  return dispatch_target(*args, **kwargs)\n"
     ]
    },
    {
     "name": "stdout",
     "output_type": "stream",
     "text": [
      "51/52 [============================>.] - ETA: 0s - loss: 5.2417e-11 - categorical_accuracy: 1.0000"
     ]
    },
    {
     "name": "stderr",
     "output_type": "stream",
     "text": [
      "C:\\Users\\s.ebrahimi\\AppData\\Local\\anaconda3\\Lib\\site-packages\\tensorflow\\python\\util\\dispatch.py:1260: SyntaxWarning: In loss categorical_crossentropy, expected y_pred.shape to be (batch_size, num_classes) with num_classes > 1. Received: y_pred.shape=(None, 1). Consider using 'binary_crossentropy' if you only have 2 classes.\n",
      "  return dispatch_target(*args, **kwargs)\n"
     ]
    },
    {
     "name": "stdout",
     "output_type": "stream",
     "text": [
      "52/52 [==============================] - 8s 71ms/step - loss: 5.2249e-11 - categorical_accuracy: 1.0000 - val_loss: 3.5693e-11 - val_categorical_accuracy: 1.0000\n",
      "Epoch 2/10\n",
      "52/52 [==============================] - 3s 63ms/step - loss: 5.2249e-11 - categorical_accuracy: 1.0000 - val_loss: 3.5693e-11 - val_categorical_accuracy: 1.0000\n",
      "Epoch 3/10\n",
      "52/52 [==============================] - 3s 64ms/step - loss: 5.2249e-11 - categorical_accuracy: 1.0000 - val_loss: 3.5693e-11 - val_categorical_accuracy: 1.0000\n",
      "Epoch 4/10\n",
      "52/52 [==============================] - 3s 64ms/step - loss: 5.2249e-11 - categorical_accuracy: 1.0000 - val_loss: 3.5693e-11 - val_categorical_accuracy: 1.0000\n",
      "Epoch 5/10\n",
      "52/52 [==============================] - 3s 62ms/step - loss: 5.2249e-11 - categorical_accuracy: 1.0000 - val_loss: 3.5693e-11 - val_categorical_accuracy: 1.0000\n",
      "Epoch 6/10\n",
      "52/52 [==============================] - 3s 61ms/step - loss: 5.2249e-11 - categorical_accuracy: 1.0000 - val_loss: 3.5693e-11 - val_categorical_accuracy: 1.0000\n",
      "Epoch 7/10\n",
      "52/52 [==============================] - 3s 60ms/step - loss: 5.2249e-11 - categorical_accuracy: 1.0000 - val_loss: 3.5693e-11 - val_categorical_accuracy: 1.0000\n",
      "Epoch 8/10\n",
      "52/52 [==============================] - 3s 59ms/step - loss: 5.2249e-11 - categorical_accuracy: 1.0000 - val_loss: 3.5693e-11 - val_categorical_accuracy: 1.0000\n",
      "Epoch 9/10\n",
      "52/52 [==============================] - 3s 59ms/step - loss: 5.2249e-11 - categorical_accuracy: 1.0000 - val_loss: 3.5693e-11 - val_categorical_accuracy: 1.0000\n",
      "Epoch 10/10\n",
      "52/52 [==============================] - 3s 60ms/step - loss: 5.2249e-11 - categorical_accuracy: 1.0000 - val_loss: 3.5693e-11 - val_categorical_accuracy: 1.0000\n"
     ]
    },
    {
     "data": {
      "text/plain": "<keras.src.callbacks.History at 0x26ccd8d5290>"
     },
     "execution_count": 83,
     "metadata": {},
     "output_type": "execute_result"
    }
   ],
   "source": [
    "# create model\n",
    "model = tf.keras.models.Sequential([\n",
    "    tf.keras.layers.LSTM(units=50, return_sequences=True,input_shape=(x_test.shape[1],1)),\n",
    "    tf.keras.layers.Dropout(0.2),\n",
    "\n",
    "    tf.keras.layers.LSTM(units=50, return_sequences=True),\n",
    "    tf.keras.layers.Dropout(0.2),\n",
    "\n",
    "    tf.keras.layers.LSTM(units=50, return_sequences=True),\n",
    "    tf.keras.layers.Dropout(0.2),\n",
    "\n",
    "    tf.keras.layers.LSTM(units=50, ),\n",
    "    tf.keras.layers.Dropout(0.2),\n",
    "\n",
    "    tf.keras.layers.Dense(units=1),\n",
    "])\n",
    "model.compile(optimizer=tf.keras.optimizers.Adam(0.001), loss=tf.keras.losses.CategoricalCrossentropy(), metrics=[tf.keras.metrics.CategoricalAccuracy()])\n",
    "model.fit(x_train, y_train, epochs=10, validation_data=(x_test, y_test), batch_size=200)\n"
   ],
   "metadata": {
    "collapsed": false,
    "ExecuteTime": {
     "end_time": "2023-12-20T09:03:24.808918100Z",
     "start_time": "2023-12-20T09:02:47.547082100Z"
    }
   },
   "id": "9e4baefa8aca28d"
  },
  {
   "cell_type": "code",
   "execution_count": 84,
   "outputs": [
    {
     "name": "stdout",
     "output_type": "stream",
     "text": [
      "107/107 [==============================] - 2s 6ms/step\n"
     ]
    },
    {
     "data": {
      "text/plain": "array([[-4.9817850e-06],\n       [ 1.8647146e-05],\n       [-3.0447522e-05],\n       ...,\n       [ 2.6493694e-04],\n       [ 2.7052154e-05],\n       [ 9.1659873e-05]], dtype=float32)"
     },
     "execution_count": 84,
     "metadata": {},
     "output_type": "execute_result"
    }
   ],
   "source": [
    "y_pred = model.predict(x_test)\n",
    "y_pred"
   ],
   "metadata": {
    "collapsed": false,
    "ExecuteTime": {
     "end_time": "2023-12-20T09:03:26.437063600Z",
     "start_time": "2023-12-20T09:03:24.804918Z"
    }
   },
   "id": "a2eb0512a57efb9d"
  },
  {
   "cell_type": "code",
   "execution_count": 85,
   "outputs": [],
   "source": [
    "# ??????????????????????????"
   ],
   "metadata": {
    "collapsed": false,
    "ExecuteTime": {
     "end_time": "2023-12-20T09:03:26.437582800Z",
     "start_time": "2023-12-20T09:03:26.434127700Z"
    }
   },
   "id": "6772d043dedb4924"
  },
  {
   "cell_type": "code",
   "execution_count": 86,
   "outputs": [
    {
     "data": {
      "text/plain": "                     open_close_pct__0  open_close_pct__1  open_close_pct__2  \\\nopen_time                                                                      \n2023-11-14 03:30:00            0.00092          -0.022076          -0.002484   \n\n                     open_close_pct__3  open_close_pct__4  open_close_pct__5  \\\nopen_time                                                                      \n2023-11-14 03:30:00           0.028587          -0.000693           0.004118   \n\n                     open_close_pct__6  open_close_pct__7  open_close_pct__8  \\\nopen_time                                                                      \n2023-11-14 03:30:00          -0.002421          -0.002162          -0.003889   \n\n                     open_close_pct__9  ...  open_close_pct__12  \\\nopen_time                               ...                       \n2023-11-14 03:30:00           0.004689  ...           -0.000847   \n\n                     open_close_pct__13  open_close_pct__14  \\\nopen_time                                                     \n2023-11-14 03:30:00           -0.010878            0.003748   \n\n                     open_close_pct__15  open_close_pct__16  \\\nopen_time                                                     \n2023-11-14 03:30:00            0.005098            0.001251   \n\n                     open_close_pct__17  open_close_pct__18  \\\nopen_time                                                     \n2023-11-14 03:30:00            0.004124           -0.015031   \n\n                     open_close_pct__19  open_close_pct__20  target  \nopen_time                                                            \n2023-11-14 03:30:00           -0.004919           -0.000938     NaN  \n\n[1 rows x 22 columns]",
      "text/html": "<div>\n<style scoped>\n    .dataframe tbody tr th:only-of-type {\n        vertical-align: middle;\n    }\n\n    .dataframe tbody tr th {\n        vertical-align: top;\n    }\n\n    .dataframe thead th {\n        text-align: right;\n    }\n</style>\n<table border=\"1\" class=\"dataframe\">\n  <thead>\n    <tr style=\"text-align: right;\">\n      <th></th>\n      <th>open_close_pct__0</th>\n      <th>open_close_pct__1</th>\n      <th>open_close_pct__2</th>\n      <th>open_close_pct__3</th>\n      <th>open_close_pct__4</th>\n      <th>open_close_pct__5</th>\n      <th>open_close_pct__6</th>\n      <th>open_close_pct__7</th>\n      <th>open_close_pct__8</th>\n      <th>open_close_pct__9</th>\n      <th>...</th>\n      <th>open_close_pct__12</th>\n      <th>open_close_pct__13</th>\n      <th>open_close_pct__14</th>\n      <th>open_close_pct__15</th>\n      <th>open_close_pct__16</th>\n      <th>open_close_pct__17</th>\n      <th>open_close_pct__18</th>\n      <th>open_close_pct__19</th>\n      <th>open_close_pct__20</th>\n      <th>target</th>\n    </tr>\n    <tr>\n      <th>open_time</th>\n      <th></th>\n      <th></th>\n      <th></th>\n      <th></th>\n      <th></th>\n      <th></th>\n      <th></th>\n      <th></th>\n      <th></th>\n      <th></th>\n      <th></th>\n      <th></th>\n      <th></th>\n      <th></th>\n      <th></th>\n      <th></th>\n      <th></th>\n      <th></th>\n      <th></th>\n      <th></th>\n      <th></th>\n    </tr>\n  </thead>\n  <tbody>\n    <tr>\n      <th>2023-11-14 03:30:00</th>\n      <td>0.00092</td>\n      <td>-0.022076</td>\n      <td>-0.002484</td>\n      <td>0.028587</td>\n      <td>-0.000693</td>\n      <td>0.004118</td>\n      <td>-0.002421</td>\n      <td>-0.002162</td>\n      <td>-0.003889</td>\n      <td>0.004689</td>\n      <td>...</td>\n      <td>-0.000847</td>\n      <td>-0.010878</td>\n      <td>0.003748</td>\n      <td>0.005098</td>\n      <td>0.001251</td>\n      <td>0.004124</td>\n      <td>-0.015031</td>\n      <td>-0.004919</td>\n      <td>-0.000938</td>\n      <td>NaN</td>\n    </tr>\n  </tbody>\n</table>\n<p>1 rows × 22 columns</p>\n</div>"
     },
     "execution_count": 86,
     "metadata": {},
     "output_type": "execute_result"
    }
   ],
   "source": [
    "df_last = df_target.copy()\n",
    "df_last.drop(columns=['open', 'high', 'low', 'close', 'volume', 'open_close', 'open_low', 'open_high',\n",
    "                 'open_close_pct', 'open_low_pct', 'open_high_pct', 'max_low_high_pct'], inplace=True)\n",
    "df_last=df_last.iloc[-1:,:]\n",
    "df_last"
   ],
   "metadata": {
    "collapsed": false,
    "ExecuteTime": {
     "end_time": "2023-12-20T09:03:26.462292400Z",
     "start_time": "2023-12-20T09:03:26.437582800Z"
    }
   },
   "id": "53b41fdefba61720"
  },
  {
   "cell_type": "code",
   "execution_count": 89,
   "outputs": [
    {
     "name": "stdout",
     "output_type": "stream",
     "text": [
      "1/1 [==============================] - 0s 18ms/step\n"
     ]
    },
    {
     "data": {
      "text/plain": "array([[-1.2127607e-05]], dtype=float32)"
     },
     "execution_count": 89,
     "metadata": {},
     "output_type": "execute_result"
    }
   ],
   "source": [
    "y_last_pred = model.predict(df_last.iloc[:,0:-1])\n",
    "y_last_pred"
   ],
   "metadata": {
    "collapsed": false,
    "ExecuteTime": {
     "end_time": "2023-12-20T09:04:08.121737100Z",
     "start_time": "2023-12-20T09:04:08.062709800Z"
    }
   },
   "id": "78e2942deb177bf8"
  },
  {
   "cell_type": "code",
   "execution_count": 88,
   "outputs": [],
   "source": [
    "y_last_pred"
   ],
   "metadata": {
    "collapsed": false,
    "ExecuteTime": {
     "end_time": "2023-12-20T09:03:26.616761300Z",
     "start_time": "2023-12-20T09:03:26.532649300Z"
    }
   },
   "id": "1579b15ca87b2e20"
  }
 ],
 "metadata": {
  "kernelspec": {
   "display_name": "Python 3",
   "language": "python",
   "name": "python3"
  },
  "language_info": {
   "codemirror_mode": {
    "name": "ipython",
    "version": 2
   },
   "file_extension": ".py",
   "mimetype": "text/x-python",
   "name": "python",
   "nbconvert_exporter": "python",
   "pygments_lexer": "ipython2",
   "version": "2.7.6"
  }
 },
 "nbformat": 4,
 "nbformat_minor": 5
}
