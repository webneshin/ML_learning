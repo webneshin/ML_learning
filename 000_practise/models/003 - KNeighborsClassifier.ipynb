{
 "cells": [
  {
   "cell_type": "code",
   "execution_count": null,
   "metadata": {
    "collapsed": true
   },
   "outputs": [],
   "source": [
    "# 008/ClassificationRegression-11si/Classification/IRISDatasetDecisionTree.ipynb"
   ]
  },
  {
   "cell_type": "code",
   "execution_count": null,
   "outputs": [],
   "source": [
    "from sklearn.metrics import ConfusionMatrixDisplay\n",
    "from sklearn.preprocessing import Binarizer\n",
    "import numpy as np\n",
    "import os\n",
    "import numpy as np\n",
    "import pandas as pd\n",
    "from matplotlib import pyplot as plt\n",
    "import seaborn as sns\n",
    "import warnings\n",
    "import scipy.stats as stats\n",
    "from binance.enums import HistoricalKlinesType\n",
    "from sklearn.svm import SVC\n",
    "from sklearn.tree import DecisionTreeClassifier\n",
    "from sklearn import metrics\n",
    "\n",
    "from main_funcs import get_and_update_data\n"
   ],
   "metadata": {
    "collapsed": false
   }
  },
  {
   "cell_type": "code",
   "execution_count": null,
   "outputs": [],
   "source": [
    "df_source = get_and_update_data(\"BTCUSDT\", \"4h\", HistoricalKlinesType.SPOT,country=None)\n",
    "df_source = df_source[[\"open\", \"high\", \"low\", \"close\",\"volume\" ]]\n",
    "# df_source = df_source.iloc[:-4,:]\n",
    "df_source"
   ],
   "metadata": {
    "collapsed": false
   }
  },
  {
   "cell_type": "code",
   "execution_count": null,
   "outputs": [],
   "source": [
    "df = df_source.copy()\n",
    "# df = df.iloc[9000:,:]\n",
    "df[\"open_close\"] = df.close - df.open\n",
    "df[\"open_close_percent\"] = df.open_close / df.open\n",
    "period = 60\n",
    "for i in range(1,period+1):\n",
    "    df[f\"open_close_percent_{i}\"] = df.shift(i).open_close_percent\n",
    "\n",
    "darsad_target=0.0\n",
    "df[\"target\"] = df.shift(-1).open_close_percent\n",
    "df[\"target\"] = np.where(df['target'] > darsad_target, 1, np.where(df['target'] < -darsad_target, -1, 0))\n",
    "# df[\"target2\"] = np.where( (df['target'] <  0.02) and (df['target'] > -0.02),0, 0 )\n",
    "# df.dropna(inplace=True)\n",
    "df.dropna(subset=[f'open_close_percent_{period}'],inplace=True)\n",
    "df.drop(columns=['open','high','low','close','volume','open_close'],inplace=True)\n",
    "\n",
    "df"
   ],
   "metadata": {
    "collapsed": false
   }
  },
  {
   "cell_type": "code",
   "execution_count": null,
   "outputs": [],
   "source": [
    "from sklearn.neighbors import KNeighborsClassifier\n",
    "\n",
    "# model\n",
    "\n",
    "# all ok rows and columns\n",
    "x_ok = df.iloc[:-1,:-1]\n",
    "y_ok = df.iloc[:-1,-1:]\n",
    "# fit data count\n",
    "num = int(len(df)*0.7)\n",
    "# fit data\n",
    "x = x_ok[:num]\n",
    "y = y_ok[:num]\n",
    "# fit validator\n",
    "X = x_ok[num:]\n",
    "Y = y_ok[num:]\n",
    "\n",
    "\n",
    "\n",
    "knn_clf = KNeighborsClassifier(n_neighbors=3)\n",
    "knn_clf.fit(x.to_numpy(), y.to_numpy().ravel())\n"
   ],
   "metadata": {
    "collapsed": false
   }
  },
  {
   "cell_type": "code",
   "execution_count": null,
   "outputs": [],
   "source": [
    "# print(df.iloc[-1:,:-1])\n",
    "# svm_classifier.predict(df.iloc[-1:,:-1])"
   ],
   "metadata": {
    "collapsed": false
   }
  },
  {
   "cell_type": "code",
   "execution_count": null,
   "outputs": [],
   "source": [
    "Y_RESULT = knn_clf.predict(X.to_numpy())"
   ],
   "metadata": {
    "collapsed": false
   }
  },
  {
   "cell_type": "code",
   "execution_count": null,
   "outputs": [],
   "source": [
    "print(metrics.classification_report(Y,Y_RESULT))"
   ],
   "metadata": {
    "collapsed": false
   }
  },
  {
   "cell_type": "code",
   "execution_count": null,
   "outputs": [],
   "source": [
    "cm = metrics.confusion_matrix(Y, Y_RESULT, labels=knn_clf.classes_)\n",
    "print(cm)\n",
    "disp = ConfusionMatrixDisplay(confusion_matrix=cm, display_labels=knn_clf.classes_)\n",
    "disp.plot()\n",
    "plt.show()"
   ],
   "metadata": {
    "collapsed": false
   }
  },
  {
   "cell_type": "code",
   "execution_count": null,
   "outputs": [],
   "source": [],
   "metadata": {
    "collapsed": false
   }
  },
  {
   "cell_type": "code",
   "execution_count": null,
   "outputs": [],
   "source": [],
   "metadata": {
    "collapsed": false
   }
  }
 ],
 "metadata": {
  "kernelspec": {
   "display_name": "Python 3",
   "language": "python",
   "name": "python3"
  },
  "language_info": {
   "codemirror_mode": {
    "name": "ipython",
    "version": 2
   },
   "file_extension": ".py",
   "mimetype": "text/x-python",
   "name": "python",
   "nbconvert_exporter": "python",
   "pygments_lexer": "ipython2",
   "version": "2.7.6"
  }
 },
 "nbformat": 4,
 "nbformat_minor": 0
}
