{
 "cells": [
  {
   "cell_type": "code",
   "execution_count": 1,
   "metadata": {
    "collapsed": true,
    "ExecuteTime": {
     "end_time": "2023-11-16T19:35:53.942336800Z",
     "start_time": "2023-11-16T19:35:53.940827400Z"
    }
   },
   "outputs": [],
   "source": [
    "# 008/ClassificationRegression-11si/Classification/IRISDatasetDecisionTree.ipynb"
   ]
  },
  {
   "cell_type": "code",
   "execution_count": 2,
   "outputs": [],
   "source": [
    "from sklearn.metrics import ConfusionMatrixDisplay\n",
    "from sklearn.preprocessing import Binarizer\n",
    "import numpy as np\n",
    "import os\n",
    "import numpy as np\n",
    "import pandas as pd\n",
    "from matplotlib import pyplot as plt\n",
    "import seaborn as sns\n",
    "import warnings\n",
    "import scipy.stats as stats\n",
    "from binance.enums import HistoricalKlinesType\n",
    "from sklearn.svm import SVC\n",
    "from sklearn.tree import DecisionTreeClassifier\n",
    "from sklearn import metrics\n",
    "\n",
    "from main_funcs import get_and_update_data\n"
   ],
   "metadata": {
    "collapsed": false,
    "ExecuteTime": {
     "end_time": "2023-11-16T19:36:08.504693700Z",
     "start_time": "2023-11-16T19:35:53.944409Z"
    }
   }
  },
  {
   "cell_type": "code",
   "execution_count": 3,
   "outputs": [
    {
     "name": "stderr",
     "output_type": "stream",
     "text": [
      "WARNING:root:not updatetd! for update set \"country\"!\n"
     ]
    },
    {
     "data": {
      "text/plain": "                         open      high       low     close       volume\nopen_time                                                               \n2017-08-17 07:30:00   4261.48   4349.99   4261.32   4349.99    82.088865\n2017-08-17 11:30:00   4333.32   4485.39   4333.32   4427.30    63.619882\n2017-08-17 15:30:00   4436.06   4485.39   4333.42   4352.34   174.562001\n2017-08-17 19:30:00   4352.33   4354.84   4200.74   4325.23   225.109716\n2017-08-17 23:30:00   4307.56   4369.69   4258.56   4285.08   249.769913\n...                       ...       ...       ...       ...          ...\n2023-11-12 23:30:00  37105.00  37202.09  36938.23  37064.13  2402.042580\n2023-11-13 03:30:00  37064.13  37417.99  36852.11  36914.01  5822.707180\n2023-11-13 07:30:00  36914.01  37044.88  36755.00  36960.29  3900.976290\n2023-11-13 11:30:00  36960.28  37050.00  36692.58  36810.02  4369.746200\n2023-11-13 15:30:00  36810.02  36945.89  36534.04  36841.91  7276.031850\n\n[13661 rows x 5 columns]",
      "text/html": "<div>\n<style scoped>\n    .dataframe tbody tr th:only-of-type {\n        vertical-align: middle;\n    }\n\n    .dataframe tbody tr th {\n        vertical-align: top;\n    }\n\n    .dataframe thead th {\n        text-align: right;\n    }\n</style>\n<table border=\"1\" class=\"dataframe\">\n  <thead>\n    <tr style=\"text-align: right;\">\n      <th></th>\n      <th>open</th>\n      <th>high</th>\n      <th>low</th>\n      <th>close</th>\n      <th>volume</th>\n    </tr>\n    <tr>\n      <th>open_time</th>\n      <th></th>\n      <th></th>\n      <th></th>\n      <th></th>\n      <th></th>\n    </tr>\n  </thead>\n  <tbody>\n    <tr>\n      <th>2017-08-17 07:30:00</th>\n      <td>4261.48</td>\n      <td>4349.99</td>\n      <td>4261.32</td>\n      <td>4349.99</td>\n      <td>82.088865</td>\n    </tr>\n    <tr>\n      <th>2017-08-17 11:30:00</th>\n      <td>4333.32</td>\n      <td>4485.39</td>\n      <td>4333.32</td>\n      <td>4427.30</td>\n      <td>63.619882</td>\n    </tr>\n    <tr>\n      <th>2017-08-17 15:30:00</th>\n      <td>4436.06</td>\n      <td>4485.39</td>\n      <td>4333.42</td>\n      <td>4352.34</td>\n      <td>174.562001</td>\n    </tr>\n    <tr>\n      <th>2017-08-17 19:30:00</th>\n      <td>4352.33</td>\n      <td>4354.84</td>\n      <td>4200.74</td>\n      <td>4325.23</td>\n      <td>225.109716</td>\n    </tr>\n    <tr>\n      <th>2017-08-17 23:30:00</th>\n      <td>4307.56</td>\n      <td>4369.69</td>\n      <td>4258.56</td>\n      <td>4285.08</td>\n      <td>249.769913</td>\n    </tr>\n    <tr>\n      <th>...</th>\n      <td>...</td>\n      <td>...</td>\n      <td>...</td>\n      <td>...</td>\n      <td>...</td>\n    </tr>\n    <tr>\n      <th>2023-11-12 23:30:00</th>\n      <td>37105.00</td>\n      <td>37202.09</td>\n      <td>36938.23</td>\n      <td>37064.13</td>\n      <td>2402.042580</td>\n    </tr>\n    <tr>\n      <th>2023-11-13 03:30:00</th>\n      <td>37064.13</td>\n      <td>37417.99</td>\n      <td>36852.11</td>\n      <td>36914.01</td>\n      <td>5822.707180</td>\n    </tr>\n    <tr>\n      <th>2023-11-13 07:30:00</th>\n      <td>36914.01</td>\n      <td>37044.88</td>\n      <td>36755.00</td>\n      <td>36960.29</td>\n      <td>3900.976290</td>\n    </tr>\n    <tr>\n      <th>2023-11-13 11:30:00</th>\n      <td>36960.28</td>\n      <td>37050.00</td>\n      <td>36692.58</td>\n      <td>36810.02</td>\n      <td>4369.746200</td>\n    </tr>\n    <tr>\n      <th>2023-11-13 15:30:00</th>\n      <td>36810.02</td>\n      <td>36945.89</td>\n      <td>36534.04</td>\n      <td>36841.91</td>\n      <td>7276.031850</td>\n    </tr>\n  </tbody>\n</table>\n<p>13661 rows × 5 columns</p>\n</div>"
     },
     "execution_count": 3,
     "metadata": {},
     "output_type": "execute_result"
    }
   ],
   "source": [
    "df_source = get_and_update_data(\"BTCUSDT\", \"4h\", HistoricalKlinesType.SPOT,country=None)\n",
    "df_source = df_source[[\"open\", \"high\", \"low\", \"close\",\"volume\" ]]\n",
    "# df_source = df_source.iloc[:-4,:]\n",
    "df_source"
   ],
   "metadata": {
    "collapsed": false,
    "ExecuteTime": {
     "end_time": "2023-11-16T19:36:08.682705100Z",
     "start_time": "2023-11-16T19:36:08.506679200Z"
    }
   }
  },
  {
   "cell_type": "code",
   "execution_count": 4,
   "outputs": [
    {
     "data": {
      "text/plain": "                     open_close_percent  open_close_percent_1  \\\nopen_time                                                       \n2017-08-27 07:30:00           -0.003546             -0.004062   \n2017-08-27 11:30:00           -0.001829             -0.003546   \n2017-08-27 15:30:00           -0.003456             -0.001829   \n2017-08-27 19:30:00            0.018275             -0.003456   \n2017-08-27 23:30:00           -0.006022              0.018275   \n...                                 ...                   ...   \n2023-11-12 23:30:00           -0.001101             -0.001267   \n2023-11-13 03:30:00           -0.004050             -0.001101   \n2023-11-13 07:30:00            0.001254             -0.004050   \n2023-11-13 11:30:00           -0.004065              0.001254   \n2023-11-13 15:30:00            0.000866             -0.004065   \n\n                     open_close_percent_2  open_close_percent_3  \\\nopen_time                                                         \n2017-08-27 07:30:00              0.010229              0.004332   \n2017-08-27 11:30:00             -0.004062              0.010229   \n2017-08-27 15:30:00             -0.003546             -0.004062   \n2017-08-27 19:30:00             -0.001829             -0.003546   \n2017-08-27 23:30:00             -0.003456             -0.001829   \n...                                   ...                   ...   \n2023-11-12 23:30:00              0.002607             -0.001951   \n2023-11-13 03:30:00             -0.001267              0.002607   \n2023-11-13 07:30:00             -0.001101             -0.001267   \n2023-11-13 11:30:00             -0.004050             -0.001101   \n2023-11-13 15:30:00              0.001254             -0.004050   \n\n                     open_close_percent_4  open_close_percent_5  \\\nopen_time                                                         \n2017-08-27 07:30:00             -0.003199             -0.007172   \n2017-08-27 11:30:00              0.004332             -0.003199   \n2017-08-27 15:30:00              0.010229              0.004332   \n2017-08-27 19:30:00             -0.004062              0.010229   \n2017-08-27 23:30:00             -0.003546             -0.004062   \n...                                   ...                   ...   \n2023-11-12 23:30:00              0.003763             -0.003803   \n2023-11-13 03:30:00             -0.001951              0.003763   \n2023-11-13 07:30:00              0.002607             -0.001951   \n2023-11-13 11:30:00             -0.001267              0.002607   \n2023-11-13 15:30:00             -0.001101             -0.001267   \n\n                     open_close_percent_6  open_close_percent_7  \\\nopen_time                                                         \n2017-08-27 07:30:00              0.005063              0.004025   \n2017-08-27 11:30:00             -0.007172              0.005063   \n2017-08-27 15:30:00             -0.003199             -0.007172   \n2017-08-27 19:30:00              0.004332             -0.003199   \n2017-08-27 23:30:00              0.010229              0.004332   \n...                                   ...                   ...   \n2023-11-12 23:30:00             -0.000506              0.002645   \n2023-11-13 03:30:00             -0.003803             -0.000506   \n2023-11-13 07:30:00              0.003763             -0.003803   \n2023-11-13 11:30:00             -0.001951              0.003763   \n2023-11-13 15:30:00              0.002607             -0.001951   \n\n                     open_close_percent_8  open_close_percent_9  ...  \\\nopen_time                                                        ...   \n2017-08-27 07:30:00             -0.010476             -0.019841  ...   \n2017-08-27 11:30:00              0.004025             -0.010476  ...   \n2017-08-27 15:30:00              0.005063              0.004025  ...   \n2017-08-27 19:30:00             -0.007172              0.005063  ...   \n2017-08-27 23:30:00             -0.003199             -0.007172  ...   \n...                                   ...                   ...  ...   \n2023-11-12 23:30:00              0.001683             -0.000483  ...   \n2023-11-13 03:30:00              0.002645              0.001683  ...   \n2023-11-13 07:30:00             -0.000506              0.002645  ...   \n2023-11-13 11:30:00             -0.003803             -0.000506  ...   \n2023-11-13 15:30:00              0.003763             -0.003803  ...   \n\n                     open_close_percent_52  open_close_percent_53  \\\nopen_time                                                           \n2017-08-27 07:30:00              -0.019356               0.012908   \n2017-08-27 11:30:00              -0.023204              -0.019356   \n2017-08-27 15:30:00              -0.006440              -0.023204   \n2017-08-27 19:30:00               0.007346              -0.006440   \n2017-08-27 23:30:00              -0.025379               0.007346   \n...                                    ...                    ...   \n2023-11-12 23:30:00               0.001702              -0.000227   \n2023-11-13 03:30:00              -0.001600               0.001702   \n2023-11-13 07:30:00              -0.000071              -0.001600   \n2023-11-13 11:30:00               0.000600              -0.000071   \n2023-11-13 15:30:00               0.009540               0.000600   \n\n                     open_close_percent_54  open_close_percent_55  \\\nopen_time                                                           \n2017-08-27 07:30:00               0.001831               0.001706   \n2017-08-27 11:30:00               0.012908               0.001831   \n2017-08-27 15:30:00              -0.019356               0.012908   \n2017-08-27 19:30:00              -0.023204              -0.019356   \n2017-08-27 23:30:00              -0.006440              -0.023204   \n...                                    ...                    ...   \n2023-11-12 23:30:00               0.005389              -0.006702   \n2023-11-13 03:30:00              -0.000227               0.005389   \n2023-11-13 07:30:00               0.001702              -0.000227   \n2023-11-13 11:30:00              -0.001600               0.001702   \n2023-11-13 15:30:00              -0.000071              -0.001600   \n\n                     open_close_percent_56  open_close_percent_57  \\\nopen_time                                                           \n2017-08-27 07:30:00              -0.005219              -0.006227   \n2017-08-27 11:30:00               0.001706              -0.005219   \n2017-08-27 15:30:00               0.001831               0.001706   \n2017-08-27 19:30:00               0.012908               0.001831   \n2017-08-27 23:30:00              -0.019356               0.012908   \n...                                    ...                    ...   \n2023-11-12 23:30:00               0.014928              -0.006168   \n2023-11-13 03:30:00              -0.006702               0.014928   \n2023-11-13 07:30:00               0.005389              -0.006702   \n2023-11-13 11:30:00              -0.000227               0.005389   \n2023-11-13 15:30:00               0.001702              -0.000227   \n\n                     open_close_percent_58  open_close_percent_59  \\\nopen_time                                                           \n2017-08-27 07:30:00              -0.018873               0.021688   \n2017-08-27 11:30:00              -0.006227              -0.018873   \n2017-08-27 15:30:00              -0.005219              -0.006227   \n2017-08-27 19:30:00               0.001706              -0.005219   \n2017-08-27 23:30:00               0.001831               0.001706   \n...                                    ...                    ...   \n2023-11-12 23:30:00              -0.006255              -0.007431   \n2023-11-13 03:30:00              -0.006168              -0.006255   \n2023-11-13 07:30:00               0.014928              -0.006168   \n2023-11-13 11:30:00              -0.006702               0.014928   \n2023-11-13 15:30:00               0.005389              -0.006702   \n\n                     open_close_percent_60  target  \nopen_time                                           \n2017-08-27 07:30:00               0.020770      -1  \n2017-08-27 11:30:00               0.021688      -1  \n2017-08-27 15:30:00              -0.018873       1  \n2017-08-27 19:30:00              -0.006227      -1  \n2017-08-27 23:30:00              -0.005219      -1  \n...                                    ...     ...  \n2023-11-12 23:30:00              -0.001669      -1  \n2023-11-13 03:30:00              -0.007431       1  \n2023-11-13 07:30:00              -0.006255      -1  \n2023-11-13 11:30:00              -0.006168       1  \n2023-11-13 15:30:00               0.014928       0  \n\n[13601 rows x 62 columns]",
      "text/html": "<div>\n<style scoped>\n    .dataframe tbody tr th:only-of-type {\n        vertical-align: middle;\n    }\n\n    .dataframe tbody tr th {\n        vertical-align: top;\n    }\n\n    .dataframe thead th {\n        text-align: right;\n    }\n</style>\n<table border=\"1\" class=\"dataframe\">\n  <thead>\n    <tr style=\"text-align: right;\">\n      <th></th>\n      <th>open_close_percent</th>\n      <th>open_close_percent_1</th>\n      <th>open_close_percent_2</th>\n      <th>open_close_percent_3</th>\n      <th>open_close_percent_4</th>\n      <th>open_close_percent_5</th>\n      <th>open_close_percent_6</th>\n      <th>open_close_percent_7</th>\n      <th>open_close_percent_8</th>\n      <th>open_close_percent_9</th>\n      <th>...</th>\n      <th>open_close_percent_52</th>\n      <th>open_close_percent_53</th>\n      <th>open_close_percent_54</th>\n      <th>open_close_percent_55</th>\n      <th>open_close_percent_56</th>\n      <th>open_close_percent_57</th>\n      <th>open_close_percent_58</th>\n      <th>open_close_percent_59</th>\n      <th>open_close_percent_60</th>\n      <th>target</th>\n    </tr>\n    <tr>\n      <th>open_time</th>\n      <th></th>\n      <th></th>\n      <th></th>\n      <th></th>\n      <th></th>\n      <th></th>\n      <th></th>\n      <th></th>\n      <th></th>\n      <th></th>\n      <th></th>\n      <th></th>\n      <th></th>\n      <th></th>\n      <th></th>\n      <th></th>\n      <th></th>\n      <th></th>\n      <th></th>\n      <th></th>\n      <th></th>\n    </tr>\n  </thead>\n  <tbody>\n    <tr>\n      <th>2017-08-27 07:30:00</th>\n      <td>-0.003546</td>\n      <td>-0.004062</td>\n      <td>0.010229</td>\n      <td>0.004332</td>\n      <td>-0.003199</td>\n      <td>-0.007172</td>\n      <td>0.005063</td>\n      <td>0.004025</td>\n      <td>-0.010476</td>\n      <td>-0.019841</td>\n      <td>...</td>\n      <td>-0.019356</td>\n      <td>0.012908</td>\n      <td>0.001831</td>\n      <td>0.001706</td>\n      <td>-0.005219</td>\n      <td>-0.006227</td>\n      <td>-0.018873</td>\n      <td>0.021688</td>\n      <td>0.020770</td>\n      <td>-1</td>\n    </tr>\n    <tr>\n      <th>2017-08-27 11:30:00</th>\n      <td>-0.001829</td>\n      <td>-0.003546</td>\n      <td>-0.004062</td>\n      <td>0.010229</td>\n      <td>0.004332</td>\n      <td>-0.003199</td>\n      <td>-0.007172</td>\n      <td>0.005063</td>\n      <td>0.004025</td>\n      <td>-0.010476</td>\n      <td>...</td>\n      <td>-0.023204</td>\n      <td>-0.019356</td>\n      <td>0.012908</td>\n      <td>0.001831</td>\n      <td>0.001706</td>\n      <td>-0.005219</td>\n      <td>-0.006227</td>\n      <td>-0.018873</td>\n      <td>0.021688</td>\n      <td>-1</td>\n    </tr>\n    <tr>\n      <th>2017-08-27 15:30:00</th>\n      <td>-0.003456</td>\n      <td>-0.001829</td>\n      <td>-0.003546</td>\n      <td>-0.004062</td>\n      <td>0.010229</td>\n      <td>0.004332</td>\n      <td>-0.003199</td>\n      <td>-0.007172</td>\n      <td>0.005063</td>\n      <td>0.004025</td>\n      <td>...</td>\n      <td>-0.006440</td>\n      <td>-0.023204</td>\n      <td>-0.019356</td>\n      <td>0.012908</td>\n      <td>0.001831</td>\n      <td>0.001706</td>\n      <td>-0.005219</td>\n      <td>-0.006227</td>\n      <td>-0.018873</td>\n      <td>1</td>\n    </tr>\n    <tr>\n      <th>2017-08-27 19:30:00</th>\n      <td>0.018275</td>\n      <td>-0.003456</td>\n      <td>-0.001829</td>\n      <td>-0.003546</td>\n      <td>-0.004062</td>\n      <td>0.010229</td>\n      <td>0.004332</td>\n      <td>-0.003199</td>\n      <td>-0.007172</td>\n      <td>0.005063</td>\n      <td>...</td>\n      <td>0.007346</td>\n      <td>-0.006440</td>\n      <td>-0.023204</td>\n      <td>-0.019356</td>\n      <td>0.012908</td>\n      <td>0.001831</td>\n      <td>0.001706</td>\n      <td>-0.005219</td>\n      <td>-0.006227</td>\n      <td>-1</td>\n    </tr>\n    <tr>\n      <th>2017-08-27 23:30:00</th>\n      <td>-0.006022</td>\n      <td>0.018275</td>\n      <td>-0.003456</td>\n      <td>-0.001829</td>\n      <td>-0.003546</td>\n      <td>-0.004062</td>\n      <td>0.010229</td>\n      <td>0.004332</td>\n      <td>-0.003199</td>\n      <td>-0.007172</td>\n      <td>...</td>\n      <td>-0.025379</td>\n      <td>0.007346</td>\n      <td>-0.006440</td>\n      <td>-0.023204</td>\n      <td>-0.019356</td>\n      <td>0.012908</td>\n      <td>0.001831</td>\n      <td>0.001706</td>\n      <td>-0.005219</td>\n      <td>-1</td>\n    </tr>\n    <tr>\n      <th>...</th>\n      <td>...</td>\n      <td>...</td>\n      <td>...</td>\n      <td>...</td>\n      <td>...</td>\n      <td>...</td>\n      <td>...</td>\n      <td>...</td>\n      <td>...</td>\n      <td>...</td>\n      <td>...</td>\n      <td>...</td>\n      <td>...</td>\n      <td>...</td>\n      <td>...</td>\n      <td>...</td>\n      <td>...</td>\n      <td>...</td>\n      <td>...</td>\n      <td>...</td>\n      <td>...</td>\n    </tr>\n    <tr>\n      <th>2023-11-12 23:30:00</th>\n      <td>-0.001101</td>\n      <td>-0.001267</td>\n      <td>0.002607</td>\n      <td>-0.001951</td>\n      <td>0.003763</td>\n      <td>-0.003803</td>\n      <td>-0.000506</td>\n      <td>0.002645</td>\n      <td>0.001683</td>\n      <td>-0.000483</td>\n      <td>...</td>\n      <td>0.001702</td>\n      <td>-0.000227</td>\n      <td>0.005389</td>\n      <td>-0.006702</td>\n      <td>0.014928</td>\n      <td>-0.006168</td>\n      <td>-0.006255</td>\n      <td>-0.007431</td>\n      <td>-0.001669</td>\n      <td>-1</td>\n    </tr>\n    <tr>\n      <th>2023-11-13 03:30:00</th>\n      <td>-0.004050</td>\n      <td>-0.001101</td>\n      <td>-0.001267</td>\n      <td>0.002607</td>\n      <td>-0.001951</td>\n      <td>0.003763</td>\n      <td>-0.003803</td>\n      <td>-0.000506</td>\n      <td>0.002645</td>\n      <td>0.001683</td>\n      <td>...</td>\n      <td>-0.001600</td>\n      <td>0.001702</td>\n      <td>-0.000227</td>\n      <td>0.005389</td>\n      <td>-0.006702</td>\n      <td>0.014928</td>\n      <td>-0.006168</td>\n      <td>-0.006255</td>\n      <td>-0.007431</td>\n      <td>1</td>\n    </tr>\n    <tr>\n      <th>2023-11-13 07:30:00</th>\n      <td>0.001254</td>\n      <td>-0.004050</td>\n      <td>-0.001101</td>\n      <td>-0.001267</td>\n      <td>0.002607</td>\n      <td>-0.001951</td>\n      <td>0.003763</td>\n      <td>-0.003803</td>\n      <td>-0.000506</td>\n      <td>0.002645</td>\n      <td>...</td>\n      <td>-0.000071</td>\n      <td>-0.001600</td>\n      <td>0.001702</td>\n      <td>-0.000227</td>\n      <td>0.005389</td>\n      <td>-0.006702</td>\n      <td>0.014928</td>\n      <td>-0.006168</td>\n      <td>-0.006255</td>\n      <td>-1</td>\n    </tr>\n    <tr>\n      <th>2023-11-13 11:30:00</th>\n      <td>-0.004065</td>\n      <td>0.001254</td>\n      <td>-0.004050</td>\n      <td>-0.001101</td>\n      <td>-0.001267</td>\n      <td>0.002607</td>\n      <td>-0.001951</td>\n      <td>0.003763</td>\n      <td>-0.003803</td>\n      <td>-0.000506</td>\n      <td>...</td>\n      <td>0.000600</td>\n      <td>-0.000071</td>\n      <td>-0.001600</td>\n      <td>0.001702</td>\n      <td>-0.000227</td>\n      <td>0.005389</td>\n      <td>-0.006702</td>\n      <td>0.014928</td>\n      <td>-0.006168</td>\n      <td>1</td>\n    </tr>\n    <tr>\n      <th>2023-11-13 15:30:00</th>\n      <td>0.000866</td>\n      <td>-0.004065</td>\n      <td>0.001254</td>\n      <td>-0.004050</td>\n      <td>-0.001101</td>\n      <td>-0.001267</td>\n      <td>0.002607</td>\n      <td>-0.001951</td>\n      <td>0.003763</td>\n      <td>-0.003803</td>\n      <td>...</td>\n      <td>0.009540</td>\n      <td>0.000600</td>\n      <td>-0.000071</td>\n      <td>-0.001600</td>\n      <td>0.001702</td>\n      <td>-0.000227</td>\n      <td>0.005389</td>\n      <td>-0.006702</td>\n      <td>0.014928</td>\n      <td>0</td>\n    </tr>\n  </tbody>\n</table>\n<p>13601 rows × 62 columns</p>\n</div>"
     },
     "execution_count": 4,
     "metadata": {},
     "output_type": "execute_result"
    }
   ],
   "source": [
    "df = df_source.copy()\n",
    "# df = df.iloc[9000:,:]\n",
    "df[\"open_close\"] = df.close - df.open\n",
    "df[\"open_close_percent\"] = df.open_close / df.open\n",
    "period = 60\n",
    "for i in range(1,period+1):\n",
    "    df[f\"open_close_percent_{i}\"] = df.shift(i).open_close_percent\n",
    "\n",
    "darsad_target=0.0\n",
    "df[\"target\"] = df.shift(-1).open_close_percent\n",
    "df[\"target\"] = np.where(df['target'] > darsad_target, 1, np.where(df['target'] < -darsad_target, -1, 0))\n",
    "# df[\"target2\"] = np.where( (df['target'] <  0.02) and (df['target'] > -0.02),0, 0 )\n",
    "# df.dropna(inplace=True)\n",
    "df.dropna(subset=[f'open_close_percent_{period}'],inplace=True)\n",
    "df.drop(columns=['open','high','low','close','volume','open_close'],inplace=True)\n",
    "\n",
    "df"
   ],
   "metadata": {
    "collapsed": false,
    "ExecuteTime": {
     "end_time": "2023-11-16T19:36:08.848577400Z",
     "start_time": "2023-11-16T19:36:08.676283100Z"
    }
   }
  },
  {
   "cell_type": "code",
   "execution_count": 5,
   "outputs": [
    {
     "data": {
      "text/plain": "SVC(C=0.5, random_state=9520)",
      "text/html": "<style>#sk-container-id-1 {color: black;}#sk-container-id-1 pre{padding: 0;}#sk-container-id-1 div.sk-toggleable {background-color: white;}#sk-container-id-1 label.sk-toggleable__label {cursor: pointer;display: block;width: 100%;margin-bottom: 0;padding: 0.3em;box-sizing: border-box;text-align: center;}#sk-container-id-1 label.sk-toggleable__label-arrow:before {content: \"▸\";float: left;margin-right: 0.25em;color: #696969;}#sk-container-id-1 label.sk-toggleable__label-arrow:hover:before {color: black;}#sk-container-id-1 div.sk-estimator:hover label.sk-toggleable__label-arrow:before {color: black;}#sk-container-id-1 div.sk-toggleable__content {max-height: 0;max-width: 0;overflow: hidden;text-align: left;background-color: #f0f8ff;}#sk-container-id-1 div.sk-toggleable__content pre {margin: 0.2em;color: black;border-radius: 0.25em;background-color: #f0f8ff;}#sk-container-id-1 input.sk-toggleable__control:checked~div.sk-toggleable__content {max-height: 200px;max-width: 100%;overflow: auto;}#sk-container-id-1 input.sk-toggleable__control:checked~label.sk-toggleable__label-arrow:before {content: \"▾\";}#sk-container-id-1 div.sk-estimator input.sk-toggleable__control:checked~label.sk-toggleable__label {background-color: #d4ebff;}#sk-container-id-1 div.sk-label input.sk-toggleable__control:checked~label.sk-toggleable__label {background-color: #d4ebff;}#sk-container-id-1 input.sk-hidden--visually {border: 0;clip: rect(1px 1px 1px 1px);clip: rect(1px, 1px, 1px, 1px);height: 1px;margin: -1px;overflow: hidden;padding: 0;position: absolute;width: 1px;}#sk-container-id-1 div.sk-estimator {font-family: monospace;background-color: #f0f8ff;border: 1px dotted black;border-radius: 0.25em;box-sizing: border-box;margin-bottom: 0.5em;}#sk-container-id-1 div.sk-estimator:hover {background-color: #d4ebff;}#sk-container-id-1 div.sk-parallel-item::after {content: \"\";width: 100%;border-bottom: 1px solid gray;flex-grow: 1;}#sk-container-id-1 div.sk-label:hover label.sk-toggleable__label {background-color: #d4ebff;}#sk-container-id-1 div.sk-serial::before {content: \"\";position: absolute;border-left: 1px solid gray;box-sizing: border-box;top: 0;bottom: 0;left: 50%;z-index: 0;}#sk-container-id-1 div.sk-serial {display: flex;flex-direction: column;align-items: center;background-color: white;padding-right: 0.2em;padding-left: 0.2em;position: relative;}#sk-container-id-1 div.sk-item {position: relative;z-index: 1;}#sk-container-id-1 div.sk-parallel {display: flex;align-items: stretch;justify-content: center;background-color: white;position: relative;}#sk-container-id-1 div.sk-item::before, #sk-container-id-1 div.sk-parallel-item::before {content: \"\";position: absolute;border-left: 1px solid gray;box-sizing: border-box;top: 0;bottom: 0;left: 50%;z-index: -1;}#sk-container-id-1 div.sk-parallel-item {display: flex;flex-direction: column;z-index: 1;position: relative;background-color: white;}#sk-container-id-1 div.sk-parallel-item:first-child::after {align-self: flex-end;width: 50%;}#sk-container-id-1 div.sk-parallel-item:last-child::after {align-self: flex-start;width: 50%;}#sk-container-id-1 div.sk-parallel-item:only-child::after {width: 0;}#sk-container-id-1 div.sk-dashed-wrapped {border: 1px dashed gray;margin: 0 0.4em 0.5em 0.4em;box-sizing: border-box;padding-bottom: 0.4em;background-color: white;}#sk-container-id-1 div.sk-label label {font-family: monospace;font-weight: bold;display: inline-block;line-height: 1.2em;}#sk-container-id-1 div.sk-label-container {text-align: center;}#sk-container-id-1 div.sk-container {/* jupyter's `normalize.less` sets `[hidden] { display: none; }` but bootstrap.min.css set `[hidden] { display: none !important; }` so we also need the `!important` here to be able to override the default hidden behavior on the sphinx rendered scikit-learn.org. See: https://github.com/scikit-learn/scikit-learn/issues/21755 */display: inline-block !important;position: relative;}#sk-container-id-1 div.sk-text-repr-fallback {display: none;}</style><div id=\"sk-container-id-1\" class=\"sk-top-container\"><div class=\"sk-text-repr-fallback\"><pre>SVC(C=0.5, random_state=9520)</pre><b>In a Jupyter environment, please rerun this cell to show the HTML representation or trust the notebook. <br />On GitHub, the HTML representation is unable to render, please try loading this page with nbviewer.org.</b></div><div class=\"sk-container\" hidden><div class=\"sk-item\"><div class=\"sk-estimator sk-toggleable\"><input class=\"sk-toggleable__control sk-hidden--visually\" id=\"sk-estimator-id-1\" type=\"checkbox\" checked><label for=\"sk-estimator-id-1\" class=\"sk-toggleable__label sk-toggleable__label-arrow\">SVC</label><div class=\"sk-toggleable__content\"><pre>SVC(C=0.5, random_state=9520)</pre></div></div></div></div></div>"
     },
     "execution_count": 5,
     "metadata": {},
     "output_type": "execute_result"
    }
   ],
   "source": [
    "# model\n",
    "\n",
    "# all ok rows and columns\n",
    "x_ok = df.iloc[:-1,:-1]\n",
    "y_ok = df.iloc[:-1,-1:]\n",
    "# fit data count\n",
    "num = int(len(df)*0.7)\n",
    "# fit data\n",
    "x = x_ok[:num]\n",
    "y = y_ok[:num]\n",
    "# fit validator\n",
    "X = x_ok[num:]\n",
    "Y = y_ok[num:]\n",
    "\n",
    "\n",
    "\n",
    "svm_classifier = SVC(random_state=len(x), C=0.5)\n",
    "svm_classifier.fit(x.to_numpy(), y.to_numpy().ravel())\n"
   ],
   "metadata": {
    "collapsed": false,
    "ExecuteTime": {
     "end_time": "2023-11-16T19:36:16.356586Z",
     "start_time": "2023-11-16T19:36:08.844579200Z"
    }
   }
  },
  {
   "cell_type": "code",
   "execution_count": 6,
   "outputs": [],
   "source": [
    "# print(df.iloc[-1:,:-1])\n",
    "# svm_classifier.predict(df.iloc[-1:,:-1])"
   ],
   "metadata": {
    "collapsed": false,
    "ExecuteTime": {
     "end_time": "2023-11-16T19:36:16.357099800Z",
     "start_time": "2023-11-16T19:36:16.337980900Z"
    }
   }
  },
  {
   "cell_type": "code",
   "execution_count": 7,
   "outputs": [
    {
     "name": "stderr",
     "output_type": "stream",
     "text": [
      "C:\\Users\\sajja\\anaconda3\\Lib\\site-packages\\sklearn\\base.py:457: UserWarning: X has feature names, but SVC was fitted without feature names\n",
      "  warnings.warn(\n"
     ]
    }
   ],
   "source": [
    "Y_RESULT = svm_classifier.predict(X)"
   ],
   "metadata": {
    "collapsed": false,
    "ExecuteTime": {
     "end_time": "2023-11-16T19:36:22.598947200Z",
     "start_time": "2023-11-16T19:36:16.344580400Z"
    }
   }
  },
  {
   "cell_type": "code",
   "execution_count": 8,
   "outputs": [
    {
     "name": "stdout",
     "output_type": "stream",
     "text": [
      "              precision    recall  f1-score   support\n",
      "\n",
      "          -1       0.55      0.29      0.38      2014\n",
      "           1       0.52      0.77      0.62      2066\n",
      "\n",
      "    accuracy                           0.53      4080\n",
      "   macro avg       0.54      0.53      0.50      4080\n",
      "weighted avg       0.54      0.53      0.50      4080\n"
     ]
    }
   ],
   "source": [
    "print(metrics.classification_report(Y,Y_RESULT))"
   ],
   "metadata": {
    "collapsed": false,
    "ExecuteTime": {
     "end_time": "2023-11-16T19:36:22.624789900Z",
     "start_time": "2023-11-16T19:36:22.599947Z"
    }
   }
  },
  {
   "cell_type": "code",
   "execution_count": 9,
   "outputs": [
    {
     "name": "stdout",
     "output_type": "stream",
     "text": [
      "[[ 583    0 1431]\n",
      " [   0    0    0]\n",
      " [ 485    0 1581]]\n"
     ]
    },
    {
     "data": {
      "text/plain": "<Figure size 640x480 with 2 Axes>",
      "image/png": "[encoded data removed]"
     },
     "metadata": {},
     "output_type": "display_data"
    }
   ],
   "source": [
    "cm = metrics.confusion_matrix(Y, Y_RESULT, labels=svm_classifier.classes_)\n",
    "print(cm)\n",
    "disp = ConfusionMatrixDisplay(confusion_matrix=cm, display_labels=svm_classifier.classes_)\n",
    "disp.plot()\n",
    "plt.show()"
   ],
   "metadata": {
    "collapsed": false,
    "ExecuteTime": {
     "end_time": "2023-11-16T19:36:22.982199800Z",
     "start_time": "2023-11-16T19:36:22.620511800Z"
    }
   }
  },
  {
   "cell_type": "code",
   "execution_count": 9,
   "outputs": [],
   "source": [],
   "metadata": {
    "collapsed": false,
    "ExecuteTime": {
     "end_time": "2023-11-16T19:36:22.982199800Z",
     "start_time": "2023-11-16T19:36:22.952971500Z"
    }
   }
  },
  {
   "cell_type": "code",
   "execution_count": 9,
   "outputs": [],
   "source": [],
   "metadata": {
    "collapsed": false,
    "ExecuteTime": {
     "end_time": "2023-11-16T19:36:22.982199800Z",
     "start_time": "2023-11-16T19:36:22.959786900Z"
    }
   }
  }
 ],
 "metadata": {
  "kernelspec": {
   "display_name": "Python 3",
   "language": "python",
   "name": "python3"
  },
  "language_info": {
   "codemirror_mode": {
    "name": "ipython",
    "version": 2
   },
   "file_extension": ".py",
   "mimetype": "text/x-python",
   "name": "python",
   "nbconvert_exporter": "python",
   "pygments_lexer": "ipython2",
   "version": "2.7.6"
  }
 },
 "nbformat": 4,
 "nbformat_minor": 0
}
