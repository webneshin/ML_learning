{
 "cells": [
  {
   "cell_type": "code",
   "execution_count": 216,
   "metadata": {
    "collapsed": true,
    "ExecuteTime": {
     "end_time": "2023-11-13T18:29:38.964858300Z",
     "start_time": "2023-11-13T18:29:38.958495100Z"
    }
   },
   "outputs": [],
   "source": [
    "# 008/ClassificationRegression-11si/Classification/IRISDatasetDecisionTree.ipynb"
   ]
  },
  {
   "cell_type": "code",
   "execution_count": 217,
   "outputs": [],
   "source": [
    "from sklearn.preprocessing import Binarizer\n",
    "import numpy as np\n",
    "import os\n",
    "import numpy as np\n",
    "import pandas as pd\n",
    "from matplotlib import pyplot as plt\n",
    "import seaborn as sns\n",
    "import warnings\n",
    "import scipy.stats as stats\n",
    "from binance.enums import HistoricalKlinesType\n",
    "from sklearn.svm import SVC\n",
    "from sklearn.tree import DecisionTreeClassifier\n",
    "from sklearn import metrics\n",
    "\n",
    "from main_funcs import get_and_update_data\n"
   ],
   "metadata": {
    "collapsed": false,
    "ExecuteTime": {
     "end_time": "2023-11-13T18:29:38.965366600Z",
     "start_time": "2023-11-13T18:29:38.962545600Z"
    }
   }
  },
  {
   "cell_type": "code",
   "execution_count": 218,
   "outputs": [
    {
     "name": "stdout",
     "output_type": "stream",
     "text": [
      "Start Time: 2001-01-01 00:00:00\n",
      "IP from 'Germany' . its OK!\n",
      "start get data from binance: 2023-11-13 21:59:41.180265\n",
      "Getting Data ...\n",
      "finish get data from binance: 2023-11-13 22:00:09.723621\n",
      "13865 radif data gerefte shod az binance\n",
      "tamam radifha ezafe shod\n"
     ]
    },
    {
     "data": {
      "text/plain": "                         open      high       low     close      volume\nopen_time                                                              \n2017-07-14 07:30:00  0.080000  0.088669  0.080000  0.088591    646.1500\n2017-07-14 11:30:00  0.086252  0.089273  0.086252  0.088817    209.1780\n2017-07-14 15:30:00  0.088657  0.088817  0.086288  0.086288    383.6310\n2017-07-14 19:30:00  0.085999  0.088712  0.085477  0.088500    252.5290\n2017-07-14 23:30:00  0.089000  0.091033  0.089000  0.090993    450.5690\n...                       ...       ...       ...       ...         ...\n2023-11-12 23:30:00  0.055230  0.055550  0.054970  0.055160   4244.3605\n2023-11-13 03:30:00  0.055160  0.055680  0.055080  0.055240   6057.0185\n2023-11-13 07:30:00  0.055250  0.055520  0.055120  0.055430   5730.5994\n2023-11-13 11:30:00  0.055410  0.055690  0.055410  0.055610   5679.1888\n2023-11-13 15:30:00  0.055610  0.057200  0.055550  0.057160  19912.0088\n\n[13865 rows x 5 columns]",
      "text/html": "<div>\n<style scoped>\n    .dataframe tbody tr th:only-of-type {\n        vertical-align: middle;\n    }\n\n    .dataframe tbody tr th {\n        vertical-align: top;\n    }\n\n    .dataframe thead th {\n        text-align: right;\n    }\n</style>\n<table border=\"1\" class=\"dataframe\">\n  <thead>\n    <tr style=\"text-align: right;\">\n      <th></th>\n      <th>open</th>\n      <th>high</th>\n      <th>low</th>\n      <th>close</th>\n      <th>volume</th>\n    </tr>\n    <tr>\n      <th>open_time</th>\n      <th></th>\n      <th></th>\n      <th></th>\n      <th></th>\n      <th></th>\n    </tr>\n  </thead>\n  <tbody>\n    <tr>\n      <th>2017-07-14 07:30:00</th>\n      <td>0.080000</td>\n      <td>0.088669</td>\n      <td>0.080000</td>\n      <td>0.088591</td>\n      <td>646.1500</td>\n    </tr>\n    <tr>\n      <th>2017-07-14 11:30:00</th>\n      <td>0.086252</td>\n      <td>0.089273</td>\n      <td>0.086252</td>\n      <td>0.088817</td>\n      <td>209.1780</td>\n    </tr>\n    <tr>\n      <th>2017-07-14 15:30:00</th>\n      <td>0.088657</td>\n      <td>0.088817</td>\n      <td>0.086288</td>\n      <td>0.086288</td>\n      <td>383.6310</td>\n    </tr>\n    <tr>\n      <th>2017-07-14 19:30:00</th>\n      <td>0.085999</td>\n      <td>0.088712</td>\n      <td>0.085477</td>\n      <td>0.088500</td>\n      <td>252.5290</td>\n    </tr>\n    <tr>\n      <th>2017-07-14 23:30:00</th>\n      <td>0.089000</td>\n      <td>0.091033</td>\n      <td>0.089000</td>\n      <td>0.090993</td>\n      <td>450.5690</td>\n    </tr>\n    <tr>\n      <th>...</th>\n      <td>...</td>\n      <td>...</td>\n      <td>...</td>\n      <td>...</td>\n      <td>...</td>\n    </tr>\n    <tr>\n      <th>2023-11-12 23:30:00</th>\n      <td>0.055230</td>\n      <td>0.055550</td>\n      <td>0.054970</td>\n      <td>0.055160</td>\n      <td>4244.3605</td>\n    </tr>\n    <tr>\n      <th>2023-11-13 03:30:00</th>\n      <td>0.055160</td>\n      <td>0.055680</td>\n      <td>0.055080</td>\n      <td>0.055240</td>\n      <td>6057.0185</td>\n    </tr>\n    <tr>\n      <th>2023-11-13 07:30:00</th>\n      <td>0.055250</td>\n      <td>0.055520</td>\n      <td>0.055120</td>\n      <td>0.055430</td>\n      <td>5730.5994</td>\n    </tr>\n    <tr>\n      <th>2023-11-13 11:30:00</th>\n      <td>0.055410</td>\n      <td>0.055690</td>\n      <td>0.055410</td>\n      <td>0.055610</td>\n      <td>5679.1888</td>\n    </tr>\n    <tr>\n      <th>2023-11-13 15:30:00</th>\n      <td>0.055610</td>\n      <td>0.057200</td>\n      <td>0.055550</td>\n      <td>0.057160</td>\n      <td>19912.0088</td>\n    </tr>\n  </tbody>\n</table>\n<p>13865 rows × 5 columns</p>\n</div>"
     },
     "execution_count": 218,
     "metadata": {},
     "output_type": "execute_result"
    }
   ],
   "source": [
    "df_source = get_and_update_data(\"ETHBTC\", \"4h\", HistoricalKlinesType.SPOT, \"Germany\")\n",
    "df_source = df_source[[\"open\", \"high\", \"low\", \"close\",\"volume\" ]]\n",
    "# df_source = df_source.iloc[:-4,:]\n",
    "df_source"
   ],
   "metadata": {
    "collapsed": false,
    "ExecuteTime": {
     "end_time": "2023-11-13T18:30:13.915685700Z",
     "start_time": "2023-11-13T18:29:38.966378200Z"
    }
   }
  },
  {
   "cell_type": "code",
   "execution_count": 219,
   "outputs": [
    {
     "data": {
      "text/plain": "                     open_close_percent  open_close_percent_1  \\\nopen_time                                                       \n2017-07-24 07:30:00           -0.005547             -0.005285   \n2017-07-24 11:30:00           -0.005742             -0.005547   \n2017-07-24 15:30:00           -0.000265             -0.005742   \n2017-07-24 19:30:00            0.000205             -0.000265   \n2017-07-24 23:30:00            0.001180              0.000205   \n...                                 ...                   ...   \n2023-11-12 23:30:00           -0.001267             -0.002709   \n2023-11-13 03:30:00            0.001450             -0.001267   \n2023-11-13 07:30:00            0.003258              0.001450   \n2023-11-13 11:30:00            0.003609              0.003258   \n2023-11-13 15:30:00            0.027873              0.003609   \n\n                     open_close_percent_2  open_close_percent_3  \\\nopen_time                                                         \n2017-07-24 07:30:00             -0.003959              0.013642   \n2017-07-24 11:30:00             -0.005285             -0.003959   \n2017-07-24 15:30:00             -0.005547             -0.005285   \n2017-07-24 19:30:00             -0.005742             -0.005547   \n2017-07-24 23:30:00             -0.000265             -0.005742   \n...                                   ...                   ...   \n2023-11-12 23:30:00              0.002353             -0.003247   \n2023-11-13 03:30:00             -0.002709              0.002353   \n2023-11-13 07:30:00             -0.001267             -0.002709   \n2023-11-13 11:30:00              0.001450             -0.001267   \n2023-11-13 15:30:00              0.003258              0.001450   \n\n                     open_close_percent_4  open_close_percent_5  \\\nopen_time                                                         \n2017-07-24 07:30:00              0.000652             -0.002656   \n2017-07-24 11:30:00              0.013642              0.000652   \n2017-07-24 15:30:00             -0.003959              0.013642   \n2017-07-24 19:30:00             -0.005285             -0.003959   \n2017-07-24 23:30:00             -0.005547             -0.005285   \n...                                   ...                   ...   \n2023-11-12 23:30:00             -0.000721              0.003256   \n2023-11-13 03:30:00             -0.003247             -0.000721   \n2023-11-13 07:30:00              0.002353             -0.003247   \n2023-11-13 11:30:00             -0.002709              0.002353   \n2023-11-13 15:30:00             -0.001267             -0.002709   \n\n                     open_close_percent_6  open_close_percent_7  \\\nopen_time                                                         \n2017-07-24 07:30:00             -0.003234              0.004629   \n2017-07-24 11:30:00             -0.002656             -0.003234   \n2017-07-24 15:30:00              0.000652             -0.002656   \n2017-07-24 19:30:00              0.013642              0.000652   \n2017-07-24 23:30:00             -0.003959              0.013642   \n...                                   ...                   ...   \n2023-11-12 23:30:00             -0.010379              0.001254   \n2023-11-13 03:30:00              0.003256             -0.010379   \n2023-11-13 07:30:00             -0.000721              0.003256   \n2023-11-13 11:30:00             -0.003247             -0.000721   \n2023-11-13 15:30:00              0.002353             -0.003247   \n\n                     open_close_percent_8  open_close_percent_9  ...  \\\nopen_time                                                        ...   \n2017-07-24 07:30:00              0.023251              0.000112  ...   \n2017-07-24 11:30:00              0.004629              0.023251  ...   \n2017-07-24 15:30:00             -0.003234              0.004629  ...   \n2017-07-24 19:30:00             -0.002656             -0.003234  ...   \n2017-07-24 23:30:00              0.000652             -0.002656  ...   \n...                                   ...                   ...  ...   \n2023-11-12 23:30:00              0.003235              0.001981  ...   \n2023-11-13 03:30:00              0.001254              0.003235  ...   \n2023-11-13 07:30:00             -0.010379              0.001254  ...   \n2023-11-13 11:30:00              0.003256             -0.010379  ...   \n2023-11-13 15:30:00             -0.000721              0.003256  ...   \n\n                     open_close_percent_52  open_close_percent_53  \\\nopen_time                                                           \n2017-07-24 07:30:00              -0.026375               0.000583   \n2017-07-24 11:30:00              -0.013054              -0.026375   \n2017-07-24 15:30:00              -0.015171              -0.013054   \n2017-07-24 19:30:00              -0.039916              -0.015171   \n2017-07-24 23:30:00              -0.031356              -0.039916   \n...                                    ...                    ...   \n2023-11-12 23:30:00              -0.002081               0.001136   \n2023-11-13 03:30:00               0.003412              -0.002081   \n2023-11-13 07:30:00              -0.003211               0.003412   \n2023-11-13 11:30:00               0.001516              -0.003211   \n2023-11-13 15:30:00               0.001324               0.001516   \n\n                     open_close_percent_54  open_close_percent_55  \\\nopen_time                                                           \n2017-07-24 07:30:00               0.013114               0.000824   \n2017-07-24 11:30:00               0.000583               0.013114   \n2017-07-24 15:30:00              -0.026375               0.000583   \n2017-07-24 19:30:00              -0.013054              -0.026375   \n2017-07-24 23:30:00              -0.015171              -0.013054   \n...                                    ...                    ...   \n2023-11-12 23:30:00               0.003421               0.009206   \n2023-11-13 03:30:00               0.001136               0.003421   \n2023-11-13 07:30:00              -0.002081               0.001136   \n2023-11-13 11:30:00               0.003412              -0.002081   \n2023-11-13 15:30:00              -0.003211               0.003412   \n\n                     open_close_percent_56  open_close_percent_57  \\\nopen_time                                                           \n2017-07-24 07:30:00               0.022393               0.029082   \n2017-07-24 11:30:00               0.000824               0.022393   \n2017-07-24 15:30:00               0.013114               0.000824   \n2017-07-24 19:30:00               0.000583               0.013114   \n2017-07-24 23:30:00              -0.026375               0.000583   \n...                                    ...                    ...   \n2023-11-12 23:30:00              -0.002297               0.001150   \n2023-11-13 03:30:00               0.009206              -0.002297   \n2023-11-13 07:30:00               0.003421               0.009206   \n2023-11-13 11:30:00               0.001136               0.003421   \n2023-11-13 15:30:00              -0.002081               0.001136   \n\n                     open_close_percent_58  open_close_percent_59  \\\nopen_time                                                           \n2017-07-24 07:30:00              -0.026721               0.029738   \n2017-07-24 11:30:00               0.029082              -0.026721   \n2017-07-24 15:30:00               0.022393               0.029082   \n2017-07-24 19:30:00               0.000824               0.022393   \n2017-07-24 23:30:00               0.013114               0.000824   \n...                                    ...                    ...   \n2023-11-12 23:30:00               0.006170               0.006209   \n2023-11-13 03:30:00               0.001150               0.006170   \n2023-11-13 07:30:00              -0.002297               0.001150   \n2023-11-13 11:30:00               0.009206              -0.002297   \n2023-11-13 15:30:00               0.003421               0.009206   \n\n                     open_close_percent_60  target  \nopen_time                                           \n2017-07-24 07:30:00               0.107388      -1  \n2017-07-24 11:30:00               0.029738      -1  \n2017-07-24 15:30:00              -0.026721       1  \n2017-07-24 19:30:00               0.029082       1  \n2017-07-24 23:30:00               0.022393      -1  \n...                                    ...     ...  \n2023-11-12 23:30:00              -0.004442       1  \n2023-11-13 03:30:00               0.006209       1  \n2023-11-13 07:30:00               0.006170       1  \n2023-11-13 11:30:00               0.001150       1  \n2023-11-13 15:30:00              -0.002297       0  \n\n[13805 rows x 62 columns]",
      "text/html": "<div>\n<style scoped>\n    .dataframe tbody tr th:only-of-type {\n        vertical-align: middle;\n    }\n\n    .dataframe tbody tr th {\n        vertical-align: top;\n    }\n\n    .dataframe thead th {\n        text-align: right;\n    }\n</style>\n<table border=\"1\" class=\"dataframe\">\n  <thead>\n    <tr style=\"text-align: right;\">\n      <th></th>\n      <th>open_close_percent</th>\n      <th>open_close_percent_1</th>\n      <th>open_close_percent_2</th>\n      <th>open_close_percent_3</th>\n      <th>open_close_percent_4</th>\n      <th>open_close_percent_5</th>\n      <th>open_close_percent_6</th>\n      <th>open_close_percent_7</th>\n      <th>open_close_percent_8</th>\n      <th>open_close_percent_9</th>\n      <th>...</th>\n      <th>open_close_percent_52</th>\n      <th>open_close_percent_53</th>\n      <th>open_close_percent_54</th>\n      <th>open_close_percent_55</th>\n      <th>open_close_percent_56</th>\n      <th>open_close_percent_57</th>\n      <th>open_close_percent_58</th>\n      <th>open_close_percent_59</th>\n      <th>open_close_percent_60</th>\n      <th>target</th>\n    </tr>\n    <tr>\n      <th>open_time</th>\n      <th></th>\n      <th></th>\n      <th></th>\n      <th></th>\n      <th></th>\n      <th></th>\n      <th></th>\n      <th></th>\n      <th></th>\n      <th></th>\n      <th></th>\n      <th></th>\n      <th></th>\n      <th></th>\n      <th></th>\n      <th></th>\n      <th></th>\n      <th></th>\n      <th></th>\n      <th></th>\n      <th></th>\n    </tr>\n  </thead>\n  <tbody>\n    <tr>\n      <th>2017-07-24 07:30:00</th>\n      <td>-0.005547</td>\n      <td>-0.005285</td>\n      <td>-0.003959</td>\n      <td>0.013642</td>\n      <td>0.000652</td>\n      <td>-0.002656</td>\n      <td>-0.003234</td>\n      <td>0.004629</td>\n      <td>0.023251</td>\n      <td>0.000112</td>\n      <td>...</td>\n      <td>-0.026375</td>\n      <td>0.000583</td>\n      <td>0.013114</td>\n      <td>0.000824</td>\n      <td>0.022393</td>\n      <td>0.029082</td>\n      <td>-0.026721</td>\n      <td>0.029738</td>\n      <td>0.107388</td>\n      <td>-1</td>\n    </tr>\n    <tr>\n      <th>2017-07-24 11:30:00</th>\n      <td>-0.005742</td>\n      <td>-0.005547</td>\n      <td>-0.005285</td>\n      <td>-0.003959</td>\n      <td>0.013642</td>\n      <td>0.000652</td>\n      <td>-0.002656</td>\n      <td>-0.003234</td>\n      <td>0.004629</td>\n      <td>0.023251</td>\n      <td>...</td>\n      <td>-0.013054</td>\n      <td>-0.026375</td>\n      <td>0.000583</td>\n      <td>0.013114</td>\n      <td>0.000824</td>\n      <td>0.022393</td>\n      <td>0.029082</td>\n      <td>-0.026721</td>\n      <td>0.029738</td>\n      <td>-1</td>\n    </tr>\n    <tr>\n      <th>2017-07-24 15:30:00</th>\n      <td>-0.000265</td>\n      <td>-0.005742</td>\n      <td>-0.005547</td>\n      <td>-0.005285</td>\n      <td>-0.003959</td>\n      <td>0.013642</td>\n      <td>0.000652</td>\n      <td>-0.002656</td>\n      <td>-0.003234</td>\n      <td>0.004629</td>\n      <td>...</td>\n      <td>-0.015171</td>\n      <td>-0.013054</td>\n      <td>-0.026375</td>\n      <td>0.000583</td>\n      <td>0.013114</td>\n      <td>0.000824</td>\n      <td>0.022393</td>\n      <td>0.029082</td>\n      <td>-0.026721</td>\n      <td>1</td>\n    </tr>\n    <tr>\n      <th>2017-07-24 19:30:00</th>\n      <td>0.000205</td>\n      <td>-0.000265</td>\n      <td>-0.005742</td>\n      <td>-0.005547</td>\n      <td>-0.005285</td>\n      <td>-0.003959</td>\n      <td>0.013642</td>\n      <td>0.000652</td>\n      <td>-0.002656</td>\n      <td>-0.003234</td>\n      <td>...</td>\n      <td>-0.039916</td>\n      <td>-0.015171</td>\n      <td>-0.013054</td>\n      <td>-0.026375</td>\n      <td>0.000583</td>\n      <td>0.013114</td>\n      <td>0.000824</td>\n      <td>0.022393</td>\n      <td>0.029082</td>\n      <td>1</td>\n    </tr>\n    <tr>\n      <th>2017-07-24 23:30:00</th>\n      <td>0.001180</td>\n      <td>0.000205</td>\n      <td>-0.000265</td>\n      <td>-0.005742</td>\n      <td>-0.005547</td>\n      <td>-0.005285</td>\n      <td>-0.003959</td>\n      <td>0.013642</td>\n      <td>0.000652</td>\n      <td>-0.002656</td>\n      <td>...</td>\n      <td>-0.031356</td>\n      <td>-0.039916</td>\n      <td>-0.015171</td>\n      <td>-0.013054</td>\n      <td>-0.026375</td>\n      <td>0.000583</td>\n      <td>0.013114</td>\n      <td>0.000824</td>\n      <td>0.022393</td>\n      <td>-1</td>\n    </tr>\n    <tr>\n      <th>...</th>\n      <td>...</td>\n      <td>...</td>\n      <td>...</td>\n      <td>...</td>\n      <td>...</td>\n      <td>...</td>\n      <td>...</td>\n      <td>...</td>\n      <td>...</td>\n      <td>...</td>\n      <td>...</td>\n      <td>...</td>\n      <td>...</td>\n      <td>...</td>\n      <td>...</td>\n      <td>...</td>\n      <td>...</td>\n      <td>...</td>\n      <td>...</td>\n      <td>...</td>\n      <td>...</td>\n    </tr>\n    <tr>\n      <th>2023-11-12 23:30:00</th>\n      <td>-0.001267</td>\n      <td>-0.002709</td>\n      <td>0.002353</td>\n      <td>-0.003247</td>\n      <td>-0.000721</td>\n      <td>0.003256</td>\n      <td>-0.010379</td>\n      <td>0.001254</td>\n      <td>0.003235</td>\n      <td>0.001981</td>\n      <td>...</td>\n      <td>-0.002081</td>\n      <td>0.001136</td>\n      <td>0.003421</td>\n      <td>0.009206</td>\n      <td>-0.002297</td>\n      <td>0.001150</td>\n      <td>0.006170</td>\n      <td>0.006209</td>\n      <td>-0.004442</td>\n      <td>1</td>\n    </tr>\n    <tr>\n      <th>2023-11-13 03:30:00</th>\n      <td>0.001450</td>\n      <td>-0.001267</td>\n      <td>-0.002709</td>\n      <td>0.002353</td>\n      <td>-0.003247</td>\n      <td>-0.000721</td>\n      <td>0.003256</td>\n      <td>-0.010379</td>\n      <td>0.001254</td>\n      <td>0.003235</td>\n      <td>...</td>\n      <td>0.003412</td>\n      <td>-0.002081</td>\n      <td>0.001136</td>\n      <td>0.003421</td>\n      <td>0.009206</td>\n      <td>-0.002297</td>\n      <td>0.001150</td>\n      <td>0.006170</td>\n      <td>0.006209</td>\n      <td>1</td>\n    </tr>\n    <tr>\n      <th>2023-11-13 07:30:00</th>\n      <td>0.003258</td>\n      <td>0.001450</td>\n      <td>-0.001267</td>\n      <td>-0.002709</td>\n      <td>0.002353</td>\n      <td>-0.003247</td>\n      <td>-0.000721</td>\n      <td>0.003256</td>\n      <td>-0.010379</td>\n      <td>0.001254</td>\n      <td>...</td>\n      <td>-0.003211</td>\n      <td>0.003412</td>\n      <td>-0.002081</td>\n      <td>0.001136</td>\n      <td>0.003421</td>\n      <td>0.009206</td>\n      <td>-0.002297</td>\n      <td>0.001150</td>\n      <td>0.006170</td>\n      <td>1</td>\n    </tr>\n    <tr>\n      <th>2023-11-13 11:30:00</th>\n      <td>0.003609</td>\n      <td>0.003258</td>\n      <td>0.001450</td>\n      <td>-0.001267</td>\n      <td>-0.002709</td>\n      <td>0.002353</td>\n      <td>-0.003247</td>\n      <td>-0.000721</td>\n      <td>0.003256</td>\n      <td>-0.010379</td>\n      <td>...</td>\n      <td>0.001516</td>\n      <td>-0.003211</td>\n      <td>0.003412</td>\n      <td>-0.002081</td>\n      <td>0.001136</td>\n      <td>0.003421</td>\n      <td>0.009206</td>\n      <td>-0.002297</td>\n      <td>0.001150</td>\n      <td>1</td>\n    </tr>\n    <tr>\n      <th>2023-11-13 15:30:00</th>\n      <td>0.027873</td>\n      <td>0.003609</td>\n      <td>0.003258</td>\n      <td>0.001450</td>\n      <td>-0.001267</td>\n      <td>-0.002709</td>\n      <td>0.002353</td>\n      <td>-0.003247</td>\n      <td>-0.000721</td>\n      <td>0.003256</td>\n      <td>...</td>\n      <td>0.001324</td>\n      <td>0.001516</td>\n      <td>-0.003211</td>\n      <td>0.003412</td>\n      <td>-0.002081</td>\n      <td>0.001136</td>\n      <td>0.003421</td>\n      <td>0.009206</td>\n      <td>-0.002297</td>\n      <td>0</td>\n    </tr>\n  </tbody>\n</table>\n<p>13805 rows × 62 columns</p>\n</div>"
     },
     "execution_count": 219,
     "metadata": {},
     "output_type": "execute_result"
    }
   ],
   "source": [
    "df = df_source.copy()\n",
    "df[\"open_close\"] = df.close - df.open\n",
    "df[\"open_close_percent\"] = df.open_close / df.open\n",
    "period = 60\n",
    "for i in range(1,period+1):\n",
    "    df[f\"open_close_percent_{i}\"] = df.shift(i).open_close_percent\n",
    "\n",
    "df[\"target\"] = df.shift(-1).open_close_percent\n",
    "darsad=0.0\n",
    "df[\"target\"] = np.where(df['target'] > darsad, 1, np.where(df['target'] < -darsad, -1, 0))\n",
    "# df[\"target2\"] = np.where( (df['target'] <  0.02) and (df['target'] > -0.02),0, 0 )\n",
    "# df.dropna(inplace=True)\n",
    "df.dropna(subset=[f'open_close_percent_{period}'],inplace=True)\n",
    "df.drop(columns=['open','high','low','close','volume','open_close'],inplace=True)\n",
    "\n",
    "df"
   ],
   "metadata": {
    "collapsed": false,
    "ExecuteTime": {
     "end_time": "2023-11-13T18:30:14.065038400Z",
     "start_time": "2023-11-13T18:30:13.916694900Z"
    }
   }
  },
  {
   "cell_type": "code",
   "execution_count": 220,
   "outputs": [
    {
     "data": {
      "text/plain": "SVC(C=0.5, random_state=9663)",
      "text/html": "<style>#sk-container-id-28 {color: black;}#sk-container-id-28 pre{padding: 0;}#sk-container-id-28 div.sk-toggleable {background-color: white;}#sk-container-id-28 label.sk-toggleable__label {cursor: pointer;display: block;width: 100%;margin-bottom: 0;padding: 0.3em;box-sizing: border-box;text-align: center;}#sk-container-id-28 label.sk-toggleable__label-arrow:before {content: \"▸\";float: left;margin-right: 0.25em;color: #696969;}#sk-container-id-28 label.sk-toggleable__label-arrow:hover:before {color: black;}#sk-container-id-28 div.sk-estimator:hover label.sk-toggleable__label-arrow:before {color: black;}#sk-container-id-28 div.sk-toggleable__content {max-height: 0;max-width: 0;overflow: hidden;text-align: left;background-color: #f0f8ff;}#sk-container-id-28 div.sk-toggleable__content pre {margin: 0.2em;color: black;border-radius: 0.25em;background-color: #f0f8ff;}#sk-container-id-28 input.sk-toggleable__control:checked~div.sk-toggleable__content {max-height: 200px;max-width: 100%;overflow: auto;}#sk-container-id-28 input.sk-toggleable__control:checked~label.sk-toggleable__label-arrow:before {content: \"▾\";}#sk-container-id-28 div.sk-estimator input.sk-toggleable__control:checked~label.sk-toggleable__label {background-color: #d4ebff;}#sk-container-id-28 div.sk-label input.sk-toggleable__control:checked~label.sk-toggleable__label {background-color: #d4ebff;}#sk-container-id-28 input.sk-hidden--visually {border: 0;clip: rect(1px 1px 1px 1px);clip: rect(1px, 1px, 1px, 1px);height: 1px;margin: -1px;overflow: hidden;padding: 0;position: absolute;width: 1px;}#sk-container-id-28 div.sk-estimator {font-family: monospace;background-color: #f0f8ff;border: 1px dotted black;border-radius: 0.25em;box-sizing: border-box;margin-bottom: 0.5em;}#sk-container-id-28 div.sk-estimator:hover {background-color: #d4ebff;}#sk-container-id-28 div.sk-parallel-item::after {content: \"\";width: 100%;border-bottom: 1px solid gray;flex-grow: 1;}#sk-container-id-28 div.sk-label:hover label.sk-toggleable__label {background-color: #d4ebff;}#sk-container-id-28 div.sk-serial::before {content: \"\";position: absolute;border-left: 1px solid gray;box-sizing: border-box;top: 0;bottom: 0;left: 50%;z-index: 0;}#sk-container-id-28 div.sk-serial {display: flex;flex-direction: column;align-items: center;background-color: white;padding-right: 0.2em;padding-left: 0.2em;position: relative;}#sk-container-id-28 div.sk-item {position: relative;z-index: 1;}#sk-container-id-28 div.sk-parallel {display: flex;align-items: stretch;justify-content: center;background-color: white;position: relative;}#sk-container-id-28 div.sk-item::before, #sk-container-id-28 div.sk-parallel-item::before {content: \"\";position: absolute;border-left: 1px solid gray;box-sizing: border-box;top: 0;bottom: 0;left: 50%;z-index: -1;}#sk-container-id-28 div.sk-parallel-item {display: flex;flex-direction: column;z-index: 1;position: relative;background-color: white;}#sk-container-id-28 div.sk-parallel-item:first-child::after {align-self: flex-end;width: 50%;}#sk-container-id-28 div.sk-parallel-item:last-child::after {align-self: flex-start;width: 50%;}#sk-container-id-28 div.sk-parallel-item:only-child::after {width: 0;}#sk-container-id-28 div.sk-dashed-wrapped {border: 1px dashed gray;margin: 0 0.4em 0.5em 0.4em;box-sizing: border-box;padding-bottom: 0.4em;background-color: white;}#sk-container-id-28 div.sk-label label {font-family: monospace;font-weight: bold;display: inline-block;line-height: 1.2em;}#sk-container-id-28 div.sk-label-container {text-align: center;}#sk-container-id-28 div.sk-container {/* jupyter's `normalize.less` sets `[hidden] { display: none; }` but bootstrap.min.css set `[hidden] { display: none !important; }` so we also need the `!important` here to be able to override the default hidden behavior on the sphinx rendered scikit-learn.org. See: https://github.com/scikit-learn/scikit-learn/issues/21755 */display: inline-block !important;position: relative;}#sk-container-id-28 div.sk-text-repr-fallback {display: none;}</style><div id=\"sk-container-id-28\" class=\"sk-top-container\"><div class=\"sk-text-repr-fallback\"><pre>SVC(C=0.5, random_state=9663)</pre><b>In a Jupyter environment, please rerun this cell to show the HTML representation or trust the notebook. <br />On GitHub, the HTML representation is unable to render, please try loading this page with nbviewer.org.</b></div><div class=\"sk-container\" hidden><div class=\"sk-item\"><div class=\"sk-estimator sk-toggleable\"><input class=\"sk-toggleable__control sk-hidden--visually\" id=\"sk-estimator-id-28\" type=\"checkbox\" checked><label for=\"sk-estimator-id-28\" class=\"sk-toggleable__label sk-toggleable__label-arrow\">SVC</label><div class=\"sk-toggleable__content\"><pre>SVC(C=0.5, random_state=9663)</pre></div></div></div></div></div>"
     },
     "execution_count": 220,
     "metadata": {},
     "output_type": "execute_result"
    }
   ],
   "source": [
    "# model\n",
    "\n",
    "# all ok rows and columns\n",
    "x_ok = df.iloc[:-1,:-1]\n",
    "y_ok = df.iloc[:-1,-1:]\n",
    "# fit data count\n",
    "num = int(len(df)*0.7)\n",
    "# fit data\n",
    "x = x_ok[:num]\n",
    "y = y_ok[:num]\n",
    "# fit validator\n",
    "X = x_ok[num:]\n",
    "Y = y_ok[num:]\n",
    "\n",
    "\n",
    "svm_classifier = SVC(random_state=len(x), C=0.5)\n",
    "svm_classifier.fit(x.to_numpy(), y.to_numpy().ravel())\n"
   ],
   "metadata": {
    "collapsed": false,
    "ExecuteTime": {
     "end_time": "2023-11-13T18:30:17.470787500Z",
     "start_time": "2023-11-13T18:30:14.039031900Z"
    }
   }
  },
  {
   "cell_type": "code",
   "execution_count": 221,
   "outputs": [
    {
     "name": "stdout",
     "output_type": "stream",
     "text": [
      "                     open_close_percent  open_close_percent_1  \\\n",
      "open_time                                                       \n",
      "2023-11-13 15:30:00            0.027873              0.003609   \n",
      "\n",
      "                     open_close_percent_2  open_close_percent_3  \\\n",
      "open_time                                                         \n",
      "2023-11-13 15:30:00              0.003258               0.00145   \n",
      "\n",
      "                     open_close_percent_4  open_close_percent_5  \\\n",
      "open_time                                                         \n",
      "2023-11-13 15:30:00             -0.001267             -0.002709   \n",
      "\n",
      "                     open_close_percent_6  open_close_percent_7  \\\n",
      "open_time                                                         \n",
      "2023-11-13 15:30:00              0.002353             -0.003247   \n",
      "\n",
      "                     open_close_percent_8  open_close_percent_9  ...  \\\n",
      "open_time                                                        ...   \n",
      "2023-11-13 15:30:00             -0.000721              0.003256  ...   \n",
      "\n",
      "                     open_close_percent_51  open_close_percent_52  \\\n",
      "open_time                                                           \n",
      "2023-11-13 15:30:00               0.011336               0.001324   \n",
      "\n",
      "                     open_close_percent_53  open_close_percent_54  \\\n",
      "open_time                                                           \n",
      "2023-11-13 15:30:00               0.001516              -0.003211   \n",
      "\n",
      "                     open_close_percent_55  open_close_percent_56  \\\n",
      "open_time                                                           \n",
      "2023-11-13 15:30:00               0.003412              -0.002081   \n",
      "\n",
      "                     open_close_percent_57  open_close_percent_58  \\\n",
      "open_time                                                           \n",
      "2023-11-13 15:30:00               0.001136               0.003421   \n",
      "\n",
      "                     open_close_percent_59  open_close_percent_60  \n",
      "open_time                                                          \n",
      "2023-11-13 15:30:00               0.009206              -0.002297  \n",
      "\n",
      "[1 rows x 61 columns]\n"
     ]
    },
    {
     "name": "stderr",
     "output_type": "stream",
     "text": [
      "C:\\Users\\sajja\\anaconda3\\Lib\\site-packages\\sklearn\\base.py:457: UserWarning: X has feature names, but SVC was fitted without feature names\n",
      "  warnings.warn(\n"
     ]
    },
    {
     "data": {
      "text/plain": "array([-1])"
     },
     "execution_count": 221,
     "metadata": {},
     "output_type": "execute_result"
    }
   ],
   "source": [
    "print(df.iloc[-1:,:-1])\n",
    "svm_classifier.predict(df.iloc[-1:,:-1])"
   ],
   "metadata": {
    "collapsed": false,
    "ExecuteTime": {
     "end_time": "2023-11-13T18:30:17.485545200Z",
     "start_time": "2023-11-13T18:30:17.471800900Z"
    }
   }
  },
  {
   "cell_type": "code",
   "execution_count": 222,
   "outputs": [
    {
     "name": "stderr",
     "output_type": "stream",
     "text": [
      "C:\\Users\\sajja\\anaconda3\\Lib\\site-packages\\sklearn\\base.py:457: UserWarning: X has feature names, but SVC was fitted without feature names\n",
      "  warnings.warn(\n"
     ]
    }
   ],
   "source": [
    "Y_RESULT = svm_classifier.predict(X)"
   ],
   "metadata": {
    "collapsed": false,
    "ExecuteTime": {
     "end_time": "2023-11-13T18:30:20.255285300Z",
     "start_time": "2023-11-13T18:30:17.486962Z"
    }
   }
  },
  {
   "cell_type": "code",
   "execution_count": 223,
   "outputs": [
    {
     "name": "stdout",
     "output_type": "stream",
     "text": [
      "              precision    recall  f1-score   support\n",
      "\n",
      "          -1       0.51      0.84      0.64      2114\n",
      "           0       0.00      0.00      0.00        39\n",
      "           1       0.50      0.17      0.26      1988\n",
      "\n",
      "    accuracy                           0.51      4141\n",
      "   macro avg       0.34      0.34      0.30      4141\n",
      "weighted avg       0.50      0.51      0.45      4141\n",
      "\n"
     ]
    },
    {
     "name": "stderr",
     "output_type": "stream",
     "text": [
      "C:\\Users\\sajja\\anaconda3\\Lib\\site-packages\\sklearn\\metrics\\_classification.py:1469: UndefinedMetricWarning: Precision and F-score are ill-defined and being set to 0.0 in labels with no predicted samples. Use `zero_division` parameter to control this behavior.\n",
      "  _warn_prf(average, modifier, msg_start, len(result))\n",
      "C:\\Users\\sajja\\anaconda3\\Lib\\site-packages\\sklearn\\metrics\\_classification.py:1469: UndefinedMetricWarning: Precision and F-score are ill-defined and being set to 0.0 in labels with no predicted samples. Use `zero_division` parameter to control this behavior.\n",
      "  _warn_prf(average, modifier, msg_start, len(result))\n",
      "C:\\Users\\sajja\\anaconda3\\Lib\\site-packages\\sklearn\\metrics\\_classification.py:1469: UndefinedMetricWarning: Precision and F-score are ill-defined and being set to 0.0 in labels with no predicted samples. Use `zero_division` parameter to control this behavior.\n",
      "  _warn_prf(average, modifier, msg_start, len(result))\n"
     ]
    }
   ],
   "source": [
    "print(metrics.classification_report(Y,Y_RESULT))"
   ],
   "metadata": {
    "collapsed": false,
    "ExecuteTime": {
     "end_time": "2023-11-13T18:30:20.268981500Z",
     "start_time": "2023-11-13T18:30:20.257294500Z"
    }
   }
  },
  {
   "cell_type": "code",
   "execution_count": 224,
   "outputs": [
    {
     "name": "stdout",
     "output_type": "stream",
     "text": [
      "[[1766    0  348]\n",
      " [  38    0    1]\n",
      " [1642    0  346]]\n"
     ]
    }
   ],
   "source": [
    "print(metrics.confusion_matrix(Y,Y_RESULT))"
   ],
   "metadata": {
    "collapsed": false,
    "ExecuteTime": {
     "end_time": "2023-11-13T18:41:08.796241100Z",
     "start_time": "2023-11-13T18:41:08.790006200Z"
    }
   }
  },
  {
   "cell_type": "code",
   "execution_count": null,
   "outputs": [],
   "source": [],
   "metadata": {
    "collapsed": false
   }
  }
 ],
 "metadata": {
  "kernelspec": {
   "display_name": "Python 3",
   "language": "python",
   "name": "python3"
  },
  "language_info": {
   "codemirror_mode": {
    "name": "ipython",
    "version": 2
   },
   "file_extension": ".py",
   "mimetype": "text/x-python",
   "name": "python",
   "nbconvert_exporter": "python",
   "pygments_lexer": "ipython2",
   "version": "2.7.6"
  }
 },
 "nbformat": 4,
 "nbformat_minor": 0
}
