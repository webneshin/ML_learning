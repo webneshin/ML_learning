{
 "cells": [
  {
   "cell_type": "code",
   "execution_count": 144,
   "id": "initial_id",
   "metadata": {
    "collapsed": true,
    "ExecuteTime": {
     "end_time": "2023-11-18T12:05:09.737093500Z",
     "start_time": "2023-11-18T12:05:09.719949Z"
    }
   },
   "outputs": [],
   "source": [
    "import logging\n",
    "\n",
    "import numpy as np\n",
    "import xgboost as xgb\n",
    "import talib\n",
    "from binance.enums import HistoricalKlinesType\n",
    "from matplotlib import pyplot as plt\n",
    "from sklearn import metrics\n",
    "from sklearn.model_selection import train_test_split\n",
    "from sklearn.preprocessing import LabelEncoder\n",
    "\n",
    "from main_funcs import get_and_update_data"
   ]
  },
  {
   "cell_type": "code",
   "execution_count": 145,
   "outputs": [],
   "source": [
    "# configs\n",
    "country=None\n",
    "joft = \"BTCUSDT\"\n",
    "interval = \"1d\"\n",
    "\n",
    "# remove small candle \n",
    "zero_remover_pct = 0.0\n",
    "\n",
    "# add history of open_close_pct \n",
    "open_close_pct_history_count = 5\n",
    "\n",
    "# add history of max_low_high_pct \n",
    "max_low_high_pct_history_count = -1\n",
    "\n",
    "# calculate rsi with different lengths \n",
    "rsi_ranges = range(14, 20)\n",
    "\n",
    "# add history of rsi\n",
    "rsi_history_count = -1\n",
    "\n",
    "# add moving average of rsi\n",
    "rsi_ma_lengths = [3,7,9,10,14,20,50,100]\n",
    "rsi_ma_ranges = []\n"
   ],
   "metadata": {
    "collapsed": false,
    "ExecuteTime": {
     "end_time": "2023-11-18T12:05:09.740063400Z",
     "start_time": "2023-11-18T12:05:09.726056Z"
    }
   },
   "id": "b321682cef2eb2a7"
  },
  {
   "cell_type": "code",
   "execution_count": 146,
   "outputs": [],
   "source": [
    "# validation config\n",
    "\n",
    "# valid rsi_ma_ranges\n",
    "for r in  rsi_ma_ranges:\n",
    "    if not r in rsi_ranges:\n",
    "        raise ValueError(\"rsi_ma_ranges items is not in rsi_ranges\")"
   ],
   "metadata": {
    "collapsed": false,
    "ExecuteTime": {
     "end_time": "2023-11-18T12:05:09.770482200Z",
     "start_time": "2023-11-18T12:05:09.742075200Z"
    }
   },
   "id": "f3f69ae22497eaeb"
  },
  {
   "cell_type": "code",
   "execution_count": 147,
   "outputs": [
    {
     "name": "stderr",
     "output_type": "stream",
     "text": [
      "WARNING:root:not updatetd! for update set \"country\"!\n"
     ]
    }
   ],
   "source": [
    "# get data from database\n",
    "df_source = get_and_update_data(joft, interval, HistoricalKlinesType.SPOT, country=country)\n",
    "df_source = df_source[[\"open\", \"high\", \"low\", \"close\", \"volume\"]]\n",
    "# df_source.tail(1)"
   ],
   "metadata": {
    "collapsed": false,
    "ExecuteTime": {
     "end_time": "2023-11-18T12:05:09.818656600Z",
     "start_time": "2023-11-18T12:05:09.763761800Z"
    }
   },
   "id": "ab9b45c8321aa8d6"
  },
  {
   "cell_type": "code",
   "execution_count": 148,
   "outputs": [],
   "source": [
    "# calculate parameters\n",
    "df_cal = df_source.copy()\n",
    "\n",
    "# change from open to other columns\n",
    "df_cal['open_close'] = df_cal.close - df_cal.open\n",
    "df_cal['open_low'] = df_cal.low - df_cal.open\n",
    "df_cal['open_high'] = df_cal.high - df_cal.open\n",
    "\n",
    "# change percent from open to other columns\n",
    "df_cal['open_close_pct'] = df_cal.open_close / df_cal.open\n",
    "df_cal['open_low_pct'] = df_cal.open_low / df_cal.open\n",
    "df_cal['open_high_pct'] = df_cal.open_high / df_cal.open\n",
    "\n",
    "# price direction\n",
    "# df_target['open_close_direction'] = np.sign(df_target[\"open_close\"])\n",
    "# df_target['open_open_high_direction'] = np.sign(df_target[\"open_low\"]).astype(int)\n",
    "# df_target['open_high_direction'] = np.sign(df_target[\"open_high\"]).astype(int)\n",
    "\n",
    "# max abs low and high\n",
    "df_cal['max_low_high_pct'] = np.where(\n",
    "    df_cal['open_low_pct'].abs() > df_cal['open_high_pct'].abs(),\n",
    "    df_cal['open_low_pct'],\n",
    "    df_cal['open_high_pct']\n",
    ")\n",
    "\n",
    "# open_close_pct history\n",
    "for h in range(0,open_close_pct_history_count+1):\n",
    "    df_cal[f\"open_close_pct__{h}\"] = df_cal.open_close_pct.shift(h)\n",
    "    \n",
    "\n",
    "# max_low_high_pct history\n",
    "for h in range(0,max_low_high_pct_history_count+1):\n",
    "    df_cal[f\"max_low_high_pct__{h}\"] = df_cal.max_low_high_pct.shift(h)\n",
    "    \n",
    "\n",
    "# calculate multi rsi\n",
    "for rsi in rsi_ranges:\n",
    "    for h in range(0, rsi_history_count + 1):\n",
    "        df_cal[f\"rsi_{rsi}__{h}\"] = talib.RSI(df_cal.close.shift(h), timeperiod=rsi)\n",
    "        \n",
    "# calculate rsi sma \n",
    "for ma_length in rsi_ma_lengths:\n",
    "    for rsi in rsi_ma_ranges:\n",
    "        df_cal[f\"rsi_{rsi}_ma_{ma_length}\"] =  talib.SMA(df_cal[f\"rsi_{rsi}__{0}\"], timeperiod=ma_length)\n",
    "# df_cal"
   ],
   "metadata": {
    "collapsed": false,
    "ExecuteTime": {
     "end_time": "2023-11-18T12:05:09.822188900Z",
     "start_time": "2023-11-18T12:05:09.795549300Z"
    }
   },
   "id": "f883ecae944a7fe7"
  },
  {
   "cell_type": "code",
   "execution_count": 149,
   "outputs": [],
   "source": [
    "# create calculate target\n",
    "df_target = df_cal.copy()\n",
    "mabna = 'open_close_pct'\n",
    "\n",
    "# calculate target\n",
    "# df_target[\"target\"] = df_target[mabna]\n",
    "df_target[\"target\"] = np.where(\n",
    "    df_target[mabna] > zero_remover_pct,\n",
    "    df_target[mabna],\n",
    "    np.where(\n",
    "        df_target[mabna] < -zero_remover_pct,\n",
    "        df_target[mabna], None\n",
    "    )\n",
    ")\n",
    "\n",
    "# shift target the real place\n",
    "df_target[\"target\"] = df_target[\"target\"].shift(-1)\n",
    "# df_target"
   ],
   "metadata": {
    "collapsed": false,
    "ExecuteTime": {
     "end_time": "2023-11-18T12:05:09.822188900Z",
     "start_time": "2023-11-18T12:05:09.805692Z"
    }
   },
   "id": "e7bbcaef4090098e"
  },
  {
   "cell_type": "code",
   "execution_count": 150,
   "outputs": [
    {
     "data": {
      "text/plain": "                     open_close_pct__0  open_close_pct__1  open_close_pct__2  \\\nopen_time                                                                      \n2017-08-22 03:30:00           0.005976          -0.013057          -0.008418   \n2017-08-23 03:30:00           0.018319           0.005976          -0.013057   \n2017-08-24 03:30:00           0.040755           0.018319           0.005976   \n2017-08-25 03:30:00          -0.008186           0.040755           0.018319   \n2017-08-26 03:30:00           0.013252          -0.008186           0.040755   \n...                                ...                ...                ...   \n2023-11-10 03:30:00           0.016363           0.030214           0.006373   \n2023-11-11 03:30:00          -0.004601           0.016363           0.030214   \n2023-11-12 03:30:00          -0.001774          -0.004601           0.016363   \n2023-11-13 03:30:00          -0.016221          -0.001774          -0.004601   \n2023-11-14 03:30:00          -0.025005          -0.016221          -0.001774   \n\n                     open_close_pct__3  open_close_pct__4  open_close_pct__5  \\\nopen_time                                                                      \n2017-08-22 03:30:00           0.007694          -0.041238           0.005538   \n2017-08-23 03:30:00          -0.008418           0.007694          -0.041238   \n2017-08-24 03:30:00          -0.013057          -0.008418           0.007694   \n2017-08-25 03:30:00           0.005976          -0.013057          -0.008418   \n2017-08-26 03:30:00           0.018319           0.005976          -0.013057   \n...                                ...                ...                ...   \n2023-11-10 03:30:00           0.010073           0.000977          -0.001431   \n2023-11-11 03:30:00           0.006373           0.010073           0.000977   \n2023-11-12 03:30:00           0.030214           0.006373           0.010073   \n2023-11-13 03:30:00           0.016363           0.030214           0.006373   \n2023-11-14 03:30:00          -0.004601           0.016363           0.030214   \n\n                       target  \nopen_time                      \n2017-08-22 03:30:00  0.018319  \n2017-08-23 03:30:00  0.040755  \n2017-08-24 03:30:00 -0.008186  \n2017-08-25 03:30:00  0.013252  \n2017-08-26 03:30:00 -0.005193  \n...                       ...  \n2023-11-10 03:30:00 -0.004601  \n2023-11-11 03:30:00 -0.001774  \n2023-11-12 03:30:00 -0.016221  \n2023-11-13 03:30:00 -0.025005  \n2023-11-14 03:30:00  0.064892  \n\n[2276 rows x 7 columns]",
      "text/html": "<div>\n<style scoped>\n    .dataframe tbody tr th:only-of-type {\n        vertical-align: middle;\n    }\n\n    .dataframe tbody tr th {\n        vertical-align: top;\n    }\n\n    .dataframe thead th {\n        text-align: right;\n    }\n</style>\n<table border=\"1\" class=\"dataframe\">\n  <thead>\n    <tr style=\"text-align: right;\">\n      <th></th>\n      <th>open_close_pct__0</th>\n      <th>open_close_pct__1</th>\n      <th>open_close_pct__2</th>\n      <th>open_close_pct__3</th>\n      <th>open_close_pct__4</th>\n      <th>open_close_pct__5</th>\n      <th>target</th>\n    </tr>\n    <tr>\n      <th>open_time</th>\n      <th></th>\n      <th></th>\n      <th></th>\n      <th></th>\n      <th></th>\n      <th></th>\n      <th></th>\n    </tr>\n  </thead>\n  <tbody>\n    <tr>\n      <th>2017-08-22 03:30:00</th>\n      <td>0.005976</td>\n      <td>-0.013057</td>\n      <td>-0.008418</td>\n      <td>0.007694</td>\n      <td>-0.041238</td>\n      <td>0.005538</td>\n      <td>0.018319</td>\n    </tr>\n    <tr>\n      <th>2017-08-23 03:30:00</th>\n      <td>0.018319</td>\n      <td>0.005976</td>\n      <td>-0.013057</td>\n      <td>-0.008418</td>\n      <td>0.007694</td>\n      <td>-0.041238</td>\n      <td>0.040755</td>\n    </tr>\n    <tr>\n      <th>2017-08-24 03:30:00</th>\n      <td>0.040755</td>\n      <td>0.018319</td>\n      <td>0.005976</td>\n      <td>-0.013057</td>\n      <td>-0.008418</td>\n      <td>0.007694</td>\n      <td>-0.008186</td>\n    </tr>\n    <tr>\n      <th>2017-08-25 03:30:00</th>\n      <td>-0.008186</td>\n      <td>0.040755</td>\n      <td>0.018319</td>\n      <td>0.005976</td>\n      <td>-0.013057</td>\n      <td>-0.008418</td>\n      <td>0.013252</td>\n    </tr>\n    <tr>\n      <th>2017-08-26 03:30:00</th>\n      <td>0.013252</td>\n      <td>-0.008186</td>\n      <td>0.040755</td>\n      <td>0.018319</td>\n      <td>0.005976</td>\n      <td>-0.013057</td>\n      <td>-0.005193</td>\n    </tr>\n    <tr>\n      <th>...</th>\n      <td>...</td>\n      <td>...</td>\n      <td>...</td>\n      <td>...</td>\n      <td>...</td>\n      <td>...</td>\n      <td>...</td>\n    </tr>\n    <tr>\n      <th>2023-11-10 03:30:00</th>\n      <td>0.016363</td>\n      <td>0.030214</td>\n      <td>0.006373</td>\n      <td>0.010073</td>\n      <td>0.000977</td>\n      <td>-0.001431</td>\n      <td>-0.004601</td>\n    </tr>\n    <tr>\n      <th>2023-11-11 03:30:00</th>\n      <td>-0.004601</td>\n      <td>0.016363</td>\n      <td>0.030214</td>\n      <td>0.006373</td>\n      <td>0.010073</td>\n      <td>0.000977</td>\n      <td>-0.001774</td>\n    </tr>\n    <tr>\n      <th>2023-11-12 03:30:00</th>\n      <td>-0.001774</td>\n      <td>-0.004601</td>\n      <td>0.016363</td>\n      <td>0.030214</td>\n      <td>0.006373</td>\n      <td>0.010073</td>\n      <td>-0.016221</td>\n    </tr>\n    <tr>\n      <th>2023-11-13 03:30:00</th>\n      <td>-0.016221</td>\n      <td>-0.001774</td>\n      <td>-0.004601</td>\n      <td>0.016363</td>\n      <td>0.030214</td>\n      <td>0.006373</td>\n      <td>-0.025005</td>\n    </tr>\n    <tr>\n      <th>2023-11-14 03:30:00</th>\n      <td>-0.025005</td>\n      <td>-0.016221</td>\n      <td>-0.001774</td>\n      <td>-0.004601</td>\n      <td>0.016363</td>\n      <td>0.030214</td>\n      <td>0.064892</td>\n    </tr>\n  </tbody>\n</table>\n<p>2276 rows × 7 columns</p>\n</div>"
     },
     "execution_count": 150,
     "metadata": {},
     "output_type": "execute_result"
    }
   ],
   "source": [
    "# clean data\n",
    "df = df_target.copy()\n",
    "df.dropna(inplace=True)\n",
    "df.drop(columns=['open', 'high', 'low', 'close', 'volume', 'open_close', 'open_low', 'open_high',\n",
    "                 'open_close_pct', 'open_low_pct', 'open_high_pct', 'max_low_high_pct'], inplace=True)\n",
    "\n",
    "\n",
    "df"
   ],
   "metadata": {
    "collapsed": false,
    "ExecuteTime": {
     "end_time": "2023-11-18T12:05:09.823188400Z",
     "start_time": "2023-11-18T12:05:09.809466100Z"
    }
   },
   "id": "246c7da1a2b42895"
  },
  {
   "cell_type": "code",
   "execution_count": 151,
   "outputs": [
    {
     "name": "stdout",
     "output_type": "stream",
     "text": [
      "shape df:  (2276, 7)\n"
     ]
    },
    {
     "data": {
      "text/plain": "target               1.000000\nopen_close_pct__1    0.043061\nopen_close_pct__4    0.026288\nopen_close_pct__5    0.018249\nopen_close_pct__2    0.007873\nopen_close_pct__3    0.005480\nopen_close_pct__0   -0.046086\nName: target, dtype: float64"
     },
     "execution_count": 151,
     "metadata": {},
     "output_type": "execute_result"
    }
   ],
   "source": [
    "# analyse df\n",
    "print(\"shape df: \", df.shape)\n",
    "df.corr()['target'].sort_values(ascending=False)"
   ],
   "metadata": {
    "collapsed": false,
    "ExecuteTime": {
     "end_time": "2023-11-18T12:05:09.834932200Z",
     "start_time": "2023-11-18T12:05:09.824186300Z"
    }
   },
   "id": "3d87e64fbbb8d81c"
  },
  {
   "cell_type": "code",
   "execution_count": 152,
   "outputs": [],
   "source": [
    "# create cross validator\n",
    "# Data and targets\n",
    "X, Y = df.iloc[:, :-1], df.iloc[:, -1]"
   ],
   "metadata": {
    "collapsed": false,
    "ExecuteTime": {
     "end_time": "2023-11-18T12:05:09.834932200Z",
     "start_time": "2023-11-18T12:05:09.830449500Z"
    }
   },
   "id": "da10620c1493511d"
  },
  {
   "cell_type": "code",
   "execution_count": 153,
   "outputs": [
    {
     "name": "stdout",
     "output_type": "stream",
     "text": [
      "[15:35:09] ======== Monitor (0): HostSketchContainer ========\n",
      "[15:35:09] AllReduce: 0.00014s, 1 calls @ 140us\n",
      "\n",
      "[15:35:09] MakeCuts: 0.000172s, 1 calls @ 172us\n",
      "\n",
      "[15:35:09] DEBUG: C:\\buildkite-agent\\builds\\buildkite-windows-cpu-autoscaling-group-i-07f6e447eee219473-1\\xgboost\\xgboost-ci-windows\\src\\gbm\\gbtree.cc:130: Using tree method: 0\n",
      "[15:35:10] ======== Monitor (0): Learner ========\n",
      "[15:35:10] Configure: 0.000232s, 1 calls @ 232us\n",
      "\n",
      "[15:35:10] EvalOneIter: 0.002227s, 1000 calls @ 2227us\n",
      "\n",
      "[15:35:10] GetGradient: 0.005203s, 1000 calls @ 5203us\n",
      "\n",
      "[15:35:10] PredictRaw: 0.000395s, 1000 calls @ 395us\n",
      "\n",
      "[15:35:10] UpdateOneIter: 0.240513s, 1000 calls @ 240513us\n",
      "\n",
      "[15:35:10] ======== Monitor (0): GBTree ========\n",
      "[15:35:10] BoostNewTrees: 0.232773s, 1000 calls @ 232773us\n",
      "\n",
      "[15:35:10] CommitModel: 0.000179s, 1000 calls @ 179us\n",
      "\n",
      "[15:35:10] ======== Monitor (0): HistUpdater ========\n",
      "[15:35:10] BuildHistogram: 0.048592s, 2730 calls @ 48592us\n",
      "\n",
      "[15:35:10] EvaluateSplits: 0.077318s, 3730 calls @ 77318us\n",
      "\n",
      "[15:35:10] InitData: 0.012751s, 1000 calls @ 12751us\n",
      "\n",
      "[15:35:10] InitRoot: 0.030745s, 1000 calls @ 30745us\n",
      "\n",
      "[15:35:10] LeafPartition: 6.4e-05s, 1000 calls @ 64us\n",
      "\n",
      "[15:35:10] UpdatePosition: 0.041991s, 3276 calls @ 41991us\n",
      "\n",
      "[15:35:10] UpdatePredictionCache: 0.004871s, 1000 calls @ 4871us\n",
      "\n",
      "[15:35:10] UpdateTree: 0.225342s, 1000 calls @ 225342us\n",
      "\n",
      "[15:35:10] DEBUG: C:\\buildkite-agent\\builds\\buildkite-windows-cpu-autoscaling-group-i-07f6e447eee219473-1\\xgboost\\xgboost-ci-windows\\src\\gbm\\gbtree.cc:130: Using tree method: 0\n"
     ]
    }
   ],
   "source": [
    "X_train, X_test, y_train, y_test = train_test_split(X, Y)\n",
    "xg_reg = xgb.XGBRegressor(colsample_bytree=0.8, learning_rate=0.1, max_depth=6, n_estimators=1000, verbosity=3)\n",
    "xg_reg.fit(X_train, y_train)\n",
    "y_pred = xg_reg.predict(X_test)"
   ],
   "metadata": {
    "collapsed": false,
    "ExecuteTime": {
     "end_time": "2023-11-18T12:05:10.174910400Z",
     "start_time": "2023-11-18T12:05:09.837937500Z"
    }
   },
   "id": "5f0235977046385c"
  },
  {
   "cell_type": "code",
   "execution_count": 154,
   "outputs": [
    {
     "data": {
      "text/plain": "0.030604369733992068"
     },
     "execution_count": 154,
     "metadata": {},
     "output_type": "execute_result"
    }
   ],
   "source": [
    "metrics.mean_absolute_error(y_test, y_pred)"
   ],
   "metadata": {
    "collapsed": false,
    "ExecuteTime": {
     "end_time": "2023-11-18T12:05:10.182193300Z",
     "start_time": "2023-11-18T12:05:10.176910700Z"
    }
   },
   "id": "b0d27071c58dfbf5"
  },
  {
   "cell_type": "code",
   "execution_count": 155,
   "outputs": [
    {
     "data": {
      "text/plain": "-0.12566451112183086"
     },
     "execution_count": 155,
     "metadata": {},
     "output_type": "execute_result"
    }
   ],
   "source": [
    "metrics.r2_score(y_test, y_pred)"
   ],
   "metadata": {
    "collapsed": false,
    "ExecuteTime": {
     "end_time": "2023-11-18T12:05:10.188192100Z",
     "start_time": "2023-11-18T12:05:10.181193100Z"
    }
   },
   "id": "579d8a138a63581f"
  },
  {
   "cell_type": "code",
   "execution_count": 156,
   "outputs": [
    {
     "data": {
      "text/plain": "<Axes: title={'center': 'Feature importance'}, xlabel='F score', ylabel='Features'>"
     },
     "execution_count": 156,
     "metadata": {},
     "output_type": "execute_result"
    },
    {
     "data": {
      "text/plain": "<Figure size 640x480 with 1 Axes>",
      "image/png": "[encoded data removed]"
     },
     "metadata": {},
     "output_type": "display_data"
    }
   ],
   "source": [
    "xgb.plot_importance(xg_reg, max_num_features=10)"
   ],
   "metadata": {
    "collapsed": false,
    "ExecuteTime": {
     "end_time": "2023-11-18T12:05:10.322014900Z",
     "start_time": "2023-11-18T12:05:10.187192100Z"
    }
   },
   "id": "4c1739a40dbe67f1"
  },
  {
   "cell_type": "code",
   "execution_count": 156,
   "outputs": [],
   "source": [],
   "metadata": {
    "collapsed": false,
    "ExecuteTime": {
     "end_time": "2023-11-18T12:05:10.329534100Z",
     "start_time": "2023-11-18T12:05:10.322014900Z"
    }
   },
   "id": "70895b409c4ab531"
  }
 ],
 "metadata": {
  "kernelspec": {
   "display_name": "Python 3",
   "language": "python",
   "name": "python3"
  },
  "language_info": {
   "codemirror_mode": {
    "name": "ipython",
    "version": 2
   },
   "file_extension": ".py",
   "mimetype": "text/x-python",
   "name": "python",
   "nbconvert_exporter": "python",
   "pygments_lexer": "ipython2",
   "version": "2.7.6"
  }
 },
 "nbformat": 4,
 "nbformat_minor": 5
}
