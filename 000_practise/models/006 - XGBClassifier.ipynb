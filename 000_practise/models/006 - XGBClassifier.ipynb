{
 "cells": [
  {
   "cell_type": "code",
   "execution_count": 265,
   "id": "initial_id",
   "metadata": {
    "collapsed": true,
    "ExecuteTime": {
     "end_time": "2023-11-17T19:18:27.675989400Z",
     "start_time": "2023-11-17T19:18:27.662189700Z"
    }
   },
   "outputs": [],
   "source": [
    "import logging\n",
    "\n",
    "import numpy as np\n",
    "import xgboost as xgb\n",
    "import talib\n",
    "from binance.enums import HistoricalKlinesType\n",
    "from matplotlib import pyplot as plt\n",
    "from sklearn import metrics\n",
    "from sklearn.model_selection import train_test_split\n",
    "\n",
    "from main_funcs import get_and_update_data"
   ]
  },
  {
   "cell_type": "code",
   "execution_count": 266,
   "outputs": [],
   "source": [
    "# configs\n",
    "country=None\n",
    "joft = \"ETHUSDT\"\n",
    "interval = \"3d\"\n",
    "\n",
    "# remove small candle \n",
    "zero_remover_pct = 0.00\n",
    "\n",
    "# add history of open_close_pct \n",
    "open_close_pct_history_count = 40\n",
    "\n",
    "# add history of max_low_high_pct \n",
    "max_low_high_pct_history_count = 40\n",
    "\n",
    "# calculate rsi with different lengths \n",
    "rsi_ranges = range(14, 14)\n",
    "\n",
    "# add history of rsi\n",
    "rsi_history_count = 60\n",
    "\n",
    "# add moving average of rsi\n",
    "rsi_ma_lengths = [3,7,9,10,14,20,50,100]\n",
    "rsi_ma_ranges = []\n"
   ],
   "metadata": {
    "collapsed": false,
    "ExecuteTime": {
     "end_time": "2023-11-17T19:18:27.706609300Z",
     "start_time": "2023-11-17T19:18:27.680354200Z"
    }
   },
   "id": "b321682cef2eb2a7"
  },
  {
   "cell_type": "code",
   "execution_count": 267,
   "outputs": [],
   "source": [
    "# validation config\n",
    "\n",
    "# valid rsi_ma_ranges\n",
    "for r in  rsi_ma_ranges:\n",
    "    if not r in rsi_ranges:\n",
    "        raise ValueError(\"rsi_ma_ranges items is not in rsi_ranges\")"
   ],
   "metadata": {
    "collapsed": false,
    "ExecuteTime": {
     "end_time": "2023-11-17T19:18:27.706609300Z",
     "start_time": "2023-11-17T19:18:27.685379200Z"
    }
   },
   "id": "f3f69ae22497eaeb"
  },
  {
   "cell_type": "code",
   "execution_count": 268,
   "outputs": [
    {
     "name": "stderr",
     "output_type": "stream",
     "text": [
      "WARNING:root:not updatetd! for update set \"country\"!\n"
     ]
    }
   ],
   "source": [
    "# get data from database\n",
    "df_source = get_and_update_data(joft, interval, HistoricalKlinesType.SPOT, country=country)\n",
    "df_source = df_source[[\"open\", \"high\", \"low\", \"close\", \"volume\"]]\n",
    "# df_source.tail(1)"
   ],
   "metadata": {
    "collapsed": false,
    "ExecuteTime": {
     "end_time": "2023-11-17T19:18:27.746714600Z",
     "start_time": "2023-11-17T19:18:27.715059300Z"
    }
   },
   "id": "ab9b45c8321aa8d6"
  },
  {
   "cell_type": "code",
   "execution_count": 269,
   "outputs": [],
   "source": [
    "# calculate parameters\n",
    "df_cal = df_source.copy()\n",
    "\n",
    "# change from open to other columns\n",
    "df_cal['open_close'] = df_cal.close - df_cal.open\n",
    "df_cal['open_low'] = df_cal.low - df_cal.open\n",
    "df_cal['open_high'] = df_cal.high - df_cal.open\n",
    "\n",
    "# change percent from open to other columns\n",
    "df_cal['open_close_pct'] = df_cal.open_close / df_cal.open\n",
    "df_cal['open_low_pct'] = df_cal.open_low / df_cal.open\n",
    "df_cal['open_high_pct'] = df_cal.open_high / df_cal.open\n",
    "\n",
    "# price direction\n",
    "# df_target['open_close_direction'] = np.sign(df_target[\"open_close\"])\n",
    "# df_target['open_open_high_direction'] = np.sign(df_target[\"open_low\"]).astype(int)\n",
    "# df_target['open_high_direction'] = np.sign(df_target[\"open_high\"]).astype(int)\n",
    "\n",
    "# max abs low and high\n",
    "df_cal['max_low_high_pct'] = np.where(\n",
    "    df_cal['open_low_pct'].abs() > df_cal['open_high_pct'].abs(),\n",
    "    df_cal['open_low_pct'],\n",
    "    df_cal['open_high_pct']\n",
    ")\n",
    "\n",
    "# open_close_pct history\n",
    "for h in range(0,open_close_pct_history_count+1):\n",
    "    df_cal[f\"open_close_pct__{h}\"] = df_cal.open_close_pct.shift(h)\n",
    "    \n",
    "\n",
    "# max_low_high_pct history\n",
    "for h in range(0,max_low_high_pct_history_count+1):\n",
    "    df_cal[f\"max_low_high_pct__{h}\"] = df_cal.max_low_high_pct.shift(h)\n",
    "    \n",
    "\n",
    "# calculate multi rsi\n",
    "for rsi in rsi_ranges:\n",
    "    for h in range(0, rsi_history_count + 1):\n",
    "        df_cal[f\"rsi_{rsi}__{h}\"] = talib.RSI(df_cal.close.shift(h), timeperiod=rsi)\n",
    "        \n",
    "# calculate rsi sma \n",
    "for ma_length in rsi_ma_lengths:\n",
    "    for rsi in rsi_ma_ranges:\n",
    "        df_cal[f\"rsi_{rsi}_ma_{ma_length}\"] =  talib.SMA(df_cal[f\"rsi_{rsi}__{0}\"], timeperiod=ma_length)\n",
    "# df_cal"
   ],
   "metadata": {
    "collapsed": false,
    "ExecuteTime": {
     "end_time": "2023-11-17T19:18:27.768580700Z",
     "start_time": "2023-11-17T19:18:27.745711500Z"
    }
   },
   "id": "f883ecae944a7fe7"
  },
  {
   "cell_type": "code",
   "execution_count": 270,
   "outputs": [
    {
     "data": {
      "text/plain": "<Figure size 640x480 with 2 Axes>",
      "image/png": "[encoded data removed]"
     },
     "metadata": {},
     "output_type": "display_data"
    }
   ],
   "source": [
    "# create calculate target\n",
    "df_target = df_cal.copy()\n",
    "\n",
    "# calculate target\n",
    "df_target[\"target\"] = np.where(\n",
    "    df_target['max_low_high_pct'] > zero_remover_pct,\n",
    "    1,\n",
    "    np.where(\n",
    "        df_target['max_low_high_pct'] < -zero_remover_pct,\n",
    "        -1, 0\n",
    "    )\n",
    ")\n",
    "\n",
    "# convert -1 and 1 and 0 to True False for better result\n",
    "df_target[\"target\"] = np.where(df_target['target'] ==1, 1,0)\n",
    "# df_target[\"target\"] = np.where(df_target['target'] ==1, 1,-1)\n",
    "\n",
    "# show chart\n",
    "fig, axs = plt.subplots(2, 1)\n",
    "df_target[\"target\"].value_counts().plot(kind='bar', ax=axs[0])\n",
    "# (np.sign(df_target[\"open_close\"]) == np.sign(df_target[\"target\"])).value_counts().plot(kind='bar',ax=axs[1])\n",
    "\n",
    "# shift target the real place\n",
    "df_target[\"target\"] = df_target[\"target\"].shift(-1)\n",
    "# df_target"
   ],
   "metadata": {
    "collapsed": false,
    "ExecuteTime": {
     "end_time": "2023-11-17T19:18:27.904892300Z",
     "start_time": "2023-11-17T19:18:27.770579900Z"
    }
   },
   "id": "e7bbcaef4090098e"
  },
  {
   "cell_type": "code",
   "execution_count": 271,
   "outputs": [
    {
     "data": {
      "text/plain": "                     open_close_pct__0  open_close_pct__1  open_close_pct__2  \\\nopen_time                                                                      \n2017-12-15 03:30:00           0.041014           0.336952           0.149449   \n2017-12-18 03:30:00           0.116715           0.041014           0.336952   \n2017-12-21 03:30:00          -0.194156           0.116715           0.041014   \n2017-12-24 03:30:00           0.171271          -0.194156           0.116715   \n2017-12-27 03:30:00          -0.021347           0.171271          -0.194156   \n...                                ...                ...                ...   \n2023-10-24 03:30:00           0.021473           0.100743           0.024843   \n2023-10-27 03:30:00          -0.004575           0.021473           0.100743   \n2023-10-30 03:30:00           0.028884          -0.004575           0.021473   \n2023-11-02 03:30:00           0.004629           0.028884          -0.004575   \n2023-11-05 03:30:00           0.016022           0.004629           0.028884   \n\n                     open_close_pct__3  open_close_pct__4  open_close_pct__5  \\\nopen_time                                                                      \n2017-12-15 03:30:00          -0.021448          -0.011043           0.084637   \n2017-12-18 03:30:00           0.149449          -0.021448          -0.011043   \n2017-12-21 03:30:00           0.336952           0.149449          -0.021448   \n2017-12-24 03:30:00           0.041014           0.336952           0.149449   \n2017-12-27 03:30:00           0.116715           0.041014           0.336952   \n...                                ...                ...                ...   \n2023-10-24 03:30:00           0.006476          -0.007608          -0.040408   \n2023-10-27 03:30:00           0.024843           0.006476          -0.007608   \n2023-10-30 03:30:00           0.100743           0.024843           0.006476   \n2023-11-02 03:30:00           0.021473           0.100743           0.024843   \n2023-11-05 03:30:00          -0.004575           0.021473           0.100743   \n\n                     open_close_pct__6  open_close_pct__7  open_close_pct__8  \\\nopen_time                                                                      \n2017-12-15 03:30:00          -0.088886           0.142730           0.102281   \n2017-12-18 03:30:00           0.084637          -0.088886           0.142730   \n2017-12-21 03:30:00          -0.011043           0.084637          -0.088886   \n2017-12-24 03:30:00          -0.021448          -0.011043           0.084637   \n2017-12-27 03:30:00           0.149449          -0.021448          -0.011043   \n...                                ...                ...                ...   \n2023-10-24 03:30:00           0.013060          -0.030450          -0.003029   \n2023-10-27 03:30:00          -0.040408           0.013060          -0.030450   \n2023-10-30 03:30:00          -0.007608          -0.040408           0.013060   \n2023-11-02 03:30:00           0.006476          -0.007608          -0.040408   \n2023-11-05 03:30:00           0.024843           0.006476          -0.007608   \n\n                     open_close_pct__9  ...  max_low_high_pct__32  \\\nopen_time                               ...                         \n2017-12-15 03:30:00           0.109360  ...             -0.120282   \n2017-12-18 03:30:00           0.102281  ...             -0.346783   \n2017-12-21 03:30:00           0.142730  ...              0.196219   \n2017-12-24 03:30:00          -0.088886  ...             -0.148311   \n2017-12-27 03:30:00           0.084637  ...              0.141899   \n...                                ...  ...                   ...   \n2023-10-24 03:30:00           0.046066  ...              0.021396   \n2023-10-27 03:30:00          -0.003029  ...              0.020750   \n2023-10-30 03:30:00          -0.030450  ...              0.016332   \n2023-11-02 03:30:00           0.013060  ...             -0.013889   \n2023-11-05 03:30:00          -0.040408  ...             -0.022806   \n\n                     max_low_high_pct__33  max_low_high_pct__34  \\\nopen_time                                                         \n2017-12-15 03:30:00             -0.188084             -0.305756   \n2017-12-18 03:30:00             -0.120282             -0.188084   \n2017-12-21 03:30:00             -0.346783             -0.120282   \n2017-12-24 03:30:00              0.196219             -0.346783   \n2017-12-27 03:30:00             -0.148311              0.196219   \n...                                   ...                   ...   \n2023-10-24 03:30:00             -0.025420             -0.052931   \n2023-10-27 03:30:00              0.021396             -0.025420   \n2023-10-30 03:30:00              0.020750              0.021396   \n2023-11-02 03:30:00              0.016332              0.020750   \n2023-11-05 03:30:00             -0.013889              0.016332   \n\n                     max_low_high_pct__35  max_low_high_pct__36  \\\nopen_time                                                         \n2017-12-15 03:30:00             -0.171721              0.134611   \n2017-12-18 03:30:00             -0.305756             -0.171721   \n2017-12-21 03:30:00             -0.188084             -0.305756   \n2017-12-24 03:30:00             -0.120282             -0.188084   \n2017-12-27 03:30:00             -0.346783             -0.120282   \n...                                   ...                   ...   \n2023-10-24 03:30:00              0.070314              0.018483   \n2023-10-27 03:30:00             -0.052931              0.070314   \n2023-10-30 03:30:00             -0.025420             -0.052931   \n2023-11-02 03:30:00              0.021396             -0.025420   \n2023-11-05 03:30:00              0.020750              0.021396   \n\n                     max_low_high_pct__37  max_low_high_pct__38  \\\nopen_time                                                         \n2017-12-15 03:30:00              0.072607              0.083363   \n2017-12-18 03:30:00              0.134611              0.072607   \n2017-12-21 03:30:00             -0.171721              0.134611   \n2017-12-24 03:30:00             -0.305756             -0.171721   \n2017-12-27 03:30:00             -0.188084             -0.305756   \n...                                   ...                   ...   \n2023-10-24 03:30:00             -0.056911              0.026843   \n2023-10-27 03:30:00              0.018483             -0.056911   \n2023-10-30 03:30:00              0.070314              0.018483   \n2023-11-02 03:30:00             -0.052931              0.070314   \n2023-11-05 03:30:00             -0.025420             -0.052931   \n\n                     max_low_high_pct__39  max_low_high_pct__40  target  \nopen_time                                                                \n2017-12-15 03:30:00             -0.501710             -0.076811     1.0  \n2017-12-18 03:30:00              0.083363             -0.501710     0.0  \n2017-12-21 03:30:00              0.072607              0.083363     1.0  \n2017-12-24 03:30:00              0.134611              0.072607     0.0  \n2017-12-27 03:30:00             -0.171721              0.134611     0.0  \n...                                   ...                   ...     ...  \n2023-10-24 03:30:00              0.065956             -0.043312     0.0  \n2023-10-27 03:30:00              0.026843              0.065956     1.0  \n2023-10-30 03:30:00             -0.056911              0.026843     0.0  \n2023-11-02 03:30:00              0.018483             -0.056911     1.0  \n2023-11-05 03:30:00              0.070314              0.018483     1.0  \n\n[718 rows x 83 columns]",
      "text/html": "<div>\n<style scoped>\n    .dataframe tbody tr th:only-of-type {\n        vertical-align: middle;\n    }\n\n    .dataframe tbody tr th {\n        vertical-align: top;\n    }\n\n    .dataframe thead th {\n        text-align: right;\n    }\n</style>\n<table border=\"1\" class=\"dataframe\">\n  <thead>\n    <tr style=\"text-align: right;\">\n      <th></th>\n      <th>open_close_pct__0</th>\n      <th>open_close_pct__1</th>\n      <th>open_close_pct__2</th>\n      <th>open_close_pct__3</th>\n      <th>open_close_pct__4</th>\n      <th>open_close_pct__5</th>\n      <th>open_close_pct__6</th>\n      <th>open_close_pct__7</th>\n      <th>open_close_pct__8</th>\n      <th>open_close_pct__9</th>\n      <th>...</th>\n      <th>max_low_high_pct__32</th>\n      <th>max_low_high_pct__33</th>\n      <th>max_low_high_pct__34</th>\n      <th>max_low_high_pct__35</th>\n      <th>max_low_high_pct__36</th>\n      <th>max_low_high_pct__37</th>\n      <th>max_low_high_pct__38</th>\n      <th>max_low_high_pct__39</th>\n      <th>max_low_high_pct__40</th>\n      <th>target</th>\n    </tr>\n    <tr>\n      <th>open_time</th>\n      <th></th>\n      <th></th>\n      <th></th>\n      <th></th>\n      <th></th>\n      <th></th>\n      <th></th>\n      <th></th>\n      <th></th>\n      <th></th>\n      <th></th>\n      <th></th>\n      <th></th>\n      <th></th>\n      <th></th>\n      <th></th>\n      <th></th>\n      <th></th>\n      <th></th>\n      <th></th>\n      <th></th>\n    </tr>\n  </thead>\n  <tbody>\n    <tr>\n      <th>2017-12-15 03:30:00</th>\n      <td>0.041014</td>\n      <td>0.336952</td>\n      <td>0.149449</td>\n      <td>-0.021448</td>\n      <td>-0.011043</td>\n      <td>0.084637</td>\n      <td>-0.088886</td>\n      <td>0.142730</td>\n      <td>0.102281</td>\n      <td>0.109360</td>\n      <td>...</td>\n      <td>-0.120282</td>\n      <td>-0.188084</td>\n      <td>-0.305756</td>\n      <td>-0.171721</td>\n      <td>0.134611</td>\n      <td>0.072607</td>\n      <td>0.083363</td>\n      <td>-0.501710</td>\n      <td>-0.076811</td>\n      <td>1.0</td>\n    </tr>\n    <tr>\n      <th>2017-12-18 03:30:00</th>\n      <td>0.116715</td>\n      <td>0.041014</td>\n      <td>0.336952</td>\n      <td>0.149449</td>\n      <td>-0.021448</td>\n      <td>-0.011043</td>\n      <td>0.084637</td>\n      <td>-0.088886</td>\n      <td>0.142730</td>\n      <td>0.102281</td>\n      <td>...</td>\n      <td>-0.346783</td>\n      <td>-0.120282</td>\n      <td>-0.188084</td>\n      <td>-0.305756</td>\n      <td>-0.171721</td>\n      <td>0.134611</td>\n      <td>0.072607</td>\n      <td>0.083363</td>\n      <td>-0.501710</td>\n      <td>0.0</td>\n    </tr>\n    <tr>\n      <th>2017-12-21 03:30:00</th>\n      <td>-0.194156</td>\n      <td>0.116715</td>\n      <td>0.041014</td>\n      <td>0.336952</td>\n      <td>0.149449</td>\n      <td>-0.021448</td>\n      <td>-0.011043</td>\n      <td>0.084637</td>\n      <td>-0.088886</td>\n      <td>0.142730</td>\n      <td>...</td>\n      <td>0.196219</td>\n      <td>-0.346783</td>\n      <td>-0.120282</td>\n      <td>-0.188084</td>\n      <td>-0.305756</td>\n      <td>-0.171721</td>\n      <td>0.134611</td>\n      <td>0.072607</td>\n      <td>0.083363</td>\n      <td>1.0</td>\n    </tr>\n    <tr>\n      <th>2017-12-24 03:30:00</th>\n      <td>0.171271</td>\n      <td>-0.194156</td>\n      <td>0.116715</td>\n      <td>0.041014</td>\n      <td>0.336952</td>\n      <td>0.149449</td>\n      <td>-0.021448</td>\n      <td>-0.011043</td>\n      <td>0.084637</td>\n      <td>-0.088886</td>\n      <td>...</td>\n      <td>-0.148311</td>\n      <td>0.196219</td>\n      <td>-0.346783</td>\n      <td>-0.120282</td>\n      <td>-0.188084</td>\n      <td>-0.305756</td>\n      <td>-0.171721</td>\n      <td>0.134611</td>\n      <td>0.072607</td>\n      <td>0.0</td>\n    </tr>\n    <tr>\n      <th>2017-12-27 03:30:00</th>\n      <td>-0.021347</td>\n      <td>0.171271</td>\n      <td>-0.194156</td>\n      <td>0.116715</td>\n      <td>0.041014</td>\n      <td>0.336952</td>\n      <td>0.149449</td>\n      <td>-0.021448</td>\n      <td>-0.011043</td>\n      <td>0.084637</td>\n      <td>...</td>\n      <td>0.141899</td>\n      <td>-0.148311</td>\n      <td>0.196219</td>\n      <td>-0.346783</td>\n      <td>-0.120282</td>\n      <td>-0.188084</td>\n      <td>-0.305756</td>\n      <td>-0.171721</td>\n      <td>0.134611</td>\n      <td>0.0</td>\n    </tr>\n    <tr>\n      <th>...</th>\n      <td>...</td>\n      <td>...</td>\n      <td>...</td>\n      <td>...</td>\n      <td>...</td>\n      <td>...</td>\n      <td>...</td>\n      <td>...</td>\n      <td>...</td>\n      <td>...</td>\n      <td>...</td>\n      <td>...</td>\n      <td>...</td>\n      <td>...</td>\n      <td>...</td>\n      <td>...</td>\n      <td>...</td>\n      <td>...</td>\n      <td>...</td>\n      <td>...</td>\n      <td>...</td>\n    </tr>\n    <tr>\n      <th>2023-10-24 03:30:00</th>\n      <td>0.021473</td>\n      <td>0.100743</td>\n      <td>0.024843</td>\n      <td>0.006476</td>\n      <td>-0.007608</td>\n      <td>-0.040408</td>\n      <td>0.013060</td>\n      <td>-0.030450</td>\n      <td>-0.003029</td>\n      <td>0.046066</td>\n      <td>...</td>\n      <td>0.021396</td>\n      <td>-0.025420</td>\n      <td>-0.052931</td>\n      <td>0.070314</td>\n      <td>0.018483</td>\n      <td>-0.056911</td>\n      <td>0.026843</td>\n      <td>0.065956</td>\n      <td>-0.043312</td>\n      <td>0.0</td>\n    </tr>\n    <tr>\n      <th>2023-10-27 03:30:00</th>\n      <td>-0.004575</td>\n      <td>0.021473</td>\n      <td>0.100743</td>\n      <td>0.024843</td>\n      <td>0.006476</td>\n      <td>-0.007608</td>\n      <td>-0.040408</td>\n      <td>0.013060</td>\n      <td>-0.030450</td>\n      <td>-0.003029</td>\n      <td>...</td>\n      <td>0.020750</td>\n      <td>0.021396</td>\n      <td>-0.025420</td>\n      <td>-0.052931</td>\n      <td>0.070314</td>\n      <td>0.018483</td>\n      <td>-0.056911</td>\n      <td>0.026843</td>\n      <td>0.065956</td>\n      <td>1.0</td>\n    </tr>\n    <tr>\n      <th>2023-10-30 03:30:00</th>\n      <td>0.028884</td>\n      <td>-0.004575</td>\n      <td>0.021473</td>\n      <td>0.100743</td>\n      <td>0.024843</td>\n      <td>0.006476</td>\n      <td>-0.007608</td>\n      <td>-0.040408</td>\n      <td>0.013060</td>\n      <td>-0.030450</td>\n      <td>...</td>\n      <td>0.016332</td>\n      <td>0.020750</td>\n      <td>0.021396</td>\n      <td>-0.025420</td>\n      <td>-0.052931</td>\n      <td>0.070314</td>\n      <td>0.018483</td>\n      <td>-0.056911</td>\n      <td>0.026843</td>\n      <td>0.0</td>\n    </tr>\n    <tr>\n      <th>2023-11-02 03:30:00</th>\n      <td>0.004629</td>\n      <td>0.028884</td>\n      <td>-0.004575</td>\n      <td>0.021473</td>\n      <td>0.100743</td>\n      <td>0.024843</td>\n      <td>0.006476</td>\n      <td>-0.007608</td>\n      <td>-0.040408</td>\n      <td>0.013060</td>\n      <td>...</td>\n      <td>-0.013889</td>\n      <td>0.016332</td>\n      <td>0.020750</td>\n      <td>0.021396</td>\n      <td>-0.025420</td>\n      <td>-0.052931</td>\n      <td>0.070314</td>\n      <td>0.018483</td>\n      <td>-0.056911</td>\n      <td>1.0</td>\n    </tr>\n    <tr>\n      <th>2023-11-05 03:30:00</th>\n      <td>0.016022</td>\n      <td>0.004629</td>\n      <td>0.028884</td>\n      <td>-0.004575</td>\n      <td>0.021473</td>\n      <td>0.100743</td>\n      <td>0.024843</td>\n      <td>0.006476</td>\n      <td>-0.007608</td>\n      <td>-0.040408</td>\n      <td>...</td>\n      <td>-0.022806</td>\n      <td>-0.013889</td>\n      <td>0.016332</td>\n      <td>0.020750</td>\n      <td>0.021396</td>\n      <td>-0.025420</td>\n      <td>-0.052931</td>\n      <td>0.070314</td>\n      <td>0.018483</td>\n      <td>1.0</td>\n    </tr>\n  </tbody>\n</table>\n<p>718 rows × 83 columns</p>\n</div>"
     },
     "execution_count": 271,
     "metadata": {},
     "output_type": "execute_result"
    }
   ],
   "source": [
    "# clean data\n",
    "df = df_target.copy()\n",
    "df.dropna(inplace=True)\n",
    "df.drop(columns=['open', 'high', 'low', 'close', 'volume', 'open_close', 'open_low', 'open_high',\n",
    "                 'open_close_pct', 'open_low_pct', 'open_high_pct', 'max_low_high_pct'], inplace=True)\n",
    "df"
   ],
   "metadata": {
    "collapsed": false,
    "ExecuteTime": {
     "end_time": "2023-11-17T19:18:27.918629Z",
     "start_time": "2023-11-17T19:18:27.917115400Z"
    }
   },
   "id": "246c7da1a2b42895"
  },
  {
   "cell_type": "code",
   "execution_count": 272,
   "outputs": [
    {
     "name": "stdout",
     "output_type": "stream",
     "text": [
      "shape df:  (718, 83)\n",
      "target                  1.000000\n",
      "open_close_pct__29      0.103132\n",
      "max_low_high_pct__29    0.100581\n",
      "open_close_pct__32      0.091655\n",
      "max_low_high_pct__32    0.078357\n",
      "                          ...   \n",
      "open_close_pct__25     -0.049652\n",
      "max_low_high_pct__18   -0.052614\n",
      "open_close_pct__12     -0.055400\n",
      "open_close_pct__33     -0.058700\n",
      "open_close_pct__18     -0.060408\n",
      "Name: target, Length: 83, dtype: float64\n"
     ]
    }
   ],
   "source": [
    "# analyse df\n",
    "print(\"shape df: \", df.shape)\n",
    "print(df.corr()['target'].sort_values(ascending=False))"
   ],
   "metadata": {
    "collapsed": false,
    "ExecuteTime": {
     "end_time": "2023-11-17T19:18:27.949794200Z",
     "start_time": "2023-11-17T19:18:27.919629800Z"
    }
   },
   "id": "3d87e64fbbb8d81c"
  },
  {
   "cell_type": "code",
   "execution_count": 273,
   "outputs": [],
   "source": [
    "# create cross validator\n",
    "# Data and targets\n",
    "X, Y = df.iloc[:, :-1], df.iloc[:, -1]"
   ],
   "metadata": {
    "collapsed": false,
    "ExecuteTime": {
     "end_time": "2023-11-17T19:18:27.949794200Z",
     "start_time": "2023-11-17T19:18:27.933164600Z"
    }
   },
   "id": "da10620c1493511d"
  },
  {
   "cell_type": "code",
   "execution_count": 274,
   "outputs": [
    {
     "name": "stdout",
     "output_type": "stream",
     "text": [
      "Baseline accuracy: 0.5462962962962963\n",
      "              precision    recall  f1-score   support\n",
      "\n",
      "         0.0       0.55      0.33      0.41        52\n",
      "         1.0       0.55      0.75      0.63        56\n",
      "\n",
      "    accuracy                           0.55       108\n",
      "   macro avg       0.55      0.54      0.52       108\n",
      "weighted avg       0.55      0.55      0.52       108\n"
     ]
    }
   ],
   "source": [
    "# random x and y train and test\n",
    "# x_train, x_test, y_train, y_test= train_test_split(\n",
    "#     X, Y, test_size=.15, random_state=123\n",
    "# )\n",
    "# test faghat akharin vaziyat va na besorat random\n",
    "test_point = int(len(X)*0.85)\n",
    "x_train, x_test, y_train, y_test = X.iloc[:test_point,:],X.iloc[test_point:,:],Y.iloc[:test_point],Y.iloc[test_point:]\n",
    " \n",
    "xgb_clf = xgb.XGBClassifier(random_state=123)\n",
    "xgb_clf.get_params()\n",
    "xgb_clf.set_params(n_estimators=500)\n",
    "xgb_clf.fit(x_train, y_train)\n",
    "y_preds = xgb_clf.predict(x_test)\n",
    "accuracy = float(np.sum(y_preds==y_test))/y_test.shape[0]\n",
    "print(\"Baseline accuracy:\", accuracy)\n",
    "print(metrics.classification_report(y_test,y_preds))"
   ],
   "metadata": {
    "collapsed": false,
    "ExecuteTime": {
     "end_time": "2023-11-17T19:18:28.456617400Z",
     "start_time": "2023-11-17T19:18:27.939475100Z"
    }
   },
   "id": "d85983257bc4099c"
  },
  {
   "cell_type": "code",
   "execution_count": 275,
   "outputs": [],
   "source": [
    "################################################\n",
    "# yek noe digar baraye mohasebe\n",
    "# cross validator\n",
    "################################################"
   ],
   "metadata": {
    "collapsed": false,
    "ExecuteTime": {
     "end_time": "2023-11-17T19:18:28.456617400Z",
     "start_time": "2023-11-17T19:18:28.453109700Z"
    }
   },
   "id": "2baaef705cc828fc"
  },
  {
   "cell_type": "code",
   "execution_count": 276,
   "outputs": [
    {
     "data": {
      "text/plain": "   train-error-mean  train-error-std  test-error-mean  test-error-std\n0               0.0              0.0         0.509761        0.031199\n1               0.0              0.0         0.505604        0.028653\n2               0.0              0.0         0.507003        0.013441\n3               0.0              0.0         0.513918        0.007270\n4               0.0              0.0         0.508362        0.004723\n5               0.0              0.0         0.515317        0.008421\n6               0.0              0.0         0.515317        0.009469\n7               0.0              0.0         0.518094        0.016387\n8               0.0              0.0         0.519474        0.016514\n9               0.0              0.0         0.516686        0.015734",
      "text/html": "<div>\n<style scoped>\n    .dataframe tbody tr th:only-of-type {\n        vertical-align: middle;\n    }\n\n    .dataframe tbody tr th {\n        vertical-align: top;\n    }\n\n    .dataframe thead th {\n        text-align: right;\n    }\n</style>\n<table border=\"1\" class=\"dataframe\">\n  <thead>\n    <tr style=\"text-align: right;\">\n      <th></th>\n      <th>train-error-mean</th>\n      <th>train-error-std</th>\n      <th>test-error-mean</th>\n      <th>test-error-std</th>\n    </tr>\n  </thead>\n  <tbody>\n    <tr>\n      <th>0</th>\n      <td>0.0</td>\n      <td>0.0</td>\n      <td>0.509761</td>\n      <td>0.031199</td>\n    </tr>\n    <tr>\n      <th>1</th>\n      <td>0.0</td>\n      <td>0.0</td>\n      <td>0.505604</td>\n      <td>0.028653</td>\n    </tr>\n    <tr>\n      <th>2</th>\n      <td>0.0</td>\n      <td>0.0</td>\n      <td>0.507003</td>\n      <td>0.013441</td>\n    </tr>\n    <tr>\n      <th>3</th>\n      <td>0.0</td>\n      <td>0.0</td>\n      <td>0.513918</td>\n      <td>0.007270</td>\n    </tr>\n    <tr>\n      <th>4</th>\n      <td>0.0</td>\n      <td>0.0</td>\n      <td>0.508362</td>\n      <td>0.004723</td>\n    </tr>\n    <tr>\n      <th>5</th>\n      <td>0.0</td>\n      <td>0.0</td>\n      <td>0.515317</td>\n      <td>0.008421</td>\n    </tr>\n    <tr>\n      <th>6</th>\n      <td>0.0</td>\n      <td>0.0</td>\n      <td>0.515317</td>\n      <td>0.009469</td>\n    </tr>\n    <tr>\n      <th>7</th>\n      <td>0.0</td>\n      <td>0.0</td>\n      <td>0.518094</td>\n      <td>0.016387</td>\n    </tr>\n    <tr>\n      <th>8</th>\n      <td>0.0</td>\n      <td>0.0</td>\n      <td>0.519474</td>\n      <td>0.016514</td>\n    </tr>\n    <tr>\n      <th>9</th>\n      <td>0.0</td>\n      <td>0.0</td>\n      <td>0.516686</td>\n      <td>0.015734</td>\n    </tr>\n  </tbody>\n</table>\n</div>"
     },
     "execution_count": 276,
     "metadata": {},
     "output_type": "execute_result"
    }
   ],
   "source": [
    "# model with cross validation\n",
    "d_matrix = xgb.DMatrix(data=X, label=Y)\n",
    "params = {\n",
    "    'max_depth': 50 # count of tree in jungle\n",
    "}\n",
    "xgb_cv = xgb.cv(\n",
    "    dtrain=d_matrix, \n",
    "    params=params, \n",
    "    nfold=5, # tedad ghesmatha baraye cross validation\n",
    "    num_boost_round=10, # tedad max_depth agar model behtar nashod\n",
    "    seed=123, # seed random baraye random haye moshabeh \n",
    "    metrics=['error'] # noe mohasebe baraye cross validation\n",
    ")\n",
    "xgb_cv"
   ],
   "metadata": {
    "collapsed": false,
    "ExecuteTime": {
     "end_time": "2023-11-17T19:18:31.303329500Z",
     "start_time": "2023-11-17T19:18:28.456617400Z"
    }
   },
   "id": "8ca25e7fd1706937"
  },
  {
   "cell_type": "code",
   "execution_count": 276,
   "outputs": [],
   "source": [],
   "metadata": {
    "collapsed": false,
    "ExecuteTime": {
     "end_time": "2023-11-17T19:18:31.303329500Z",
     "start_time": "2023-11-17T19:18:31.298818900Z"
    }
   },
   "id": "dbc9d6e9b7de0c4b"
  }
 ],
 "metadata": {
  "kernelspec": {
   "display_name": "Python 3",
   "language": "python",
   "name": "python3"
  },
  "language_info": {
   "codemirror_mode": {
    "name": "ipython",
    "version": 2
   },
   "file_extension": ".py",
   "mimetype": "text/x-python",
   "name": "python",
   "nbconvert_exporter": "python",
   "pygments_lexer": "ipython2",
   "version": "2.7.6"
  }
 },
 "nbformat": 4,
 "nbformat_minor": 5
}
