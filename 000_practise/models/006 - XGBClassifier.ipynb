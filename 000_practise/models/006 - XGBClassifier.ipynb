{
 "cells": [
  {
   "cell_type": "code",
   "execution_count": 1,
   "id": "initial_id",
   "metadata": {
    "collapsed": true,
    "ExecuteTime": {
     "end_time": "2023-11-17T19:33:35.841418300Z",
     "start_time": "2023-11-17T19:33:34.087753600Z"
    }
   },
   "outputs": [],
   "source": [
    "import logging\n",
    "\n",
    "import numpy as np\n",
    "import xgboost as xgb\n",
    "import talib\n",
    "from binance.enums import HistoricalKlinesType\n",
    "from matplotlib import pyplot as plt\n",
    "from sklearn import metrics\n",
    "from sklearn.model_selection import train_test_split\n",
    "from sklearn.preprocessing import LabelEncoder\n",
    "\n",
    "from main_funcs import get_and_update_data"
   ]
  },
  {
   "cell_type": "code",
   "execution_count": 2,
   "outputs": [],
   "source": [
    "# configs\n",
    "country=None\n",
    "joft = \"ETHUSDT\"\n",
    "interval = \"4h\"\n",
    "\n",
    "# remove small candle \n",
    "zero_remover_pct = 0.0\n",
    "\n",
    "# add history of open_close_pct \n",
    "open_close_pct_history_count = 40\n",
    "\n",
    "# add history of max_low_high_pct \n",
    "max_low_high_pct_history_count = 40\n",
    "\n",
    "# calculate rsi with different lengths \n",
    "rsi_ranges = range(14, 14)\n",
    "\n",
    "# add history of rsi\n",
    "rsi_history_count = 60\n",
    "\n",
    "# add moving average of rsi\n",
    "rsi_ma_lengths = [3,7,9,10,14,20,50,100]\n",
    "rsi_ma_ranges = []\n"
   ],
   "metadata": {
    "collapsed": false,
    "ExecuteTime": {
     "end_time": "2023-11-17T19:33:35.847776100Z",
     "start_time": "2023-11-17T19:33:35.841418300Z"
    }
   },
   "id": "b321682cef2eb2a7"
  },
  {
   "cell_type": "code",
   "execution_count": 3,
   "outputs": [],
   "source": [
    "# validation config\n",
    "\n",
    "# valid rsi_ma_ranges\n",
    "for r in  rsi_ma_ranges:\n",
    "    if not r in rsi_ranges:\n",
    "        raise ValueError(\"rsi_ma_ranges items is not in rsi_ranges\")"
   ],
   "metadata": {
    "collapsed": false,
    "ExecuteTime": {
     "end_time": "2023-11-17T19:33:35.853824300Z",
     "start_time": "2023-11-17T19:33:35.845637400Z"
    }
   },
   "id": "f3f69ae22497eaeb"
  },
  {
   "cell_type": "code",
   "execution_count": 4,
   "outputs": [
    {
     "name": "stderr",
     "output_type": "stream",
     "text": [
      "WARNING:root:not updatetd! for update set \"country\"!\n"
     ]
    }
   ],
   "source": [
    "# get data from database\n",
    "df_source = get_and_update_data(joft, interval, HistoricalKlinesType.SPOT, country=country)\n",
    "df_source = df_source[[\"open\", \"high\", \"low\", \"close\", \"volume\"]]\n",
    "# df_source.tail(1)"
   ],
   "metadata": {
    "collapsed": false,
    "ExecuteTime": {
     "end_time": "2023-11-17T19:33:35.967592Z",
     "start_time": "2023-11-17T19:33:35.851812400Z"
    }
   },
   "id": "ab9b45c8321aa8d6"
  },
  {
   "cell_type": "code",
   "execution_count": 5,
   "outputs": [],
   "source": [
    "# calculate parameters\n",
    "df_cal = df_source.copy()\n",
    "\n",
    "# change from open to other columns\n",
    "df_cal['open_close'] = df_cal.close - df_cal.open\n",
    "df_cal['open_low'] = df_cal.low - df_cal.open\n",
    "df_cal['open_high'] = df_cal.high - df_cal.open\n",
    "\n",
    "# change percent from open to other columns\n",
    "df_cal['open_close_pct'] = df_cal.open_close / df_cal.open\n",
    "df_cal['open_low_pct'] = df_cal.open_low / df_cal.open\n",
    "df_cal['open_high_pct'] = df_cal.open_high / df_cal.open\n",
    "\n",
    "# price direction\n",
    "# df_target['open_close_direction'] = np.sign(df_target[\"open_close\"])\n",
    "# df_target['open_open_high_direction'] = np.sign(df_target[\"open_low\"]).astype(int)\n",
    "# df_target['open_high_direction'] = np.sign(df_target[\"open_high\"]).astype(int)\n",
    "\n",
    "# max abs low and high\n",
    "df_cal['max_low_high_pct'] = np.where(\n",
    "    df_cal['open_low_pct'].abs() > df_cal['open_high_pct'].abs(),\n",
    "    df_cal['open_low_pct'],\n",
    "    df_cal['open_high_pct']\n",
    ")\n",
    "\n",
    "# open_close_pct history\n",
    "for h in range(0,open_close_pct_history_count+1):\n",
    "    df_cal[f\"open_close_pct__{h}\"] = df_cal.open_close_pct.shift(h)\n",
    "    \n",
    "\n",
    "# max_low_high_pct history\n",
    "for h in range(0,max_low_high_pct_history_count+1):\n",
    "    df_cal[f\"max_low_high_pct__{h}\"] = df_cal.max_low_high_pct.shift(h)\n",
    "    \n",
    "\n",
    "# calculate multi rsi\n",
    "for rsi in rsi_ranges:\n",
    "    for h in range(0, rsi_history_count + 1):\n",
    "        df_cal[f\"rsi_{rsi}__{h}\"] = talib.RSI(df_cal.close.shift(h), timeperiod=rsi)\n",
    "        \n",
    "# calculate rsi sma \n",
    "for ma_length in rsi_ma_lengths:\n",
    "    for rsi in rsi_ma_ranges:\n",
    "        df_cal[f\"rsi_{rsi}_ma_{ma_length}\"] =  talib.SMA(df_cal[f\"rsi_{rsi}__{0}\"], timeperiod=ma_length)\n",
    "# df_cal"
   ],
   "metadata": {
    "collapsed": false,
    "ExecuteTime": {
     "end_time": "2023-11-17T19:33:36.022367600Z",
     "start_time": "2023-11-17T19:33:35.968589900Z"
    }
   },
   "id": "f883ecae944a7fe7"
  },
  {
   "cell_type": "code",
   "execution_count": 6,
   "outputs": [
    {
     "data": {
      "text/plain": "<Figure size 640x480 with 2 Axes>",
      "image/png": "[encoded data removed]"
     },
     "metadata": {},
     "output_type": "display_data"
    }
   ],
   "source": [
    "# create calculate target\n",
    "df_target = df_cal.copy()\n",
    "\n",
    "# calculate target\n",
    "df_target[\"target\"] = np.where(\n",
    "    df_target['max_low_high_pct'] > zero_remover_pct,\n",
    "    1,\n",
    "    np.where(\n",
    "        df_target['max_low_high_pct'] < -zero_remover_pct,\n",
    "        -1, 0\n",
    "    )\n",
    ")\n",
    "\n",
    "# convert -1 and 1 and 0 to True False for better result\n",
    "df_target[\"target\"] = np.where(df_target['target'] ==1, 1,0)\n",
    "\n",
    "\n",
    "# show chart\n",
    "fig, axs = plt.subplots(2, 1)\n",
    "df_target[\"target\"].value_counts().plot(kind='bar', ax=axs[0])\n",
    "# (np.sign(df_target[\"open_close\"]) == np.sign(df_target[\"target\"])).value_counts().plot(kind='bar',ax=axs[1])\n",
    "\n",
    "# shift target the real place\n",
    "df_target[\"target\"] = df_target[\"target\"].shift(-1)\n",
    "# df_target"
   ],
   "metadata": {
    "collapsed": false,
    "ExecuteTime": {
     "end_time": "2023-11-17T19:33:36.167851700Z",
     "start_time": "2023-11-17T19:33:35.994208200Z"
    }
   },
   "id": "e7bbcaef4090098e"
  },
  {
   "cell_type": "code",
   "execution_count": 7,
   "outputs": [
    {
     "data": {
      "text/plain": "                     open_close_pct__0  open_close_pct__1  open_close_pct__2  \\\nopen_time                                                                      \n2017-08-23 23:30:00          -0.008883           0.002202           0.000000   \n2017-08-24 03:30:00          -0.001647          -0.008883           0.002202   \n2017-08-24 07:30:00           0.010532          -0.001647          -0.008883   \n2017-08-24 11:30:00           0.015916           0.010532          -0.001647   \n2017-08-24 15:30:00          -0.004062           0.015916           0.010532   \n...                                ...                ...                ...   \n2023-11-12 19:30:00          -0.003889           0.004689          -0.004962   \n2023-11-12 23:30:00          -0.002162          -0.003889           0.004689   \n2023-11-13 03:30:00          -0.002421          -0.002162          -0.003889   \n2023-11-13 07:30:00           0.004118          -0.002421          -0.002162   \n2023-11-13 11:30:00          -0.000693           0.004118          -0.002421   \n\n                     open_close_pct__3  open_close_pct__4  open_close_pct__5  \\\nopen_time                                                                      \n2017-08-23 23:30:00           0.000439           0.011444           0.016045   \n2017-08-24 03:30:00           0.000000           0.000439           0.011444   \n2017-08-24 07:30:00           0.002202           0.000000           0.000439   \n2017-08-24 11:30:00          -0.008883           0.002202           0.000000   \n2017-08-24 15:30:00          -0.001647          -0.008883           0.002202   \n...                                ...                ...                ...   \n2023-11-12 19:30:00           0.003086          -0.000847          -0.010878   \n2023-11-12 23:30:00          -0.004962           0.003086          -0.000847   \n2023-11-13 03:30:00           0.004689          -0.004962           0.003086   \n2023-11-13 07:30:00          -0.003889           0.004689          -0.004962   \n2023-11-13 11:30:00          -0.002162          -0.003889           0.004689   \n\n                     open_close_pct__6  open_close_pct__7  open_close_pct__8  \\\nopen_time                                                                      \n2017-08-23 23:30:00           0.009022           0.006392          -0.008902   \n2017-08-24 03:30:00           0.016045           0.009022           0.006392   \n2017-08-24 07:30:00           0.011444           0.016045           0.009022   \n2017-08-24 11:30:00           0.000439           0.011444           0.016045   \n2017-08-24 15:30:00           0.000000           0.000439           0.011444   \n...                                ...                ...                ...   \n2023-11-12 19:30:00           0.003748           0.005098           0.001251   \n2023-11-12 23:30:00          -0.010878           0.003748           0.005098   \n2023-11-13 03:30:00          -0.000847          -0.010878           0.003748   \n2023-11-13 07:30:00           0.003086          -0.000847          -0.010878   \n2023-11-13 11:30:00          -0.004962           0.003086          -0.000847   \n\n                     open_close_pct__9  ...  max_low_high_pct__32  \\\nopen_time                               ...                         \n2017-08-23 23:30:00           0.025570  ...             -0.037234   \n2017-08-24 03:30:00          -0.008902  ...             -0.038253   \n2017-08-24 07:30:00           0.006392  ...             -0.038990   \n2017-08-24 11:30:00           0.009022  ...              0.022263   \n2017-08-24 15:30:00           0.016045  ...             -0.026061   \n...                                ...  ...                   ...   \n2023-11-12 19:30:00           0.004124  ...             -0.013130   \n2023-11-12 23:30:00           0.001251  ...             -0.008220   \n2023-11-13 03:30:00           0.005098  ...              0.019811   \n2023-11-13 07:30:00           0.003748  ...             -0.011350   \n2023-11-13 11:30:00          -0.010878  ...              0.004106   \n\n                     max_low_high_pct__33  max_low_high_pct__34  \\\nopen_time                                                         \n2017-08-23 23:30:00              0.018123              0.026841   \n2017-08-24 03:30:00             -0.037234              0.018123   \n2017-08-24 07:30:00             -0.038253             -0.037234   \n2017-08-24 11:30:00             -0.038990             -0.038253   \n2017-08-24 15:30:00              0.022263             -0.038990   \n...                                   ...                   ...   \n2023-11-12 19:30:00              0.003391             -0.012073   \n2023-11-12 23:30:00             -0.013130              0.003391   \n2023-11-13 03:30:00             -0.008220             -0.013130   \n2023-11-13 07:30:00              0.019811             -0.008220   \n2023-11-13 11:30:00             -0.011350              0.019811   \n\n                     max_low_high_pct__35  max_low_high_pct__36  \\\nopen_time                                                         \n2017-08-23 23:30:00             -0.022550              0.030670   \n2017-08-24 03:30:00              0.026841             -0.022550   \n2017-08-24 07:30:00              0.018123              0.026841   \n2017-08-24 11:30:00             -0.037234              0.018123   \n2017-08-24 15:30:00             -0.038253             -0.037234   \n...                                   ...                   ...   \n2023-11-12 19:30:00             -0.010522             -0.008310   \n2023-11-12 23:30:00             -0.012073             -0.010522   \n2023-11-13 03:30:00              0.003391             -0.012073   \n2023-11-13 07:30:00             -0.013130              0.003391   \n2023-11-13 11:30:00             -0.008220             -0.013130   \n\n                     max_low_high_pct__37  max_low_high_pct__38  \\\nopen_time                                                         \n2017-08-23 23:30:00             -0.030968             -0.017446   \n2017-08-24 03:30:00              0.030670             -0.030968   \n2017-08-24 07:30:00             -0.022550              0.030670   \n2017-08-24 11:30:00              0.026841             -0.022550   \n2017-08-24 15:30:00              0.018123              0.026841   \n...                                   ...                   ...   \n2023-11-12 19:30:00              0.008169              0.010988   \n2023-11-12 23:30:00             -0.008310              0.008169   \n2023-11-13 03:30:00             -0.010522             -0.008310   \n2023-11-13 07:30:00             -0.012073             -0.010522   \n2023-11-13 11:30:00              0.003391             -0.012073   \n\n                     max_low_high_pct__39  max_low_high_pct__40  target  \nopen_time                                                                \n2017-08-23 23:30:00              0.013151              0.022681     0.0  \n2017-08-24 03:30:00             -0.017446              0.013151     1.0  \n2017-08-24 07:30:00             -0.030968             -0.017446     1.0  \n2017-08-24 11:30:00              0.030670             -0.030968     1.0  \n2017-08-24 15:30:00             -0.022550              0.030670     2.0  \n...                                   ...                   ...     ...  \n2023-11-12 19:30:00             -0.009919             -0.005947     0.0  \n2023-11-12 23:30:00              0.010988             -0.009919     1.0  \n2023-11-13 03:30:00              0.008169              0.010988     0.0  \n2023-11-13 07:30:00             -0.008310              0.008169     0.0  \n2023-11-13 11:30:00             -0.010522             -0.008310     1.0  \n\n[13620 rows x 83 columns]",
      "text/html": "<div>\n<style scoped>\n    .dataframe tbody tr th:only-of-type {\n        vertical-align: middle;\n    }\n\n    .dataframe tbody tr th {\n        vertical-align: top;\n    }\n\n    .dataframe thead th {\n        text-align: right;\n    }\n</style>\n<table border=\"1\" class=\"dataframe\">\n  <thead>\n    <tr style=\"text-align: right;\">\n      <th></th>\n      <th>open_close_pct__0</th>\n      <th>open_close_pct__1</th>\n      <th>open_close_pct__2</th>\n      <th>open_close_pct__3</th>\n      <th>open_close_pct__4</th>\n      <th>open_close_pct__5</th>\n      <th>open_close_pct__6</th>\n      <th>open_close_pct__7</th>\n      <th>open_close_pct__8</th>\n      <th>open_close_pct__9</th>\n      <th>...</th>\n      <th>max_low_high_pct__32</th>\n      <th>max_low_high_pct__33</th>\n      <th>max_low_high_pct__34</th>\n      <th>max_low_high_pct__35</th>\n      <th>max_low_high_pct__36</th>\n      <th>max_low_high_pct__37</th>\n      <th>max_low_high_pct__38</th>\n      <th>max_low_high_pct__39</th>\n      <th>max_low_high_pct__40</th>\n      <th>target</th>\n    </tr>\n    <tr>\n      <th>open_time</th>\n      <th></th>\n      <th></th>\n      <th></th>\n      <th></th>\n      <th></th>\n      <th></th>\n      <th></th>\n      <th></th>\n      <th></th>\n      <th></th>\n      <th></th>\n      <th></th>\n      <th></th>\n      <th></th>\n      <th></th>\n      <th></th>\n      <th></th>\n      <th></th>\n      <th></th>\n      <th></th>\n      <th></th>\n    </tr>\n  </thead>\n  <tbody>\n    <tr>\n      <th>2017-08-23 23:30:00</th>\n      <td>-0.008883</td>\n      <td>0.002202</td>\n      <td>0.000000</td>\n      <td>0.000439</td>\n      <td>0.011444</td>\n      <td>0.016045</td>\n      <td>0.009022</td>\n      <td>0.006392</td>\n      <td>-0.008902</td>\n      <td>0.025570</td>\n      <td>...</td>\n      <td>-0.037234</td>\n      <td>0.018123</td>\n      <td>0.026841</td>\n      <td>-0.022550</td>\n      <td>0.030670</td>\n      <td>-0.030968</td>\n      <td>-0.017446</td>\n      <td>0.013151</td>\n      <td>0.022681</td>\n      <td>0.0</td>\n    </tr>\n    <tr>\n      <th>2017-08-24 03:30:00</th>\n      <td>-0.001647</td>\n      <td>-0.008883</td>\n      <td>0.002202</td>\n      <td>0.000000</td>\n      <td>0.000439</td>\n      <td>0.011444</td>\n      <td>0.016045</td>\n      <td>0.009022</td>\n      <td>0.006392</td>\n      <td>-0.008902</td>\n      <td>...</td>\n      <td>-0.038253</td>\n      <td>-0.037234</td>\n      <td>0.018123</td>\n      <td>0.026841</td>\n      <td>-0.022550</td>\n      <td>0.030670</td>\n      <td>-0.030968</td>\n      <td>-0.017446</td>\n      <td>0.013151</td>\n      <td>1.0</td>\n    </tr>\n    <tr>\n      <th>2017-08-24 07:30:00</th>\n      <td>0.010532</td>\n      <td>-0.001647</td>\n      <td>-0.008883</td>\n      <td>0.002202</td>\n      <td>0.000000</td>\n      <td>0.000439</td>\n      <td>0.011444</td>\n      <td>0.016045</td>\n      <td>0.009022</td>\n      <td>0.006392</td>\n      <td>...</td>\n      <td>-0.038990</td>\n      <td>-0.038253</td>\n      <td>-0.037234</td>\n      <td>0.018123</td>\n      <td>0.026841</td>\n      <td>-0.022550</td>\n      <td>0.030670</td>\n      <td>-0.030968</td>\n      <td>-0.017446</td>\n      <td>1.0</td>\n    </tr>\n    <tr>\n      <th>2017-08-24 11:30:00</th>\n      <td>0.015916</td>\n      <td>0.010532</td>\n      <td>-0.001647</td>\n      <td>-0.008883</td>\n      <td>0.002202</td>\n      <td>0.000000</td>\n      <td>0.000439</td>\n      <td>0.011444</td>\n      <td>0.016045</td>\n      <td>0.009022</td>\n      <td>...</td>\n      <td>0.022263</td>\n      <td>-0.038990</td>\n      <td>-0.038253</td>\n      <td>-0.037234</td>\n      <td>0.018123</td>\n      <td>0.026841</td>\n      <td>-0.022550</td>\n      <td>0.030670</td>\n      <td>-0.030968</td>\n      <td>1.0</td>\n    </tr>\n    <tr>\n      <th>2017-08-24 15:30:00</th>\n      <td>-0.004062</td>\n      <td>0.015916</td>\n      <td>0.010532</td>\n      <td>-0.001647</td>\n      <td>-0.008883</td>\n      <td>0.002202</td>\n      <td>0.000000</td>\n      <td>0.000439</td>\n      <td>0.011444</td>\n      <td>0.016045</td>\n      <td>...</td>\n      <td>-0.026061</td>\n      <td>0.022263</td>\n      <td>-0.038990</td>\n      <td>-0.038253</td>\n      <td>-0.037234</td>\n      <td>0.018123</td>\n      <td>0.026841</td>\n      <td>-0.022550</td>\n      <td>0.030670</td>\n      <td>2.0</td>\n    </tr>\n    <tr>\n      <th>...</th>\n      <td>...</td>\n      <td>...</td>\n      <td>...</td>\n      <td>...</td>\n      <td>...</td>\n      <td>...</td>\n      <td>...</td>\n      <td>...</td>\n      <td>...</td>\n      <td>...</td>\n      <td>...</td>\n      <td>...</td>\n      <td>...</td>\n      <td>...</td>\n      <td>...</td>\n      <td>...</td>\n      <td>...</td>\n      <td>...</td>\n      <td>...</td>\n      <td>...</td>\n      <td>...</td>\n    </tr>\n    <tr>\n      <th>2023-11-12 19:30:00</th>\n      <td>-0.003889</td>\n      <td>0.004689</td>\n      <td>-0.004962</td>\n      <td>0.003086</td>\n      <td>-0.000847</td>\n      <td>-0.010878</td>\n      <td>0.003748</td>\n      <td>0.005098</td>\n      <td>0.001251</td>\n      <td>0.004124</td>\n      <td>...</td>\n      <td>-0.013130</td>\n      <td>0.003391</td>\n      <td>-0.012073</td>\n      <td>-0.010522</td>\n      <td>-0.008310</td>\n      <td>0.008169</td>\n      <td>0.010988</td>\n      <td>-0.009919</td>\n      <td>-0.005947</td>\n      <td>0.0</td>\n    </tr>\n    <tr>\n      <th>2023-11-12 23:30:00</th>\n      <td>-0.002162</td>\n      <td>-0.003889</td>\n      <td>0.004689</td>\n      <td>-0.004962</td>\n      <td>0.003086</td>\n      <td>-0.000847</td>\n      <td>-0.010878</td>\n      <td>0.003748</td>\n      <td>0.005098</td>\n      <td>0.001251</td>\n      <td>...</td>\n      <td>-0.008220</td>\n      <td>-0.013130</td>\n      <td>0.003391</td>\n      <td>-0.012073</td>\n      <td>-0.010522</td>\n      <td>-0.008310</td>\n      <td>0.008169</td>\n      <td>0.010988</td>\n      <td>-0.009919</td>\n      <td>1.0</td>\n    </tr>\n    <tr>\n      <th>2023-11-13 03:30:00</th>\n      <td>-0.002421</td>\n      <td>-0.002162</td>\n      <td>-0.003889</td>\n      <td>0.004689</td>\n      <td>-0.004962</td>\n      <td>0.003086</td>\n      <td>-0.000847</td>\n      <td>-0.010878</td>\n      <td>0.003748</td>\n      <td>0.005098</td>\n      <td>...</td>\n      <td>0.019811</td>\n      <td>-0.008220</td>\n      <td>-0.013130</td>\n      <td>0.003391</td>\n      <td>-0.012073</td>\n      <td>-0.010522</td>\n      <td>-0.008310</td>\n      <td>0.008169</td>\n      <td>0.010988</td>\n      <td>0.0</td>\n    </tr>\n    <tr>\n      <th>2023-11-13 07:30:00</th>\n      <td>0.004118</td>\n      <td>-0.002421</td>\n      <td>-0.002162</td>\n      <td>-0.003889</td>\n      <td>0.004689</td>\n      <td>-0.004962</td>\n      <td>0.003086</td>\n      <td>-0.000847</td>\n      <td>-0.010878</td>\n      <td>0.003748</td>\n      <td>...</td>\n      <td>-0.011350</td>\n      <td>0.019811</td>\n      <td>-0.008220</td>\n      <td>-0.013130</td>\n      <td>0.003391</td>\n      <td>-0.012073</td>\n      <td>-0.010522</td>\n      <td>-0.008310</td>\n      <td>0.008169</td>\n      <td>0.0</td>\n    </tr>\n    <tr>\n      <th>2023-11-13 11:30:00</th>\n      <td>-0.000693</td>\n      <td>0.004118</td>\n      <td>-0.002421</td>\n      <td>-0.002162</td>\n      <td>-0.003889</td>\n      <td>0.004689</td>\n      <td>-0.004962</td>\n      <td>0.003086</td>\n      <td>-0.000847</td>\n      <td>-0.010878</td>\n      <td>...</td>\n      <td>0.004106</td>\n      <td>-0.011350</td>\n      <td>0.019811</td>\n      <td>-0.008220</td>\n      <td>-0.013130</td>\n      <td>0.003391</td>\n      <td>-0.012073</td>\n      <td>-0.010522</td>\n      <td>-0.008310</td>\n      <td>1.0</td>\n    </tr>\n  </tbody>\n</table>\n<p>13620 rows × 83 columns</p>\n</div>"
     },
     "execution_count": 7,
     "metadata": {},
     "output_type": "execute_result"
    }
   ],
   "source": [
    "# clean data\n",
    "df = df_target.copy()\n",
    "df.dropna(inplace=True)\n",
    "df.drop(columns=['open', 'high', 'low', 'close', 'volume', 'open_close', 'open_low', 'open_high',\n",
    "                 'open_close_pct', 'open_low_pct', 'open_high_pct', 'max_low_high_pct'], inplace=True)\n",
    "df"
   ],
   "metadata": {
    "collapsed": false,
    "ExecuteTime": {
     "end_time": "2023-11-17T19:33:36.208414100Z",
     "start_time": "2023-11-17T19:33:36.164856700Z"
    }
   },
   "id": "246c7da1a2b42895"
  },
  {
   "cell_type": "code",
   "execution_count": 8,
   "outputs": [
    {
     "name": "stdout",
     "output_type": "stream",
     "text": [
      "shape df:  (13620, 83)\n"
     ]
    },
    {
     "data": {
      "text/plain": "target                 1.000000\nopen_close_pct__5      0.030030\nopen_close_pct__18     0.020474\nmax_low_high_pct__5    0.019666\nopen_close_pct__27     0.011648\n                         ...   \nmax_low_high_pct__9   -0.025197\nmax_low_high_pct__0   -0.025817\nmax_low_high_pct__1   -0.028672\nmax_low_high_pct__2   -0.030319\nmax_low_high_pct__3   -0.034762\nName: target, Length: 83, dtype: float64"
     },
     "execution_count": 8,
     "metadata": {},
     "output_type": "execute_result"
    }
   ],
   "source": [
    "# analyse df\n",
    "print(\"shape df: \", df.shape)\n",
    "df.corr()['target'].sort_values(ascending=False)"
   ],
   "metadata": {
    "collapsed": false,
    "ExecuteTime": {
     "end_time": "2023-11-17T19:33:36.347279Z",
     "start_time": "2023-11-17T19:33:36.198415500Z"
    }
   },
   "id": "3d87e64fbbb8d81c"
  },
  {
   "cell_type": "code",
   "execution_count": 9,
   "outputs": [],
   "source": [
    "# create cross validator\n",
    "# Data and targets\n",
    "X, Y = df.iloc[:, :-1], df.iloc[:, -1]"
   ],
   "metadata": {
    "collapsed": false,
    "ExecuteTime": {
     "end_time": "2023-11-17T19:33:36.397964Z",
     "start_time": "2023-11-17T19:33:36.346452700Z"
    }
   },
   "id": "da10620c1493511d"
  },
  {
   "cell_type": "code",
   "execution_count": 10,
   "outputs": [
    {
     "name": "stdout",
     "output_type": "stream",
     "text": [
      "Baseline accuracy: 0.6133137542829172\n",
      "              precision    recall  f1-score   support\n",
      "\n",
      "         0.0       0.71      0.84      0.77      1287\n",
      "         1.0       0.30      0.20      0.24       363\n",
      "         2.0       0.35      0.25      0.29       393\n",
      "\n",
      "    accuracy                           0.61      2043\n",
      "   macro avg       0.45      0.43      0.43      2043\n",
      "weighted avg       0.57      0.61      0.58      2043\n"
     ]
    }
   ],
   "source": [
    "# random x and y train and test\n",
    "# x_train, x_test, y_train, y_test= train_test_split(\n",
    "#     X, Y, test_size=.15, random_state=123\n",
    "# )\n",
    "# test faghat akharin vaziyat va na besorat random\n",
    "test_point = int(len(X)*0.85)\n",
    "x_train, x_test, y_train, y_test = X.iloc[:test_point,:],X.iloc[test_point:,:],Y.iloc[:test_point],Y.iloc[test_point:]\n",
    "le = LabelEncoder()\n",
    "# y_train = le.fit_transform(y_train)\n",
    "# y_train\n",
    "xgb_clf = xgb.XGBClassifier(random_state=123)\n",
    "xgb_clf.set_params(n_estimators=500)\n",
    "xgb_clf.fit(x_train, y_train)\n",
    "y_preds = xgb_clf.predict(x_test)\n",
    "accuracy = float(np.sum(y_preds==y_test))/y_test.shape[0]\n",
    "print(\"Baseline accuracy:\", accuracy)\n",
    "print(metrics.classification_report(y_test,y_preds))"
   ],
   "metadata": {
    "collapsed": false,
    "ExecuteTime": {
     "end_time": "2023-11-17T19:33:43.352111700Z",
     "start_time": "2023-11-17T19:33:36.351297100Z"
    }
   },
   "id": "d85983257bc4099c"
  },
  {
   "cell_type": "code",
   "execution_count": 11,
   "outputs": [],
   "source": [
    "################################################\n",
    "# yek noe digar baraye mohasebe\n",
    "# cross validator\n",
    "################################################"
   ],
   "metadata": {
    "collapsed": false,
    "ExecuteTime": {
     "end_time": "2023-11-17T19:33:43.364320600Z",
     "start_time": "2023-11-17T19:33:43.353769200Z"
    }
   },
   "id": "2baaef705cc828fc"
  },
  {
   "cell_type": "code",
   "execution_count": 12,
   "outputs": [
    {
     "data": {
      "text/plain": "   train-error-mean  train-error-std  test-error-mean  test-error-std\n0         -0.111601         0.004244        -0.111601        0.016974\n1         -0.111601         0.004244        -0.111601        0.016974\n2         -0.331810         0.001744        -0.110352        0.008736\n3         -0.371512         0.002060        -0.111601        0.005430\n4         -0.374229         0.002338        -0.104919        0.007543\n5         -0.374229         0.002338        -0.107269        0.005422\n6         -0.374229         0.002338        -0.104185        0.007603\n7         -0.374229         0.002338        -0.105433        0.010364\n8         -0.374229         0.002338        -0.104552        0.011206\n9         -0.374229         0.002338        -0.104479        0.011592",
      "text/html": "<div>\n<style scoped>\n    .dataframe tbody tr th:only-of-type {\n        vertical-align: middle;\n    }\n\n    .dataframe tbody tr th {\n        vertical-align: top;\n    }\n\n    .dataframe thead th {\n        text-align: right;\n    }\n</style>\n<table border=\"1\" class=\"dataframe\">\n  <thead>\n    <tr style=\"text-align: right;\">\n      <th></th>\n      <th>train-error-mean</th>\n      <th>train-error-std</th>\n      <th>test-error-mean</th>\n      <th>test-error-std</th>\n    </tr>\n  </thead>\n  <tbody>\n    <tr>\n      <th>0</th>\n      <td>-0.111601</td>\n      <td>0.004244</td>\n      <td>-0.111601</td>\n      <td>0.016974</td>\n    </tr>\n    <tr>\n      <th>1</th>\n      <td>-0.111601</td>\n      <td>0.004244</td>\n      <td>-0.111601</td>\n      <td>0.016974</td>\n    </tr>\n    <tr>\n      <th>2</th>\n      <td>-0.331810</td>\n      <td>0.001744</td>\n      <td>-0.110352</td>\n      <td>0.008736</td>\n    </tr>\n    <tr>\n      <th>3</th>\n      <td>-0.371512</td>\n      <td>0.002060</td>\n      <td>-0.111601</td>\n      <td>0.005430</td>\n    </tr>\n    <tr>\n      <th>4</th>\n      <td>-0.374229</td>\n      <td>0.002338</td>\n      <td>-0.104919</td>\n      <td>0.007543</td>\n    </tr>\n    <tr>\n      <th>5</th>\n      <td>-0.374229</td>\n      <td>0.002338</td>\n      <td>-0.107269</td>\n      <td>0.005422</td>\n    </tr>\n    <tr>\n      <th>6</th>\n      <td>-0.374229</td>\n      <td>0.002338</td>\n      <td>-0.104185</td>\n      <td>0.007603</td>\n    </tr>\n    <tr>\n      <th>7</th>\n      <td>-0.374229</td>\n      <td>0.002338</td>\n      <td>-0.105433</td>\n      <td>0.010364</td>\n    </tr>\n    <tr>\n      <th>8</th>\n      <td>-0.374229</td>\n      <td>0.002338</td>\n      <td>-0.104552</td>\n      <td>0.011206</td>\n    </tr>\n    <tr>\n      <th>9</th>\n      <td>-0.374229</td>\n      <td>0.002338</td>\n      <td>-0.104479</td>\n      <td>0.011592</td>\n    </tr>\n  </tbody>\n</table>\n</div>"
     },
     "execution_count": 12,
     "metadata": {},
     "output_type": "execute_result"
    }
   ],
   "source": [
    "# model with cross validation\n",
    "d_matrix = xgb.DMatrix(data=X, label=Y)\n",
    "params = {\n",
    "    'max_depth': 50 # count of tree in jungle\n",
    "}\n",
    "xgb_cv = xgb.cv(\n",
    "    dtrain=d_matrix, \n",
    "    params=params, \n",
    "    nfold=5, # tedad ghesmatha baraye cross validation\n",
    "    num_boost_round=10, # tedad max_depth agar model behtar nashod\n",
    "    seed=123, # seed random baraye random haye moshabeh \n",
    "    metrics=['error'] # noe mohasebe baraye cross validation\n",
    ")\n",
    "xgb_cv"
   ],
   "metadata": {
    "collapsed": false,
    "ExecuteTime": {
     "end_time": "2023-11-17T19:36:55.140303700Z",
     "start_time": "2023-11-17T19:33:43.355780Z"
    }
   },
   "id": "8ca25e7fd1706937"
  },
  {
   "cell_type": "code",
   "execution_count": 12,
   "outputs": [],
   "source": [],
   "metadata": {
    "collapsed": false,
    "ExecuteTime": {
     "end_time": "2023-11-17T19:36:55.140303700Z",
     "start_time": "2023-11-17T19:36:55.132780200Z"
    }
   },
   "id": "dbc9d6e9b7de0c4b"
  }
 ],
 "metadata": {
  "kernelspec": {
   "display_name": "Python 3",
   "language": "python",
   "name": "python3"
  },
  "language_info": {
   "codemirror_mode": {
    "name": "ipython",
    "version": 2
   },
   "file_extension": ".py",
   "mimetype": "text/x-python",
   "name": "python",
   "nbconvert_exporter": "python",
   "pygments_lexer": "ipython2",
   "version": "2.7.6"
  }
 },
 "nbformat": 4,
 "nbformat_minor": 5
}
