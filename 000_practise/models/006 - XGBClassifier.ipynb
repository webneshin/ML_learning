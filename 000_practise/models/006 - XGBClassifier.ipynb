{
 "cells": [
  {
   "cell_type": "code",
   "execution_count": 133,
   "id": "initial_id",
   "metadata": {
    "collapsed": true,
    "ExecuteTime": {
     "end_time": "2023-11-17T09:43:43.029593400Z",
     "start_time": "2023-11-17T09:43:43.021391400Z"
    }
   },
   "outputs": [],
   "source": [
    "import logging\n",
    "\n",
    "import numpy as np\n",
    "import xgboost as xgb\n",
    "import talib\n",
    "from binance.enums import HistoricalKlinesType\n",
    "from matplotlib import pyplot as plt\n",
    "from sklearn import metrics\n",
    "from sklearn.model_selection import train_test_split\n",
    "\n",
    "from main_funcs import get_and_update_data"
   ]
  },
  {
   "cell_type": "code",
   "execution_count": 134,
   "outputs": [],
   "source": [
    "# configs\n",
    "country=None\n",
    "joft = \"BTCUSDT\"\n",
    "interval = \"1h\"\n",
    "\n",
    "# remove small candle \n",
    "zero_remover_pct = 0.00\n",
    "\n",
    "# add history of open_close_pct \n",
    "open_close_pct_history_count = 60\n",
    "\n",
    "# add history of max_low_high_pct \n",
    "max_low_high_pct_history_count = -1\n",
    "\n",
    "# calculate rsi with different lengths \n",
    "rsi_ranges = range(14, 14)\n",
    "\n",
    "# add history of rsi\n",
    "rsi_history_count = 0\n",
    "\n",
    "# add moving average of rsi\n",
    "rsi_ma_lengths = [3,7,9,10,14,20,50,100]\n",
    "rsi_ma_ranges = []\n"
   ],
   "metadata": {
    "collapsed": false,
    "ExecuteTime": {
     "end_time": "2023-11-17T09:43:43.031602200Z",
     "start_time": "2023-11-17T09:43:43.029087100Z"
    }
   },
   "id": "b321682cef2eb2a7"
  },
  {
   "cell_type": "code",
   "execution_count": 135,
   "outputs": [],
   "source": [
    "# validation config\n",
    "\n",
    "# valid rsi_ma_ranges\n",
    "for r in  rsi_ma_ranges:\n",
    "    if not r in rsi_ranges:\n",
    "        raise ValueError(\"rsi_ma_ranges items is not in rsi_ranges\")"
   ],
   "metadata": {
    "collapsed": false,
    "ExecuteTime": {
     "end_time": "2023-11-17T09:43:43.047655200Z",
     "start_time": "2023-11-17T09:43:43.032598900Z"
    }
   },
   "id": "f3f69ae22497eaeb"
  },
  {
   "cell_type": "code",
   "execution_count": 136,
   "outputs": [
    {
     "name": "stderr",
     "output_type": "stream",
     "text": [
      "WARNING:root:not updatetd! for update set \"country\"!\n"
     ]
    }
   ],
   "source": [
    "# get data from database\n",
    "df_source = get_and_update_data(joft, interval, HistoricalKlinesType.SPOT, country=country)\n",
    "df_source = df_source[[\"open\", \"high\", \"low\", \"close\", \"volume\"]]\n",
    "# df_source.tail(1)"
   ],
   "metadata": {
    "collapsed": false,
    "ExecuteTime": {
     "end_time": "2023-11-17T09:43:43.524880100Z",
     "start_time": "2023-11-17T09:43:43.036353700Z"
    }
   },
   "id": "ab9b45c8321aa8d6"
  },
  {
   "cell_type": "code",
   "execution_count": 137,
   "outputs": [],
   "source": [
    "# calculate parameters\n",
    "df_cal = df_source.copy()\n",
    "\n",
    "# change from open to other columns\n",
    "df_cal['open_close'] = df_cal.close - df_cal.open\n",
    "df_cal['open_low'] = df_cal.low - df_cal.open\n",
    "df_cal['open_high'] = df_cal.high - df_cal.open\n",
    "\n",
    "# change percent from open to other columns\n",
    "df_cal['open_close_pct'] = df_cal.open_close / df_cal.open\n",
    "df_cal['open_low_pct'] = df_cal.open_low / df_cal.open\n",
    "df_cal['open_high_pct'] = df_cal.open_high / df_cal.open\n",
    "\n",
    "# price direction\n",
    "# df_target['open_close_direction'] = np.sign(df_target[\"open_close\"])\n",
    "# df_target['open_open_high_direction'] = np.sign(df_target[\"open_low\"]).astype(int)\n",
    "# df_target['open_high_direction'] = np.sign(df_target[\"open_high\"]).astype(int)\n",
    "\n",
    "# max abs low and high\n",
    "df_cal['max_low_high_pct'] = np.where(\n",
    "    df_cal['open_low_pct'].abs() > df_cal['open_high_pct'].abs(),\n",
    "    df_cal['open_low_pct'],\n",
    "    df_cal['open_high_pct']\n",
    ")\n",
    "\n",
    "# open_close_pct history\n",
    "for h in range(0,open_close_pct_history_count+1):\n",
    "    df_cal[f\"open_close_pct__{h}\"] = df_cal.open_close_pct.shift(h)\n",
    "    \n",
    "\n",
    "# max_low_high_pct history\n",
    "for h in range(0,max_low_high_pct_history_count+1):\n",
    "    df_cal[f\"max_low_high_pct__{h}\"] = df_cal.max_low_high_pct.shift(h)\n",
    "    \n",
    "\n",
    "# calculate multi rsi\n",
    "for rsi in rsi_ranges:\n",
    "    for h in range(0, rsi_history_count + 1):\n",
    "        df_cal[f\"rsi_{rsi}__{h}\"] = talib.RSI(df_cal.close.shift(h), timeperiod=rsi)\n",
    "        \n",
    "# calculate rsi sma \n",
    "for ma_length in rsi_ma_lengths:\n",
    "    for rsi in rsi_ma_ranges:\n",
    "        df_cal[f\"rsi_{rsi}_ma_{ma_length}\"] =  talib.SMA(df_cal[f\"rsi_{rsi}__{0}\"], timeperiod=ma_length)\n",
    "# df_cal"
   ],
   "metadata": {
    "collapsed": false,
    "ExecuteTime": {
     "end_time": "2023-11-17T09:43:43.576015300Z",
     "start_time": "2023-11-17T09:43:43.529897800Z"
    }
   },
   "id": "f883ecae944a7fe7"
  },
  {
   "cell_type": "code",
   "execution_count": 138,
   "outputs": [
    {
     "data": {
      "text/plain": "<Figure size 640x480 with 2 Axes>",
      "image/png": "[encoded data removed]"
     },
     "metadata": {},
     "output_type": "display_data"
    }
   ],
   "source": [
    "# create calculate target\n",
    "df_target = df_cal.copy()\n",
    "\n",
    "# calculate target\n",
    "df_target[\"target\"] = np.where(\n",
    "    df_target['max_low_high_pct'] > zero_remover_pct,\n",
    "    1,\n",
    "    np.where(\n",
    "        df_target['max_low_high_pct'] < -zero_remover_pct,\n",
    "        -1, 0\n",
    "    )\n",
    ")\n",
    "\n",
    "# convert -1 and 1 and 0 to True False for better result\n",
    "df_target[\"target\"] = np.where(df_target['target'] ==1, 1,0)\n",
    "# df_target[\"target\"] = np.where(df_target['target'] ==1, 1,-1)\n",
    "\n",
    "# show chart\n",
    "fig, axs = plt.subplots(2, 1)\n",
    "df_target[\"target\"].value_counts().plot(kind='bar', ax=axs[0])\n",
    "# (np.sign(df_target[\"open_close\"]) == np.sign(df_target[\"target\"])).value_counts().plot(kind='bar',ax=axs[1])\n",
    "\n",
    "# shift target the real place\n",
    "df_target[\"target\"] = df_target[\"target\"].shift(-1)\n",
    "# df_target"
   ],
   "metadata": {
    "collapsed": false,
    "ExecuteTime": {
     "end_time": "2023-11-17T09:43:43.730512900Z",
     "start_time": "2023-11-17T09:43:43.561328500Z"
    }
   },
   "id": "e7bbcaef4090098e"
  },
  {
   "cell_type": "code",
   "execution_count": 139,
   "outputs": [
    {
     "data": {
      "text/plain": "                     open_close_pct__0  open_close_pct__1  open_close_pct__2  \\\nopen_time                                                                      \n2017-08-19 19:30:00          -0.008966          -0.015989          -0.005802   \n2017-08-19 20:30:00           0.010632          -0.008966          -0.015989   \n2017-08-19 21:30:00           0.018088           0.010632          -0.008966   \n2017-08-19 22:30:00           0.000651           0.018088           0.010632   \n2017-08-19 23:30:00          -0.003113           0.000651           0.018088   \n...                                ...                ...                ...   \n2023-11-13 15:30:00           0.003248          -0.004465          -0.000335   \n2023-11-13 16:30:00          -0.002771           0.003248          -0.004465   \n2023-11-13 17:30:00          -0.001087          -0.002771           0.003248   \n2023-11-13 18:30:00           0.001486          -0.001087          -0.002771   \n2023-11-13 19:30:00           0.000430           0.001486          -0.001087   \n\n                     open_close_pct__3  open_close_pct__4  open_close_pct__5  \\\nopen_time                                                                      \n2017-08-19 19:30:00          -0.013470           0.037991          -0.014542   \n2017-08-19 20:30:00          -0.005802          -0.013470           0.037991   \n2017-08-19 21:30:00          -0.015989          -0.005802          -0.013470   \n2017-08-19 22:30:00          -0.008966          -0.015989          -0.005802   \n2017-08-19 23:30:00           0.010632          -0.008966          -0.015989   \n...                                ...                ...                ...   \n2023-11-13 15:30:00          -0.000968           0.001706          -0.000072   \n2023-11-13 16:30:00          -0.000335          -0.000968           0.001706   \n2023-11-13 17:30:00          -0.004465          -0.000335          -0.000968   \n2023-11-13 18:30:00           0.003248          -0.004465          -0.000335   \n2023-11-13 19:30:00          -0.002771           0.003248          -0.004465   \n\n                     open_close_pct__6  open_close_pct__7  open_close_pct__8  \\\nopen_time                                                                      \n2017-08-19 19:30:00          -0.013177           0.017304          -0.008546   \n2017-08-19 20:30:00          -0.014542          -0.013177           0.017304   \n2017-08-19 21:30:00           0.037991          -0.014542          -0.013177   \n2017-08-19 22:30:00          -0.013470           0.037991          -0.014542   \n2017-08-19 23:30:00          -0.005802          -0.013470           0.037991   \n...                                ...                ...                ...   \n2023-11-13 15:30:00           0.001247          -0.000285           0.000364   \n2023-11-13 16:30:00          -0.000072           0.001247          -0.000285   \n2023-11-13 17:30:00           0.001706          -0.000072           0.001247   \n2023-11-13 18:30:00          -0.000968           0.001706          -0.000072   \n2023-11-13 19:30:00          -0.000335          -0.000968           0.001706   \n\n                     open_close_pct__9  ...  open_close_pct__52  \\\nopen_time                               ...                       \n2017-08-19 19:30:00           0.016213  ...           -0.005649   \n2017-08-19 20:30:00          -0.008546  ...            0.010882   \n2017-08-19 21:30:00           0.017304  ...            0.002651   \n2017-08-19 22:30:00          -0.013177  ...           -0.026501   \n2017-08-19 23:30:00          -0.014542  ...            0.000425   \n...                                ...  ...                 ...   \n2023-11-13 15:30:00          -0.006142  ...           -0.001060   \n2023-11-13 16:30:00           0.000364  ...            0.001758   \n2023-11-13 17:30:00          -0.000285  ...           -0.000626   \n2023-11-13 18:30:00           0.001247  ...           -0.000552   \n2023-11-13 19:30:00          -0.000072  ...            0.003009   \n\n                     open_close_pct__53  open_close_pct__54  \\\nopen_time                                                     \n2017-08-19 19:30:00           -0.007332            0.004256   \n2017-08-19 20:30:00           -0.005649           -0.007332   \n2017-08-19 21:30:00            0.010882           -0.005649   \n2017-08-19 22:30:00            0.002651            0.010882   \n2017-08-19 23:30:00           -0.026501            0.002651   \n...                                 ...                 ...   \n2023-11-13 15:30:00           -0.002100            0.000260   \n2023-11-13 16:30:00           -0.001060           -0.002100   \n2023-11-13 17:30:00            0.001758           -0.001060   \n2023-11-13 18:30:00           -0.000626            0.001758   \n2023-11-13 19:30:00           -0.000552           -0.000626   \n\n                     open_close_pct__55  open_close_pct__56  \\\nopen_time                                                     \n2017-08-19 19:30:00            0.019266            0.006316   \n2017-08-19 20:30:00            0.004256            0.019266   \n2017-08-19 21:30:00           -0.007332            0.004256   \n2017-08-19 22:30:00           -0.005649           -0.007332   \n2017-08-19 23:30:00            0.010882           -0.005649   \n...                                 ...                 ...   \n2023-11-13 15:30:00            0.000438            0.000497   \n2023-11-13 16:30:00            0.000260            0.000438   \n2023-11-13 17:30:00           -0.002100            0.000260   \n2023-11-13 18:30:00           -0.001060           -0.002100   \n2023-11-13 19:30:00            0.001758           -0.001060   \n\n                     open_close_pct__57  open_close_pct__58  \\\nopen_time                                                     \n2017-08-19 19:30:00            0.007731           -0.001372   \n2017-08-19 20:30:00            0.006316            0.007731   \n2017-08-19 21:30:00            0.019266            0.006316   \n2017-08-19 22:30:00            0.004256            0.019266   \n2017-08-19 23:30:00           -0.007332            0.004256   \n...                                 ...                 ...   \n2023-11-13 15:30:00           -0.001787            0.001431   \n2023-11-13 16:30:00            0.000497           -0.001787   \n2023-11-13 17:30:00            0.000438            0.000497   \n2023-11-13 18:30:00            0.000260            0.000438   \n2023-11-13 19:30:00           -0.002100            0.000260   \n\n                     open_close_pct__59  open_close_pct__60  target  \nopen_time                                                            \n2017-08-19 19:30:00            0.001506            0.011111     1.0  \n2017-08-19 20:30:00           -0.001372            0.001506     1.0  \n2017-08-19 21:30:00            0.007731           -0.001372     1.0  \n2017-08-19 22:30:00            0.006316            0.007731     0.0  \n2017-08-19 23:30:00            0.019266            0.006316     1.0  \n...                                 ...                 ...     ...  \n2023-11-13 15:30:00           -0.006528           -0.000131     0.0  \n2023-11-13 16:30:00            0.001431           -0.006528     0.0  \n2023-11-13 17:30:00           -0.001787            0.001431     0.0  \n2023-11-13 18:30:00            0.000497           -0.001787     1.0  \n2023-11-13 19:30:00            0.000438            0.000497     0.0  \n\n[54521 rows x 62 columns]",
      "text/html": "<div>\n<style scoped>\n    .dataframe tbody tr th:only-of-type {\n        vertical-align: middle;\n    }\n\n    .dataframe tbody tr th {\n        vertical-align: top;\n    }\n\n    .dataframe thead th {\n        text-align: right;\n    }\n</style>\n<table border=\"1\" class=\"dataframe\">\n  <thead>\n    <tr style=\"text-align: right;\">\n      <th></th>\n      <th>open_close_pct__0</th>\n      <th>open_close_pct__1</th>\n      <th>open_close_pct__2</th>\n      <th>open_close_pct__3</th>\n      <th>open_close_pct__4</th>\n      <th>open_close_pct__5</th>\n      <th>open_close_pct__6</th>\n      <th>open_close_pct__7</th>\n      <th>open_close_pct__8</th>\n      <th>open_close_pct__9</th>\n      <th>...</th>\n      <th>open_close_pct__52</th>\n      <th>open_close_pct__53</th>\n      <th>open_close_pct__54</th>\n      <th>open_close_pct__55</th>\n      <th>open_close_pct__56</th>\n      <th>open_close_pct__57</th>\n      <th>open_close_pct__58</th>\n      <th>open_close_pct__59</th>\n      <th>open_close_pct__60</th>\n      <th>target</th>\n    </tr>\n    <tr>\n      <th>open_time</th>\n      <th></th>\n      <th></th>\n      <th></th>\n      <th></th>\n      <th></th>\n      <th></th>\n      <th></th>\n      <th></th>\n      <th></th>\n      <th></th>\n      <th></th>\n      <th></th>\n      <th></th>\n      <th></th>\n      <th></th>\n      <th></th>\n      <th></th>\n      <th></th>\n      <th></th>\n      <th></th>\n      <th></th>\n    </tr>\n  </thead>\n  <tbody>\n    <tr>\n      <th>2017-08-19 19:30:00</th>\n      <td>-0.008966</td>\n      <td>-0.015989</td>\n      <td>-0.005802</td>\n      <td>-0.013470</td>\n      <td>0.037991</td>\n      <td>-0.014542</td>\n      <td>-0.013177</td>\n      <td>0.017304</td>\n      <td>-0.008546</td>\n      <td>0.016213</td>\n      <td>...</td>\n      <td>-0.005649</td>\n      <td>-0.007332</td>\n      <td>0.004256</td>\n      <td>0.019266</td>\n      <td>0.006316</td>\n      <td>0.007731</td>\n      <td>-0.001372</td>\n      <td>0.001506</td>\n      <td>0.011111</td>\n      <td>1.0</td>\n    </tr>\n    <tr>\n      <th>2017-08-19 20:30:00</th>\n      <td>0.010632</td>\n      <td>-0.008966</td>\n      <td>-0.015989</td>\n      <td>-0.005802</td>\n      <td>-0.013470</td>\n      <td>0.037991</td>\n      <td>-0.014542</td>\n      <td>-0.013177</td>\n      <td>0.017304</td>\n      <td>-0.008546</td>\n      <td>...</td>\n      <td>0.010882</td>\n      <td>-0.005649</td>\n      <td>-0.007332</td>\n      <td>0.004256</td>\n      <td>0.019266</td>\n      <td>0.006316</td>\n      <td>0.007731</td>\n      <td>-0.001372</td>\n      <td>0.001506</td>\n      <td>1.0</td>\n    </tr>\n    <tr>\n      <th>2017-08-19 21:30:00</th>\n      <td>0.018088</td>\n      <td>0.010632</td>\n      <td>-0.008966</td>\n      <td>-0.015989</td>\n      <td>-0.005802</td>\n      <td>-0.013470</td>\n      <td>0.037991</td>\n      <td>-0.014542</td>\n      <td>-0.013177</td>\n      <td>0.017304</td>\n      <td>...</td>\n      <td>0.002651</td>\n      <td>0.010882</td>\n      <td>-0.005649</td>\n      <td>-0.007332</td>\n      <td>0.004256</td>\n      <td>0.019266</td>\n      <td>0.006316</td>\n      <td>0.007731</td>\n      <td>-0.001372</td>\n      <td>1.0</td>\n    </tr>\n    <tr>\n      <th>2017-08-19 22:30:00</th>\n      <td>0.000651</td>\n      <td>0.018088</td>\n      <td>0.010632</td>\n      <td>-0.008966</td>\n      <td>-0.015989</td>\n      <td>-0.005802</td>\n      <td>-0.013470</td>\n      <td>0.037991</td>\n      <td>-0.014542</td>\n      <td>-0.013177</td>\n      <td>...</td>\n      <td>-0.026501</td>\n      <td>0.002651</td>\n      <td>0.010882</td>\n      <td>-0.005649</td>\n      <td>-0.007332</td>\n      <td>0.004256</td>\n      <td>0.019266</td>\n      <td>0.006316</td>\n      <td>0.007731</td>\n      <td>0.0</td>\n    </tr>\n    <tr>\n      <th>2017-08-19 23:30:00</th>\n      <td>-0.003113</td>\n      <td>0.000651</td>\n      <td>0.018088</td>\n      <td>0.010632</td>\n      <td>-0.008966</td>\n      <td>-0.015989</td>\n      <td>-0.005802</td>\n      <td>-0.013470</td>\n      <td>0.037991</td>\n      <td>-0.014542</td>\n      <td>...</td>\n      <td>0.000425</td>\n      <td>-0.026501</td>\n      <td>0.002651</td>\n      <td>0.010882</td>\n      <td>-0.005649</td>\n      <td>-0.007332</td>\n      <td>0.004256</td>\n      <td>0.019266</td>\n      <td>0.006316</td>\n      <td>1.0</td>\n    </tr>\n    <tr>\n      <th>...</th>\n      <td>...</td>\n      <td>...</td>\n      <td>...</td>\n      <td>...</td>\n      <td>...</td>\n      <td>...</td>\n      <td>...</td>\n      <td>...</td>\n      <td>...</td>\n      <td>...</td>\n      <td>...</td>\n      <td>...</td>\n      <td>...</td>\n      <td>...</td>\n      <td>...</td>\n      <td>...</td>\n      <td>...</td>\n      <td>...</td>\n      <td>...</td>\n      <td>...</td>\n      <td>...</td>\n    </tr>\n    <tr>\n      <th>2023-11-13 15:30:00</th>\n      <td>0.003248</td>\n      <td>-0.004465</td>\n      <td>-0.000335</td>\n      <td>-0.000968</td>\n      <td>0.001706</td>\n      <td>-0.000072</td>\n      <td>0.001247</td>\n      <td>-0.000285</td>\n      <td>0.000364</td>\n      <td>-0.006142</td>\n      <td>...</td>\n      <td>-0.001060</td>\n      <td>-0.002100</td>\n      <td>0.000260</td>\n      <td>0.000438</td>\n      <td>0.000497</td>\n      <td>-0.001787</td>\n      <td>0.001431</td>\n      <td>-0.006528</td>\n      <td>-0.000131</td>\n      <td>0.0</td>\n    </tr>\n    <tr>\n      <th>2023-11-13 16:30:00</th>\n      <td>-0.002771</td>\n      <td>0.003248</td>\n      <td>-0.004465</td>\n      <td>-0.000335</td>\n      <td>-0.000968</td>\n      <td>0.001706</td>\n      <td>-0.000072</td>\n      <td>0.001247</td>\n      <td>-0.000285</td>\n      <td>0.000364</td>\n      <td>...</td>\n      <td>0.001758</td>\n      <td>-0.001060</td>\n      <td>-0.002100</td>\n      <td>0.000260</td>\n      <td>0.000438</td>\n      <td>0.000497</td>\n      <td>-0.001787</td>\n      <td>0.001431</td>\n      <td>-0.006528</td>\n      <td>0.0</td>\n    </tr>\n    <tr>\n      <th>2023-11-13 17:30:00</th>\n      <td>-0.001087</td>\n      <td>-0.002771</td>\n      <td>0.003248</td>\n      <td>-0.004465</td>\n      <td>-0.000335</td>\n      <td>-0.000968</td>\n      <td>0.001706</td>\n      <td>-0.000072</td>\n      <td>0.001247</td>\n      <td>-0.000285</td>\n      <td>...</td>\n      <td>-0.000626</td>\n      <td>0.001758</td>\n      <td>-0.001060</td>\n      <td>-0.002100</td>\n      <td>0.000260</td>\n      <td>0.000438</td>\n      <td>0.000497</td>\n      <td>-0.001787</td>\n      <td>0.001431</td>\n      <td>0.0</td>\n    </tr>\n    <tr>\n      <th>2023-11-13 18:30:00</th>\n      <td>0.001486</td>\n      <td>-0.001087</td>\n      <td>-0.002771</td>\n      <td>0.003248</td>\n      <td>-0.004465</td>\n      <td>-0.000335</td>\n      <td>-0.000968</td>\n      <td>0.001706</td>\n      <td>-0.000072</td>\n      <td>0.001247</td>\n      <td>...</td>\n      <td>-0.000552</td>\n      <td>-0.000626</td>\n      <td>0.001758</td>\n      <td>-0.001060</td>\n      <td>-0.002100</td>\n      <td>0.000260</td>\n      <td>0.000438</td>\n      <td>0.000497</td>\n      <td>-0.001787</td>\n      <td>1.0</td>\n    </tr>\n    <tr>\n      <th>2023-11-13 19:30:00</th>\n      <td>0.000430</td>\n      <td>0.001486</td>\n      <td>-0.001087</td>\n      <td>-0.002771</td>\n      <td>0.003248</td>\n      <td>-0.004465</td>\n      <td>-0.000335</td>\n      <td>-0.000968</td>\n      <td>0.001706</td>\n      <td>-0.000072</td>\n      <td>...</td>\n      <td>0.003009</td>\n      <td>-0.000552</td>\n      <td>-0.000626</td>\n      <td>0.001758</td>\n      <td>-0.001060</td>\n      <td>-0.002100</td>\n      <td>0.000260</td>\n      <td>0.000438</td>\n      <td>0.000497</td>\n      <td>0.0</td>\n    </tr>\n  </tbody>\n</table>\n<p>54521 rows × 62 columns</p>\n</div>"
     },
     "execution_count": 139,
     "metadata": {},
     "output_type": "execute_result"
    }
   ],
   "source": [
    "# clean data\n",
    "df = df_target.copy()\n",
    "df.dropna(inplace=True)\n",
    "df.drop(columns=['open', 'high', 'low', 'close', 'volume', 'open_close', 'open_low', 'open_high',\n",
    "                 'open_close_pct', 'open_low_pct', 'open_high_pct', 'max_low_high_pct'], inplace=True)\n",
    "df"
   ],
   "metadata": {
    "collapsed": false,
    "ExecuteTime": {
     "end_time": "2023-11-17T09:43:43.792387700Z",
     "start_time": "2023-11-17T09:43:43.728549100Z"
    }
   },
   "id": "246c7da1a2b42895"
  },
  {
   "cell_type": "code",
   "execution_count": 140,
   "outputs": [
    {
     "name": "stdout",
     "output_type": "stream",
     "text": [
      "shape df:  (54521, 62)\n",
      "target                1.000000\n",
      "open_close_pct__43    0.012101\n",
      "open_close_pct__57    0.008185\n",
      "open_close_pct__3     0.008022\n",
      "open_close_pct__13    0.007474\n",
      "                        ...   \n",
      "open_close_pct__24   -0.008819\n",
      "open_close_pct__48   -0.010394\n",
      "open_close_pct__0    -0.024610\n",
      "open_close_pct__1    -0.024706\n",
      "open_close_pct__23   -0.032012\n",
      "Name: target, Length: 62, dtype: float64\n"
     ]
    }
   ],
   "source": [
    "# analyse df\n",
    "print(\"shape df: \", df.shape)\n",
    "print(df.corr()['target'].sort_values(ascending=False))"
   ],
   "metadata": {
    "collapsed": false,
    "ExecuteTime": {
     "end_time": "2023-11-17T09:43:44.117251900Z",
     "start_time": "2023-11-17T09:43:43.787324400Z"
    }
   },
   "id": "3d87e64fbbb8d81c"
  },
  {
   "cell_type": "code",
   "execution_count": 141,
   "outputs": [],
   "source": [
    "# create cross validator\n",
    "# Data and targets\n",
    "X, Y = df.iloc[:, :-1], df.iloc[:, -1]"
   ],
   "metadata": {
    "collapsed": false,
    "ExecuteTime": {
     "end_time": "2023-11-17T09:43:44.117251900Z",
     "start_time": "2023-11-17T09:43:44.113396900Z"
    }
   },
   "id": "da10620c1493511d"
  },
  {
   "cell_type": "code",
   "execution_count": 142,
   "outputs": [
    {
     "name": "stdout",
     "output_type": "stream",
     "text": [
      "Baseline accuracy: 0.4974935811223866\n",
      "              precision    recall  f1-score   support\n",
      "\n",
      "         0.0       0.50      0.53      0.51      4094\n",
      "         1.0       0.50      0.46      0.48      4085\n",
      "\n",
      "    accuracy                           0.50      8179\n",
      "   macro avg       0.50      0.50      0.50      8179\n",
      "weighted avg       0.50      0.50      0.50      8179\n"
     ]
    }
   ],
   "source": [
    "# random x and y train and test\n",
    "# x_train, x_test, y_train, y_test= train_test_split(\n",
    "#     X, Y, test_size=.15, random_state=123\n",
    "# )\n",
    "# test faghat akharin vaziyat va na besorat random\n",
    "test_point = int(len(X)*0.85)\n",
    "x_train, x_test, y_train, y_test = X.iloc[:test_point,:],X.iloc[test_point:,:],Y.iloc[:test_point],Y.iloc[test_point:]\n",
    " \n",
    "xgb_clf = xgb.XGBClassifier(random_state=123)\n",
    "xgb_clf.get_params()\n",
    "xgb_clf.set_params(n_estimators=500)\n",
    "xgb_clf.fit(x_train, y_train)\n",
    "y_preds = xgb_clf.predict(x_test)\n",
    "accuracy = float(np.sum(y_preds==y_test))/y_test.shape[0]\n",
    "print(\"Baseline accuracy:\", accuracy)\n",
    "print(metrics.classification_report(y_test,y_preds))"
   ],
   "metadata": {
    "collapsed": false,
    "ExecuteTime": {
     "end_time": "2023-11-17T09:43:46.980329800Z",
     "start_time": "2023-11-17T09:43:44.118261100Z"
    }
   },
   "id": "d85983257bc4099c"
  },
  {
   "cell_type": "code",
   "execution_count": 143,
   "outputs": [],
   "source": [
    "################################################\n",
    "# yek noe digar baraye mohasebe\n",
    "# cross validator\n",
    "################################################"
   ],
   "metadata": {
    "collapsed": false,
    "ExecuteTime": {
     "end_time": "2023-11-17T09:43:46.988710100Z",
     "start_time": "2023-11-17T09:43:46.981941800Z"
    }
   },
   "id": "2baaef705cc828fc"
  },
  {
   "cell_type": "code",
   "execution_count": 144,
   "outputs": [
    {
     "data": {
      "text/plain": "   train-error-mean  train-error-std  test-error-mean  test-error-std\n0          0.000142         0.000240         0.499661        0.002329\n1          0.000037         0.000037         0.498670        0.002439\n2          0.000000         0.000000         0.499367        0.003256\n3          0.000000         0.000000         0.499110        0.001922\n4          0.000000         0.000000         0.498689        0.002620\n5          0.000000         0.000000         0.498358        0.002476\n6          0.000000         0.000000         0.498579        0.003013\n7          0.000000         0.000000         0.498835        0.002730\n8          0.000000         0.000000         0.498487        0.002826\n9          0.000000         0.000000         0.498909        0.001729",
      "text/html": "<div>\n<style scoped>\n    .dataframe tbody tr th:only-of-type {\n        vertical-align: middle;\n    }\n\n    .dataframe tbody tr th {\n        vertical-align: top;\n    }\n\n    .dataframe thead th {\n        text-align: right;\n    }\n</style>\n<table border=\"1\" class=\"dataframe\">\n  <thead>\n    <tr style=\"text-align: right;\">\n      <th></th>\n      <th>train-error-mean</th>\n      <th>train-error-std</th>\n      <th>test-error-mean</th>\n      <th>test-error-std</th>\n    </tr>\n  </thead>\n  <tbody>\n    <tr>\n      <th>0</th>\n      <td>0.000142</td>\n      <td>0.000240</td>\n      <td>0.499661</td>\n      <td>0.002329</td>\n    </tr>\n    <tr>\n      <th>1</th>\n      <td>0.000037</td>\n      <td>0.000037</td>\n      <td>0.498670</td>\n      <td>0.002439</td>\n    </tr>\n    <tr>\n      <th>2</th>\n      <td>0.000000</td>\n      <td>0.000000</td>\n      <td>0.499367</td>\n      <td>0.003256</td>\n    </tr>\n    <tr>\n      <th>3</th>\n      <td>0.000000</td>\n      <td>0.000000</td>\n      <td>0.499110</td>\n      <td>0.001922</td>\n    </tr>\n    <tr>\n      <th>4</th>\n      <td>0.000000</td>\n      <td>0.000000</td>\n      <td>0.498689</td>\n      <td>0.002620</td>\n    </tr>\n    <tr>\n      <th>5</th>\n      <td>0.000000</td>\n      <td>0.000000</td>\n      <td>0.498358</td>\n      <td>0.002476</td>\n    </tr>\n    <tr>\n      <th>6</th>\n      <td>0.000000</td>\n      <td>0.000000</td>\n      <td>0.498579</td>\n      <td>0.003013</td>\n    </tr>\n    <tr>\n      <th>7</th>\n      <td>0.000000</td>\n      <td>0.000000</td>\n      <td>0.498835</td>\n      <td>0.002730</td>\n    </tr>\n    <tr>\n      <th>8</th>\n      <td>0.000000</td>\n      <td>0.000000</td>\n      <td>0.498487</td>\n      <td>0.002826</td>\n    </tr>\n    <tr>\n      <th>9</th>\n      <td>0.000000</td>\n      <td>0.000000</td>\n      <td>0.498909</td>\n      <td>0.001729</td>\n    </tr>\n  </tbody>\n</table>\n</div>"
     },
     "execution_count": 144,
     "metadata": {},
     "output_type": "execute_result"
    }
   ],
   "source": [
    "# model with cross validation\n",
    "d_matrix = xgb.DMatrix(data=X, label=Y)\n",
    "params = {\n",
    "    'max_depth': 50 # count of tree in jungle\n",
    "}\n",
    "xgb_cv = xgb.cv(\n",
    "    dtrain=d_matrix, \n",
    "    params=params, \n",
    "    nfold=5, # tedad ghesmatha baraye cross validation\n",
    "    num_boost_round=10, # tedad max_depth agar model behtar nashod\n",
    "    seed=123, # seed random baraye random haye moshabeh \n",
    "    metrics=['error'] # noe mohasebe baraye cross validation\n",
    ")\n",
    "xgb_cv"
   ],
   "metadata": {
    "collapsed": false,
    "ExecuteTime": {
     "end_time": "2023-11-17T09:52:08.974173100Z",
     "start_time": "2023-11-17T09:43:46.983448700Z"
    }
   },
   "id": "8ca25e7fd1706937"
  },
  {
   "cell_type": "code",
   "execution_count": 144,
   "outputs": [],
   "source": [],
   "metadata": {
    "collapsed": false,
    "ExecuteTime": {
     "end_time": "2023-11-17T09:52:09.111489Z",
     "start_time": "2023-11-17T09:52:08.936900100Z"
    }
   },
   "id": "dbc9d6e9b7de0c4b"
  }
 ],
 "metadata": {
  "kernelspec": {
   "display_name": "Python 3",
   "language": "python",
   "name": "python3"
  },
  "language_info": {
   "codemirror_mode": {
    "name": "ipython",
    "version": 2
   },
   "file_extension": ".py",
   "mimetype": "text/x-python",
   "name": "python",
   "nbconvert_exporter": "python",
   "pygments_lexer": "ipython2",
   "version": "2.7.6"
  }
 },
 "nbformat": 4,
 "nbformat_minor": 5
}
