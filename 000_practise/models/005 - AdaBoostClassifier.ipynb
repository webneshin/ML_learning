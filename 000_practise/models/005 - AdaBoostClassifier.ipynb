{
 "cells": [
  {
   "cell_type": "code",
   "execution_count": 1,
   "outputs": [],
   "source": [
    "from sklearn.ensemble import RandomForestClassifier, AdaBoostClassifier\n",
    "from sklearn.metrics import ConfusionMatrixDisplay\n",
    "from sklearn.preprocessing import Binarizer\n",
    "import numpy as np\n",
    "import os\n",
    "import numpy as np\n",
    "import pandas as pd\n",
    "from matplotlib import pyplot as plt\n",
    "import seaborn as sns\n",
    "import warnings\n",
    "import scipy.stats as stats\n",
    "from binance.enums import HistoricalKlinesType\n",
    "from sklearn.svm import SVC\n",
    "from sklearn.tree import DecisionTreeClassifier\n",
    "from sklearn import metrics\n",
    "\n",
    "from main_funcs import get_and_update_data\n"
   ],
   "metadata": {
    "collapsed": false,
    "ExecuteTime": {
     "end_time": "2023-11-15T12:15:26.750106800Z",
     "start_time": "2023-11-15T12:15:25.858769100Z"
    }
   }
  },
  {
   "cell_type": "code",
   "execution_count": 2,
   "outputs": [
    {
     "name": "stderr",
     "output_type": "stream",
     "text": [
      "WARNING:root:not updatetd! for update set \"country\"!\n"
     ]
    },
    {
     "data": {
      "text/plain": "                         open      high       low     close        volume\nopen_time                                                                \n2017-08-17 07:30:00   4261.48   4349.99   4261.32   4349.99     82.088865\n2017-08-17 11:30:00   4333.32   4485.39   4333.32   4427.30     63.619882\n2017-08-17 15:30:00   4436.06   4485.39   4333.42   4352.34    174.562001\n2017-08-17 19:30:00   4352.33   4354.84   4200.74   4325.23    225.109716\n2017-08-17 23:30:00   4307.56   4369.69   4258.56   4285.08    249.769913\n...                       ...       ...       ...       ...           ...\n2023-11-14 11:30:00  36683.86  36744.00  36236.36  36259.18   5833.014480\n2023-11-14 15:30:00  36259.17  36693.01  35889.00  36147.09  10629.714350\n2023-11-14 19:30:00  36147.09  36417.23  34800.00  35293.99  15656.195220\n2023-11-14 23:30:00  35294.00  35673.14  35214.39  35551.19   5810.936580\n2023-11-15 03:30:00  35551.20  35665.45  35360.00  35381.99   5203.095630\n\n[13670 rows x 5 columns]",
      "text/html": "<div>\n<style scoped>\n    .dataframe tbody tr th:only-of-type {\n        vertical-align: middle;\n    }\n\n    .dataframe tbody tr th {\n        vertical-align: top;\n    }\n\n    .dataframe thead th {\n        text-align: right;\n    }\n</style>\n<table border=\"1\" class=\"dataframe\">\n  <thead>\n    <tr style=\"text-align: right;\">\n      <th></th>\n      <th>open</th>\n      <th>high</th>\n      <th>low</th>\n      <th>close</th>\n      <th>volume</th>\n    </tr>\n    <tr>\n      <th>open_time</th>\n      <th></th>\n      <th></th>\n      <th></th>\n      <th></th>\n      <th></th>\n    </tr>\n  </thead>\n  <tbody>\n    <tr>\n      <th>2017-08-17 07:30:00</th>\n      <td>4261.48</td>\n      <td>4349.99</td>\n      <td>4261.32</td>\n      <td>4349.99</td>\n      <td>82.088865</td>\n    </tr>\n    <tr>\n      <th>2017-08-17 11:30:00</th>\n      <td>4333.32</td>\n      <td>4485.39</td>\n      <td>4333.32</td>\n      <td>4427.30</td>\n      <td>63.619882</td>\n    </tr>\n    <tr>\n      <th>2017-08-17 15:30:00</th>\n      <td>4436.06</td>\n      <td>4485.39</td>\n      <td>4333.42</td>\n      <td>4352.34</td>\n      <td>174.562001</td>\n    </tr>\n    <tr>\n      <th>2017-08-17 19:30:00</th>\n      <td>4352.33</td>\n      <td>4354.84</td>\n      <td>4200.74</td>\n      <td>4325.23</td>\n      <td>225.109716</td>\n    </tr>\n    <tr>\n      <th>2017-08-17 23:30:00</th>\n      <td>4307.56</td>\n      <td>4369.69</td>\n      <td>4258.56</td>\n      <td>4285.08</td>\n      <td>249.769913</td>\n    </tr>\n    <tr>\n      <th>...</th>\n      <td>...</td>\n      <td>...</td>\n      <td>...</td>\n      <td>...</td>\n      <td>...</td>\n    </tr>\n    <tr>\n      <th>2023-11-14 11:30:00</th>\n      <td>36683.86</td>\n      <td>36744.00</td>\n      <td>36236.36</td>\n      <td>36259.18</td>\n      <td>5833.014480</td>\n    </tr>\n    <tr>\n      <th>2023-11-14 15:30:00</th>\n      <td>36259.17</td>\n      <td>36693.01</td>\n      <td>35889.00</td>\n      <td>36147.09</td>\n      <td>10629.714350</td>\n    </tr>\n    <tr>\n      <th>2023-11-14 19:30:00</th>\n      <td>36147.09</td>\n      <td>36417.23</td>\n      <td>34800.00</td>\n      <td>35293.99</td>\n      <td>15656.195220</td>\n    </tr>\n    <tr>\n      <th>2023-11-14 23:30:00</th>\n      <td>35294.00</td>\n      <td>35673.14</td>\n      <td>35214.39</td>\n      <td>35551.19</td>\n      <td>5810.936580</td>\n    </tr>\n    <tr>\n      <th>2023-11-15 03:30:00</th>\n      <td>35551.20</td>\n      <td>35665.45</td>\n      <td>35360.00</td>\n      <td>35381.99</td>\n      <td>5203.095630</td>\n    </tr>\n  </tbody>\n</table>\n<p>13670 rows × 5 columns</p>\n</div>"
     },
     "execution_count": 2,
     "metadata": {},
     "output_type": "execute_result"
    }
   ],
   "source": [
    "df_source = get_and_update_data(\"BTCUSDT\", \"4h\", HistoricalKlinesType.SPOT,country=None)\n",
    "df_source = df_source[[\"open\", \"high\", \"low\", \"close\",\"volume\" ]]\n",
    "# df_source = df_source.iloc[:-4,:]\n",
    "df_source"
   ],
   "metadata": {
    "collapsed": false,
    "ExecuteTime": {
     "end_time": "2023-11-15T12:15:26.896312800Z",
     "start_time": "2023-11-15T12:15:26.753105Z"
    }
   }
  },
  {
   "cell_type": "code",
   "execution_count": 3,
   "outputs": [
    {
     "data": {
      "text/plain": "                     open_close_percent  open_close_percent_1  \\\nopen_time                                                       \n2017-08-22 07:30:00           -0.016806             -0.038250   \n2017-08-22 11:30:00            0.018009             -0.016806   \n2017-08-22 15:30:00           -0.002134              0.018009   \n2017-08-22 19:30:00            0.032660             -0.002134   \n2017-08-22 23:30:00            0.013929              0.032660   \n...                                 ...                   ...   \n2023-11-14 11:30:00           -0.011577              0.006469   \n2023-11-14 15:30:00           -0.003091             -0.011577   \n2023-11-14 19:30:00           -0.023601             -0.003091   \n2023-11-14 23:30:00            0.007287             -0.023601   \n2023-11-15 03:30:00           -0.004760              0.007287   \n\n                     open_close_percent_2  open_close_percent_3  \\\nopen_time                                                         \n2017-08-22 07:30:00             -0.002744              0.005257   \n2017-08-22 11:30:00             -0.038250             -0.002744   \n2017-08-22 15:30:00             -0.016806             -0.038250   \n2017-08-22 19:30:00              0.018009             -0.016806   \n2017-08-22 23:30:00             -0.002134              0.018009   \n...                                   ...                   ...   \n2023-11-14 11:30:00             -0.000408             -0.010369   \n2023-11-14 15:30:00              0.006469             -0.000408   \n2023-11-14 19:30:00             -0.011577              0.006469   \n2023-11-14 23:30:00             -0.003091             -0.011577   \n2023-11-15 03:30:00             -0.023601             -0.003091   \n\n                     open_close_percent_4  open_close_percent_5  \\\nopen_time                                                         \n2017-08-22 07:30:00             -0.000276             -0.005075   \n2017-08-22 11:30:00              0.005257             -0.000276   \n2017-08-22 15:30:00             -0.002744              0.005257   \n2017-08-22 19:30:00             -0.038250             -0.002744   \n2017-08-22 23:30:00             -0.016806             -0.038250   \n...                                   ...                   ...   \n2023-11-14 11:30:00              0.000084              0.000866   \n2023-11-14 15:30:00             -0.010369              0.000084   \n2023-11-14 19:30:00             -0.000408             -0.010369   \n2023-11-14 23:30:00              0.006469             -0.000408   \n2023-11-15 03:30:00             -0.011577              0.006469   \n\n                     open_close_percent_6  open_close_percent_7  \\\nopen_time                                                         \n2017-08-22 07:30:00             -0.008734              0.003841   \n2017-08-22 11:30:00             -0.005075             -0.008734   \n2017-08-22 15:30:00             -0.000276             -0.005075   \n2017-08-22 19:30:00              0.005257             -0.000276   \n2017-08-22 23:30:00             -0.002744              0.005257   \n...                                   ...                   ...   \n2023-11-14 11:30:00             -0.004065              0.001254   \n2023-11-14 15:30:00              0.000866             -0.004065   \n2023-11-14 19:30:00              0.000084              0.000866   \n2023-11-14 23:30:00             -0.010369              0.000084   \n2023-11-15 03:30:00             -0.000408             -0.010369   \n\n                     open_close_percent_8  open_close_percent_9  ...  \\\nopen_time                                                        ...   \n2017-08-22 07:30:00             -0.018094              0.009600  ...   \n2017-08-22 11:30:00              0.003841             -0.018094  ...   \n2017-08-22 15:30:00             -0.008734              0.003841  ...   \n2017-08-22 19:30:00             -0.005075             -0.008734  ...   \n2017-08-22 23:30:00             -0.000276             -0.005075  ...   \n...                                   ...                   ...  ...   \n2023-11-14 11:30:00             -0.004050             -0.001101  ...   \n2023-11-14 15:30:00              0.001254             -0.004050  ...   \n2023-11-14 19:30:00             -0.004065              0.001254  ...   \n2023-11-14 23:30:00              0.000866             -0.004065  ...   \n2023-11-15 03:30:00              0.000084              0.000866  ...   \n\n                     open_close_percent_22  open_close_percent_23  \\\nopen_time                                                           \n2017-08-22 07:30:00              -0.019356               0.012908   \n2017-08-22 11:30:00              -0.023204              -0.019356   \n2017-08-22 15:30:00              -0.006440              -0.023204   \n2017-08-22 19:30:00               0.007346              -0.006440   \n2017-08-22 23:30:00              -0.025379               0.007346   \n...                                    ...                    ...   \n2023-11-14 11:30:00               0.003879               0.000298   \n2023-11-14 15:30:00               0.002033               0.003879   \n2023-11-14 19:30:00              -0.007015               0.002033   \n2023-11-14 23:30:00              -0.000906              -0.007015   \n2023-11-15 03:30:00              -0.000483              -0.000906   \n\n                     open_close_percent_24  open_close_percent_25  \\\nopen_time                                                           \n2017-08-22 07:30:00               0.001831               0.001706   \n2017-08-22 11:30:00               0.012908               0.001831   \n2017-08-22 15:30:00              -0.019356               0.012908   \n2017-08-22 19:30:00              -0.023204              -0.019356   \n2017-08-22 23:30:00              -0.006440              -0.023204   \n...                                    ...                    ...   \n2023-11-14 11:30:00               0.017319              -0.007984   \n2023-11-14 15:30:00               0.000298               0.017319   \n2023-11-14 19:30:00               0.003879               0.000298   \n2023-11-14 23:30:00               0.002033               0.003879   \n2023-11-15 03:30:00              -0.007015               0.002033   \n\n                     open_close_percent_26  open_close_percent_27  \\\nopen_time                                                           \n2017-08-22 07:30:00              -0.005219              -0.006227   \n2017-08-22 11:30:00               0.001706              -0.005219   \n2017-08-22 15:30:00               0.001831               0.001706   \n2017-08-22 19:30:00               0.012908               0.001831   \n2017-08-22 23:30:00              -0.019356               0.012908   \n...                                    ...                    ...   \n2023-11-14 11:30:00               0.000877               0.008765   \n2023-11-14 15:30:00              -0.007984               0.000877   \n2023-11-14 19:30:00               0.017319              -0.007984   \n2023-11-14 23:30:00               0.000298               0.017319   \n2023-11-15 03:30:00               0.003879               0.000298   \n\n                     open_close_percent_28  open_close_percent_29  \\\nopen_time                                                           \n2017-08-22 07:30:00              -0.018873               0.021688   \n2017-08-22 11:30:00              -0.006227              -0.018873   \n2017-08-22 15:30:00              -0.005219              -0.006227   \n2017-08-22 19:30:00               0.001706              -0.005219   \n2017-08-22 23:30:00               0.001831               0.001706   \n...                                    ...                    ...   \n2023-11-14 11:30:00              -0.018925               0.007562   \n2023-11-14 15:30:00               0.008765              -0.018925   \n2023-11-14 19:30:00               0.000877               0.008765   \n2023-11-14 23:30:00              -0.007984               0.000877   \n2023-11-15 03:30:00               0.017319              -0.007984   \n\n                     open_close_percent_30  target  \nopen_time                                           \n2017-08-22 07:30:00               0.020770       1  \n2017-08-22 11:30:00               0.021688       0  \n2017-08-22 15:30:00              -0.018873       1  \n2017-08-22 19:30:00              -0.006227       1  \n2017-08-22 23:30:00              -0.005219       1  \n...                                    ...     ...  \n2023-11-14 11:30:00               0.007463       0  \n2023-11-14 15:30:00               0.007562      -1  \n2023-11-14 19:30:00              -0.018925       1  \n2023-11-14 23:30:00               0.008765       0  \n2023-11-15 03:30:00               0.000877       0  \n\n[13640 rows x 32 columns]",
      "text/html": "<div>\n<style scoped>\n    .dataframe tbody tr th:only-of-type {\n        vertical-align: middle;\n    }\n\n    .dataframe tbody tr th {\n        vertical-align: top;\n    }\n\n    .dataframe thead th {\n        text-align: right;\n    }\n</style>\n<table border=\"1\" class=\"dataframe\">\n  <thead>\n    <tr style=\"text-align: right;\">\n      <th></th>\n      <th>open_close_percent</th>\n      <th>open_close_percent_1</th>\n      <th>open_close_percent_2</th>\n      <th>open_close_percent_3</th>\n      <th>open_close_percent_4</th>\n      <th>open_close_percent_5</th>\n      <th>open_close_percent_6</th>\n      <th>open_close_percent_7</th>\n      <th>open_close_percent_8</th>\n      <th>open_close_percent_9</th>\n      <th>...</th>\n      <th>open_close_percent_22</th>\n      <th>open_close_percent_23</th>\n      <th>open_close_percent_24</th>\n      <th>open_close_percent_25</th>\n      <th>open_close_percent_26</th>\n      <th>open_close_percent_27</th>\n      <th>open_close_percent_28</th>\n      <th>open_close_percent_29</th>\n      <th>open_close_percent_30</th>\n      <th>target</th>\n    </tr>\n    <tr>\n      <th>open_time</th>\n      <th></th>\n      <th></th>\n      <th></th>\n      <th></th>\n      <th></th>\n      <th></th>\n      <th></th>\n      <th></th>\n      <th></th>\n      <th></th>\n      <th></th>\n      <th></th>\n      <th></th>\n      <th></th>\n      <th></th>\n      <th></th>\n      <th></th>\n      <th></th>\n      <th></th>\n      <th></th>\n      <th></th>\n    </tr>\n  </thead>\n  <tbody>\n    <tr>\n      <th>2017-08-22 07:30:00</th>\n      <td>-0.016806</td>\n      <td>-0.038250</td>\n      <td>-0.002744</td>\n      <td>0.005257</td>\n      <td>-0.000276</td>\n      <td>-0.005075</td>\n      <td>-0.008734</td>\n      <td>0.003841</td>\n      <td>-0.018094</td>\n      <td>0.009600</td>\n      <td>...</td>\n      <td>-0.019356</td>\n      <td>0.012908</td>\n      <td>0.001831</td>\n      <td>0.001706</td>\n      <td>-0.005219</td>\n      <td>-0.006227</td>\n      <td>-0.018873</td>\n      <td>0.021688</td>\n      <td>0.020770</td>\n      <td>1</td>\n    </tr>\n    <tr>\n      <th>2017-08-22 11:30:00</th>\n      <td>0.018009</td>\n      <td>-0.016806</td>\n      <td>-0.038250</td>\n      <td>-0.002744</td>\n      <td>0.005257</td>\n      <td>-0.000276</td>\n      <td>-0.005075</td>\n      <td>-0.008734</td>\n      <td>0.003841</td>\n      <td>-0.018094</td>\n      <td>...</td>\n      <td>-0.023204</td>\n      <td>-0.019356</td>\n      <td>0.012908</td>\n      <td>0.001831</td>\n      <td>0.001706</td>\n      <td>-0.005219</td>\n      <td>-0.006227</td>\n      <td>-0.018873</td>\n      <td>0.021688</td>\n      <td>0</td>\n    </tr>\n    <tr>\n      <th>2017-08-22 15:30:00</th>\n      <td>-0.002134</td>\n      <td>0.018009</td>\n      <td>-0.016806</td>\n      <td>-0.038250</td>\n      <td>-0.002744</td>\n      <td>0.005257</td>\n      <td>-0.000276</td>\n      <td>-0.005075</td>\n      <td>-0.008734</td>\n      <td>0.003841</td>\n      <td>...</td>\n      <td>-0.006440</td>\n      <td>-0.023204</td>\n      <td>-0.019356</td>\n      <td>0.012908</td>\n      <td>0.001831</td>\n      <td>0.001706</td>\n      <td>-0.005219</td>\n      <td>-0.006227</td>\n      <td>-0.018873</td>\n      <td>1</td>\n    </tr>\n    <tr>\n      <th>2017-08-22 19:30:00</th>\n      <td>0.032660</td>\n      <td>-0.002134</td>\n      <td>0.018009</td>\n      <td>-0.016806</td>\n      <td>-0.038250</td>\n      <td>-0.002744</td>\n      <td>0.005257</td>\n      <td>-0.000276</td>\n      <td>-0.005075</td>\n      <td>-0.008734</td>\n      <td>...</td>\n      <td>0.007346</td>\n      <td>-0.006440</td>\n      <td>-0.023204</td>\n      <td>-0.019356</td>\n      <td>0.012908</td>\n      <td>0.001831</td>\n      <td>0.001706</td>\n      <td>-0.005219</td>\n      <td>-0.006227</td>\n      <td>1</td>\n    </tr>\n    <tr>\n      <th>2017-08-22 23:30:00</th>\n      <td>0.013929</td>\n      <td>0.032660</td>\n      <td>-0.002134</td>\n      <td>0.018009</td>\n      <td>-0.016806</td>\n      <td>-0.038250</td>\n      <td>-0.002744</td>\n      <td>0.005257</td>\n      <td>-0.000276</td>\n      <td>-0.005075</td>\n      <td>...</td>\n      <td>-0.025379</td>\n      <td>0.007346</td>\n      <td>-0.006440</td>\n      <td>-0.023204</td>\n      <td>-0.019356</td>\n      <td>0.012908</td>\n      <td>0.001831</td>\n      <td>0.001706</td>\n      <td>-0.005219</td>\n      <td>1</td>\n    </tr>\n    <tr>\n      <th>...</th>\n      <td>...</td>\n      <td>...</td>\n      <td>...</td>\n      <td>...</td>\n      <td>...</td>\n      <td>...</td>\n      <td>...</td>\n      <td>...</td>\n      <td>...</td>\n      <td>...</td>\n      <td>...</td>\n      <td>...</td>\n      <td>...</td>\n      <td>...</td>\n      <td>...</td>\n      <td>...</td>\n      <td>...</td>\n      <td>...</td>\n      <td>...</td>\n      <td>...</td>\n      <td>...</td>\n    </tr>\n    <tr>\n      <th>2023-11-14 11:30:00</th>\n      <td>-0.011577</td>\n      <td>0.006469</td>\n      <td>-0.000408</td>\n      <td>-0.010369</td>\n      <td>0.000084</td>\n      <td>0.000866</td>\n      <td>-0.004065</td>\n      <td>0.001254</td>\n      <td>-0.004050</td>\n      <td>-0.001101</td>\n      <td>...</td>\n      <td>0.003879</td>\n      <td>0.000298</td>\n      <td>0.017319</td>\n      <td>-0.007984</td>\n      <td>0.000877</td>\n      <td>0.008765</td>\n      <td>-0.018925</td>\n      <td>0.007562</td>\n      <td>0.007463</td>\n      <td>0</td>\n    </tr>\n    <tr>\n      <th>2023-11-14 15:30:00</th>\n      <td>-0.003091</td>\n      <td>-0.011577</td>\n      <td>0.006469</td>\n      <td>-0.000408</td>\n      <td>-0.010369</td>\n      <td>0.000084</td>\n      <td>0.000866</td>\n      <td>-0.004065</td>\n      <td>0.001254</td>\n      <td>-0.004050</td>\n      <td>...</td>\n      <td>0.002033</td>\n      <td>0.003879</td>\n      <td>0.000298</td>\n      <td>0.017319</td>\n      <td>-0.007984</td>\n      <td>0.000877</td>\n      <td>0.008765</td>\n      <td>-0.018925</td>\n      <td>0.007562</td>\n      <td>-1</td>\n    </tr>\n    <tr>\n      <th>2023-11-14 19:30:00</th>\n      <td>-0.023601</td>\n      <td>-0.003091</td>\n      <td>-0.011577</td>\n      <td>0.006469</td>\n      <td>-0.000408</td>\n      <td>-0.010369</td>\n      <td>0.000084</td>\n      <td>0.000866</td>\n      <td>-0.004065</td>\n      <td>0.001254</td>\n      <td>...</td>\n      <td>-0.007015</td>\n      <td>0.002033</td>\n      <td>0.003879</td>\n      <td>0.000298</td>\n      <td>0.017319</td>\n      <td>-0.007984</td>\n      <td>0.000877</td>\n      <td>0.008765</td>\n      <td>-0.018925</td>\n      <td>1</td>\n    </tr>\n    <tr>\n      <th>2023-11-14 23:30:00</th>\n      <td>0.007287</td>\n      <td>-0.023601</td>\n      <td>-0.003091</td>\n      <td>-0.011577</td>\n      <td>0.006469</td>\n      <td>-0.000408</td>\n      <td>-0.010369</td>\n      <td>0.000084</td>\n      <td>0.000866</td>\n      <td>-0.004065</td>\n      <td>...</td>\n      <td>-0.000906</td>\n      <td>-0.007015</td>\n      <td>0.002033</td>\n      <td>0.003879</td>\n      <td>0.000298</td>\n      <td>0.017319</td>\n      <td>-0.007984</td>\n      <td>0.000877</td>\n      <td>0.008765</td>\n      <td>0</td>\n    </tr>\n    <tr>\n      <th>2023-11-15 03:30:00</th>\n      <td>-0.004760</td>\n      <td>0.007287</td>\n      <td>-0.023601</td>\n      <td>-0.003091</td>\n      <td>-0.011577</td>\n      <td>0.006469</td>\n      <td>-0.000408</td>\n      <td>-0.010369</td>\n      <td>0.000084</td>\n      <td>0.000866</td>\n      <td>...</td>\n      <td>-0.000483</td>\n      <td>-0.000906</td>\n      <td>-0.007015</td>\n      <td>0.002033</td>\n      <td>0.003879</td>\n      <td>0.000298</td>\n      <td>0.017319</td>\n      <td>-0.007984</td>\n      <td>0.000877</td>\n      <td>0</td>\n    </tr>\n  </tbody>\n</table>\n<p>13640 rows × 32 columns</p>\n</div>"
     },
     "execution_count": 3,
     "metadata": {},
     "output_type": "execute_result"
    }
   ],
   "source": [
    "df = df_source.copy()\n",
    "# df = df.iloc[9000:,:]\n",
    "df[\"open_close\"] = df.close - df.open\n",
    "df[\"open_close_percent\"] = df.open_close / df.open\n",
    "period = 30\n",
    "for i in range(1,period+1):\n",
    "    df[f\"open_close_percent_{i}\"] = df.shift(i).open_close_percent\n",
    "\n",
    "darsad_target=0.005\n",
    "df[\"target\"] = df.shift(-1).open_close_percent\n",
    "df[\"target\"] = np.where(df['target'] > darsad_target, 1, np.where(df['target'] < -darsad_target, -1, 0))\n",
    "# df[\"target2\"] = np.where( (df['target'] <  0.02) and (df['target'] > -0.02),0, 0 )\n",
    "# df.dropna(inplace=True)\n",
    "df.dropna(subset=[f'open_close_percent_{period}'],inplace=True)\n",
    "df.drop(columns=['open','high','low','close','volume','open_close'],inplace=True)\n",
    "\n",
    "df"
   ],
   "metadata": {
    "collapsed": false,
    "ExecuteTime": {
     "end_time": "2023-11-15T12:15:26.978126100Z",
     "start_time": "2023-11-15T12:15:26.899403400Z"
    }
   }
  },
  {
   "cell_type": "code",
   "execution_count": null,
   "outputs": [
    {
     "name": "stderr",
     "output_type": "stream",
     "text": [
      "C:\\Users\\s.ebrahimi\\AppData\\Local\\anaconda3\\Lib\\site-packages\\sklearn\\ensemble\\_base.py:156: FutureWarning: `base_estimator` was renamed to `estimator` in version 1.2 and will be removed in 1.4.\n",
      "  warnings.warn(\n"
     ]
    }
   ],
   "source": [
    "from sklearn.neighbors import KNeighborsClassifier\n",
    "\n",
    "# model\n",
    "\n",
    "# all ok rows and columns\n",
    "x_ok = df.iloc[:-1,:-1]\n",
    "y_ok = df.iloc[:-1,-1:]\n",
    "# fit data count\n",
    "num = int(len(df)*0.7)\n",
    "# fit data\n",
    "x = x_ok[:num]\n",
    "y = y_ok[:num]\n",
    "# fit validator\n",
    "X = x_ok[num:]\n",
    "Y = y_ok[num:]\n",
    "\n",
    "\n",
    "ada_clf = AdaBoostClassifier(base_estimator=SVC(probability=True, kernel='rbf'), n_estimators=100)\n",
    "ada_clf.fit(x.to_numpy(), y.to_numpy().ravel())\n",
    "\n"
   ],
   "metadata": {
    "collapsed": false,
    "is_executing": true,
    "ExecuteTime": {
     "start_time": "2023-11-15T12:15:26.952083300Z"
    }
   }
  },
  {
   "cell_type": "code",
   "execution_count": null,
   "outputs": [],
   "source": [
    "# print(df.iloc[-1:,:-1])\n",
    "# svm_classifier.predict(df.iloc[-1:,:-1])"
   ],
   "metadata": {
    "collapsed": false,
    "is_executing": true
   }
  },
  {
   "cell_type": "code",
   "execution_count": null,
   "outputs": [],
   "source": [
    "Y_RESULT = ada_clf.predict(X.to_numpy())"
   ],
   "metadata": {
    "collapsed": false,
    "is_executing": true
   }
  },
  {
   "cell_type": "code",
   "execution_count": null,
   "outputs": [],
   "source": [
    "print(metrics.classification_report(Y,Y_RESULT))"
   ],
   "metadata": {
    "collapsed": false,
    "is_executing": true
   }
  },
  {
   "cell_type": "code",
   "execution_count": null,
   "outputs": [],
   "source": [
    "cm = metrics.confusion_matrix(Y, Y_RESULT, labels=ada_clf.classes_)\n",
    "print(cm)\n",
    "disp = ConfusionMatrixDisplay(confusion_matrix=cm, display_labels=ada_clf.classes_)\n",
    "disp.plot()\n",
    "plt.show()"
   ],
   "metadata": {
    "collapsed": false,
    "is_executing": true
   }
  }
 ],
 "metadata": {
  "kernelspec": {
   "display_name": "Python 3",
   "language": "python",
   "name": "python3"
  },
  "language_info": {
   "codemirror_mode": {
    "name": "ipython",
    "version": 2
   },
   "file_extension": ".py",
   "mimetype": "text/x-python",
   "name": "python",
   "nbconvert_exporter": "python",
   "pygments_lexer": "ipython2",
   "version": "2.7.6"
  }
 },
 "nbformat": 4,
 "nbformat_minor": 0
}
