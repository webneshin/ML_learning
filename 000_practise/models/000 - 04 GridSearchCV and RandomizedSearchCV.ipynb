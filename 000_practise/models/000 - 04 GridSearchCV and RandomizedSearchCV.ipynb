{
 "cells": [
  {
   "cell_type": "code",
   "execution_count": 13,
   "id": "initial_id",
   "metadata": {
    "collapsed": true,
    "ExecuteTime": {
     "end_time": "2023-11-18T09:47:05.393272800Z",
     "start_time": "2023-11-18T09:47:05.382050600Z"
    }
   },
   "outputs": [],
   "source": [
    "import logging\n",
    "\n",
    "import numpy as np\n",
    "import xgboost as xgb\n",
    "import talib\n",
    "from binance.enums import HistoricalKlinesType\n",
    "from matplotlib import pyplot as plt\n",
    "from sklearn import metrics\n",
    "from sklearn.model_selection import train_test_split, GridSearchCV, RandomizedSearchCV\n",
    "from sklearn.preprocessing import LabelEncoder\n",
    "from sklearn.svm import SVC\n",
    "\n",
    "from main_funcs import get_and_update_data"
   ]
  },
  {
   "cell_type": "code",
   "execution_count": 14,
   "outputs": [],
   "source": [
    "# configs\n",
    "country=None\n",
    "joft = \"BTCUSDT\"\n",
    "interval = \"4h\"\n",
    "\n",
    "# remove small candle \n",
    "zero_remover_pct = 0.00\n",
    "\n",
    "# add history of open_close_pct \n",
    "open_close_pct_history_count = 60\n",
    "\n",
    "# add history of max_low_high_pct \n",
    "max_low_high_pct_history_count = -1\n",
    "\n",
    "# calculate rsi with different lengths \n",
    "rsi_ranges = range(14, 14)\n",
    "\n",
    "# add history of rsi\n",
    "rsi_history_count = 0\n",
    "\n",
    "# add moving average of rsi\n",
    "rsi_ma_lengths = [3,7,9,10,14,20,50,100]\n",
    "rsi_ma_ranges = []\n"
   ],
   "metadata": {
    "collapsed": false,
    "ExecuteTime": {
     "end_time": "2023-11-18T09:47:05.424822500Z",
     "start_time": "2023-11-18T09:47:05.398789200Z"
    }
   },
   "id": "b321682cef2eb2a7"
  },
  {
   "cell_type": "code",
   "execution_count": 15,
   "outputs": [],
   "source": [
    "# validation config\n",
    "\n",
    "# valid rsi_ma_ranges\n",
    "for r in  rsi_ma_ranges:\n",
    "    if not r in rsi_ranges:\n",
    "        raise ValueError(\"rsi_ma_ranges items is not in rsi_ranges\")"
   ],
   "metadata": {
    "collapsed": false,
    "ExecuteTime": {
     "end_time": "2023-11-18T09:47:05.424822500Z",
     "start_time": "2023-11-18T09:47:05.400795300Z"
    }
   },
   "id": "f3f69ae22497eaeb"
  },
  {
   "cell_type": "code",
   "execution_count": 16,
   "outputs": [
    {
     "name": "stderr",
     "output_type": "stream",
     "text": [
      "WARNING:root:not updatetd! for update set \"country\"!\n"
     ]
    }
   ],
   "source": [
    "# get data from database\n",
    "df_source = get_and_update_data(joft, interval, HistoricalKlinesType.SPOT, country=country)\n",
    "df_source = df_source[[\"open\", \"high\", \"low\", \"close\", \"volume\"]]\n",
    "# df_source.tail(1)"
   ],
   "metadata": {
    "collapsed": false,
    "ExecuteTime": {
     "end_time": "2023-11-18T09:47:05.555280400Z",
     "start_time": "2023-11-18T09:47:05.429662Z"
    }
   },
   "id": "ab9b45c8321aa8d6"
  },
  {
   "cell_type": "code",
   "execution_count": 17,
   "outputs": [],
   "source": [
    "# calculate parameters\n",
    "df_cal = df_source.copy()\n",
    "\n",
    "# change from open to other columns\n",
    "df_cal['open_close'] = df_cal.close - df_cal.open\n",
    "df_cal['open_low'] = df_cal.low - df_cal.open\n",
    "df_cal['open_high'] = df_cal.high - df_cal.open\n",
    "\n",
    "# change percent from open to other columns\n",
    "df_cal['open_close_pct'] = df_cal.open_close / df_cal.open\n",
    "df_cal['open_low_pct'] = df_cal.open_low / df_cal.open\n",
    "df_cal['open_high_pct'] = df_cal.open_high / df_cal.open\n",
    "\n",
    "# price direction\n",
    "# df_target['open_close_direction'] = np.sign(df_target[\"open_close\"])\n",
    "# df_target['open_open_high_direction'] = np.sign(df_target[\"open_low\"]).astype(int)\n",
    "# df_target['open_high_direction'] = np.sign(df_target[\"open_high\"]).astype(int)\n",
    "\n",
    "# max abs low and high\n",
    "df_cal['max_low_high_pct'] = np.where(\n",
    "    df_cal['open_low_pct'].abs() > df_cal['open_high_pct'].abs(),\n",
    "    df_cal['open_low_pct'],\n",
    "    df_cal['open_high_pct']\n",
    ")\n",
    "\n",
    "# open_close_pct history\n",
    "for h in range(0,open_close_pct_history_count+1):\n",
    "    df_cal[f\"open_close_pct__{h}\"] = df_cal.open_close_pct.shift(h)\n",
    "    \n",
    "\n",
    "# max_low_high_pct history\n",
    "for h in range(0,max_low_high_pct_history_count+1):\n",
    "    df_cal[f\"max_low_high_pct__{h}\"] = df_cal.max_low_high_pct.shift(h)\n",
    "    \n",
    "\n",
    "# calculate multi rsi\n",
    "for rsi in rsi_ranges:\n",
    "    for h in range(0, rsi_history_count + 1):\n",
    "        df_cal[f\"rsi_{rsi}__{h}\"] = talib.RSI(df_cal.close.shift(h), timeperiod=rsi)\n",
    "        \n",
    "# calculate rsi sma \n",
    "for ma_length in rsi_ma_lengths:\n",
    "    for rsi in rsi_ma_ranges:\n",
    "        df_cal[f\"rsi_{rsi}_ma_{ma_length}\"] =  talib.SMA(df_cal[f\"rsi_{rsi}__{0}\"], timeperiod=ma_length)\n",
    "# df_cal"
   ],
   "metadata": {
    "collapsed": false,
    "ExecuteTime": {
     "end_time": "2023-11-18T09:47:05.575873800Z",
     "start_time": "2023-11-18T09:47:05.554260900Z"
    }
   },
   "id": "f883ecae944a7fe7"
  },
  {
   "cell_type": "code",
   "execution_count": 18,
   "outputs": [
    {
     "data": {
      "text/plain": "<Figure size 640x480 with 2 Axes>",
      "image/png": "[encoded data removed]"
     },
     "metadata": {},
     "output_type": "display_data"
    }
   ],
   "source": [
    "# create calculate target\n",
    "df_target = df_cal.copy()\n",
    "# mabna = 'max_low_high_pct'\n",
    "mabna = 'open_close_pct'\n",
    "\n",
    "# calculate target\n",
    "df_target[\"target\"] = np.where(\n",
    "    df_target[mabna] > zero_remover_pct,\n",
    "    1,\n",
    "    np.where(\n",
    "        df_target[mabna] < -zero_remover_pct,\n",
    "        -1, 0\n",
    "    )\n",
    ")\n",
    "\n",
    "# convert -1 and 1 and 0 to True False for better result\n",
    "# df_target[\"target\"] = np.where(df_target['target'] ==1, 1,0)\n",
    "\n",
    "\n",
    "# show chart\n",
    "fig, axs = plt.subplots(2, 1)\n",
    "df_target[\"target\"].value_counts().plot(kind='bar', ax=axs[0])\n",
    "# (np.sign(df_target[\"open_close\"]) == np.sign(df_target[\"target\"])).value_counts().plot(kind='bar',ax=axs[1])\n",
    "\n",
    "# shift target the real place\n",
    "df_target[\"target\"] = df_target[\"target\"].shift(-1)\n",
    "# df_target"
   ],
   "metadata": {
    "collapsed": false,
    "ExecuteTime": {
     "end_time": "2023-11-18T09:47:05.764651300Z",
     "start_time": "2023-11-18T09:47:05.577879400Z"
    }
   },
   "id": "e7bbcaef4090098e"
  },
  {
   "cell_type": "code",
   "execution_count": 19,
   "outputs": [
    {
     "data": {
      "text/plain": "                     open_close_pct__0  open_close_pct__1  open_close_pct__2  \\\nopen_time                                                                      \n2017-08-27 07:30:00          -0.003546          -0.004062           0.010229   \n2017-08-27 11:30:00          -0.001829          -0.003546          -0.004062   \n2017-08-27 15:30:00          -0.003456          -0.001829          -0.003546   \n2017-08-27 19:30:00           0.018275          -0.003456          -0.001829   \n2017-08-27 23:30:00          -0.006022           0.018275          -0.003456   \n...                                ...                ...                ...   \n2023-11-12 19:30:00          -0.001267           0.002607          -0.001951   \n2023-11-12 23:30:00          -0.001101          -0.001267           0.002607   \n2023-11-13 03:30:00          -0.004050          -0.001101          -0.001267   \n2023-11-13 07:30:00           0.001254          -0.004050          -0.001101   \n2023-11-13 11:30:00          -0.004065           0.001254          -0.004050   \n\n                     open_close_pct__3  open_close_pct__4  open_close_pct__5  \\\nopen_time                                                                      \n2017-08-27 07:30:00           0.004332          -0.003199          -0.007172   \n2017-08-27 11:30:00           0.010229           0.004332          -0.003199   \n2017-08-27 15:30:00          -0.004062           0.010229           0.004332   \n2017-08-27 19:30:00          -0.003546          -0.004062           0.010229   \n2017-08-27 23:30:00          -0.001829          -0.003546          -0.004062   \n...                                ...                ...                ...   \n2023-11-12 19:30:00           0.003763          -0.003803          -0.000506   \n2023-11-12 23:30:00          -0.001951           0.003763          -0.003803   \n2023-11-13 03:30:00           0.002607          -0.001951           0.003763   \n2023-11-13 07:30:00          -0.001267           0.002607          -0.001951   \n2023-11-13 11:30:00          -0.001101          -0.001267           0.002607   \n\n                     open_close_pct__6  open_close_pct__7  open_close_pct__8  \\\nopen_time                                                                      \n2017-08-27 07:30:00           0.005063           0.004025          -0.010476   \n2017-08-27 11:30:00          -0.007172           0.005063           0.004025   \n2017-08-27 15:30:00          -0.003199          -0.007172           0.005063   \n2017-08-27 19:30:00           0.004332          -0.003199          -0.007172   \n2017-08-27 23:30:00           0.010229           0.004332          -0.003199   \n...                                ...                ...                ...   \n2023-11-12 19:30:00           0.002645           0.001683          -0.000483   \n2023-11-12 23:30:00          -0.000506           0.002645           0.001683   \n2023-11-13 03:30:00          -0.003803          -0.000506           0.002645   \n2023-11-13 07:30:00           0.003763          -0.003803          -0.000506   \n2023-11-13 11:30:00          -0.001951           0.003763          -0.003803   \n\n                     open_close_pct__9  ...  open_close_pct__52  \\\nopen_time                               ...                       \n2017-08-27 07:30:00          -0.019841  ...           -0.019356   \n2017-08-27 11:30:00          -0.010476  ...           -0.023204   \n2017-08-27 15:30:00           0.004025  ...           -0.006440   \n2017-08-27 19:30:00           0.005063  ...            0.007346   \n2017-08-27 23:30:00          -0.007172  ...           -0.025379   \n...                                ...  ...                 ...   \n2023-11-12 19:30:00          -0.000906  ...           -0.000227   \n2023-11-12 23:30:00          -0.000483  ...            0.001702   \n2023-11-13 03:30:00           0.001683  ...           -0.001600   \n2023-11-13 07:30:00           0.002645  ...           -0.000071   \n2023-11-13 11:30:00          -0.000506  ...            0.000600   \n\n                     open_close_pct__53  open_close_pct__54  \\\nopen_time                                                     \n2017-08-27 07:30:00            0.012908            0.001831   \n2017-08-27 11:30:00           -0.019356            0.012908   \n2017-08-27 15:30:00           -0.023204           -0.019356   \n2017-08-27 19:30:00           -0.006440           -0.023204   \n2017-08-27 23:30:00            0.007346           -0.006440   \n...                                 ...                 ...   \n2023-11-12 19:30:00            0.005389           -0.006702   \n2023-11-12 23:30:00           -0.000227            0.005389   \n2023-11-13 03:30:00            0.001702           -0.000227   \n2023-11-13 07:30:00           -0.001600            0.001702   \n2023-11-13 11:30:00           -0.000071           -0.001600   \n\n                     open_close_pct__55  open_close_pct__56  \\\nopen_time                                                     \n2017-08-27 07:30:00            0.001706           -0.005219   \n2017-08-27 11:30:00            0.001831            0.001706   \n2017-08-27 15:30:00            0.012908            0.001831   \n2017-08-27 19:30:00           -0.019356            0.012908   \n2017-08-27 23:30:00           -0.023204           -0.019356   \n...                                 ...                 ...   \n2023-11-12 19:30:00            0.014928           -0.006168   \n2023-11-12 23:30:00           -0.006702            0.014928   \n2023-11-13 03:30:00            0.005389           -0.006702   \n2023-11-13 07:30:00           -0.000227            0.005389   \n2023-11-13 11:30:00            0.001702           -0.000227   \n\n                     open_close_pct__57  open_close_pct__58  \\\nopen_time                                                     \n2017-08-27 07:30:00           -0.006227           -0.018873   \n2017-08-27 11:30:00           -0.005219           -0.006227   \n2017-08-27 15:30:00            0.001706           -0.005219   \n2017-08-27 19:30:00            0.001831            0.001706   \n2017-08-27 23:30:00            0.012908            0.001831   \n...                                 ...                 ...   \n2023-11-12 19:30:00           -0.006255           -0.007431   \n2023-11-12 23:30:00           -0.006168           -0.006255   \n2023-11-13 03:30:00            0.014928           -0.006168   \n2023-11-13 07:30:00           -0.006702            0.014928   \n2023-11-13 11:30:00            0.005389           -0.006702   \n\n                     open_close_pct__59  open_close_pct__60  target  \nopen_time                                                            \n2017-08-27 07:30:00            0.021688            0.020770    -1.0  \n2017-08-27 11:30:00           -0.018873            0.021688    -1.0  \n2017-08-27 15:30:00           -0.006227           -0.018873     1.0  \n2017-08-27 19:30:00           -0.005219           -0.006227    -1.0  \n2017-08-27 23:30:00            0.001706           -0.005219    -1.0  \n...                                 ...                 ...     ...  \n2023-11-12 19:30:00           -0.001669            0.010393    -1.0  \n2023-11-12 23:30:00           -0.007431           -0.001669    -1.0  \n2023-11-13 03:30:00           -0.006255           -0.007431     1.0  \n2023-11-13 07:30:00           -0.006168           -0.006255    -1.0  \n2023-11-13 11:30:00            0.014928           -0.006168     1.0  \n\n[13600 rows x 62 columns]",
      "text/html": "<div>\n<style scoped>\n    .dataframe tbody tr th:only-of-type {\n        vertical-align: middle;\n    }\n\n    .dataframe tbody tr th {\n        vertical-align: top;\n    }\n\n    .dataframe thead th {\n        text-align: right;\n    }\n</style>\n<table border=\"1\" class=\"dataframe\">\n  <thead>\n    <tr style=\"text-align: right;\">\n      <th></th>\n      <th>open_close_pct__0</th>\n      <th>open_close_pct__1</th>\n      <th>open_close_pct__2</th>\n      <th>open_close_pct__3</th>\n      <th>open_close_pct__4</th>\n      <th>open_close_pct__5</th>\n      <th>open_close_pct__6</th>\n      <th>open_close_pct__7</th>\n      <th>open_close_pct__8</th>\n      <th>open_close_pct__9</th>\n      <th>...</th>\n      <th>open_close_pct__52</th>\n      <th>open_close_pct__53</th>\n      <th>open_close_pct__54</th>\n      <th>open_close_pct__55</th>\n      <th>open_close_pct__56</th>\n      <th>open_close_pct__57</th>\n      <th>open_close_pct__58</th>\n      <th>open_close_pct__59</th>\n      <th>open_close_pct__60</th>\n      <th>target</th>\n    </tr>\n    <tr>\n      <th>open_time</th>\n      <th></th>\n      <th></th>\n      <th></th>\n      <th></th>\n      <th></th>\n      <th></th>\n      <th></th>\n      <th></th>\n      <th></th>\n      <th></th>\n      <th></th>\n      <th></th>\n      <th></th>\n      <th></th>\n      <th></th>\n      <th></th>\n      <th></th>\n      <th></th>\n      <th></th>\n      <th></th>\n      <th></th>\n    </tr>\n  </thead>\n  <tbody>\n    <tr>\n      <th>2017-08-27 07:30:00</th>\n      <td>-0.003546</td>\n      <td>-0.004062</td>\n      <td>0.010229</td>\n      <td>0.004332</td>\n      <td>-0.003199</td>\n      <td>-0.007172</td>\n      <td>0.005063</td>\n      <td>0.004025</td>\n      <td>-0.010476</td>\n      <td>-0.019841</td>\n      <td>...</td>\n      <td>-0.019356</td>\n      <td>0.012908</td>\n      <td>0.001831</td>\n      <td>0.001706</td>\n      <td>-0.005219</td>\n      <td>-0.006227</td>\n      <td>-0.018873</td>\n      <td>0.021688</td>\n      <td>0.020770</td>\n      <td>-1.0</td>\n    </tr>\n    <tr>\n      <th>2017-08-27 11:30:00</th>\n      <td>-0.001829</td>\n      <td>-0.003546</td>\n      <td>-0.004062</td>\n      <td>0.010229</td>\n      <td>0.004332</td>\n      <td>-0.003199</td>\n      <td>-0.007172</td>\n      <td>0.005063</td>\n      <td>0.004025</td>\n      <td>-0.010476</td>\n      <td>...</td>\n      <td>-0.023204</td>\n      <td>-0.019356</td>\n      <td>0.012908</td>\n      <td>0.001831</td>\n      <td>0.001706</td>\n      <td>-0.005219</td>\n      <td>-0.006227</td>\n      <td>-0.018873</td>\n      <td>0.021688</td>\n      <td>-1.0</td>\n    </tr>\n    <tr>\n      <th>2017-08-27 15:30:00</th>\n      <td>-0.003456</td>\n      <td>-0.001829</td>\n      <td>-0.003546</td>\n      <td>-0.004062</td>\n      <td>0.010229</td>\n      <td>0.004332</td>\n      <td>-0.003199</td>\n      <td>-0.007172</td>\n      <td>0.005063</td>\n      <td>0.004025</td>\n      <td>...</td>\n      <td>-0.006440</td>\n      <td>-0.023204</td>\n      <td>-0.019356</td>\n      <td>0.012908</td>\n      <td>0.001831</td>\n      <td>0.001706</td>\n      <td>-0.005219</td>\n      <td>-0.006227</td>\n      <td>-0.018873</td>\n      <td>1.0</td>\n    </tr>\n    <tr>\n      <th>2017-08-27 19:30:00</th>\n      <td>0.018275</td>\n      <td>-0.003456</td>\n      <td>-0.001829</td>\n      <td>-0.003546</td>\n      <td>-0.004062</td>\n      <td>0.010229</td>\n      <td>0.004332</td>\n      <td>-0.003199</td>\n      <td>-0.007172</td>\n      <td>0.005063</td>\n      <td>...</td>\n      <td>0.007346</td>\n      <td>-0.006440</td>\n      <td>-0.023204</td>\n      <td>-0.019356</td>\n      <td>0.012908</td>\n      <td>0.001831</td>\n      <td>0.001706</td>\n      <td>-0.005219</td>\n      <td>-0.006227</td>\n      <td>-1.0</td>\n    </tr>\n    <tr>\n      <th>2017-08-27 23:30:00</th>\n      <td>-0.006022</td>\n      <td>0.018275</td>\n      <td>-0.003456</td>\n      <td>-0.001829</td>\n      <td>-0.003546</td>\n      <td>-0.004062</td>\n      <td>0.010229</td>\n      <td>0.004332</td>\n      <td>-0.003199</td>\n      <td>-0.007172</td>\n      <td>...</td>\n      <td>-0.025379</td>\n      <td>0.007346</td>\n      <td>-0.006440</td>\n      <td>-0.023204</td>\n      <td>-0.019356</td>\n      <td>0.012908</td>\n      <td>0.001831</td>\n      <td>0.001706</td>\n      <td>-0.005219</td>\n      <td>-1.0</td>\n    </tr>\n    <tr>\n      <th>...</th>\n      <td>...</td>\n      <td>...</td>\n      <td>...</td>\n      <td>...</td>\n      <td>...</td>\n      <td>...</td>\n      <td>...</td>\n      <td>...</td>\n      <td>...</td>\n      <td>...</td>\n      <td>...</td>\n      <td>...</td>\n      <td>...</td>\n      <td>...</td>\n      <td>...</td>\n      <td>...</td>\n      <td>...</td>\n      <td>...</td>\n      <td>...</td>\n      <td>...</td>\n      <td>...</td>\n    </tr>\n    <tr>\n      <th>2023-11-12 19:30:00</th>\n      <td>-0.001267</td>\n      <td>0.002607</td>\n      <td>-0.001951</td>\n      <td>0.003763</td>\n      <td>-0.003803</td>\n      <td>-0.000506</td>\n      <td>0.002645</td>\n      <td>0.001683</td>\n      <td>-0.000483</td>\n      <td>-0.000906</td>\n      <td>...</td>\n      <td>-0.000227</td>\n      <td>0.005389</td>\n      <td>-0.006702</td>\n      <td>0.014928</td>\n      <td>-0.006168</td>\n      <td>-0.006255</td>\n      <td>-0.007431</td>\n      <td>-0.001669</td>\n      <td>0.010393</td>\n      <td>-1.0</td>\n    </tr>\n    <tr>\n      <th>2023-11-12 23:30:00</th>\n      <td>-0.001101</td>\n      <td>-0.001267</td>\n      <td>0.002607</td>\n      <td>-0.001951</td>\n      <td>0.003763</td>\n      <td>-0.003803</td>\n      <td>-0.000506</td>\n      <td>0.002645</td>\n      <td>0.001683</td>\n      <td>-0.000483</td>\n      <td>...</td>\n      <td>0.001702</td>\n      <td>-0.000227</td>\n      <td>0.005389</td>\n      <td>-0.006702</td>\n      <td>0.014928</td>\n      <td>-0.006168</td>\n      <td>-0.006255</td>\n      <td>-0.007431</td>\n      <td>-0.001669</td>\n      <td>-1.0</td>\n    </tr>\n    <tr>\n      <th>2023-11-13 03:30:00</th>\n      <td>-0.004050</td>\n      <td>-0.001101</td>\n      <td>-0.001267</td>\n      <td>0.002607</td>\n      <td>-0.001951</td>\n      <td>0.003763</td>\n      <td>-0.003803</td>\n      <td>-0.000506</td>\n      <td>0.002645</td>\n      <td>0.001683</td>\n      <td>...</td>\n      <td>-0.001600</td>\n      <td>0.001702</td>\n      <td>-0.000227</td>\n      <td>0.005389</td>\n      <td>-0.006702</td>\n      <td>0.014928</td>\n      <td>-0.006168</td>\n      <td>-0.006255</td>\n      <td>-0.007431</td>\n      <td>1.0</td>\n    </tr>\n    <tr>\n      <th>2023-11-13 07:30:00</th>\n      <td>0.001254</td>\n      <td>-0.004050</td>\n      <td>-0.001101</td>\n      <td>-0.001267</td>\n      <td>0.002607</td>\n      <td>-0.001951</td>\n      <td>0.003763</td>\n      <td>-0.003803</td>\n      <td>-0.000506</td>\n      <td>0.002645</td>\n      <td>...</td>\n      <td>-0.000071</td>\n      <td>-0.001600</td>\n      <td>0.001702</td>\n      <td>-0.000227</td>\n      <td>0.005389</td>\n      <td>-0.006702</td>\n      <td>0.014928</td>\n      <td>-0.006168</td>\n      <td>-0.006255</td>\n      <td>-1.0</td>\n    </tr>\n    <tr>\n      <th>2023-11-13 11:30:00</th>\n      <td>-0.004065</td>\n      <td>0.001254</td>\n      <td>-0.004050</td>\n      <td>-0.001101</td>\n      <td>-0.001267</td>\n      <td>0.002607</td>\n      <td>-0.001951</td>\n      <td>0.003763</td>\n      <td>-0.003803</td>\n      <td>-0.000506</td>\n      <td>...</td>\n      <td>0.000600</td>\n      <td>-0.000071</td>\n      <td>-0.001600</td>\n      <td>0.001702</td>\n      <td>-0.000227</td>\n      <td>0.005389</td>\n      <td>-0.006702</td>\n      <td>0.014928</td>\n      <td>-0.006168</td>\n      <td>1.0</td>\n    </tr>\n  </tbody>\n</table>\n<p>13600 rows × 62 columns</p>\n</div>"
     },
     "execution_count": 19,
     "metadata": {},
     "output_type": "execute_result"
    }
   ],
   "source": [
    "# clean data\n",
    "df = df_target.copy()\n",
    "df.dropna(inplace=True)\n",
    "df.drop(columns=['open', 'high', 'low', 'close', 'volume', 'open_close', 'open_low', 'open_high',\n",
    "                 'open_close_pct', 'open_low_pct', 'open_high_pct', 'max_low_high_pct'], inplace=True)\n",
    "df"
   ],
   "metadata": {
    "collapsed": false,
    "ExecuteTime": {
     "end_time": "2023-11-18T09:47:05.800849500Z",
     "start_time": "2023-11-18T09:47:05.766647800Z"
    }
   },
   "id": "246c7da1a2b42895"
  },
  {
   "cell_type": "code",
   "execution_count": 20,
   "outputs": [
    {
     "name": "stdout",
     "output_type": "stream",
     "text": [
      "shape df:  (13600, 62)\n"
     ]
    },
    {
     "data": {
      "text/plain": "target                1.000000\nopen_close_pct__3     0.027575\nopen_close_pct__15    0.020472\nopen_close_pct__39    0.018270\nopen_close_pct__28    0.018233\n                        ...   \nopen_close_pct__40   -0.013572\nopen_close_pct__1    -0.015746\nopen_close_pct__18   -0.020356\nopen_close_pct__5    -0.059005\nopen_close_pct__0    -0.070055\nName: target, Length: 62, dtype: float64"
     },
     "execution_count": 20,
     "metadata": {},
     "output_type": "execute_result"
    }
   ],
   "source": [
    "# analyse df\n",
    "print(\"shape df: \", df.shape)\n",
    "df.corr()['target'].sort_values(ascending=False)"
   ],
   "metadata": {
    "collapsed": false,
    "ExecuteTime": {
     "end_time": "2023-11-18T09:47:05.923152100Z",
     "start_time": "2023-11-18T09:47:05.795842Z"
    }
   },
   "id": "3d87e64fbbb8d81c"
  },
  {
   "cell_type": "code",
   "execution_count": 21,
   "outputs": [],
   "source": [
    "# create cross validator\n",
    "# Data and targets\n",
    "X, Y = df.iloc[:, :-1], df.iloc[:, -1]"
   ],
   "metadata": {
    "collapsed": false,
    "ExecuteTime": {
     "end_time": "2023-11-18T09:47:05.923152100Z",
     "start_time": "2023-11-18T09:47:05.887920500Z"
    }
   },
   "id": "da10620c1493511d"
  },
  {
   "cell_type": "code",
   "execution_count": null,
   "outputs": [
    {
     "name": "stdout",
     "output_type": "stream",
     "text": [
      "Fitting 4 folds for each of 12 candidates, totalling 48 fits\n"
     ]
    }
   ],
   "source": [
    "params = {\n",
    "    'C': [1, 5, 10, 15],\n",
    "    'kernel': ['linear'],\n",
    "    'gamma': ['auto', 0.1, 0.5]\n",
    "}\n",
    "gsh = GridSearchCV(\n",
    "    SVC(), \n",
    "    param_grid=params,\n",
    "    scoring='accuracy',\n",
    "    cv=4, # cross value parts \n",
    "    n_jobs=-1, # use all cpu\n",
    "    verbose=10\n",
    ")\n",
    "gsh.fit(X,Y)\n",
    "\n",
    "print(\"best_estimator_\",gsh.best_estimator_)\n",
    "print(\"best_score_\",gsh.best_score_)\n",
    "print(\"best_params_v\",gsh.best_params_)"
   ],
   "metadata": {
    "collapsed": false,
    "is_executing": true,
    "ExecuteTime": {
     "start_time": "2023-11-18T09:06:13.723986500Z"
    }
   },
   "id": "dbc9d6e9b7de0c4b"
  },
  {
   "cell_type": "code",
   "execution_count": 22,
   "outputs": [
    {
     "name": "stdout",
     "output_type": "stream",
     "text": [
      "Fitting 5 folds for each of 5 candidates, totalling 25 fits\n"
     ]
    },
    {
     "name": "stderr",
     "output_type": "stream",
     "text": [
      "C:\\Users\\sajja\\anaconda3\\Lib\\site-packages\\sklearn\\model_selection\\_split.py:725: UserWarning: The least populated class in y has only 3 members, which is less than n_splits=5.\n",
      "  warnings.warn(\n"
     ]
    },
    {
     "name": "stdout",
     "output_type": "stream",
     "text": [
      "[CV] END alpha=1, learning_rate=0.3911111111111111, max_depth=12, n_estimators=25, subsample=0.75; total time=   2.0s\n",
      "[CV] END alpha=1, learning_rate=0.3911111111111111, max_depth=12, n_estimators=25, subsample=0.75; total time=   2.2s\n",
      "[CV] END alpha=1, learning_rate=0.3911111111111111, max_depth=12, n_estimators=25, subsample=0.75; total time=   2.2s\n",
      "[CV] END alpha=1, learning_rate=0.3911111111111111, max_depth=12, n_estimators=25, subsample=0.75; total time=   2.2s\n",
      "[CV] END alpha=1, learning_rate=0.3911111111111111, max_depth=12, n_estimators=25, subsample=0.75; total time=   2.1s\n",
      "[CV] END alpha=0.1, learning_rate=0.3911111111111111, max_depth=11, n_estimators=10, subsample=1; total time=   0.9s\n",
      "[CV] END alpha=0.1, learning_rate=0.3911111111111111, max_depth=11, n_estimators=10, subsample=1; total time=   0.9s\n",
      "[CV] END alpha=0.1, learning_rate=0.3911111111111111, max_depth=11, n_estimators=10, subsample=1; total time=   0.9s\n",
      "[CV] END alpha=0.1, learning_rate=0.3911111111111111, max_depth=11, n_estimators=10, subsample=1; total time=   1.0s\n",
      "[CV] END alpha=0.1, learning_rate=0.3911111111111111, max_depth=11, n_estimators=10, subsample=1; total time=   0.9s\n",
      "[CV] END alpha=1, learning_rate=0.06444444444444444, max_depth=46, n_estimators=10, subsample=0.5; total time=   3.1s\n",
      "[CV] END alpha=1, learning_rate=0.06444444444444444, max_depth=46, n_estimators=10, subsample=0.5; total time=   2.9s\n",
      "[CV] END alpha=1, learning_rate=0.06444444444444444, max_depth=46, n_estimators=10, subsample=0.5; total time=   2.8s\n",
      "[CV] END alpha=1, learning_rate=0.06444444444444444, max_depth=46, n_estimators=10, subsample=0.5; total time=   3.3s\n",
      "[CV] END alpha=1, learning_rate=0.06444444444444444, max_depth=46, n_estimators=10, subsample=0.5; total time=   2.6s\n",
      "[CV] END alpha=0.1, learning_rate=0.33666666666666667, max_depth=19, n_estimators=25, subsample=1; total time=   4.3s\n",
      "[CV] END alpha=0.1, learning_rate=0.33666666666666667, max_depth=19, n_estimators=25, subsample=1; total time=   4.4s\n",
      "[CV] END alpha=0.1, learning_rate=0.33666666666666667, max_depth=19, n_estimators=25, subsample=1; total time=   4.2s\n",
      "[CV] END alpha=0.1, learning_rate=0.33666666666666667, max_depth=19, n_estimators=25, subsample=1; total time=   4.2s\n",
      "[CV] END alpha=0.1, learning_rate=0.33666666666666667, max_depth=19, n_estimators=25, subsample=1; total time=   4.3s\n",
      "[CV] END alpha=0.001, learning_rate=0.44555555555555554, max_depth=19, n_estimators=25, subsample=1; total time=   4.0s\n",
      "[CV] END alpha=0.001, learning_rate=0.44555555555555554, max_depth=19, n_estimators=25, subsample=1; total time=   3.8s\n",
      "[CV] END alpha=0.001, learning_rate=0.44555555555555554, max_depth=19, n_estimators=25, subsample=1; total time=   3.5s\n",
      "[CV] END alpha=0.001, learning_rate=0.44555555555555554, max_depth=19, n_estimators=25, subsample=1; total time=   3.7s\n",
      "[CV] END alpha=0.001, learning_rate=0.44555555555555554, max_depth=19, n_estimators=25, subsample=1; total time=   3.4s\n",
      "==========================\n",
      "best_estimator_ XGBClassifier(alpha=1, base_score=None, booster=None, callbacks=None,\n",
      "              colsample_bylevel=None, colsample_bynode=None,\n",
      "              colsample_bytree=None, device=None, early_stopping_rounds=None,\n",
      "              enable_categorical=False, eval_metric=None, feature_types=None,\n",
      "              gamma=None, grow_policy=None, importance_type=None,\n",
      "              interaction_constraints=None, learning_rate=0.06444444444444444,\n",
      "              max_bin=None, max_cat_threshold=None, max_cat_to_onehot=None,\n",
      "              max_delta_step=None, max_depth=46, max_leaves=None,\n",
      "              min_child_weight=None, missing=nan, monotone_constraints=None,\n",
      "              multi_strategy=None, n_estimators=10, n_jobs=None,\n",
      "              num_parallel_tree=None, ...)\n",
      "best_score_ 0.5297794117647059\n",
      "best_params_v {'subsample': 0.5, 'n_estimators': 10, 'max_depth': 46, 'learning_rate': 0.06444444444444444, 'alpha': 1}\n"
     ]
    }
   ],
   "source": [
    "rs_param_grid = {\n",
    "    'max_depth': list((range(3,50,))),\n",
    "    'alpha': [0,0.001, 0.01,0.1,1],\n",
    "    'subsample': [0.5,0.75,1],\n",
    "    'learning_rate': np.linspace(0.01,0.5, 10),\n",
    "    'n_estimators': [10, 25, 40]\n",
    "}\n",
    "\n",
    "xgb_clf = xgb.XGBClassifier(random_state=123)\n",
    "xgb_rs = RandomizedSearchCV(estimator=xgb_clf,param_distributions=rs_param_grid,\n",
    "                            cv=5, n_iter=5, verbose=2, random_state=123)\n",
    "\n",
    "le = LabelEncoder()\n",
    "Y_transform = le.fit_transform(Y)\n",
    "xgb_rs.fit(X, Y_transform)\n",
    "print(\"==========================\")\n",
    "print(\"best_estimator_\",xgb_rs.best_estimator_)\n",
    "print(\"best_score_\",xgb_rs.best_score_)\n",
    "print(\"best_params_v\",xgb_rs.best_params_)"
   ],
   "metadata": {
    "collapsed": false,
    "ExecuteTime": {
     "end_time": "2023-11-18T09:48:26.194094200Z",
     "start_time": "2023-11-18T09:47:09.146848900Z"
    }
   },
   "id": "cef20d01e0a5dc6e"
  },
  {
   "cell_type": "code",
   "execution_count": null,
   "outputs": [],
   "source": [],
   "metadata": {
    "collapsed": false,
    "is_executing": true
   },
   "id": "c1614c1d22e5b8f6"
  }
 ],
 "metadata": {
  "kernelspec": {
   "display_name": "Python 3",
   "language": "python",
   "name": "python3"
  },
  "language_info": {
   "codemirror_mode": {
    "name": "ipython",
    "version": 2
   },
   "file_extension": ".py",
   "mimetype": "text/x-python",
   "name": "python",
   "nbconvert_exporter": "python",
   "pygments_lexer": "ipython2",
   "version": "2.7.6"
  }
 },
 "nbformat": 4,
 "nbformat_minor": 5
}
