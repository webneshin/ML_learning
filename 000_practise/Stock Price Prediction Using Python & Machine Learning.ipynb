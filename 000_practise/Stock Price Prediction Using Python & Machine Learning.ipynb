{
 "cells": [
  {
   "cell_type": "raw",
   "source": [
    "Stock Price Prediction Using Python & Machine Learning\n",
    "https://www.youtube.com/watch?v=QIUxPv5PJOY"
   ],
   "metadata": {
    "collapsed": false
   },
   "id": "f2e1d222cc84d8f4"
  },
  {
   "cell_type": "code",
   "execution_count": null,
   "outputs": [],
   "source": [
    "import math\n",
    "import pandas as pd\n",
    "import numpy as np\n",
    "from sklearn.preprocessing import MinMaxScaler\n",
    "from keras.models import Sequential\n",
    "from keras.layers import Dense,LSTM"
   ],
   "metadata": {
    "collapsed": false
   },
   "id": "aa5dee9726178f78"
  }
 ],
 "metadata": {
  "kernelspec": {
   "display_name": "Python 3",
   "language": "python",
   "name": "python3"
  },
  "language_info": {
   "codemirror_mode": {
    "name": "ipython",
    "version": 2
   },
   "file_extension": ".py",
   "mimetype": "text/x-python",
   "name": "python",
   "nbconvert_exporter": "python",
   "pygments_lexer": "ipython2",
   "version": "2.7.6"
  }
 },
 "nbformat": 4,
 "nbformat_minor": 5
}
