{
 "cells": [
  {
   "cell_type": "code",
   "execution_count": 1,
   "metadata": {
    "tags": []
   },
   "outputs": [
    {
     "name": "stdout",
     "output_type": "stream",
     "text": [
      "Collecting opencv-python\n",
      "  Using cached opencv_python-4.7.0.72-cp37-abi3-win_amd64.whl (38.2 MB)\n",
      "Requirement already satisfied: numpy>=1.19.3 in c:\\programdata\\anaconda3\\lib\\site-packages (from opencv-python) (1.21.5)\n",
      "Installing collected packages: opencv-python\n",
      "Successfully installed opencv-python-4.7.0.72\n"
     ]
    }
   ],
   "source": [
    "!pip install -U opencv-python"
   ]
  },
  {
   "cell_type": "code",
   "execution_count": 26,
   "metadata": {},
   "outputs": [],
   "source": [
    "import matplotlib.pyplot as plt\n",
    "import cv2\n",
    "import numpy as np"
   ]
  },
  {
   "cell_type": "code",
   "execution_count": 27,
   "metadata": {},
   "outputs": [
    {
     "data": {
      "text/plain": [
       "<module 'cv2' from 'C:\\\\ProgramData\\\\Anaconda3\\\\lib\\\\site-packages\\\\cv2\\\\__init__.py'>"
      ]
     },
     "execution_count": 27,
     "metadata": {},
     "output_type": "execute_result"
    }
   ],
   "source": [
    "cv2"
   ]
  },
  {
   "cell_type": "code",
   "execution_count": 28,
   "metadata": {},
   "outputs": [],
   "source": [
    "img = cv2.imread('train_data/Bluebell/1.jpg')"
   ]
  },
  {
   "cell_type": "code",
   "execution_count": 29,
   "metadata": {},
   "outputs": [],
   "source": [
    "image_hsv = cv2.cvtColor(img, cv2.COLOR_BGR2HSV)"
   ]
  },
  {
   "cell_type": "code",
   "execution_count": 30,
   "metadata": {},
   "outputs": [],
   "source": [
    "image = cv2.resize(img, (500, 500))\n",
    "image_hsv = cv2.cvtColor(image, cv2.COLOR_BGR2HSV)\n",
    "hist = cv2.calcHist([image], [0, 1, 2], None, [8, 8, 8], [0, 256, 0, 256, 0, 256])\n",
    "cv2.normalize(hist, hist)\n",
    "image_histogram = hist.flatten()"
   ]
  },
  {
   "cell_type": "code",
   "execution_count": 31,
   "metadata": {},
   "outputs": [
    {
     "data": {
      "text/plain": [
       "(512,)"
      ]
     },
     "execution_count": 31,
     "metadata": {},
     "output_type": "execute_result"
    }
   ],
   "source": [
    "np.shape(image_histogram)"
   ]
  },
  {
   "cell_type": "code",
   "execution_count": 32,
   "metadata": {
    "collapsed": true,
    "jupyter": {
     "outputs_hidden": true
    },
    "tags": []
   },
   "outputs": [
    {
     "data": {
      "text/plain": [
       "array([[[ 15,  79, 103],\n",
       "        [ 15,  86,  95],\n",
       "        [ 15,  91,  87],\n",
       "        ...,\n",
       "        [ 43, 255,  14],\n",
       "        [ 47, 255,  14],\n",
       "        [ 47, 255,  14]],\n",
       "\n",
       "       [[ 15,  76, 107],\n",
       "        [ 15,  83,  98],\n",
       "        [ 15,  88,  90],\n",
       "        ...,\n",
       "        [ 43, 255,  14],\n",
       "        [ 47, 255,  14],\n",
       "        [ 47, 255,  14]],\n",
       "\n",
       "       [[ 15,  73, 112],\n",
       "        [ 15,  78, 104],\n",
       "        [ 15,  84,  94],\n",
       "        ...,\n",
       "        [ 43, 255,  14],\n",
       "        [ 47, 255,  14],\n",
       "        [ 47, 255,  14]],\n",
       "\n",
       "       ...,\n",
       "\n",
       "       [[  0,  42,  98],\n",
       "        [  0,  42,  98],\n",
       "        [  0,  42,  98],\n",
       "        ...,\n",
       "        [ 41, 111, 103],\n",
       "        [ 42, 118,  99],\n",
       "        [ 42, 129,  91]],\n",
       "\n",
       "       [[  0,  44,  92],\n",
       "        [  0,  44,  92],\n",
       "        [  0,  44,  93],\n",
       "        ...,\n",
       "        [ 40, 104, 105],\n",
       "        [ 41, 108, 104],\n",
       "        [ 41, 127,  90]],\n",
       "\n",
       "       [[  0,  46,  88],\n",
       "        [  0,  46,  88],\n",
       "        [  0,  46,  89],\n",
       "        ...,\n",
       "        [ 40, 100, 110],\n",
       "        [ 41, 103, 109],\n",
       "        [ 41, 125,  92]]], dtype=uint8)"
      ]
     },
     "execution_count": 32,
     "metadata": {},
     "output_type": "execute_result"
    }
   ],
   "source": [
    "image_hsv"
   ]
  },
  {
   "cell_type": "code",
   "execution_count": 33,
   "metadata": {},
   "outputs": [
    {
     "data": {
      "text/plain": [
       "(500, 611, 3)"
      ]
     },
     "execution_count": 33,
     "metadata": {},
     "output_type": "execute_result"
    }
   ],
   "source": [
    "np.shape(img)"
   ]
  },
  {
   "cell_type": "code",
   "execution_count": 34,
   "metadata": {},
   "outputs": [
    {
     "name": "stdout",
     "output_type": "stream",
     "text": [
      "[[ 72  88 104]\n",
      " [ 66  82  98]\n",
      " [ 58  74  90]\n",
      " ...\n",
      " [  0  13   7]\n",
      " [  0  14   6]\n",
      " [  0  14   6]]\n"
     ]
    }
   ],
   "source": [
    "print(img[0])"
   ]
  },
  {
   "cell_type": "code",
   "execution_count": 35,
   "metadata": {},
   "outputs": [],
   "source": [
    "hist = cv2.calcHist([img], [0], None, [256], [0, 256])"
   ]
  },
  {
   "cell_type": "code",
   "execution_count": 36,
   "metadata": {
    "collapsed": true,
    "jupyter": {
     "outputs_hidden": true
    },
    "tags": []
   },
   "outputs": [
    {
     "data": {
      "text/plain": [
       "array([[2.4838e+04],\n",
       "       [6.9120e+03],\n",
       "       [7.2310e+03],\n",
       "       [6.9980e+03],\n",
       "       [6.9070e+03],\n",
       "       [6.8040e+03],\n",
       "       [6.3510e+03],\n",
       "       [6.4240e+03],\n",
       "       [6.0190e+03],\n",
       "       [5.6770e+03],\n",
       "       [5.4690e+03],\n",
       "       [5.3440e+03],\n",
       "       [5.0670e+03],\n",
       "       [4.8910e+03],\n",
       "       [4.6590e+03],\n",
       "       [4.4720e+03],\n",
       "       [4.1900e+03],\n",
       "       [4.0190e+03],\n",
       "       [3.9750e+03],\n",
       "       [3.7980e+03],\n",
       "       [3.6210e+03],\n",
       "       [3.5090e+03],\n",
       "       [3.4110e+03],\n",
       "       [3.4040e+03],\n",
       "       [3.2050e+03],\n",
       "       [3.1180e+03],\n",
       "       [3.0220e+03],\n",
       "       [3.0360e+03],\n",
       "       [2.9270e+03],\n",
       "       [2.8630e+03],\n",
       "       [2.7270e+03],\n",
       "       [2.6650e+03],\n",
       "       [2.5790e+03],\n",
       "       [2.4550e+03],\n",
       "       [2.3500e+03],\n",
       "       [2.3270e+03],\n",
       "       [2.2280e+03],\n",
       "       [2.3490e+03],\n",
       "       [2.3960e+03],\n",
       "       [2.4250e+03],\n",
       "       [2.3730e+03],\n",
       "       [2.3890e+03],\n",
       "       [2.4850e+03],\n",
       "       [2.3940e+03],\n",
       "       [2.2770e+03],\n",
       "       [2.3360e+03],\n",
       "       [2.2330e+03],\n",
       "       [2.1080e+03],\n",
       "       [2.2340e+03],\n",
       "       [2.1640e+03],\n",
       "       [2.1580e+03],\n",
       "       [1.9630e+03],\n",
       "       [1.9540e+03],\n",
       "       [1.8970e+03],\n",
       "       [1.7880e+03],\n",
       "       [1.8410e+03],\n",
       "       [1.8100e+03],\n",
       "       [1.7580e+03],\n",
       "       [1.8480e+03],\n",
       "       [1.8510e+03],\n",
       "       [1.8400e+03],\n",
       "       [1.9410e+03],\n",
       "       [1.9340e+03],\n",
       "       [2.0070e+03],\n",
       "       [1.7850e+03],\n",
       "       [1.7460e+03],\n",
       "       [1.7970e+03],\n",
       "       [1.8150e+03],\n",
       "       [1.7980e+03],\n",
       "       [1.6550e+03],\n",
       "       [1.6820e+03],\n",
       "       [1.6660e+03],\n",
       "       [1.6280e+03],\n",
       "       [1.5390e+03],\n",
       "       [1.4840e+03],\n",
       "       [1.4190e+03],\n",
       "       [1.4940e+03],\n",
       "       [1.3330e+03],\n",
       "       [1.3770e+03],\n",
       "       [1.2840e+03],\n",
       "       [1.3160e+03],\n",
       "       [1.2790e+03],\n",
       "       [1.2350e+03],\n",
       "       [1.2570e+03],\n",
       "       [1.1910e+03],\n",
       "       [1.2580e+03],\n",
       "       [1.2230e+03],\n",
       "       [1.1420e+03],\n",
       "       [1.1380e+03],\n",
       "       [1.1430e+03],\n",
       "       [1.1000e+03],\n",
       "       [1.0780e+03],\n",
       "       [9.6100e+02],\n",
       "       [1.0060e+03],\n",
       "       [9.1600e+02],\n",
       "       [9.2200e+02],\n",
       "       [8.9600e+02],\n",
       "       [8.9100e+02],\n",
       "       [8.2800e+02],\n",
       "       [7.4600e+02],\n",
       "       [7.3500e+02],\n",
       "       [7.1600e+02],\n",
       "       [7.4500e+02],\n",
       "       [6.8900e+02],\n",
       "       [7.0100e+02],\n",
       "       [6.5500e+02],\n",
       "       [6.6300e+02],\n",
       "       [5.5500e+02],\n",
       "       [5.5900e+02],\n",
       "       [5.3600e+02],\n",
       "       [5.7600e+02],\n",
       "       [5.8400e+02],\n",
       "       [5.5900e+02],\n",
       "       [5.9000e+02],\n",
       "       [5.2300e+02],\n",
       "       [5.0700e+02],\n",
       "       [5.0100e+02],\n",
       "       [4.4200e+02],\n",
       "       [4.3400e+02],\n",
       "       [4.1200e+02],\n",
       "       [3.7800e+02],\n",
       "       [4.1200e+02],\n",
       "       [3.3300e+02],\n",
       "       [3.3000e+02],\n",
       "       [3.4500e+02],\n",
       "       [3.2100e+02],\n",
       "       [3.4100e+02],\n",
       "       [3.3700e+02],\n",
       "       [3.4700e+02],\n",
       "       [3.1400e+02],\n",
       "       [3.6300e+02],\n",
       "       [3.2900e+02],\n",
       "       [3.1600e+02],\n",
       "       [2.9300e+02],\n",
       "       [3.1300e+02],\n",
       "       [3.2000e+02],\n",
       "       [2.7400e+02],\n",
       "       [1.8700e+02],\n",
       "       [2.3400e+02],\n",
       "       [2.2000e+02],\n",
       "       [2.2300e+02],\n",
       "       [1.9700e+02],\n",
       "       [2.1300e+02],\n",
       "       [1.6700e+02],\n",
       "       [1.7200e+02],\n",
       "       [1.6900e+02],\n",
       "       [1.4500e+02],\n",
       "       [1.5300e+02],\n",
       "       [1.3500e+02],\n",
       "       [1.3500e+02],\n",
       "       [9.9000e+01],\n",
       "       [1.1700e+02],\n",
       "       [1.1400e+02],\n",
       "       [1.0500e+02],\n",
       "       [1.2600e+02],\n",
       "       [1.1500e+02],\n",
       "       [1.2100e+02],\n",
       "       [8.9000e+01],\n",
       "       [8.8000e+01],\n",
       "       [1.1500e+02],\n",
       "       [7.4000e+01],\n",
       "       [8.1000e+01],\n",
       "       [8.9000e+01],\n",
       "       [8.2000e+01],\n",
       "       [6.0000e+01],\n",
       "       [5.7000e+01],\n",
       "       [6.4000e+01],\n",
       "       [6.4000e+01],\n",
       "       [4.8000e+01],\n",
       "       [4.9000e+01],\n",
       "       [4.8000e+01],\n",
       "       [4.9000e+01],\n",
       "       [6.5000e+01],\n",
       "       [5.9000e+01],\n",
       "       [5.5000e+01],\n",
       "       [5.6000e+01],\n",
       "       [4.6000e+01],\n",
       "       [6.4000e+01],\n",
       "       [5.2000e+01],\n",
       "       [3.6000e+01],\n",
       "       [4.8000e+01],\n",
       "       [3.9000e+01],\n",
       "       [4.8000e+01],\n",
       "       [3.1000e+01],\n",
       "       [3.5000e+01],\n",
       "       [1.3000e+01],\n",
       "       [1.7000e+01],\n",
       "       [9.0000e+00],\n",
       "       [2.0000e+00],\n",
       "       [0.0000e+00],\n",
       "       [0.0000e+00],\n",
       "       [0.0000e+00],\n",
       "       [0.0000e+00],\n",
       "       [0.0000e+00],\n",
       "       [0.0000e+00],\n",
       "       [0.0000e+00],\n",
       "       [0.0000e+00],\n",
       "       [0.0000e+00],\n",
       "       [0.0000e+00],\n",
       "       [0.0000e+00],\n",
       "       [0.0000e+00],\n",
       "       [0.0000e+00],\n",
       "       [0.0000e+00],\n",
       "       [0.0000e+00],\n",
       "       [0.0000e+00],\n",
       "       [0.0000e+00],\n",
       "       [0.0000e+00],\n",
       "       [0.0000e+00],\n",
       "       [0.0000e+00],\n",
       "       [0.0000e+00],\n",
       "       [0.0000e+00],\n",
       "       [0.0000e+00],\n",
       "       [0.0000e+00],\n",
       "       [0.0000e+00],\n",
       "       [0.0000e+00],\n",
       "       [0.0000e+00],\n",
       "       [0.0000e+00],\n",
       "       [0.0000e+00],\n",
       "       [0.0000e+00],\n",
       "       [0.0000e+00],\n",
       "       [0.0000e+00],\n",
       "       [0.0000e+00],\n",
       "       [0.0000e+00],\n",
       "       [0.0000e+00],\n",
       "       [0.0000e+00],\n",
       "       [0.0000e+00],\n",
       "       [0.0000e+00],\n",
       "       [0.0000e+00],\n",
       "       [0.0000e+00],\n",
       "       [0.0000e+00],\n",
       "       [0.0000e+00],\n",
       "       [0.0000e+00],\n",
       "       [0.0000e+00],\n",
       "       [0.0000e+00],\n",
       "       [0.0000e+00],\n",
       "       [0.0000e+00],\n",
       "       [0.0000e+00],\n",
       "       [0.0000e+00],\n",
       "       [0.0000e+00],\n",
       "       [0.0000e+00],\n",
       "       [0.0000e+00],\n",
       "       [0.0000e+00],\n",
       "       [0.0000e+00],\n",
       "       [0.0000e+00],\n",
       "       [0.0000e+00],\n",
       "       [0.0000e+00],\n",
       "       [0.0000e+00],\n",
       "       [0.0000e+00],\n",
       "       [0.0000e+00],\n",
       "       [0.0000e+00],\n",
       "       [0.0000e+00],\n",
       "       [0.0000e+00],\n",
       "       [0.0000e+00],\n",
       "       [0.0000e+00],\n",
       "       [0.0000e+00],\n",
       "       [0.0000e+00]], dtype=float32)"
      ]
     },
     "execution_count": 36,
     "metadata": {},
     "output_type": "execute_result"
    }
   ],
   "source": [
    "hist"
   ]
  },
  {
   "cell_type": "code",
   "execution_count": 37,
   "metadata": {},
   "outputs": [
    {
     "data": {
      "text/plain": [
       "[<matplotlib.lines.Line2D at 0x17b8b2b5670>]"
      ]
     },
     "execution_count": 37,
     "metadata": {},
     "output_type": "execute_result"
    },
    {
     "data": {
      "image/png": "[encoded data removed]",
      "text/plain": [
       "<Figure size 432x288 with 1 Axes>"
      ]
     },
     "metadata": {
      "needs_background": "light"
     },
     "output_type": "display_data"
    }
   ],
   "source": [
    "plt.plot(hist, color='blue')"
   ]
  },
  {
   "cell_type": "code",
   "execution_count": 38,
   "metadata": {},
   "outputs": [
    {
     "data": {
      "text/plain": [
       "[<matplotlib.lines.Line2D at 0x17b8aa1b070>]"
      ]
     },
     "execution_count": 38,
     "metadata": {},
     "output_type": "execute_result"
    },
    {
     "data": {
      "image/png": "[encoded data removed]",
      "text/plain": [
       "<Figure size 432x288 with 1 Axes>"
      ]
     },
     "metadata": {
      "needs_background": "light"
     },
     "output_type": "display_data"
    }
   ],
   "source": [
    "hist = cv2.calcHist([img], [1], None, [256], [0, 256])\n",
    "plt.plot(hist, color='green')"
   ]
  },
  {
   "cell_type": "code",
   "execution_count": 39,
   "metadata": {},
   "outputs": [
    {
     "data": {
      "image/png": "[encoded data removed]",
      "text/plain": [
       "<Figure size 432x288 with 1 Axes>"
      ]
     },
     "metadata": {
      "needs_background": "light"
     },
     "output_type": "display_data"
    }
   ],
   "source": [
    "for channel, col in enumerate(('b', 'g', 'r')):\n",
    "        hist = cv2.calcHist([img], [channel], None, [256], [0, 256])\n",
    "        plt.plot(hist, color=col)"
   ]
  },
  {
   "cell_type": "code",
   "execution_count": 40,
   "metadata": {},
   "outputs": [],
   "source": [
    "grayImg = cv2.cvtColor(img, cv2.COLOR_BGR2GRAY)\n",
    "hue_features = cv2.HuMoments(cv2.moments(grayImg)).flatten()"
   ]
  },
  {
   "cell_type": "code",
   "execution_count": 41,
   "metadata": {},
   "outputs": [
    {
     "data": {
      "text/plain": [
       "array([ 1.13115987e-03,  1.52695277e-08,  3.54396481e-11,  2.20732752e-11,\n",
       "       -1.09707513e-22,  9.91670412e-16, -6.07543273e-22])"
      ]
     },
     "execution_count": 41,
     "metadata": {},
     "output_type": "execute_result"
    }
   ],
   "source": [
    "hue_features"
   ]
  },
  {
   "cell_type": "code",
   "execution_count": null,
   "metadata": {},
   "outputs": [],
   "source": [
    "# MasoudKaviani.ir"
   ]
  }
 ],
 "metadata": {
  "kernelspec": {
   "display_name": "Python 3 (ipykernel)",
   "language": "python",
   "name": "python3"
  },
  "language_info": {
   "codemirror_mode": {
    "name": "ipython",
    "version": 3
   },
   "file_extension": ".py",
   "mimetype": "text/x-python",
   "name": "python",
   "nbconvert_exporter": "python",
   "pygments_lexer": "ipython3",
   "version": "3.9.13"
  }
 },
 "nbformat": 4,
 "nbformat_minor": 4
}
