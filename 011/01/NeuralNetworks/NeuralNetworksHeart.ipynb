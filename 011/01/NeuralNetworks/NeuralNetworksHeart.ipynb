{
 "cells": [
  {
   "cell_type": "code",
   "execution_count": 1,
   "metadata": {},
   "outputs": [],
   "source": [
    "import pandas as pd\n",
    "import numpy as np\n",
    "import tensorflow as tf"
   ]
  },
  {
   "cell_type": "code",
   "execution_count": 2,
   "metadata": {},
   "outputs": [
    {
     "data": {
      "text/plain": [
       "'2.9.1'"
      ]
     },
     "execution_count": 2,
     "metadata": {},
     "output_type": "execute_result"
    }
   ],
   "source": [
    "tf.__version__"
   ]
  },
  {
   "cell_type": "code",
   "execution_count": 3,
   "metadata": {},
   "outputs": [
    {
     "data": {
      "text/html": [
       "<div>\n",
       "<style scoped>\n",
       "    .dataframe tbody tr th:only-of-type {\n",
       "        vertical-align: middle;\n",
       "    }\n",
       "\n",
       "    .dataframe tbody tr th {\n",
       "        vertical-align: top;\n",
       "    }\n",
       "\n",
       "    .dataframe thead th {\n",
       "        text-align: right;\n",
       "    }\n",
       "</style>\n",
       "<table border=\"1\" class=\"dataframe\">\n",
       "  <thead>\n",
       "    <tr style=\"text-align: right;\">\n",
       "      <th></th>\n",
       "      <th>id</th>\n",
       "      <th>age</th>\n",
       "      <th>gender</th>\n",
       "      <th>height</th>\n",
       "      <th>weight</th>\n",
       "      <th>ap_hi</th>\n",
       "      <th>ap_lo</th>\n",
       "      <th>cholesterol</th>\n",
       "      <th>gluc</th>\n",
       "      <th>smoke</th>\n",
       "      <th>alco</th>\n",
       "      <th>active</th>\n",
       "      <th>cardio</th>\n",
       "    </tr>\n",
       "  </thead>\n",
       "  <tbody>\n",
       "    <tr>\n",
       "      <th>0</th>\n",
       "      <td>0</td>\n",
       "      <td>18393</td>\n",
       "      <td>2</td>\n",
       "      <td>168</td>\n",
       "      <td>62.0</td>\n",
       "      <td>110</td>\n",
       "      <td>80</td>\n",
       "      <td>1</td>\n",
       "      <td>1</td>\n",
       "      <td>0</td>\n",
       "      <td>0</td>\n",
       "      <td>1</td>\n",
       "      <td>0</td>\n",
       "    </tr>\n",
       "    <tr>\n",
       "      <th>1</th>\n",
       "      <td>1</td>\n",
       "      <td>20228</td>\n",
       "      <td>1</td>\n",
       "      <td>156</td>\n",
       "      <td>85.0</td>\n",
       "      <td>140</td>\n",
       "      <td>90</td>\n",
       "      <td>3</td>\n",
       "      <td>1</td>\n",
       "      <td>0</td>\n",
       "      <td>0</td>\n",
       "      <td>1</td>\n",
       "      <td>1</td>\n",
       "    </tr>\n",
       "    <tr>\n",
       "      <th>2</th>\n",
       "      <td>2</td>\n",
       "      <td>18857</td>\n",
       "      <td>1</td>\n",
       "      <td>165</td>\n",
       "      <td>64.0</td>\n",
       "      <td>130</td>\n",
       "      <td>70</td>\n",
       "      <td>3</td>\n",
       "      <td>1</td>\n",
       "      <td>0</td>\n",
       "      <td>0</td>\n",
       "      <td>0</td>\n",
       "      <td>1</td>\n",
       "    </tr>\n",
       "    <tr>\n",
       "      <th>3</th>\n",
       "      <td>3</td>\n",
       "      <td>17623</td>\n",
       "      <td>2</td>\n",
       "      <td>169</td>\n",
       "      <td>82.0</td>\n",
       "      <td>150</td>\n",
       "      <td>100</td>\n",
       "      <td>1</td>\n",
       "      <td>1</td>\n",
       "      <td>0</td>\n",
       "      <td>0</td>\n",
       "      <td>1</td>\n",
       "      <td>1</td>\n",
       "    </tr>\n",
       "    <tr>\n",
       "      <th>4</th>\n",
       "      <td>4</td>\n",
       "      <td>17474</td>\n",
       "      <td>1</td>\n",
       "      <td>156</td>\n",
       "      <td>56.0</td>\n",
       "      <td>100</td>\n",
       "      <td>60</td>\n",
       "      <td>1</td>\n",
       "      <td>1</td>\n",
       "      <td>0</td>\n",
       "      <td>0</td>\n",
       "      <td>0</td>\n",
       "      <td>0</td>\n",
       "    </tr>\n",
       "  </tbody>\n",
       "</table>\n",
       "</div>"
      ],
      "text/plain": [
       "   id    age  gender  height  weight  ap_hi  ap_lo  cholesterol  gluc  smoke  \\\n",
       "0   0  18393       2     168    62.0    110     80            1     1      0   \n",
       "1   1  20228       1     156    85.0    140     90            3     1      0   \n",
       "2   2  18857       1     165    64.0    130     70            3     1      0   \n",
       "3   3  17623       2     169    82.0    150    100            1     1      0   \n",
       "4   4  17474       1     156    56.0    100     60            1     1      0   \n",
       "\n",
       "   alco  active  cardio  \n",
       "0     0       1       0  \n",
       "1     0       1       1  \n",
       "2     0       0       1  \n",
       "3     0       1       1  \n",
       "4     0       0       0  "
      ]
     },
     "execution_count": 3,
     "metadata": {},
     "output_type": "execute_result"
    }
   ],
   "source": [
    "data = pd.read_csv('cardio_train1.csv')\n",
    "data.head()"
   ]
  },
  {
   "cell_type": "code",
   "execution_count": 4,
   "metadata": {},
   "outputs": [
    {
     "data": {
      "text/plain": [
       "id             0\n",
       "age            0\n",
       "gender         0\n",
       "height         0\n",
       "weight         0\n",
       "ap_hi          0\n",
       "ap_lo          0\n",
       "cholesterol    0\n",
       "gluc           0\n",
       "smoke          0\n",
       "alco           0\n",
       "active         0\n",
       "cardio         0\n",
       "dtype: int64"
      ]
     },
     "execution_count": 4,
     "metadata": {},
     "output_type": "execute_result"
    }
   ],
   "source": [
    "data.isna().sum()"
   ]
  },
  {
   "cell_type": "code",
   "execution_count": 5,
   "metadata": {},
   "outputs": [],
   "source": [
    "X = data.iloc[:, 1:-1]\n",
    "y = data.iloc[:, -1]"
   ]
  },
  {
   "cell_type": "code",
   "execution_count": 6,
   "metadata": {},
   "outputs": [],
   "source": [
    "from sklearn.preprocessing import MinMaxScaler\n",
    "mms = MinMaxScaler()\n",
    "X = mms.fit_transform(X)"
   ]
  },
  {
   "cell_type": "code",
   "execution_count": 7,
   "metadata": {},
   "outputs": [
    {
     "data": {
      "text/plain": [
       "array([[0.58807588, 1.        , 0.57948718, ..., 0.        , 0.        ,\n",
       "        1.        ],\n",
       "       [0.73015873, 0.        , 0.51794872, ..., 0.        , 0.        ,\n",
       "        1.        ],\n",
       "       [0.6240031 , 0.        , 0.56410256, ..., 0.        , 0.        ,\n",
       "        0.        ],\n",
       "       ...,\n",
       "       [0.64018583, 1.        , 0.65641026, ..., 0.        , 1.        ,\n",
       "        0.        ],\n",
       "       [0.90073558, 0.        , 0.55384615, ..., 0.        , 0.        ,\n",
       "        0.        ],\n",
       "       [0.75431669, 0.        , 0.58974359, ..., 0.        , 0.        ,\n",
       "        1.        ]])"
      ]
     },
     "execution_count": 7,
     "metadata": {},
     "output_type": "execute_result"
    }
   ],
   "source": [
    "X"
   ]
  },
  {
   "cell_type": "code",
   "execution_count": 8,
   "metadata": {},
   "outputs": [
    {
     "data": {
      "text/plain": [
       "(70000, 11)"
      ]
     },
     "execution_count": 8,
     "metadata": {},
     "output_type": "execute_result"
    }
   ],
   "source": [
    "np.shape(X)"
   ]
  },
  {
   "cell_type": "code",
   "execution_count": 9,
   "metadata": {},
   "outputs": [],
   "source": [
    "y = pd.get_dummies(y)"
   ]
  },
  {
   "cell_type": "code",
   "execution_count": 10,
   "metadata": {},
   "outputs": [],
   "source": [
    "from sklearn.model_selection import train_test_split\n",
    "X_train, X_test, y_train, y_test = train_test_split(X, y, random_state=33123)"
   ]
  },
  {
   "cell_type": "code",
   "execution_count": 11,
   "metadata": {},
   "outputs": [],
   "source": [
    "model = tf.keras.models.Sequential([\n",
    "    tf.keras.layers.Dense(11, activation='relu', input_shape=(11,)),\n",
    "    tf.keras.layers.Dense(30, activation='relu'),\n",
    "    tf.keras.layers.Dense(2, activation='softmax')\n",
    "])"
   ]
  },
  {
   "cell_type": "code",
   "execution_count": 12,
   "metadata": {},
   "outputs": [
    {
     "name": "stdout",
     "output_type": "stream",
     "text": [
      "Model: \"sequential\"\n",
      "_________________________________________________________________\n",
      " Layer (type)                Output Shape              Param #   \n",
      "=================================================================\n",
      " dense (Dense)               (None, 11)                132       \n",
      "                                                                 \n",
      " dense_1 (Dense)             (None, 30)                360       \n",
      "                                                                 \n",
      " dense_2 (Dense)             (None, 2)                 62        \n",
      "                                                                 \n",
      "=================================================================\n",
      "Total params: 554\n",
      "Trainable params: 554\n",
      "Non-trainable params: 0\n",
      "_________________________________________________________________\n"
     ]
    }
   ],
   "source": [
    "model.summary()"
   ]
  },
  {
   "cell_type": "code",
   "execution_count": 14,
   "metadata": {},
   "outputs": [
    {
     "data": {
      "image/png": "[encoded data removed]",
      "text/plain": [
       "<IPython.core.display.Image object>"
      ]
     },
     "execution_count": 14,
     "metadata": {},
     "output_type": "execute_result"
    }
   ],
   "source": [
    "from tensorflow.keras.utils import plot_model\n",
    "plot_model(model, show_layer_activations=True, show_shapes=True)"
   ]
  },
  {
   "cell_type": "code",
   "execution_count": 12,
   "metadata": {},
   "outputs": [],
   "source": [
    "model.compile(optimizer=tf.keras.optimizers.Adam(0.001), loss=tf.keras.losses.CategoricalCrossentropy(), metrics=[tf.keras.metrics.CategoricalAccuracy()])"
   ]
  },
  {
   "cell_type": "code",
   "execution_count": 13,
   "metadata": {},
   "outputs": [
    {
     "name": "stdout",
     "output_type": "stream",
     "text": [
      "Epoch 1/10\n",
      "525/525 [==============================] - 1s 2ms/step - loss: 0.6566 - categorical_accuracy: 0.6018 - val_loss: 0.6420 - val_categorical_accuracy: 0.6285\n",
      "Epoch 2/10\n",
      "525/525 [==============================] - 1s 1ms/step - loss: 0.6334 - categorical_accuracy: 0.6402 - val_loss: 0.6345 - val_categorical_accuracy: 0.6371\n",
      "Epoch 3/10\n",
      "525/525 [==============================] - 1s 1ms/step - loss: 0.6301 - categorical_accuracy: 0.6429 - val_loss: 0.6323 - val_categorical_accuracy: 0.6395\n",
      "Epoch 4/10\n",
      "525/525 [==============================] - 1s 1ms/step - loss: 0.6279 - categorical_accuracy: 0.6439 - val_loss: 0.6302 - val_categorical_accuracy: 0.6412\n",
      "Epoch 5/10\n",
      "525/525 [==============================] - 1s 1ms/step - loss: 0.6268 - categorical_accuracy: 0.6476 - val_loss: 0.6303 - val_categorical_accuracy: 0.6393\n",
      "Epoch 6/10\n",
      "525/525 [==============================] - 1s 1ms/step - loss: 0.6258 - categorical_accuracy: 0.6465 - val_loss: 0.6332 - val_categorical_accuracy: 0.6389\n",
      "Epoch 7/10\n",
      "525/525 [==============================] - 1s 1ms/step - loss: 0.6247 - categorical_accuracy: 0.6505 - val_loss: 0.6316 - val_categorical_accuracy: 0.6402\n",
      "Epoch 8/10\n",
      "525/525 [==============================] - 1s 1ms/step - loss: 0.6245 - categorical_accuracy: 0.6493 - val_loss: 0.6270 - val_categorical_accuracy: 0.6459\n",
      "Epoch 9/10\n",
      "525/525 [==============================] - 1s 1ms/step - loss: 0.6238 - categorical_accuracy: 0.6496 - val_loss: 0.6265 - val_categorical_accuracy: 0.6458\n",
      "Epoch 10/10\n",
      "525/525 [==============================] - 1s 1ms/step - loss: 0.6234 - categorical_accuracy: 0.6505 - val_loss: 0.6261 - val_categorical_accuracy: 0.6449\n"
     ]
    },
    {
     "data": {
      "text/plain": [
       "<keras.callbacks.History at 0x2b4893d1b80>"
      ]
     },
     "execution_count": 13,
     "metadata": {},
     "output_type": "execute_result"
    }
   ],
   "source": [
    "model.fit(X_train, y_train, epochs=10, validation_data=(X_test, y_test), batch_size=100)"
   ]
  },
  {
   "cell_type": "code",
   "execution_count": 14,
   "metadata": {},
   "outputs": [],
   "source": [
    "from sklearn.ensemble import RandomForestClassifier\n",
    "yr = data.iloc[:, -1]"
   ]
  },
  {
   "cell_type": "code",
   "execution_count": 15,
   "metadata": {},
   "outputs": [
    {
     "data": {
      "text/plain": [
       "(array([0, 1], dtype=int64), array([35021, 34979], dtype=int64))"
      ]
     },
     "execution_count": 15,
     "metadata": {},
     "output_type": "execute_result"
    }
   ],
   "source": [
    "np.unique(yr, return_counts=True)"
   ]
  },
  {
   "cell_type": "code",
   "execution_count": 16,
   "metadata": {},
   "outputs": [],
   "source": [
    "rfc = RandomForestClassifier(n_estimators=200)\n",
    "Xr_train, Xr_test, yr_train, yr_test = train_test_split(X, yr, random_state=33123)"
   ]
  },
  {
   "cell_type": "code",
   "execution_count": 17,
   "metadata": {},
   "outputs": [
    {
     "data": {
      "text/plain": [
       "RandomForestClassifier(n_estimators=200)"
      ]
     },
     "execution_count": 17,
     "metadata": {},
     "output_type": "execute_result"
    }
   ],
   "source": [
    "rfc.fit(Xr_train, yr_train)"
   ]
  },
  {
   "cell_type": "code",
   "execution_count": 18,
   "metadata": {},
   "outputs": [],
   "source": [
    "from sklearn.metrics import classification_report"
   ]
  },
  {
   "cell_type": "code",
   "execution_count": 19,
   "metadata": {},
   "outputs": [
    {
     "name": "stdout",
     "output_type": "stream",
     "text": [
      "              precision    recall  f1-score   support\n",
      "\n",
      "           0       0.71      0.72      0.71      8652\n",
      "           1       0.72      0.71      0.71      8848\n",
      "\n",
      "    accuracy                           0.71     17500\n",
      "   macro avg       0.71      0.71      0.71     17500\n",
      "weighted avg       0.71      0.71      0.71     17500\n",
      "\n"
     ]
    }
   ],
   "source": [
    "y_pred = rfc.predict(Xr_test)\n",
    "print(classification_report(y_true=yr_test, y_pred=y_pred))"
   ]
  },
  {
   "cell_type": "code",
   "execution_count": 20,
   "metadata": {},
   "outputs": [],
   "source": [
    "model = tf.keras.models.Sequential([\n",
    "    tf.keras.layers.Dense(11, activation='relu', input_shape=(11,)),\n",
    "    tf.keras.layers.Dense(30, activation='relu'),\n",
    "    tf.keras.layers.Dense(60, activation='relu'),\n",
    "    tf.keras.layers.Dense(25, activation='relu'),\n",
    "    tf.keras.layers.Dense(2, activation='softmax')\n",
    "])\n",
    "model.compile(optimizer=tf.keras.optimizers.Adam(0.001), loss=tf.keras.losses.CategoricalCrossentropy(), metrics=[tf.keras.metrics.CategoricalAccuracy()])"
   ]
  },
  {
   "cell_type": "code",
   "execution_count": 21,
   "metadata": {
    "tags": []
   },
   "outputs": [
    {
     "name": "stdout",
     "output_type": "stream",
     "text": [
      "Epoch 1/50\n",
      "525/525 [==============================] - 1s 2ms/step - loss: 0.6481 - categorical_accuracy: 0.6220 - val_loss: 0.6442 - val_categorical_accuracy: 0.6306\n",
      "Epoch 2/50\n",
      "525/525 [==============================] - 1s 2ms/step - loss: 0.6341 - categorical_accuracy: 0.6404 - val_loss: 0.6350 - val_categorical_accuracy: 0.6374\n",
      "Epoch 3/50\n",
      "525/525 [==============================] - 1s 2ms/step - loss: 0.6306 - categorical_accuracy: 0.6432 - val_loss: 0.6314 - val_categorical_accuracy: 0.6445\n",
      "Epoch 4/50\n",
      "525/525 [==============================] - 1s 2ms/step - loss: 0.6284 - categorical_accuracy: 0.6454 - val_loss: 0.6301 - val_categorical_accuracy: 0.6410\n",
      "Epoch 5/50\n",
      "525/525 [==============================] - 1s 2ms/step - loss: 0.6278 - categorical_accuracy: 0.6457 - val_loss: 0.6309 - val_categorical_accuracy: 0.6447\n",
      "Epoch 6/50\n",
      "525/525 [==============================] - 1s 2ms/step - loss: 0.6255 - categorical_accuracy: 0.6487 - val_loss: 0.6314 - val_categorical_accuracy: 0.6393\n",
      "Epoch 7/50\n",
      "525/525 [==============================] - 1s 2ms/step - loss: 0.6246 - categorical_accuracy: 0.6494 - val_loss: 0.6274 - val_categorical_accuracy: 0.6459\n",
      "Epoch 8/50\n",
      "525/525 [==============================] - 1s 2ms/step - loss: 0.6242 - categorical_accuracy: 0.6496 - val_loss: 0.6286 - val_categorical_accuracy: 0.6421\n",
      "Epoch 9/50\n",
      "525/525 [==============================] - 1s 2ms/step - loss: 0.6236 - categorical_accuracy: 0.6503 - val_loss: 0.6251 - val_categorical_accuracy: 0.6499\n",
      "Epoch 10/50\n",
      "525/525 [==============================] - 1s 2ms/step - loss: 0.6229 - categorical_accuracy: 0.6507 - val_loss: 0.6276 - val_categorical_accuracy: 0.6441\n",
      "Epoch 11/50\n",
      "525/525 [==============================] - 1s 2ms/step - loss: 0.6229 - categorical_accuracy: 0.6497 - val_loss: 0.6354 - val_categorical_accuracy: 0.6336\n",
      "Epoch 12/50\n",
      "525/525 [==============================] - 1s 2ms/step - loss: 0.6224 - categorical_accuracy: 0.6519 - val_loss: 0.6257 - val_categorical_accuracy: 0.6449\n",
      "Epoch 13/50\n",
      "525/525 [==============================] - 1s 2ms/step - loss: 0.6208 - categorical_accuracy: 0.6530 - val_loss: 0.6234 - val_categorical_accuracy: 0.6505\n",
      "Epoch 14/50\n",
      "525/525 [==============================] - 1s 2ms/step - loss: 0.6209 - categorical_accuracy: 0.6538 - val_loss: 0.6258 - val_categorical_accuracy: 0.6448\n",
      "Epoch 15/50\n",
      "525/525 [==============================] - 1s 2ms/step - loss: 0.6203 - categorical_accuracy: 0.6527 - val_loss: 0.6234 - val_categorical_accuracy: 0.6541\n",
      "Epoch 16/50\n",
      "525/525 [==============================] - 1s 2ms/step - loss: 0.6197 - categorical_accuracy: 0.6538 - val_loss: 0.6217 - val_categorical_accuracy: 0.6517\n",
      "Epoch 17/50\n",
      "525/525 [==============================] - 1s 2ms/step - loss: 0.6193 - categorical_accuracy: 0.6535 - val_loss: 0.6207 - val_categorical_accuracy: 0.6525\n",
      "Epoch 18/50\n",
      "525/525 [==============================] - 1s 2ms/step - loss: 0.6182 - categorical_accuracy: 0.6566 - val_loss: 0.6217 - val_categorical_accuracy: 0.6511\n",
      "Epoch 19/50\n",
      "525/525 [==============================] - 1s 2ms/step - loss: 0.6182 - categorical_accuracy: 0.6555 - val_loss: 0.6205 - val_categorical_accuracy: 0.6516\n",
      "Epoch 20/50\n",
      "525/525 [==============================] - 1s 2ms/step - loss: 0.6167 - categorical_accuracy: 0.6590 - val_loss: 0.6195 - val_categorical_accuracy: 0.6537\n",
      "Epoch 21/50\n",
      "525/525 [==============================] - 1s 2ms/step - loss: 0.6165 - categorical_accuracy: 0.6567 - val_loss: 0.6186 - val_categorical_accuracy: 0.6550\n",
      "Epoch 22/50\n",
      "525/525 [==============================] - 1s 2ms/step - loss: 0.6166 - categorical_accuracy: 0.6581 - val_loss: 0.6189 - val_categorical_accuracy: 0.6550\n",
      "Epoch 23/50\n",
      "525/525 [==============================] - 1s 2ms/step - loss: 0.6144 - categorical_accuracy: 0.6592 - val_loss: 0.6178 - val_categorical_accuracy: 0.6577\n",
      "Epoch 24/50\n",
      "525/525 [==============================] - 1s 2ms/step - loss: 0.6139 - categorical_accuracy: 0.6603 - val_loss: 0.6163 - val_categorical_accuracy: 0.6570\n",
      "Epoch 25/50\n",
      "525/525 [==============================] - 1s 2ms/step - loss: 0.6134 - categorical_accuracy: 0.6627 - val_loss: 0.6149 - val_categorical_accuracy: 0.6590\n",
      "Epoch 26/50\n",
      "525/525 [==============================] - 1s 2ms/step - loss: 0.6114 - categorical_accuracy: 0.6626 - val_loss: 0.6154 - val_categorical_accuracy: 0.6587\n",
      "Epoch 27/50\n",
      "525/525 [==============================] - 1s 2ms/step - loss: 0.6100 - categorical_accuracy: 0.6640 - val_loss: 0.6120 - val_categorical_accuracy: 0.6650\n",
      "Epoch 28/50\n",
      "525/525 [==============================] - 1s 2ms/step - loss: 0.6093 - categorical_accuracy: 0.6656 - val_loss: 0.6092 - val_categorical_accuracy: 0.6662\n",
      "Epoch 29/50\n",
      "525/525 [==============================] - 1s 2ms/step - loss: 0.6062 - categorical_accuracy: 0.6696 - val_loss: 0.6056 - val_categorical_accuracy: 0.6703\n",
      "Epoch 30/50\n",
      "525/525 [==============================] - 1s 2ms/step - loss: 0.6029 - categorical_accuracy: 0.6710 - val_loss: 0.6038 - val_categorical_accuracy: 0.6758\n",
      "Epoch 31/50\n",
      "525/525 [==============================] - 1s 2ms/step - loss: 0.6009 - categorical_accuracy: 0.6751 - val_loss: 0.6000 - val_categorical_accuracy: 0.6773\n",
      "Epoch 32/50\n",
      "525/525 [==============================] - 1s 2ms/step - loss: 0.5970 - categorical_accuracy: 0.6802 - val_loss: 0.5916 - val_categorical_accuracy: 0.6913\n",
      "Epoch 33/50\n",
      "525/525 [==============================] - 1s 2ms/step - loss: 0.5912 - categorical_accuracy: 0.6891 - val_loss: 0.5870 - val_categorical_accuracy: 0.6995\n",
      "Epoch 34/50\n",
      "525/525 [==============================] - 1s 2ms/step - loss: 0.5848 - categorical_accuracy: 0.6950 - val_loss: 0.5885 - val_categorical_accuracy: 0.6960\n",
      "Epoch 35/50\n",
      "525/525 [==============================] - 1s 2ms/step - loss: 0.5826 - categorical_accuracy: 0.6972 - val_loss: 0.5900 - val_categorical_accuracy: 0.6912\n",
      "Epoch 36/50\n",
      "525/525 [==============================] - 1s 2ms/step - loss: 0.5780 - categorical_accuracy: 0.7037 - val_loss: 0.5825 - val_categorical_accuracy: 0.7025\n",
      "Epoch 37/50\n",
      "525/525 [==============================] - 1s 2ms/step - loss: 0.5739 - categorical_accuracy: 0.7059 - val_loss: 0.5795 - val_categorical_accuracy: 0.7074\n",
      "Epoch 38/50\n",
      "525/525 [==============================] - 1s 2ms/step - loss: 0.5728 - categorical_accuracy: 0.7079 - val_loss: 0.5729 - val_categorical_accuracy: 0.7145\n",
      "Epoch 39/50\n",
      "525/525 [==============================] - 1s 2ms/step - loss: 0.5729 - categorical_accuracy: 0.7081 - val_loss: 0.5867 - val_categorical_accuracy: 0.6878\n",
      "Epoch 40/50\n",
      "525/525 [==============================] - 1s 2ms/step - loss: 0.5665 - categorical_accuracy: 0.7155 - val_loss: 0.5844 - val_categorical_accuracy: 0.6918\n",
      "Epoch 41/50\n",
      "525/525 [==============================] - 1s 2ms/step - loss: 0.5687 - categorical_accuracy: 0.7139 - val_loss: 0.6083 - val_categorical_accuracy: 0.6786\n",
      "Epoch 42/50\n",
      "525/525 [==============================] - 1s 2ms/step - loss: 0.5680 - categorical_accuracy: 0.7122 - val_loss: 0.5668 - val_categorical_accuracy: 0.7191\n",
      "Epoch 43/50\n",
      "525/525 [==============================] - 1s 2ms/step - loss: 0.5675 - categorical_accuracy: 0.7144 - val_loss: 0.5914 - val_categorical_accuracy: 0.6992\n",
      "Epoch 44/50\n",
      "525/525 [==============================] - 1s 2ms/step - loss: 0.5681 - categorical_accuracy: 0.7135 - val_loss: 0.5715 - val_categorical_accuracy: 0.7144\n",
      "Epoch 45/50\n",
      "525/525 [==============================] - 1s 2ms/step - loss: 0.5667 - categorical_accuracy: 0.7145 - val_loss: 0.5742 - val_categorical_accuracy: 0.7090\n",
      "Epoch 46/50\n",
      "525/525 [==============================] - 1s 2ms/step - loss: 0.5653 - categorical_accuracy: 0.7140 - val_loss: 0.5802 - val_categorical_accuracy: 0.6963\n",
      "Epoch 47/50\n",
      "525/525 [==============================] - 1s 2ms/step - loss: 0.5655 - categorical_accuracy: 0.7148 - val_loss: 0.5668 - val_categorical_accuracy: 0.7162\n",
      "Epoch 48/50\n",
      "525/525 [==============================] - 1s 2ms/step - loss: 0.5630 - categorical_accuracy: 0.7174 - val_loss: 0.5617 - val_categorical_accuracy: 0.7220\n",
      "Epoch 49/50\n",
      "525/525 [==============================] - 1s 2ms/step - loss: 0.5634 - categorical_accuracy: 0.7169 - val_loss: 0.5617 - val_categorical_accuracy: 0.7198\n",
      "Epoch 50/50\n",
      "525/525 [==============================] - 1s 2ms/step - loss: 0.5632 - categorical_accuracy: 0.7163 - val_loss: 0.5780 - val_categorical_accuracy: 0.7078\n"
     ]
    },
    {
     "data": {
      "text/plain": [
       "<keras.callbacks.History at 0x2b4919a6be0>"
      ]
     },
     "execution_count": 21,
     "metadata": {},
     "output_type": "execute_result"
    }
   ],
   "source": [
    "model.fit(X_train, y_train, epochs=50, validation_data=(X_test, y_test), batch_size=100)"
   ]
  },
  {
   "cell_type": "code",
   "execution_count": 22,
   "metadata": {},
   "outputs": [
    {
     "name": "stdout",
     "output_type": "stream",
     "text": [
      "Model: \"sequential_1\"\n",
      "_________________________________________________________________\n",
      " Layer (type)                Output Shape              Param #   \n",
      "=================================================================\n",
      " dense_3 (Dense)             (None, 11)                132       \n",
      "                                                                 \n",
      " dense_4 (Dense)             (None, 30)                360       \n",
      "                                                                 \n",
      " dense_5 (Dense)             (None, 60)                1860      \n",
      "                                                                 \n",
      " dense_6 (Dense)             (None, 25)                1525      \n",
      "                                                                 \n",
      " dense_7 (Dense)             (None, 2)                 52        \n",
      "                                                                 \n",
      "=================================================================\n",
      "Total params: 3,929\n",
      "Trainable params: 3,929\n",
      "Non-trainable params: 0\n",
      "_________________________________________________________________\n"
     ]
    }
   ],
   "source": [
    "model.summary()"
   ]
  },
  {
   "cell_type": "code",
   "execution_count": 23,
   "metadata": {},
   "outputs": [
    {
     "name": "stdout",
     "output_type": "stream",
     "text": [
      "547/547 [==============================] - 1s 986us/step\n"
     ]
    },
    {
     "data": {
      "text/plain": [
       "array([0.69413435, 0.30586565], dtype=float32)"
      ]
     },
     "execution_count": 23,
     "metadata": {},
     "output_type": "execute_result"
    }
   ],
   "source": [
    "model.predict(X_test)[3]"
   ]
  },
  {
   "cell_type": "code",
   "execution_count": 27,
   "metadata": {},
   "outputs": [
    {
     "name": "stdout",
     "output_type": "stream",
     "text": [
      "547/547 [==============================] - 0s 746us/step\n"
     ]
    },
    {
     "data": {
      "text/plain": [
       "0"
      ]
     },
     "execution_count": 27,
     "metadata": {},
     "output_type": "execute_result"
    }
   ],
   "source": [
    "np.argmax(model.predict(X_test)[3])"
   ]
  },
  {
   "cell_type": "code",
   "execution_count": 26,
   "metadata": {},
   "outputs": [
    {
     "name": "stdout",
     "output_type": "stream",
     "text": [
      "547/547 [==============================] - 0s 788us/step\n",
      "              precision    recall  f1-score   support\n",
      "\n",
      "           0       0.66      0.83      0.74      8652\n",
      "           1       0.78      0.58      0.67      8848\n",
      "\n",
      "    accuracy                           0.71     17500\n",
      "   macro avg       0.72      0.71      0.70     17500\n",
      "weighted avg       0.72      0.71      0.70     17500\n",
      "\n"
     ]
    }
   ],
   "source": [
    "y_pred = np.argmax(model.predict(Xr_test), axis=1)\n",
    "print(classification_report(y_true=yr_test, y_pred=y_pred))"
   ]
  },
  {
   "cell_type": "code",
   "execution_count": 28,
   "metadata": {},
   "outputs": [],
   "source": [
    "# MasoudKaviani.ir"
   ]
  }
 ],
 "metadata": {
  "kernelspec": {
   "display_name": "Python 3 (ipykernel)",
   "language": "python",
   "name": "python3"
  },
  "language_info": {
   "codemirror_mode": {
    "name": "ipython",
    "version": 3
   },
   "file_extension": ".py",
   "mimetype": "text/x-python",
   "name": "python",
   "nbconvert_exporter": "python",
   "pygments_lexer": "ipython3",
   "version": "3.9.13"
  }
 },
 "nbformat": 4,
 "nbformat_minor": 4
}
