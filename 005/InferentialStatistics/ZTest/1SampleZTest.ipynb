{
 "cells": [
  {
   "cell_type": "code",
   "execution_count": null,
   "id": "5c5d9dc6-8ee1-4a59-887a-f44948633b2d",
   "metadata": {},
   "outputs": [],
   "source": [
    "from scipy import stats\n",
    "from math import sqrt\n",
    "import numpy as np\n",
    "import matplotlib.pyplot as plt"
   ]
  },
  {
   "cell_type": "code",
   "execution_count": null,
   "id": "dd0dbf32-ccc7-4922-982d-d65c1c36e502",
   "metadata": {},
   "outputs": [],
   "source": [
    "x_bar = 102\n",
    "n = 100\n",
    "sigma = 16\n",
    "mu = 100"
   ]
  },
  {
   "cell_type": "code",
   "execution_count": 9,
   "id": "c003c21a-78ba-4e0d-9bee-ffa16cb10730",
   "metadata": {},
   "outputs": [
    {
     "name": "stdout",
     "output_type": "stream",
     "text": [
      "1.25\n"
     ]
    }
   ],
   "source": [
    "z = (x_bar - mu) / (sigma / sqrt(n))\n",
    "print(z)"
   ]
  },
  {
   "cell_type": "code",
   "execution_count": 10,
   "id": "b6ec64c5-d04f-473c-af7b-128bd46ae36f",
   "metadata": {},
   "outputs": [
    {
     "data": {
      "text/plain": [
       "<matplotlib.collections.PolyCollection at 0x181bda76f70>"
      ]
     },
     "execution_count": 10,
     "metadata": {},
     "output_type": "execute_result"
    },
    {
     "data": {
      "image/png": "[encoded data removed]",
      "text/plain": [
       "<Figure size 576x396 with 1 Axes>"
      ]
     },
     "metadata": {},
     "output_type": "display_data"
    }
   ],
   "source": [
    "plt.style.use('seaborn')\n",
    "plt.fill_between(x=np.arange(-4, 1.25, 0.01), y1=stats.norm.pdf(np.arange(-4, 1.25, 0.01)), facecolor='green')\n",
    "plt.fill_between(x=np.arange(1.25, 4, 0.01), y1=stats.norm.pdf(np.arange(1.25, 4, 0.01)), facecolor='blue')"
   ]
  },
  {
   "cell_type": "code",
   "execution_count": 11,
   "id": "b1314ed4-9739-4bde-bf90-a6ad50099812",
   "metadata": {},
   "outputs": [
    {
     "data": {
      "text/plain": [
       "0.8943502263331446"
      ]
     },
     "execution_count": 11,
     "metadata": {},
     "output_type": "execute_result"
    }
   ],
   "source": [
    "stats.norm.cdf(z)"
   ]
  },
  {
   "cell_type": "code",
   "execution_count": 12,
   "id": "487a1eb1-037c-44c8-9c50-f6227e2cf63c",
   "metadata": {},
   "outputs": [],
   "source": [
    "p_value = 1 - stats.norm.cdf(z)"
   ]
  },
  {
   "cell_type": "code",
   "execution_count": 13,
   "id": "0f16e298-59b6-438f-a925-cae00604657f",
   "metadata": {},
   "outputs": [
    {
     "name": "stdout",
     "output_type": "stream",
     "text": [
      "0.10564977366685535\n"
     ]
    }
   ],
   "source": [
    "print(p_value)"
   ]
  },
  {
   "cell_type": "code",
   "execution_count": null,
   "id": "8e612a9d-2818-4c2c-b3c3-8107bf68860f",
   "metadata": {},
   "outputs": [],
   "source": [
    "# Masoud Kaviani"
   ]
  }
 ],
 "metadata": {
  "kernelspec": {
   "display_name": "Python 3 (ipykernel)",
   "language": "python",
   "name": "python3"
  },
  "language_info": {
   "codemirror_mode": {
    "name": "ipython",
    "version": 3
   },
   "file_extension": ".py",
   "mimetype": "text/x-python",
   "name": "python",
   "nbconvert_exporter": "python",
   "pygments_lexer": "ipython3",
   "version": "3.9.12"
  }
 },
 "nbformat": 4,
 "nbformat_minor": 5
}
